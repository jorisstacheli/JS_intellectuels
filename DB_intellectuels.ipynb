{
 "cells": [
  {
   "cell_type": "markdown",
   "id": "narrow-split",
   "metadata": {},
   "source": [
    "# Ananylse de la population des intellectuels de la classe yago/Intellectual109621545 (DBpedia)"
   ]
  },
  {
   "cell_type": "markdown",
   "id": "formal-pakistan",
   "metadata": {},
   "source": [
    "## Importation des librairies"
   ]
  },
  {
   "cell_type": "code",
   "execution_count": 2,
   "id": "precious-ancient",
   "metadata": {},
   "outputs": [],
   "source": [
    "from SPARQLWrapper import SPARQLWrapper, SPARQLWrapper2, JSON, TURTLE, XML, RDFXML\n",
    "import pandas as pd\n",
    "import matplotlib.pyplot as plt"
   ]
  },
  {
   "cell_type": "code",
   "execution_count": 3,
   "id": "previous-amsterdam",
   "metadata": {},
   "outputs": [],
   "source": [
    "import pprint\n",
    "import csv\n",
    "import ast\n",
    "import re\n",
    "\n",
    "from collections import Counter\n",
    "from operator import itemgetter\n",
    "\n",
    "import sqlite3 as sql\n",
    "import time\n",
    "\n",
    "from importlib import reload\n",
    "from shutil import copyfile"
   ]
  },
  {
   "cell_type": "code",
   "execution_count": 4,
   "id": "comprehensive-indianapolis",
   "metadata": {},
   "outputs": [],
   "source": [
    "import sparql_functions as spqf"
   ]
  },
  {
   "cell_type": "code",
   "execution_count": 5,
   "id": "floating-printing",
   "metadata": {},
   "outputs": [
    {
     "data": {
      "text/plain": [
       "<module 'sparql_functions' from 'C:\\\\jupyter_notebooks\\\\JS_intellectuels\\\\sparql_functions.py'>"
      ]
     },
     "execution_count": 5,
     "metadata": {},
     "output_type": "execute_result"
    }
   ],
   "source": [
    "reload(spqf)"
   ]
  },
  {
   "cell_type": "markdown",
   "id": "threatened-malawi",
   "metadata": {},
   "source": [
    "## Création de la base de données "
   ]
  },
  {
   "cell_type": "code",
   "execution_count": 5,
   "id": "adult-inspection",
   "metadata": {},
   "outputs": [],
   "source": [
    "cn = sql.connect('data/intellectuels.db')"
   ]
  },
  {
   "cell_type": "code",
   "execution_count": 116,
   "id": "pointed-roads",
   "metadata": {},
   "outputs": [
    {
     "name": "stdout",
     "output_type": "stream",
     "text": [
      "('2021-06-17 00:02:17',)\n"
     ]
    }
   ],
   "source": [
    "c = cn.cursor()\n",
    "c.execute(\"SELECT datetime('now', 'localtime')\")\n",
    "print(c.fetchone())"
   ]
  },
  {
   "cell_type": "code",
   "execution_count": 117,
   "id": "numeric-africa",
   "metadata": {},
   "outputs": [],
   "source": [
    "cn.close()"
   ]
  },
  {
   "cell_type": "code",
   "execution_count": 6,
   "id": "nominated-closer",
   "metadata": {},
   "outputs": [],
   "source": [
    "db = 'data/intellectuels.db'"
   ]
  },
  {
   "cell_type": "code",
   "execution_count": 120,
   "id": "marine-behavior",
   "metadata": {},
   "outputs": [],
   "source": [
    "cn = sql.connect(db)\n",
    "c = cn.cursor()\n",
    "# Create table QUERY\n",
    "# c.execute('''DROP TABLE query;''')\n",
    "\n",
    "c.execute('''CREATE TABLE query (pk_query INTEGER PRIMARY KEY,\n",
    "label VARCHAR (100),\n",
    "description TEXT,\n",
    "project VARCHAR (150),\n",
    "sparql_endpoint VARCHAR (250),\n",
    "query TEXT,\n",
    "notes TEXT, \n",
    "timestmp text DEFAULT ((datetime('now','localtime'))))\n",
    "''')\n",
    "\n",
    "# Save (commit) the changes\n",
    "# désactivé # cn.commit()\n",
    "cn.close()"
   ]
  },
  {
   "cell_type": "code",
   "execution_count": 121,
   "id": "popular-crime",
   "metadata": {},
   "outputs": [],
   "source": [
    "cn = sql.connect(db)\n",
    "c = cn.cursor()\n",
    "\n",
    "# Create table RESULT\n",
    "# c.execute('''DROP TABLE result;''')\n",
    "\n",
    "c.execute('''CREATE TABLE result (pk_result INTEGER PRIMARY KEY,\n",
    "fk_query INTEGER REFERENCES \"query\" (pk_query) MATCH SIMPLE,\n",
    "description TEXT,\n",
    "result TEXT,\n",
    "insert_data_into TEXT,\n",
    "notes TEXT, \n",
    "timestmp text DEFAULT ((datetime('now','localtime'))))\n",
    "''')\n",
    "\n",
    "# Save (commit) the changes\n",
    "# désactivé # cn.commit()\n",
    "cn.close()"
   ]
  },
  {
   "cell_type": "code",
   "execution_count": 122,
   "id": "specific-bottom",
   "metadata": {},
   "outputs": [],
   "source": [
    "cn = sql.connect(db)\n",
    "c = cn.cursor()\n",
    "\n",
    "# Create table 'entity'\n",
    "# STOP #  c.execute('''DROP TABLE entity''')\n",
    "\n",
    "c.execute('''CREATE TABLE entity\n",
    "             (pk_entity INTEGER PRIMARY KEY, local_authority BOOLEAN DEFAULT TRUE, \n",
    "             fk_same_entity INTEGER REFERENCES [entity] (pk_entity) MATCH SIMPLE,\n",
    "             uri_entity TEXT, entity_class TEXT, source TEXT,\n",
    "             fk_query_as_source INTEGER REFERENCES [query] (pk_query) MATCH SIMPLE,\n",
    "             entity_std_name TEXT, notes TEXT, \n",
    "             timestmp text DEFAULT ((datetime('now','localtime'))),\n",
    "             UNIQUE (uri_entity, entity_class, source))''')\n",
    "#\"\"\"\n",
    "\n",
    "# Save (commit) the changes \n",
    "# STOP #   cn.commit()\n",
    "cn.close()"
   ]
  },
  {
   "cell_type": "code",
   "execution_count": 123,
   "id": "minus-satisfaction",
   "metadata": {},
   "outputs": [],
   "source": [
    "cn = sql.connect(db)\n",
    "c = cn.cursor()\n",
    "\n",
    "# Create table 'property'\n",
    "# STOP # c.execute('''DROP TABLE property''')\n",
    "\n",
    "c.execute('''CREATE TABLE property\n",
    "             (pk_property INTEGER PRIMARY KEY, \n",
    "             fk_entity INTEGER REFERENCES [entity] (pk_entity) MATCH SIMPLE,\n",
    "             uri_entity TEXT, property TEXT, value TEXT, \n",
    "             source TEXT, quality INTEGER, fk_query_as_source INTEGER REFERENCES [query] (pk_query) MATCH SIMPLE,\n",
    "             additional_property_1 TEXT, value_1 TEXT,\n",
    "             additional_property_2 TEXT, value_2 TEXT,\n",
    "             additional_property_3 TEXT, value_3 TEXT,\n",
    "             notes TEXT, \n",
    "             timestmp text DEFAULT ((datetime('now','localtime'))),\n",
    "             UNIQUE (uri_entity, property, value, source))''')\n",
    "#\"\"\"\n",
    "\n",
    "# Save (commit) the changes \n",
    "# STOP # cn.commit()\n",
    "cn.close()"
   ]
  },
  {
   "cell_type": "markdown",
   "id": "suitable-surge",
   "metadata": {},
   "source": [
    "## Récupération des données"
   ]
  },
  {
   "cell_type": "code",
   "execution_count": 91,
   "id": "chinese-villa",
   "metadata": {},
   "outputs": [],
   "source": [
    "query_count_intellectuals = \"\"\"\n",
    "PREFIX  yago: <http://dbpedia.org/class/yago/>\n",
    "\n",
    "SELECT DISTINCT (count(*) AS ?eff)\n",
    "WHERE\n",
    "  {   \n",
    "       SELECT DISTINCT ?person \n",
    "{ ?person  a                     yago:Intellectual109621545 }\n",
    "}\n",
    "\n",
    "\"\"\""
   ]
  },
  {
   "cell_type": "code",
   "execution_count": 93,
   "id": "numeric-prize",
   "metadata": {},
   "outputs": [],
   "source": [
    "query_intellectuals_properties = \"\"\"\n",
    "PREFIX  yago: <http://dbpedia.org/class/yago/>\n",
    "PREFIX  foaf: <http://xmlns.com/foaf/0.1/>\n",
    "\n",
    "SELECT DISTINCT ?p ?direction (count(*) AS ?freq)\n",
    "WHERE\n",
    "  {  { ?person  a                     yago:Intellectual109621545 ;\n",
    "                     ?p                    ?o\n",
    "            BIND(\"out\" AS ?direction)\n",
    "          }\n",
    "     \n",
    "    UNION\n",
    "          { ?person  a                     yago:Intellectual109621545 .\n",
    "            ?s       ?p                    ?person\n",
    "            BIND(\"in\" AS ?direction)\n",
    "          }      \n",
    "  }\n",
    "GROUP BY ?p ?direction\n",
    "ORDER BY DESC(?freq)\n",
    "\n",
    "\"\"\""
   ]
  },
  {
   "cell_type": "markdown",
   "id": "connected-surrey",
   "metadata": {},
   "source": [
    "### Compter les intellectuels"
   ]
  },
  {
   "cell_type": "code",
   "execution_count": 94,
   "id": "written-fiction",
   "metadata": {},
   "outputs": [
    {
     "data": {
      "text/plain": [
       "{'head': {'link': [], 'vars': ['eff']},\n",
       " 'results': {'distinct': False,\n",
       "  'ordered': True,\n",
       "  'bindings': [{'eff': {'type': 'typed-literal',\n",
       "     'datatype': 'http://www.w3.org/2001/XMLSchema#integer',\n",
       "     'value': '197176'}}]}}"
      ]
     },
     "execution_count": 94,
     "metadata": {},
     "output_type": "execute_result"
    }
   ],
   "source": [
    "# Exécution de la requête qui retournera un dictionnaire JSON\n",
    "sparql = SPARQLWrapper(\"https://dbpedia.org/sparql\")\n",
    "sparql.setQuery(query_count_intellectuals)\n",
    "sparql.setReturnFormat(JSON)\n",
    "rc = sparql.queryAndConvert()\n",
    "rc"
   ]
  },
  {
   "cell_type": "markdown",
   "id": "authorized-complex",
   "metadata": {},
   "source": [
    "## Enregistrer les entitées 'person'"
   ]
  },
  {
   "cell_type": "code",
   "execution_count": 124,
   "id": "great-stocks",
   "metadata": {},
   "outputs": [
    {
     "data": {
      "text/plain": [
       "(2,\n",
       " 'Cherches les intellectuels ',\n",
       " 'Cherches les intellectuels (1-10000)',\n",
       " None,\n",
       " 'https://dbpedia.org/sparql',\n",
       " 'PREFIX  yago: <http://dbpedia.org/class/yago/>\\r\\n\\r\\nSELECT DISTINCT  ?person     \\r\\nWHERE\\r\\n  \\r\\n{ ?person  a                     yago:Intellectual109621545 }\\r\\nORDER BY ?person',\n",
       " None,\n",
       " '2021-06-17 00:10:56')"
      ]
     },
     "execution_count": 124,
     "metadata": {},
     "output_type": "execute_result"
    }
   ],
   "source": [
    "### Définir la ligne de la base de données à utiliser (inspécter préalablement la base de données)\n",
    "pk_query = 2\n",
    "\n",
    "# connnexion à la base de données\n",
    "original_db = 'data/intellectuels.db'\n",
    "conn = sql.connect(original_db)\n",
    "\n",
    "### exécuter la requëte sur la base de donées SQLite pour récupérer les valeurs que contient la ligne\n",
    "c = conn.cursor()\n",
    "c.execute('SELECT * FROM query WHERE pk_query = ?', [pk_query]) ### a list around argument is needed for a string longer then one\n",
    "#c.execute('SELECT * FROM query WHERE pk_query = 10')\n",
    "\n",
    "rc = c.fetchone()\n",
    "\n",
    "# fermer la connexion\n",
    "conn.close()\n",
    "\n",
    "# imprimer et inspecter le résultat\n",
    "rc"
   ]
  },
  {
   "cell_type": "code",
   "execution_count": 125,
   "id": "designing-jonathan",
   "metadata": {},
   "outputs": [
    {
     "name": "stdout",
     "output_type": "stream",
     "text": [
      "<class 'dict'>\n"
     ]
    }
   ],
   "source": [
    "qr = spqf.get_json_sparql_result(rc[4],rc[5])"
   ]
  },
  {
   "cell_type": "code",
   "execution_count": 126,
   "id": "fewer-aaron",
   "metadata": {},
   "outputs": [
    {
     "data": {
      "text/plain": [
       "10000"
      ]
     },
     "execution_count": 126,
     "metadata": {},
     "output_type": "execute_result"
    }
   ],
   "source": [
    "len(qr['results']['bindings'])"
   ]
  },
  {
   "cell_type": "code",
   "execution_count": 127,
   "id": "hazardous-insulation",
   "metadata": {},
   "outputs": [],
   "source": [
    "r = [l for l in spqf.sparql_result_to_list(qr) ]"
   ]
  },
  {
   "cell_type": "code",
   "execution_count": 128,
   "id": "seasonal-sixth",
   "metadata": {},
   "outputs": [],
   "source": [
    "rl = [[l[0], 'https://dbpedia.org/ontology/Person', 'https://dbpedia.org/sparql', 2 ] for l in r]"
   ]
  },
  {
   "cell_type": "code",
   "execution_count": 129,
   "id": "surprising-hospital",
   "metadata": {},
   "outputs": [
    {
     "data": {
      "text/plain": [
       "[[\"http://dbpedia.org/resource/'Abd_al-'Aziz_al-Wafa'i\",\n",
       "  'https://dbpedia.org/ontology/Person',\n",
       "  'https://dbpedia.org/sparql',\n",
       "  2],\n",
       " [\"http://dbpedia.org/resource/'Abd_al-Razzaq_al-Hasani\",\n",
       "  'https://dbpedia.org/ontology/Person',\n",
       "  'https://dbpedia.org/sparql',\n",
       "  2],\n",
       " [\"http://dbpedia.org/resource/'Ali_ibn_al-'Abbas_al-Majusi\",\n",
       "  'https://dbpedia.org/ontology/Person',\n",
       "  'https://dbpedia.org/sparql',\n",
       "  2]]"
      ]
     },
     "execution_count": 129,
     "metadata": {},
     "output_type": "execute_result"
    }
   ],
   "source": [
    "rl[:3]"
   ]
  },
  {
   "cell_type": "code",
   "execution_count": 130,
   "id": "genuine-stocks",
   "metadata": {},
   "outputs": [],
   "source": [
    "### Stocker les nouvelles entités en base de données – ne pas oublier d'active le 'commit' !\n",
    "\n",
    "cn = sql.connect(db)\n",
    "c = cn.cursor()\n",
    "\n",
    "# Insérer les données\n",
    "c.executemany(\"INSERT OR IGNORE INTO entity (uri_entity, entity_class, source, fk_query_as_source) VALUES (?,?,?,?)\", rl)\n",
    "\n",
    "# valider l'insertion et fermer la base de données\n",
    "## DESACTIVÉ !!! ##  cn.commit()\n",
    "\n",
    "cn.close()"
   ]
  },
  {
   "cell_type": "markdown",
   "id": "interesting-milwaukee",
   "metadata": {},
   "source": [
    "### Sauvegarde DB\n",
    "\n",
    "Copie1 = entités person enregistrées"
   ]
  },
  {
   "cell_type": "code",
   "execution_count": 269,
   "id": "heavy-permit",
   "metadata": {},
   "outputs": [
    {
     "data": {
      "text/plain": [
       "'20210617_011212'"
      ]
     },
     "execution_count": 269,
     "metadata": {},
     "output_type": "execute_result"
    }
   ],
   "source": [
    "### Fonction qui récupère et met en forme le temps au moment de l'exécution\n",
    "\n",
    "# définition\n",
    "def timestamp_formatted_for_file_name():\n",
    "    is_now = time.strftime('%Y%m%d_%H%M%S')\n",
    "    return is_now\n",
    "\n",
    "# exécution\n",
    "timestamp_formatted_for_file_name()"
   ]
  },
  {
   "cell_type": "code",
   "execution_count": 270,
   "id": "suited-terminal",
   "metadata": {},
   "outputs": [],
   "source": [
    "### Définir les adresses des fichiers, l'existant et celui à créer\n",
    "original_db = 'data/intellectuels.db'\n",
    "\n",
    "##  Noter que la différence de suffixe, en soi totalement arbitraire, \n",
    "#  dépend du fait que dans la configuration de .gitignore, .sqlite est exclu du verisonnement GIT\n",
    "#  contrairement à .db qui est versionné\n",
    "timestamped_db_copy = 'data/intellectuels_copie1_' + timestamp_formatted_for_file_name() + '.sqlite'"
   ]
  },
  {
   "cell_type": "code",
   "execution_count": 271,
   "id": "encouraging-conjunction",
   "metadata": {},
   "outputs": [
    {
     "data": {
      "text/plain": [
       "'data/intellectuels_copie1_20210617_011241.sqlite'"
      ]
     },
     "execution_count": 271,
     "metadata": {},
     "output_type": "execute_result"
    }
   ],
   "source": [
    "### Créer une copie de sauvegarde avec timestamp du fichier (versionnement manuel)\n",
    "# ATTENTION : la base de données doit exister à l'endroit indiqué !\n",
    "## Cette requête n'est utile que si des modifications en écriture vont être apportées à la base de données,\n",
    "# afin de préserver le dernier état avant modification\n",
    "\n",
    "## Documentation:\n",
    "# https://docs.python.org/3/library/shutil.htmlcopied_db = copyfile(original_db, timestamped_db_copy)\n",
    "\n",
    "copied_db = copyfile(original_db, timestamped_db_copy)\n",
    "copied_db"
   ]
  },
  {
   "cell_type": "markdown",
   "id": "electoral-python",
   "metadata": {},
   "source": [
    "### Inspection"
   ]
  },
  {
   "cell_type": "code",
   "execution_count": 272,
   "id": "compact-printing",
   "metadata": {},
   "outputs": [
    {
     "data": {
      "text/plain": [
       "[(197176, 'https://dbpedia.org/ontology/Person')]"
      ]
     },
     "execution_count": 272,
     "metadata": {},
     "output_type": "execute_result"
    }
   ],
   "source": [
    "# connnexion à la base de données\n",
    "cn = sql.connect(db)\n",
    "c = cn.cursor()\n",
    "\n",
    "### exécuter la requëte sur la base de donées SQLite pour récupérer les valeurs que contient la ligne\n",
    "c.execute('SELECT count(*) AS eff, entity_class FROM entity GROUP BY entity_class')\n",
    "result_q = c.fetchall()\n",
    "\n",
    "# fermer la connexion\n",
    "cn.close()\n",
    "result_q[:3]"
   ]
  },
  {
   "cell_type": "markdown",
   "id": "invalid-suspension",
   "metadata": {},
   "source": [
    "Les 197'176 intellectuels sont enregitrés dans la base de données !"
   ]
  },
  {
   "cell_type": "markdown",
   "id": "collaborative-northeast",
   "metadata": {},
   "source": [
    "### Sortir la liste des propriétés des intellectuels"
   ]
  },
  {
   "cell_type": "code",
   "execution_count": 44,
   "id": "respective-control",
   "metadata": {},
   "outputs": [
    {
     "data": {
      "text/html": [
       "<div>\n",
       "<style scoped>\n",
       "    .dataframe tbody tr th:only-of-type {\n",
       "        vertical-align: middle;\n",
       "    }\n",
       "\n",
       "    .dataframe tbody tr th {\n",
       "        vertical-align: top;\n",
       "    }\n",
       "\n",
       "    .dataframe thead th {\n",
       "        text-align: right;\n",
       "    }\n",
       "</style>\n",
       "<table border=\"1\" class=\"dataframe\">\n",
       "  <thead>\n",
       "    <tr style=\"text-align: right;\">\n",
       "      <th></th>\n",
       "      <th>Property</th>\n",
       "      <th>Frequency</th>\n",
       "    </tr>\n",
       "  </thead>\n",
       "  <tbody>\n",
       "    <tr>\n",
       "      <th>0</th>\n",
       "      <td>http://dbpedia.org/ontology/wikiPageWikiLink</td>\n",
       "      <td>9405330</td>\n",
       "    </tr>\n",
       "    <tr>\n",
       "      <th>1</th>\n",
       "      <td>http://dbpedia.org/ontology/wikiPageWikiLink</td>\n",
       "      <td>8047534</td>\n",
       "    </tr>\n",
       "    <tr>\n",
       "      <th>2</th>\n",
       "      <td>http://www.w3.org/1999/02/22-rdf-syntax-ns#type</td>\n",
       "      <td>6697687</td>\n",
       "    </tr>\n",
       "    <tr>\n",
       "      <th>3</th>\n",
       "      <td>http://www.w3.org/2002/07/owl#sameAs</td>\n",
       "      <td>2618194</td>\n",
       "    </tr>\n",
       "    <tr>\n",
       "      <th>4</th>\n",
       "      <td>http://purl.org/dc/terms/subject</td>\n",
       "      <td>2129616</td>\n",
       "    </tr>\n",
       "    <tr>\n",
       "      <th>5</th>\n",
       "      <td>http://dbpedia.org/property/wikiPageUsesTemplate</td>\n",
       "      <td>1658868</td>\n",
       "    </tr>\n",
       "    <tr>\n",
       "      <th>6</th>\n",
       "      <td>http://www.w3.org/2000/01/rdf-schema#label</td>\n",
       "      <td>862286</td>\n",
       "    </tr>\n",
       "    <tr>\n",
       "      <th>7</th>\n",
       "      <td>http://www.w3.org/2000/01/rdf-schema#comment</td>\n",
       "      <td>850919</td>\n",
       "    </tr>\n",
       "    <tr>\n",
       "      <th>8</th>\n",
       "      <td>http://dbpedia.org/ontology/abstract</td>\n",
       "      <td>850919</td>\n",
       "    </tr>\n",
       "    <tr>\n",
       "      <th>9</th>\n",
       "      <td>http://dbpedia.org/ontology/wikiPageExternalLink</td>\n",
       "      <td>508640</td>\n",
       "    </tr>\n",
       "    <tr>\n",
       "      <th>10</th>\n",
       "      <td>http://dbpedia.org/ontology/wikiPageRedirects</td>\n",
       "      <td>307902</td>\n",
       "    </tr>\n",
       "    <tr>\n",
       "      <th>11</th>\n",
       "      <td>http://dbpedia.org/ontology/wikiPageRevisionID</td>\n",
       "      <td>193604</td>\n",
       "    </tr>\n",
       "    <tr>\n",
       "      <th>12</th>\n",
       "      <td>http://dbpedia.org/ontology/wikiPageID</td>\n",
       "      <td>193604</td>\n",
       "    </tr>\n",
       "    <tr>\n",
       "      <th>13</th>\n",
       "      <td>http://xmlns.com/foaf/0.1/isPrimaryTopicOf</td>\n",
       "      <td>193604</td>\n",
       "    </tr>\n",
       "    <tr>\n",
       "      <th>14</th>\n",
       "      <td>http://xmlns.com/foaf/0.1/primaryTopic</td>\n",
       "      <td>193604</td>\n",
       "    </tr>\n",
       "    <tr>\n",
       "      <th>15</th>\n",
       "      <td>http://www.w3.org/ns/prov#wasDerivedFrom</td>\n",
       "      <td>193604</td>\n",
       "    </tr>\n",
       "    <tr>\n",
       "      <th>16</th>\n",
       "      <td>http://dbpedia.org/ontology/wikiPageLength</td>\n",
       "      <td>193604</td>\n",
       "    </tr>\n",
       "    <tr>\n",
       "      <th>17</th>\n",
       "      <td>http://dbpedia.org/ontology/birthPlace</td>\n",
       "      <td>140128</td>\n",
       "    </tr>\n",
       "    <tr>\n",
       "      <th>18</th>\n",
       "      <td>http://dbpedia.org/property/birthPlace</td>\n",
       "      <td>138245</td>\n",
       "    </tr>\n",
       "    <tr>\n",
       "      <th>19</th>\n",
       "      <td>http://dbpedia.org/property/name</td>\n",
       "      <td>124852</td>\n",
       "    </tr>\n",
       "    <tr>\n",
       "      <th>20</th>\n",
       "      <td>http://xmlns.com/foaf/0.1/name</td>\n",
       "      <td>110727</td>\n",
       "    </tr>\n",
       "    <tr>\n",
       "      <th>21</th>\n",
       "      <td>http://schema.org/sameAs</td>\n",
       "      <td>109772</td>\n",
       "    </tr>\n",
       "    <tr>\n",
       "      <th>22</th>\n",
       "      <td>http://dbpedia.org/property/birthDate</td>\n",
       "      <td>102170</td>\n",
       "    </tr>\n",
       "    <tr>\n",
       "      <th>23</th>\n",
       "      <td>http://dbpedia.org/ontology/starring</td>\n",
       "      <td>99503</td>\n",
       "    </tr>\n",
       "    <tr>\n",
       "      <th>24</th>\n",
       "      <td>http://dbpedia.org/property/title</td>\n",
       "      <td>92753</td>\n",
       "    </tr>\n",
       "    <tr>\n",
       "      <th>25</th>\n",
       "      <td>http://dbpedia.org/ontology/wikiPageDisambiguates</td>\n",
       "      <td>89871</td>\n",
       "    </tr>\n",
       "    <tr>\n",
       "      <th>26</th>\n",
       "      <td>http://dbpedia.org/ontology/birthDate</td>\n",
       "      <td>86270</td>\n",
       "    </tr>\n",
       "    <tr>\n",
       "      <th>27</th>\n",
       "      <td>http://dbpedia.org/property/years</td>\n",
       "      <td>85790</td>\n",
       "    </tr>\n",
       "    <tr>\n",
       "      <th>28</th>\n",
       "      <td>http://dbpedia.org/ontology/thumbnail</td>\n",
       "      <td>77171</td>\n",
       "    </tr>\n",
       "    <tr>\n",
       "      <th>29</th>\n",
       "      <td>http://xmlns.com/foaf/0.1/depiction</td>\n",
       "      <td>77171</td>\n",
       "    </tr>\n",
       "    <tr>\n",
       "      <th>30</th>\n",
       "      <td>http://dbpedia.org/property/almaMater</td>\n",
       "      <td>72003</td>\n",
       "    </tr>\n",
       "    <tr>\n",
       "      <th>31</th>\n",
       "      <td>http://dbpedia.org/property/spouse</td>\n",
       "      <td>70695</td>\n",
       "    </tr>\n",
       "    <tr>\n",
       "      <th>32</th>\n",
       "      <td>http://dbpedia.org/ontology/almaMater</td>\n",
       "      <td>65307</td>\n",
       "    </tr>\n",
       "    <tr>\n",
       "      <th>33</th>\n",
       "      <td>http://dbpedia.org/property/starring</td>\n",
       "      <td>64530</td>\n",
       "    </tr>\n",
       "    <tr>\n",
       "      <th>34</th>\n",
       "      <td>http://dbpedia.org/property/occupation</td>\n",
       "      <td>63882</td>\n",
       "    </tr>\n",
       "    <tr>\n",
       "      <th>35</th>\n",
       "      <td>http://dbpedia.org/property/termStart</td>\n",
       "      <td>62759</td>\n",
       "    </tr>\n",
       "    <tr>\n",
       "      <th>36</th>\n",
       "      <td>http://dbpedia.org/ontology/occupation</td>\n",
       "      <td>61051</td>\n",
       "    </tr>\n",
       "    <tr>\n",
       "      <th>37</th>\n",
       "      <td>http://dbpedia.org/ontology/termPeriod</td>\n",
       "      <td>60444</td>\n",
       "    </tr>\n",
       "    <tr>\n",
       "      <th>38</th>\n",
       "      <td>http://dbpedia.org/property/termEnd</td>\n",
       "      <td>55296</td>\n",
       "    </tr>\n",
       "    <tr>\n",
       "      <th>39</th>\n",
       "      <td>http://dbpedia.org/property/deathPlace</td>\n",
       "      <td>54515</td>\n",
       "    </tr>\n",
       "    <tr>\n",
       "      <th>40</th>\n",
       "      <td>http://dbpedia.org/ontology/deathPlace</td>\n",
       "      <td>52987</td>\n",
       "    </tr>\n",
       "    <tr>\n",
       "      <th>41</th>\n",
       "      <td>http://dbpedia.org/property/predecessor</td>\n",
       "      <td>51130</td>\n",
       "    </tr>\n",
       "    <tr>\n",
       "      <th>42</th>\n",
       "      <td>http://dbpedia.org/property/office</td>\n",
       "      <td>50637</td>\n",
       "    </tr>\n",
       "    <tr>\n",
       "      <th>43</th>\n",
       "      <td>http://dbpedia.org/property/deathDate</td>\n",
       "      <td>50505</td>\n",
       "    </tr>\n",
       "    <tr>\n",
       "      <th>44</th>\n",
       "      <td>http://dbpedia.org/property/successor</td>\n",
       "      <td>47431</td>\n",
       "    </tr>\n",
       "    <tr>\n",
       "      <th>45</th>\n",
       "      <td>http://dbpedia.org/property/writer</td>\n",
       "      <td>43577</td>\n",
       "    </tr>\n",
       "    <tr>\n",
       "      <th>46</th>\n",
       "      <td>http://dbpedia.org/ontology/predecessor</td>\n",
       "      <td>41321</td>\n",
       "    </tr>\n",
       "    <tr>\n",
       "      <th>47</th>\n",
       "      <td>http://dbpedia.org/ontology/deathDate</td>\n",
       "      <td>41075</td>\n",
       "    </tr>\n",
       "    <tr>\n",
       "      <th>48</th>\n",
       "      <td>http://dbpedia.org/property/before</td>\n",
       "      <td>40956</td>\n",
       "    </tr>\n",
       "    <tr>\n",
       "      <th>49</th>\n",
       "      <td>http://dbpedia.org/property/after</td>\n",
       "      <td>40779</td>\n",
       "    </tr>\n",
       "  </tbody>\n",
       "</table>\n",
       "</div>"
      ],
      "text/plain": [
       "                                             Property Frequency\n",
       "0        http://dbpedia.org/ontology/wikiPageWikiLink   9405330\n",
       "1        http://dbpedia.org/ontology/wikiPageWikiLink   8047534\n",
       "2     http://www.w3.org/1999/02/22-rdf-syntax-ns#type   6697687\n",
       "3                http://www.w3.org/2002/07/owl#sameAs   2618194\n",
       "4                    http://purl.org/dc/terms/subject   2129616\n",
       "5    http://dbpedia.org/property/wikiPageUsesTemplate   1658868\n",
       "6          http://www.w3.org/2000/01/rdf-schema#label    862286\n",
       "7        http://www.w3.org/2000/01/rdf-schema#comment    850919\n",
       "8                http://dbpedia.org/ontology/abstract    850919\n",
       "9    http://dbpedia.org/ontology/wikiPageExternalLink    508640\n",
       "10      http://dbpedia.org/ontology/wikiPageRedirects    307902\n",
       "11     http://dbpedia.org/ontology/wikiPageRevisionID    193604\n",
       "12             http://dbpedia.org/ontology/wikiPageID    193604\n",
       "13         http://xmlns.com/foaf/0.1/isPrimaryTopicOf    193604\n",
       "14             http://xmlns.com/foaf/0.1/primaryTopic    193604\n",
       "15           http://www.w3.org/ns/prov#wasDerivedFrom    193604\n",
       "16         http://dbpedia.org/ontology/wikiPageLength    193604\n",
       "17             http://dbpedia.org/ontology/birthPlace    140128\n",
       "18             http://dbpedia.org/property/birthPlace    138245\n",
       "19                   http://dbpedia.org/property/name    124852\n",
       "20                     http://xmlns.com/foaf/0.1/name    110727\n",
       "21                           http://schema.org/sameAs    109772\n",
       "22              http://dbpedia.org/property/birthDate    102170\n",
       "23               http://dbpedia.org/ontology/starring     99503\n",
       "24                  http://dbpedia.org/property/title     92753\n",
       "25  http://dbpedia.org/ontology/wikiPageDisambiguates     89871\n",
       "26              http://dbpedia.org/ontology/birthDate     86270\n",
       "27                  http://dbpedia.org/property/years     85790\n",
       "28              http://dbpedia.org/ontology/thumbnail     77171\n",
       "29                http://xmlns.com/foaf/0.1/depiction     77171\n",
       "30              http://dbpedia.org/property/almaMater     72003\n",
       "31                 http://dbpedia.org/property/spouse     70695\n",
       "32              http://dbpedia.org/ontology/almaMater     65307\n",
       "33               http://dbpedia.org/property/starring     64530\n",
       "34             http://dbpedia.org/property/occupation     63882\n",
       "35              http://dbpedia.org/property/termStart     62759\n",
       "36             http://dbpedia.org/ontology/occupation     61051\n",
       "37             http://dbpedia.org/ontology/termPeriod     60444\n",
       "38                http://dbpedia.org/property/termEnd     55296\n",
       "39             http://dbpedia.org/property/deathPlace     54515\n",
       "40             http://dbpedia.org/ontology/deathPlace     52987\n",
       "41            http://dbpedia.org/property/predecessor     51130\n",
       "42                 http://dbpedia.org/property/office     50637\n",
       "43              http://dbpedia.org/property/deathDate     50505\n",
       "44              http://dbpedia.org/property/successor     47431\n",
       "45                 http://dbpedia.org/property/writer     43577\n",
       "46            http://dbpedia.org/ontology/predecessor     41321\n",
       "47              http://dbpedia.org/ontology/deathDate     41075\n",
       "48                 http://dbpedia.org/property/before     40956\n",
       "49                  http://dbpedia.org/property/after     40779"
      ]
     },
     "execution_count": 44,
     "metadata": {},
     "output_type": "execute_result"
    }
   ],
   "source": [
    "# Exécution de la requête qui retournera un dictionnaire JSON\n",
    "sparql = SPARQLWrapper(\"https://dbpedia.org/sparql\")\n",
    "sparql.setQuery(query_intellectuals_properties)\n",
    "sparql.setReturnFormat(JSON)\n",
    "rc = sparql.queryAndConvert()\n",
    "\n",
    "\n",
    "# Transformation des résultats en liste puis en dataframe comprenant les propriétés et leurs fréquences\n",
    "l_prop = spqf.sparql_result_to_list_vars(rc, '?p ?freq')\n",
    "df_prop = pd.DataFrame(l_prop, columns=['Property','Frequency'])\n",
    "\n",
    "# Affichage des 50 propriétés les mieux renseignées\n",
    "df_prop[:50]"
   ]
  },
  {
   "cell_type": "markdown",
   "id": "formal-surge",
   "metadata": {},
   "source": [
    "## Propriétés"
   ]
  },
  {
   "cell_type": "markdown",
   "id": "available-nation",
   "metadata": {},
   "source": [
    "### Sauvegarde DB\n",
    "\n",
    "Copie2 = entités person enregistrées / requêtes birthyear, birthdate ajoutées"
   ]
  },
  {
   "cell_type": "code",
   "execution_count": 5,
   "id": "horizontal-albert",
   "metadata": {},
   "outputs": [
    {
     "data": {
      "text/plain": [
       "'20210704_194539'"
      ]
     },
     "execution_count": 5,
     "metadata": {},
     "output_type": "execute_result"
    }
   ],
   "source": [
    "### Fonction qui récupère et met en forme le temps au moment de l'exécution\n",
    "\n",
    "# définition\n",
    "def timestamp_formatted_for_file_name():\n",
    "    is_now = time.strftime('%Y%m%d_%H%M%S')\n",
    "    return is_now\n",
    "\n",
    "# exécution\n",
    "timestamp_formatted_for_file_name()"
   ]
  },
  {
   "cell_type": "code",
   "execution_count": 6,
   "id": "mounted-listening",
   "metadata": {},
   "outputs": [],
   "source": [
    "### Définir les adresses des fichiers, l'existant et celui à créer\n",
    "original_db = 'data/intellectuels.db'\n",
    "\n",
    "##  Noter que la différence de suffixe, en soi totalement arbitraire, \n",
    "#  dépend du fait que dans la configuration de .gitignore, .sqlite est exclu du verisonnement GIT\n",
    "#  contrairement à .db qui est versionné\n",
    "timestamped_db_copy = 'data/intellectuels_copie2_' + timestamp_formatted_for_file_name() + '.sqlite'"
   ]
  },
  {
   "cell_type": "code",
   "execution_count": 7,
   "id": "respective-marking",
   "metadata": {},
   "outputs": [
    {
     "data": {
      "text/plain": [
       "'data/intellectuels_copie2_20210704_194619.sqlite'"
      ]
     },
     "execution_count": 7,
     "metadata": {},
     "output_type": "execute_result"
    }
   ],
   "source": [
    "### Créer une copie de sauvegarde avec timestamp du fichier (versionnement manuel)\n",
    "# ATTENTION : la base de données doit exister à l'endroit indiqué !\n",
    "## Cette requête n'est utile que si des modifications en écriture vont être apportées à la base de données,\n",
    "# afin de préserver le dernier état avant modification\n",
    "\n",
    "## Documentation:\n",
    "# https://docs.python.org/3/library/shutil.htmlcopied_db = copyfile(original_db, timestamped_db_copy)\n",
    "\n",
    "copied_db = copyfile(original_db, timestamped_db_copy)\n",
    "copied_db"
   ]
  },
  {
   "cell_type": "markdown",
   "id": "hairy-ottawa",
   "metadata": {},
   "source": [
    "### birthyear (dbo)"
   ]
  },
  {
   "cell_type": "markdown",
   "id": "latter-withdrawal",
   "metadata": {},
   "source": [
    "#### 10000"
   ]
  },
  {
   "cell_type": "code",
   "execution_count": 8,
   "id": "steady-registrar",
   "metadata": {},
   "outputs": [
    {
     "data": {
      "text/plain": [
       "(22,\n",
       " 'Cherche les années de naissances (dbo)',\n",
       " 'Cherche les années de naissances (dbo)\\r\\n10000',\n",
       " None,\n",
       " 'https://dbpedia.org/sparql',\n",
       " 'PREFIX  dbo:  <http://dbpedia.org/ontology/>\\r\\nPREFIX  dbp:  <http://dbpedia.org/property/>\\r\\nPREFIX  dbr:  <http://dbpedia.org/resource/>\\r\\nPREFIX  yago: <http://dbpedia.org/class/yago/>\\r\\n\\r\\nSELECT DISTINCT ?person ?birthYear\\r\\nWHERE\\r\\n  { ?person  dbo:birthYear  ?birthYear\\r\\n      { ?person  a                     yago:Intellectual109621545}\\r\\n  }\\r\\n ORDER BY ?person',\n",
       " None,\n",
       " '2021-06-17 13:33:09')"
      ]
     },
     "execution_count": 8,
     "metadata": {},
     "output_type": "execute_result"
    }
   ],
   "source": [
    "### Définir la ligne de la base de données à utiliser (inspécter préalablement la base de données)\n",
    "pk_query = 22\n",
    "\n",
    "# connnexion à la base de données\n",
    "original_db = 'data/intellectuels.db'\n",
    "conn = sql.connect(original_db)\n",
    "\n",
    "### exécuter la requëte sur la base de donées SQLite pour récupérer les valeurs que contient la ligne\n",
    "c = conn.cursor()\n",
    "c.execute('SELECT * FROM query WHERE pk_query = ?', [pk_query]) ### a list around argument is needed for a string longer then one\n",
    "#c.execute('SELECT * FROM query WHERE pk_query = 10')\n",
    "\n",
    "rc = c.fetchone()\n",
    "\n",
    "# fermer la connexion\n",
    "conn.close()\n",
    "\n",
    "# imprimer et inspecter le résultat\n",
    "rc"
   ]
  },
  {
   "cell_type": "code",
   "execution_count": 9,
   "id": "placed-liberia",
   "metadata": {},
   "outputs": [
    {
     "name": "stdout",
     "output_type": "stream",
     "text": [
      "<class 'dict'>\n"
     ]
    }
   ],
   "source": [
    "qr = spqf.get_json_sparql_result(rc[4],rc[5])"
   ]
  },
  {
   "cell_type": "code",
   "execution_count": 10,
   "id": "union-remove",
   "metadata": {},
   "outputs": [
    {
     "data": {
      "text/plain": [
       "10000"
      ]
     },
     "execution_count": 10,
     "metadata": {},
     "output_type": "execute_result"
    }
   ],
   "source": [
    "len(qr['results']['bindings'])"
   ]
  },
  {
   "cell_type": "code",
   "execution_count": 12,
   "id": "fundamental-parallel",
   "metadata": {},
   "outputs": [],
   "source": [
    "# Transformer le résultat en liste en utilisant une autre fonction de la bibliothèque utilisateur\n",
    "r = [l for l in spqf.sparql_result_to_list(qr)]\n",
    "# r"
   ]
  },
  {
   "cell_type": "code",
   "execution_count": 13,
   "id": "likely-ballot",
   "metadata": {},
   "outputs": [
    {
     "name": "stdout",
     "output_type": "stream",
     "text": [
      "10000\n"
     ]
    },
    {
     "data": {
      "text/plain": [
       "[[\"http://dbpedia.org/resource/'Abd_al-'Aziz_al-Wafa'i\", '0811'],\n",
       " [\"http://dbpedia.org/resource/A'Lelia_Bundles\", '1952'],\n",
       " ['http://dbpedia.org/resource/A.G._Lafley', '1947'],\n",
       " ['http://dbpedia.org/resource/A.K._Nazmul_Karim', '1922'],\n",
       " ['http://dbpedia.org/resource/A._Alfred_Taubman', '1924']]"
      ]
     },
     "execution_count": 13,
     "metadata": {},
     "output_type": "execute_result"
    }
   ],
   "source": [
    "# inspecter une seule ligne de la liste (de listes)\n",
    "print(len(r))\n",
    "r[:5]"
   ]
  },
  {
   "cell_type": "code",
   "execution_count": 14,
   "id": "fantastic-catalyst",
   "metadata": {},
   "outputs": [],
   "source": [
    "rl = [[l[0], 'http://dbpedia.org/ontology/birthYear', l[1], 'https://dbpedia.org/sparql', 1, 22 ] for l in r]"
   ]
  },
  {
   "cell_type": "code",
   "execution_count": 15,
   "id": "armed-mongolia",
   "metadata": {},
   "outputs": [
    {
     "name": "stdout",
     "output_type": "stream",
     "text": [
      "10000\n"
     ]
    },
    {
     "data": {
      "text/plain": [
       "[[\"http://dbpedia.org/resource/'Abd_al-'Aziz_al-Wafa'i\",\n",
       "  'http://dbpedia.org/ontology/birthYear',\n",
       "  '0811',\n",
       "  'https://dbpedia.org/sparql',\n",
       "  1,\n",
       "  22],\n",
       " [\"http://dbpedia.org/resource/A'Lelia_Bundles\",\n",
       "  'http://dbpedia.org/ontology/birthYear',\n",
       "  '1952',\n",
       "  'https://dbpedia.org/sparql',\n",
       "  1,\n",
       "  22],\n",
       " ['http://dbpedia.org/resource/A.G._Lafley',\n",
       "  'http://dbpedia.org/ontology/birthYear',\n",
       "  '1947',\n",
       "  'https://dbpedia.org/sparql',\n",
       "  1,\n",
       "  22]]"
      ]
     },
     "execution_count": 15,
     "metadata": {},
     "output_type": "execute_result"
    }
   ],
   "source": [
    "print(len(rl))\n",
    "rl[:3]"
   ]
  },
  {
   "cell_type": "code",
   "execution_count": 17,
   "id": "closing-sustainability",
   "metadata": {},
   "outputs": [],
   "source": [
    "#STOCKAGE\n",
    "db = 'data/intellectuels.db'\n",
    "cn = sql.connect(db)\n",
    "c = cn.cursor()\n",
    "\n",
    "# Insérer les données\n",
    "c.executemany(\"INSERT OR IGNORE INTO property (uri_entity, property, value, source, quality, fk_query_as_source) VALUES (?,?,?,?,?,?)\", rl)\n",
    "\n",
    "# valider l'insertion et fermer la base de données\n",
    "## DESACTIVÉ !!! cn.commit()\n",
    "\n",
    "cn.close()"
   ]
  },
  {
   "cell_type": "markdown",
   "id": "included-august",
   "metadata": {},
   "source": [
    "#### 20000"
   ]
  },
  {
   "cell_type": "code",
   "execution_count": 19,
   "id": "brave-bloom",
   "metadata": {},
   "outputs": [
    {
     "data": {
      "text/plain": [
       "(23,\n",
       " 'Cherche les années de naissances (dbo)',\n",
       " 'Cherche les années de naissances (dbo)\\r\\n20000',\n",
       " None,\n",
       " 'https://dbpedia.org/sparql',\n",
       " 'PREFIX  dbo:  <http://dbpedia.org/ontology/>\\r\\nPREFIX  dbp:  <http://dbpedia.org/property/>\\r\\nPREFIX  dbr:  <http://dbpedia.org/resource/>\\r\\nPREFIX  yago: <http://dbpedia.org/class/yago/>\\r\\n\\r\\nSELECT DISTINCT ?person ?birthYear\\r\\nWHERE\\r\\n  { ?person  dbo:birthYear  ?birthYear\\r\\n      { ?person  a                     yago:Intellectual109621545}\\r\\n  }\\r\\nORDER BY ?person\\r\\nOFFSET 10000 LIMIT 10000\\r\\n',\n",
       " None,\n",
       " '2021-06-17 13:34:32')"
      ]
     },
     "execution_count": 19,
     "metadata": {},
     "output_type": "execute_result"
    }
   ],
   "source": [
    "### Définir la ligne de la base de données à utiliser (inspécter préalablement la base de données)\n",
    "pk_query = 23\n",
    "\n",
    "# connnexion à la base de données\n",
    "original_db = 'data/intellectuels.db'\n",
    "conn = sql.connect(original_db)\n",
    "\n",
    "### exécuter la requëte sur la base de donées SQLite pour récupérer les valeurs que contient la ligne\n",
    "c = conn.cursor()\n",
    "c.execute('SELECT * FROM query WHERE pk_query = ?', [pk_query]) ### a list around argument is needed for a string longer then one\n",
    "#c.execute('SELECT * FROM query WHERE pk_query = 10')\n",
    "\n",
    "rc = c.fetchone()\n",
    "\n",
    "# fermer la connexion\n",
    "conn.close()\n",
    "\n",
    "# imprimer et inspecter le résultat\n",
    "rc"
   ]
  },
  {
   "cell_type": "code",
   "execution_count": 20,
   "id": "italic-member",
   "metadata": {},
   "outputs": [
    {
     "name": "stdout",
     "output_type": "stream",
     "text": [
      "<class 'dict'>\n"
     ]
    }
   ],
   "source": [
    "qr = spqf.get_json_sparql_result(rc[4],rc[5])"
   ]
  },
  {
   "cell_type": "code",
   "execution_count": 21,
   "id": "handed-florist",
   "metadata": {},
   "outputs": [
    {
     "data": {
      "text/plain": [
       "10000"
      ]
     },
     "execution_count": 21,
     "metadata": {},
     "output_type": "execute_result"
    }
   ],
   "source": [
    "len(qr['results']['bindings'])"
   ]
  },
  {
   "cell_type": "code",
   "execution_count": 22,
   "id": "stopped-smoke",
   "metadata": {},
   "outputs": [],
   "source": [
    "# Transformer le résultat en liste en utilisant une autre fonction de la bibliothèque utilisateur\n",
    "r = [l for l in spqf.sparql_result_to_list(qr)]\n",
    "# r"
   ]
  },
  {
   "cell_type": "code",
   "execution_count": 23,
   "id": "floral-repair",
   "metadata": {},
   "outputs": [
    {
     "name": "stdout",
     "output_type": "stream",
     "text": [
      "10000\n"
     ]
    },
    {
     "data": {
      "text/plain": [
       "[['http://dbpedia.org/resource/Fred_Doucet', '1939'],\n",
       " ['http://dbpedia.org/resource/Fred_Dretske', '1932'],\n",
       " ['http://dbpedia.org/resource/Fred_Evans_(philosopher)', '1944'],\n",
       " ['http://dbpedia.org/resource/Fred_F._French', '1883'],\n",
       " ['http://dbpedia.org/resource/Fred_Feldman_(philosopher)', '1941']]"
      ]
     },
     "execution_count": 23,
     "metadata": {},
     "output_type": "execute_result"
    }
   ],
   "source": [
    "# inspecter une seule ligne de la liste (de listes)\n",
    "print(len(r))\n",
    "r[:5]"
   ]
  },
  {
   "cell_type": "code",
   "execution_count": 24,
   "id": "unusual-manchester",
   "metadata": {},
   "outputs": [],
   "source": [
    "rl = [[l[0], 'http://dbpedia.org/ontology/birthYear', l[1], 'https://dbpedia.org/sparql', 1, 23 ] for l in r]"
   ]
  },
  {
   "cell_type": "code",
   "execution_count": 25,
   "id": "protective-cartoon",
   "metadata": {},
   "outputs": [
    {
     "name": "stdout",
     "output_type": "stream",
     "text": [
      "10000\n"
     ]
    },
    {
     "data": {
      "text/plain": [
       "[['http://dbpedia.org/resource/Fred_Doucet',\n",
       "  'http://dbpedia.org/ontology/birthYear',\n",
       "  '1939',\n",
       "  'https://dbpedia.org/sparql',\n",
       "  1,\n",
       "  23],\n",
       " ['http://dbpedia.org/resource/Fred_Dretske',\n",
       "  'http://dbpedia.org/ontology/birthYear',\n",
       "  '1932',\n",
       "  'https://dbpedia.org/sparql',\n",
       "  1,\n",
       "  23],\n",
       " ['http://dbpedia.org/resource/Fred_Evans_(philosopher)',\n",
       "  'http://dbpedia.org/ontology/birthYear',\n",
       "  '1944',\n",
       "  'https://dbpedia.org/sparql',\n",
       "  1,\n",
       "  23]]"
      ]
     },
     "execution_count": 25,
     "metadata": {},
     "output_type": "execute_result"
    }
   ],
   "source": [
    "print(len(rl))\n",
    "rl[:3]"
   ]
  },
  {
   "cell_type": "code",
   "execution_count": 26,
   "id": "desirable-advance",
   "metadata": {},
   "outputs": [],
   "source": [
    "#STOCKAGE\n",
    "db = 'data/intellectuels.db'\n",
    "cn = sql.connect(db)\n",
    "c = cn.cursor()\n",
    "\n",
    "# Insérer les données\n",
    "c.executemany(\"INSERT OR IGNORE INTO property (uri_entity, property, value, source, quality, fk_query_as_source) VALUES (?,?,?,?,?,?)\", rl)\n",
    "\n",
    "# valider l'insertion et fermer la base de données\n",
    "## DESACTIVÉ !!! cn.commit()\n",
    "\n",
    "cn.close()"
   ]
  },
  {
   "cell_type": "markdown",
   "id": "rural-twist",
   "metadata": {},
   "source": [
    "#### 30000"
   ]
  },
  {
   "cell_type": "code",
   "execution_count": 27,
   "id": "encouraging-biography",
   "metadata": {},
   "outputs": [
    {
     "data": {
      "text/plain": [
       "(24,\n",
       " 'Cherche les années de naissances (dbo)',\n",
       " 'Cherche les années de naissances (dbo)\\r\\n30000',\n",
       " None,\n",
       " 'https://dbpedia.org/sparql',\n",
       " 'PREFIX  dbo:  <http://dbpedia.org/ontology/>\\r\\nPREFIX  dbp:  <http://dbpedia.org/property/>\\r\\nPREFIX  dbr:  <http://dbpedia.org/resource/>\\r\\nPREFIX  yago: <http://dbpedia.org/class/yago/>\\r\\n\\r\\nSELECT DISTINCT ?person ?birthYear\\r\\nWHERE\\r\\n  { ?person  dbo:birthYear  ?birthYear\\r\\n      { ?person  a                     yago:Intellectual109621545}\\r\\n  }\\r\\nORDER BY ?person\\r\\nOFFSET 20000 LIMIT 10000\\r\\n',\n",
       " None,\n",
       " '2021-06-17 13:34:48')"
      ]
     },
     "execution_count": 27,
     "metadata": {},
     "output_type": "execute_result"
    }
   ],
   "source": [
    "### Définir la ligne de la base de données à utiliser (inspécter préalablement la base de données)\n",
    "pk_query = 24\n",
    "\n",
    "# connnexion à la base de données\n",
    "original_db = 'data/intellectuels.db'\n",
    "conn = sql.connect(original_db)\n",
    "\n",
    "### exécuter la requëte sur la base de donées SQLite pour récupérer les valeurs que contient la ligne\n",
    "c = conn.cursor()\n",
    "c.execute('SELECT * FROM query WHERE pk_query = ?', [pk_query]) ### a list around argument is needed for a string longer then one\n",
    "#c.execute('SELECT * FROM query WHERE pk_query = 10')\n",
    "\n",
    "rc = c.fetchone()\n",
    "\n",
    "# fermer la connexion\n",
    "conn.close()\n",
    "\n",
    "# imprimer et inspecter le résultat\n",
    "rc"
   ]
  },
  {
   "cell_type": "code",
   "execution_count": 28,
   "id": "derived-colonial",
   "metadata": {},
   "outputs": [
    {
     "name": "stdout",
     "output_type": "stream",
     "text": [
      "<class 'dict'>\n"
     ]
    }
   ],
   "source": [
    "qr = spqf.get_json_sparql_result(rc[4],rc[5])"
   ]
  },
  {
   "cell_type": "code",
   "execution_count": 29,
   "id": "typical-mambo",
   "metadata": {},
   "outputs": [
    {
     "data": {
      "text/plain": [
       "10000"
      ]
     },
     "execution_count": 29,
     "metadata": {},
     "output_type": "execute_result"
    }
   ],
   "source": [
    "len(qr['results']['bindings'])"
   ]
  },
  {
   "cell_type": "code",
   "execution_count": 30,
   "id": "embedded-logging",
   "metadata": {},
   "outputs": [],
   "source": [
    "# Transformer le résultat en liste en utilisant une autre fonction de la bibliothèque utilisateur\n",
    "r = [l for l in spqf.sparql_result_to_list(qr)]\n",
    "# r"
   ]
  },
  {
   "cell_type": "code",
   "execution_count": 31,
   "id": "recorded-iraqi",
   "metadata": {},
   "outputs": [
    {
     "name": "stdout",
     "output_type": "stream",
     "text": [
      "10000\n"
     ]
    },
    {
     "data": {
      "text/plain": [
       "[['http://dbpedia.org/resource/Luisella_Beghi', '1922'],\n",
       " ['http://dbpedia.org/resource/Luka_Jones', '1975'],\n",
       " ['http://dbpedia.org/resource/Luke_Arnold', '1984'],\n",
       " ['http://dbpedia.org/resource/Luke_Brugnara', '1963'],\n",
       " ['http://dbpedia.org/resource/Luke_Chueh', '1973']]"
      ]
     },
     "execution_count": 31,
     "metadata": {},
     "output_type": "execute_result"
    }
   ],
   "source": [
    "# inspecter une seule ligne de la liste (de listes)\n",
    "print(len(r))\n",
    "r[:5]"
   ]
  },
  {
   "cell_type": "code",
   "execution_count": 32,
   "id": "illegal-feedback",
   "metadata": {},
   "outputs": [],
   "source": [
    "rl = [[l[0], 'http://dbpedia.org/ontology/birthYear', l[1], 'https://dbpedia.org/sparql', 1, 24 ] for l in r]"
   ]
  },
  {
   "cell_type": "code",
   "execution_count": 33,
   "id": "amazing-clark",
   "metadata": {},
   "outputs": [
    {
     "name": "stdout",
     "output_type": "stream",
     "text": [
      "10000\n"
     ]
    },
    {
     "data": {
      "text/plain": [
       "[['http://dbpedia.org/resource/Luisella_Beghi',\n",
       "  'http://dbpedia.org/ontology/birthYear',\n",
       "  '1922',\n",
       "  'https://dbpedia.org/sparql',\n",
       "  1,\n",
       "  24],\n",
       " ['http://dbpedia.org/resource/Luka_Jones',\n",
       "  'http://dbpedia.org/ontology/birthYear',\n",
       "  '1975',\n",
       "  'https://dbpedia.org/sparql',\n",
       "  1,\n",
       "  24],\n",
       " ['http://dbpedia.org/resource/Luke_Arnold',\n",
       "  'http://dbpedia.org/ontology/birthYear',\n",
       "  '1984',\n",
       "  'https://dbpedia.org/sparql',\n",
       "  1,\n",
       "  24]]"
      ]
     },
     "execution_count": 33,
     "metadata": {},
     "output_type": "execute_result"
    }
   ],
   "source": [
    "print(len(rl))\n",
    "rl[:3]"
   ]
  },
  {
   "cell_type": "code",
   "execution_count": 34,
   "id": "distinguished-chemical",
   "metadata": {},
   "outputs": [],
   "source": [
    "#STOCKAGE\n",
    "db = 'data/intellectuels.db'\n",
    "cn = sql.connect(db)\n",
    "c = cn.cursor()\n",
    "\n",
    "# Insérer les données\n",
    "c.executemany(\"INSERT OR IGNORE INTO property (uri_entity, property, value, source, quality, fk_query_as_source) VALUES (?,?,?,?,?,?)\", rl)\n",
    "\n",
    "# valider l'insertion et fermer la base de données\n",
    "## DESACTIVÉ !!! cn.commit()\n",
    "\n",
    "cn.close()"
   ]
  },
  {
   "cell_type": "markdown",
   "id": "surprising-bundle",
   "metadata": {},
   "source": [
    "#### 40000"
   ]
  },
  {
   "cell_type": "code",
   "execution_count": null,
   "id": "sharp-video",
   "metadata": {},
   "outputs": [],
   "source": []
  },
  {
   "cell_type": "code",
   "execution_count": 35,
   "id": "fuzzy-delivery",
   "metadata": {},
   "outputs": [
    {
     "data": {
      "text/plain": [
       "(25,\n",
       " 'Cherche les années de naissances (dbo)',\n",
       " 'Cherche les années de naissances (dbo)\\r\\n40000 (max)',\n",
       " None,\n",
       " 'https://dbpedia.org/sparql',\n",
       " 'PREFIX  dbo:  <http://dbpedia.org/ontology/>\\r\\nPREFIX  dbp:  <http://dbpedia.org/property/>\\r\\nPREFIX  dbr:  <http://dbpedia.org/resource/>\\r\\nPREFIX  yago: <http://dbpedia.org/class/yago/>\\r\\n\\r\\nSELECT DISTINCT ?person ?birthYear\\r\\nWHERE\\r\\n  { ?person  dbo:birthYear  ?birthYear\\r\\n      { ?person  a                     yago:Intellectual109621545}\\r\\n  }\\r\\nORDER BY ?person\\r\\nOFFSET 30000 LIMIT 10000\\r\\n',\n",
       " None,\n",
       " '2021-06-17 13:34:56')"
      ]
     },
     "execution_count": 35,
     "metadata": {},
     "output_type": "execute_result"
    }
   ],
   "source": [
    "### Définir la ligne de la base de données à utiliser (inspécter préalablement la base de données)\n",
    "pk_query = 25\n",
    "\n",
    "# connnexion à la base de données\n",
    "original_db = 'data/intellectuels.db'\n",
    "conn = sql.connect(original_db)\n",
    "\n",
    "### exécuter la requëte sur la base de donées SQLite pour récupérer les valeurs que contient la ligne\n",
    "c = conn.cursor()\n",
    "c.execute('SELECT * FROM query WHERE pk_query = ?', [pk_query]) ### a list around argument is needed for a string longer then one\n",
    "#c.execute('SELECT * FROM query WHERE pk_query = 10')\n",
    "\n",
    "rc = c.fetchone()\n",
    "\n",
    "# fermer la connexion\n",
    "conn.close()\n",
    "\n",
    "# imprimer et inspecter le résultat\n",
    "rc"
   ]
  },
  {
   "cell_type": "code",
   "execution_count": 36,
   "id": "social-southeast",
   "metadata": {},
   "outputs": [
    {
     "name": "stdout",
     "output_type": "stream",
     "text": [
      "<class 'dict'>\n"
     ]
    }
   ],
   "source": [
    "qr = spqf.get_json_sparql_result(rc[4],rc[5])"
   ]
  },
  {
   "cell_type": "code",
   "execution_count": 37,
   "id": "american-contractor",
   "metadata": {},
   "outputs": [
    {
     "data": {
      "text/plain": [
       "3445"
      ]
     },
     "execution_count": 37,
     "metadata": {},
     "output_type": "execute_result"
    }
   ],
   "source": [
    "len(qr['results']['bindings'])"
   ]
  },
  {
   "cell_type": "code",
   "execution_count": 38,
   "id": "least-navigator",
   "metadata": {},
   "outputs": [],
   "source": [
    "# Transformer le résultat en liste en utilisant une autre fonction de la bibliothèque utilisateur\n",
    "r = [l for l in spqf.sparql_result_to_list(qr)]\n",
    "# r"
   ]
  },
  {
   "cell_type": "code",
   "execution_count": 39,
   "id": "another-support",
   "metadata": {},
   "outputs": [
    {
     "name": "stdout",
     "output_type": "stream",
     "text": [
      "3445\n"
     ]
    },
    {
     "data": {
      "text/plain": [
       "[['http://dbpedia.org/resource/T._M._Nair', '1868'],\n",
       " ['http://dbpedia.org/resource/T._M._Scanlon', '1940'],\n",
       " ['http://dbpedia.org/resource/T._Muthuswamy_Iyer', '1832'],\n",
       " ['http://dbpedia.org/resource/T._Nadaraja', '1917'],\n",
       " ['http://dbpedia.org/resource/T._Norman_Mansell', '1904']]"
      ]
     },
     "execution_count": 39,
     "metadata": {},
     "output_type": "execute_result"
    }
   ],
   "source": [
    "# inspecter une seule ligne de la liste (de listes)\n",
    "print(len(r))\n",
    "r[:5]"
   ]
  },
  {
   "cell_type": "code",
   "execution_count": 40,
   "id": "announced-satisfaction",
   "metadata": {},
   "outputs": [],
   "source": [
    "rl = [[l[0], 'http://dbpedia.org/ontology/birthYear', l[1], 'https://dbpedia.org/sparql', 1, 25 ] for l in r]"
   ]
  },
  {
   "cell_type": "code",
   "execution_count": 41,
   "id": "spread-jesus",
   "metadata": {},
   "outputs": [
    {
     "name": "stdout",
     "output_type": "stream",
     "text": [
      "3445\n"
     ]
    },
    {
     "data": {
      "text/plain": [
       "[['http://dbpedia.org/resource/T._M._Nair',\n",
       "  'http://dbpedia.org/ontology/birthYear',\n",
       "  '1868',\n",
       "  'https://dbpedia.org/sparql',\n",
       "  1,\n",
       "  25],\n",
       " ['http://dbpedia.org/resource/T._M._Scanlon',\n",
       "  'http://dbpedia.org/ontology/birthYear',\n",
       "  '1940',\n",
       "  'https://dbpedia.org/sparql',\n",
       "  1,\n",
       "  25],\n",
       " ['http://dbpedia.org/resource/T._Muthuswamy_Iyer',\n",
       "  'http://dbpedia.org/ontology/birthYear',\n",
       "  '1832',\n",
       "  'https://dbpedia.org/sparql',\n",
       "  1,\n",
       "  25]]"
      ]
     },
     "execution_count": 41,
     "metadata": {},
     "output_type": "execute_result"
    }
   ],
   "source": [
    "print(len(rl))\n",
    "rl[:3]"
   ]
  },
  {
   "cell_type": "code",
   "execution_count": 42,
   "id": "lonely-tournament",
   "metadata": {},
   "outputs": [],
   "source": [
    "#STOCKAGE\n",
    "db = 'data/intellectuels.db'\n",
    "cn = sql.connect(db)\n",
    "c = cn.cursor()\n",
    "\n",
    "# Insérer les données\n",
    "c.executemany(\"INSERT OR IGNORE INTO property (uri_entity, property, value, source, quality, fk_query_as_source) VALUES (?,?,?,?,?,?)\", rl)\n",
    "\n",
    "# valider l'insertion et fermer la base de données\n",
    "## DESACTIVÉ !!! cn.commit()\n",
    "\n",
    "cn.close()"
   ]
  },
  {
   "cell_type": "markdown",
   "id": "round-making",
   "metadata": {},
   "source": [
    "#### inspection"
   ]
  },
  {
   "cell_type": "code",
   "execution_count": 43,
   "id": "moral-breeding",
   "metadata": {},
   "outputs": [
    {
     "data": {
      "text/plain": [
       "[(33445, 'http://dbpedia.org/ontology/birthYear')]"
      ]
     },
     "execution_count": 43,
     "metadata": {},
     "output_type": "execute_result"
    }
   ],
   "source": [
    "# connnexion à la base de données\n",
    "cn = sql.connect(db)\n",
    "c = cn.cursor()\n",
    "\n",
    "### exécuter la requëte sur la base de donées SQLite pour récupérer les valeurs que contient la ligne\n",
    "c.execute('SELECT count(*) AS eff, property FROM property GROUP BY property')\n",
    "result_q = c.fetchall()\n",
    "\n",
    "# fermer la connexion\n",
    "cn.close()\n",
    "result_q[:30]"
   ]
  },
  {
   "cell_type": "markdown",
   "id": "domestic-beads",
   "metadata": {},
   "source": [
    "La requête 46 donne le même résultat ! birthyear OK !"
   ]
  },
  {
   "cell_type": "markdown",
   "id": "painted-property",
   "metadata": {},
   "source": [
    "### birthdate (dbo)"
   ]
  },
  {
   "cell_type": "markdown",
   "id": "waiting-evidence",
   "metadata": {},
   "source": [
    "#### 10000"
   ]
  },
  {
   "cell_type": "code",
   "execution_count": 44,
   "id": "polish-murder",
   "metadata": {},
   "outputs": [
    {
     "data": {
      "text/plain": [
       "(26,\n",
       " 'Cherche les dates de naissances (dbo)',\n",
       " 'Cherche les dates de naissances (dbo)\\r\\n10000',\n",
       " None,\n",
       " 'https://dbpedia.org/sparql',\n",
       " 'PREFIX  dbo:  <http://dbpedia.org/ontology/>\\r\\nPREFIX  dbp:  <http://dbpedia.org/property/>\\r\\nPREFIX  dbr:  <http://dbpedia.org/resource/>\\r\\nPREFIX  yago: <http://dbpedia.org/class/yago/>\\r\\n\\r\\nSELECT DISTINCT ?person ?birthDate\\r\\nWHERE\\r\\n  { ?person  dbo:birthDate  ?birthDate\\r\\n      { ?person  a                     yago:Intellectual109621545}\\r\\n  }\\r\\n ORDER BY ?person',\n",
       " None,\n",
       " '2021-06-17 13:51:31')"
      ]
     },
     "execution_count": 44,
     "metadata": {},
     "output_type": "execute_result"
    }
   ],
   "source": [
    "### Définir la ligne de la base de données à utiliser (inspécter préalablement la base de données)\n",
    "pk_query = 26\n",
    "\n",
    "# connnexion à la base de données\n",
    "original_db = 'data/intellectuels.db'\n",
    "conn = sql.connect(original_db)\n",
    "\n",
    "### exécuter la requëte sur la base de donées SQLite pour récupérer les valeurs que contient la ligne\n",
    "c = conn.cursor()\n",
    "c.execute('SELECT * FROM query WHERE pk_query = ?', [pk_query]) ### a list around argument is needed for a string longer then one\n",
    "#c.execute('SELECT * FROM query WHERE pk_query = 10')\n",
    "\n",
    "rc = c.fetchone()\n",
    "\n",
    "# fermer la connexion\n",
    "conn.close()\n",
    "\n",
    "# imprimer et inspecter le résultat\n",
    "rc"
   ]
  },
  {
   "cell_type": "code",
   "execution_count": 45,
   "id": "afraid-charter",
   "metadata": {},
   "outputs": [
    {
     "name": "stdout",
     "output_type": "stream",
     "text": [
      "<class 'dict'>\n"
     ]
    }
   ],
   "source": [
    "qr = spqf.get_json_sparql_result(rc[4],rc[5])"
   ]
  },
  {
   "cell_type": "code",
   "execution_count": 46,
   "id": "economic-chemistry",
   "metadata": {},
   "outputs": [
    {
     "data": {
      "text/plain": [
       "10000"
      ]
     },
     "execution_count": 46,
     "metadata": {},
     "output_type": "execute_result"
    }
   ],
   "source": [
    "len(qr['results']['bindings'])"
   ]
  },
  {
   "cell_type": "code",
   "execution_count": 47,
   "id": "third-current",
   "metadata": {},
   "outputs": [],
   "source": [
    "# Transformer le résultat en liste en utilisant une autre fonction de la bibliothèque utilisateur\n",
    "r = [l for l in spqf.sparql_result_to_list(qr)]\n",
    "# r"
   ]
  },
  {
   "cell_type": "code",
   "execution_count": 48,
   "id": "obvious-restriction",
   "metadata": {},
   "outputs": [
    {
     "name": "stdout",
     "output_type": "stream",
     "text": [
      "10000\n"
     ]
    },
    {
     "data": {
      "text/plain": [
       "[['http://dbpedia.org/resource/9th_Wonder', '1975-01-15'],\n",
       " [\"http://dbpedia.org/resource/A'Lelia_Bundles\", '1952-06-07'],\n",
       " ['http://dbpedia.org/resource/A.B.C._Whipple', '1918-07-15'],\n",
       " ['http://dbpedia.org/resource/A.G._Lafley', '1947-06-13'],\n",
       " ['http://dbpedia.org/resource/A.J._Han_Vinck', '1949-05-15']]"
      ]
     },
     "execution_count": 48,
     "metadata": {},
     "output_type": "execute_result"
    }
   ],
   "source": [
    "# inspecter une seule ligne de la liste (de listes)\n",
    "print(len(r))\n",
    "r[:5]"
   ]
  },
  {
   "cell_type": "code",
   "execution_count": 49,
   "id": "afraid-submission",
   "metadata": {},
   "outputs": [],
   "source": [
    "rl = [[l[0], 'http://dbpedia.org/ontology/birthDate', l[1], 'https://dbpedia.org/sparql', 1, 26 ] for l in r]"
   ]
  },
  {
   "cell_type": "code",
   "execution_count": 50,
   "id": "valued-ethics",
   "metadata": {},
   "outputs": [
    {
     "name": "stdout",
     "output_type": "stream",
     "text": [
      "10000\n"
     ]
    },
    {
     "data": {
      "text/plain": [
       "[['http://dbpedia.org/resource/9th_Wonder',\n",
       "  'http://dbpedia.org/ontology/birthDate',\n",
       "  '1975-01-15',\n",
       "  'https://dbpedia.org/sparql',\n",
       "  1,\n",
       "  26],\n",
       " [\"http://dbpedia.org/resource/A'Lelia_Bundles\",\n",
       "  'http://dbpedia.org/ontology/birthDate',\n",
       "  '1952-06-07',\n",
       "  'https://dbpedia.org/sparql',\n",
       "  1,\n",
       "  26],\n",
       " ['http://dbpedia.org/resource/A.B.C._Whipple',\n",
       "  'http://dbpedia.org/ontology/birthDate',\n",
       "  '1918-07-15',\n",
       "  'https://dbpedia.org/sparql',\n",
       "  1,\n",
       "  26]]"
      ]
     },
     "execution_count": 50,
     "metadata": {},
     "output_type": "execute_result"
    }
   ],
   "source": [
    "print(len(rl))\n",
    "rl[:3]"
   ]
  },
  {
   "cell_type": "code",
   "execution_count": 51,
   "id": "acceptable-magnitude",
   "metadata": {},
   "outputs": [],
   "source": [
    "#STOCKAGE\n",
    "db = 'data/intellectuels.db'\n",
    "cn = sql.connect(db)\n",
    "c = cn.cursor()\n",
    "\n",
    "# Insérer les données\n",
    "c.executemany(\"INSERT OR IGNORE INTO property (uri_entity, property, value, source, quality, fk_query_as_source) VALUES (?,?,?,?,?,?)\", rl)\n",
    "\n",
    "# valider l'insertion et fermer la base de données\n",
    "## DESACTIVÉ !!! cn.commit()\n",
    "\n",
    "cn.close()"
   ]
  },
  {
   "cell_type": "markdown",
   "id": "virtual-spine",
   "metadata": {},
   "source": [
    "#### 20000"
   ]
  },
  {
   "cell_type": "code",
   "execution_count": null,
   "id": "important-penetration",
   "metadata": {},
   "outputs": [],
   "source": []
  },
  {
   "cell_type": "code",
   "execution_count": 52,
   "id": "billion-interference",
   "metadata": {},
   "outputs": [
    {
     "data": {
      "text/plain": [
       "(27,\n",
       " 'Cherche les dates de naissances (dbo)',\n",
       " 'Cherche les dates de naissances (dbo)\\r\\n20000',\n",
       " None,\n",
       " 'https://dbpedia.org/sparql',\n",
       " 'PREFIX  dbo:  <http://dbpedia.org/ontology/>\\r\\nPREFIX  dbp:  <http://dbpedia.org/property/>\\r\\nPREFIX  dbr:  <http://dbpedia.org/resource/>\\r\\nPREFIX  yago: <http://dbpedia.org/class/yago/>\\r\\n\\r\\nSELECT DISTINCT ?person ?birthDate\\r\\nWHERE\\r\\n  { ?person  dbo:birthDate  ?birthDate\\r\\n      { ?person  a                     yago:Intellectual109621545}\\r\\n  }\\r\\nORDER BY ?person\\r\\nOFFSET 10000 LIMIT 10000\\r\\n',\n",
       " None,\n",
       " '2021-06-17 13:52:17')"
      ]
     },
     "execution_count": 52,
     "metadata": {},
     "output_type": "execute_result"
    }
   ],
   "source": [
    "### Définir la ligne de la base de données à utiliser (inspécter préalablement la base de données)\n",
    "pk_query = 27\n",
    "\n",
    "# connnexion à la base de données\n",
    "original_db = 'data/intellectuels.db'\n",
    "conn = sql.connect(original_db)\n",
    "\n",
    "### exécuter la requëte sur la base de donées SQLite pour récupérer les valeurs que contient la ligne\n",
    "c = conn.cursor()\n",
    "c.execute('SELECT * FROM query WHERE pk_query = ?', [pk_query]) ### a list around argument is needed for a string longer then one\n",
    "#c.execute('SELECT * FROM query WHERE pk_query = 10')\n",
    "\n",
    "rc = c.fetchone()\n",
    "\n",
    "# fermer la connexion\n",
    "conn.close()\n",
    "\n",
    "# imprimer et inspecter le résultat\n",
    "rc"
   ]
  },
  {
   "cell_type": "code",
   "execution_count": 53,
   "id": "egyptian-budget",
   "metadata": {},
   "outputs": [
    {
     "name": "stdout",
     "output_type": "stream",
     "text": [
      "<class 'dict'>\n"
     ]
    }
   ],
   "source": [
    "qr = spqf.get_json_sparql_result(rc[4],rc[5])"
   ]
  },
  {
   "cell_type": "code",
   "execution_count": 54,
   "id": "olympic-nepal",
   "metadata": {},
   "outputs": [
    {
     "data": {
      "text/plain": [
       "10000"
      ]
     },
     "execution_count": 54,
     "metadata": {},
     "output_type": "execute_result"
    }
   ],
   "source": [
    "len(qr['results']['bindings'])"
   ]
  },
  {
   "cell_type": "code",
   "execution_count": 55,
   "id": "plain-macro",
   "metadata": {},
   "outputs": [],
   "source": [
    "# Transformer le résultat en liste en utilisant une autre fonction de la bibliothèque utilisateur\n",
    "r = [l for l in spqf.sparql_result_to_list(qr)]\n",
    "# r"
   ]
  },
  {
   "cell_type": "code",
   "execution_count": 56,
   "id": "clinical-logistics",
   "metadata": {},
   "outputs": [
    {
     "name": "stdout",
     "output_type": "stream",
     "text": [
      "10000\n"
     ]
    },
    {
     "data": {
      "text/plain": [
       "[['http://dbpedia.org/resource/Brian_Linighan', '1973-11-02'],\n",
       " ['http://dbpedia.org/resource/Brian_Loughnane', '1957-11-11'],\n",
       " ['http://dbpedia.org/resource/Brian_M._Fagan', '1936-08-01'],\n",
       " ['http://dbpedia.org/resource/Brian_MacArthur', '1940-02-05'],\n",
       " ['http://dbpedia.org/resource/Brian_MacLellan', '1958-10-27']]"
      ]
     },
     "execution_count": 56,
     "metadata": {},
     "output_type": "execute_result"
    }
   ],
   "source": [
    "# inspecter une seule ligne de la liste (de listes)\n",
    "print(len(r))\n",
    "r[:5]"
   ]
  },
  {
   "cell_type": "code",
   "execution_count": 57,
   "id": "blocked-least",
   "metadata": {},
   "outputs": [],
   "source": [
    "rl = [[l[0], 'http://dbpedia.org/ontology/birthDate', l[1], 'https://dbpedia.org/sparql', 1, 27 ] for l in r]"
   ]
  },
  {
   "cell_type": "code",
   "execution_count": 58,
   "id": "operating-monitoring",
   "metadata": {},
   "outputs": [
    {
     "name": "stdout",
     "output_type": "stream",
     "text": [
      "10000\n"
     ]
    },
    {
     "data": {
      "text/plain": [
       "[['http://dbpedia.org/resource/Brian_Linighan',\n",
       "  'http://dbpedia.org/ontology/birthDate',\n",
       "  '1973-11-02',\n",
       "  'https://dbpedia.org/sparql',\n",
       "  1,\n",
       "  27],\n",
       " ['http://dbpedia.org/resource/Brian_Loughnane',\n",
       "  'http://dbpedia.org/ontology/birthDate',\n",
       "  '1957-11-11',\n",
       "  'https://dbpedia.org/sparql',\n",
       "  1,\n",
       "  27],\n",
       " ['http://dbpedia.org/resource/Brian_M._Fagan',\n",
       "  'http://dbpedia.org/ontology/birthDate',\n",
       "  '1936-08-01',\n",
       "  'https://dbpedia.org/sparql',\n",
       "  1,\n",
       "  27]]"
      ]
     },
     "execution_count": 58,
     "metadata": {},
     "output_type": "execute_result"
    }
   ],
   "source": [
    "print(len(rl))\n",
    "rl[:3]"
   ]
  },
  {
   "cell_type": "code",
   "execution_count": 59,
   "id": "assigned-welding",
   "metadata": {},
   "outputs": [],
   "source": [
    "#STOCKAGE\n",
    "db = 'data/intellectuels.db'\n",
    "cn = sql.connect(db)\n",
    "c = cn.cursor()\n",
    "\n",
    "# Insérer les données\n",
    "c.executemany(\"INSERT OR IGNORE INTO property (uri_entity, property, value, source, quality, fk_query_as_source) VALUES (?,?,?,?,?,?)\", rl)\n",
    "\n",
    "# valider l'insertion et fermer la base de données\n",
    "## DESACTIVÉ !!! cn.commit()\n",
    "\n",
    "cn.close()"
   ]
  },
  {
   "cell_type": "markdown",
   "id": "catholic-scope",
   "metadata": {},
   "source": [
    "#### 30000"
   ]
  },
  {
   "cell_type": "code",
   "execution_count": 60,
   "id": "middle-contents",
   "metadata": {},
   "outputs": [
    {
     "data": {
      "text/plain": [
       "(28,\n",
       " 'Cherche les dates de naissances (dbo)',\n",
       " 'Cherche les dates de naissances (dbo)\\r\\n30000',\n",
       " None,\n",
       " 'https://dbpedia.org/sparql',\n",
       " 'PREFIX  dbo:  <http://dbpedia.org/ontology/>\\r\\nPREFIX  dbp:  <http://dbpedia.org/property/>\\r\\nPREFIX  dbr:  <http://dbpedia.org/resource/>\\r\\nPREFIX  yago: <http://dbpedia.org/class/yago/>\\r\\n\\r\\nSELECT DISTINCT ?person ?birthDate\\r\\nWHERE\\r\\n  { ?person  dbo:birthDate  ?birthDate\\r\\n      { ?person  a                     yago:Intellectual109621545}\\r\\n  }\\r\\nORDER BY ?person\\r\\nOFFSET 20000 LIMIT 10000\\r\\n',\n",
       " None,\n",
       " '2021-06-17 13:52:26')"
      ]
     },
     "execution_count": 60,
     "metadata": {},
     "output_type": "execute_result"
    }
   ],
   "source": [
    "### Définir la ligne de la base de données à utiliser (inspécter préalablement la base de données)\n",
    "pk_query = 28\n",
    "\n",
    "# connnexion à la base de données\n",
    "original_db = 'data/intellectuels.db'\n",
    "conn = sql.connect(original_db)\n",
    "\n",
    "### exécuter la requëte sur la base de donées SQLite pour récupérer les valeurs que contient la ligne\n",
    "c = conn.cursor()\n",
    "c.execute('SELECT * FROM query WHERE pk_query = ?', [pk_query]) ### a list around argument is needed for a string longer then one\n",
    "#c.execute('SELECT * FROM query WHERE pk_query = 10')\n",
    "\n",
    "rc = c.fetchone()\n",
    "\n",
    "# fermer la connexion\n",
    "conn.close()\n",
    "\n",
    "# imprimer et inspecter le résultat\n",
    "rc"
   ]
  },
  {
   "cell_type": "code",
   "execution_count": 61,
   "id": "hairy-myrtle",
   "metadata": {},
   "outputs": [
    {
     "name": "stdout",
     "output_type": "stream",
     "text": [
      "<class 'dict'>\n"
     ]
    }
   ],
   "source": [
    "qr = spqf.get_json_sparql_result(rc[4],rc[5])"
   ]
  },
  {
   "cell_type": "code",
   "execution_count": 62,
   "id": "measured-messenger",
   "metadata": {},
   "outputs": [
    {
     "data": {
      "text/plain": [
       "10000"
      ]
     },
     "execution_count": 62,
     "metadata": {},
     "output_type": "execute_result"
    }
   ],
   "source": [
    "len(qr['results']['bindings'])"
   ]
  },
  {
   "cell_type": "code",
   "execution_count": 63,
   "id": "bottom-morrison",
   "metadata": {},
   "outputs": [],
   "source": [
    "# Transformer le résultat en liste en utilisant une autre fonction de la bibliothèque utilisateur\n",
    "r = [l for l in spqf.sparql_result_to_list(qr)]\n",
    "# r"
   ]
  },
  {
   "cell_type": "code",
   "execution_count": 64,
   "id": "found-essay",
   "metadata": {},
   "outputs": [],
   "source": [
    "rl = [[l[0], 'http://dbpedia.org/ontology/birthDate', l[1], 'https://dbpedia.org/sparql', 1, 28 ] for l in r]"
   ]
  },
  {
   "cell_type": "code",
   "execution_count": 65,
   "id": "handy-motion",
   "metadata": {},
   "outputs": [
    {
     "name": "stdout",
     "output_type": "stream",
     "text": [
      "10000\n"
     ]
    },
    {
     "data": {
      "text/plain": [
       "[['http://dbpedia.org/resource/Donny_George_Youkhanna',\n",
       "  'http://dbpedia.org/ontology/birthDate',\n",
       "  '1950-10-23',\n",
       "  'https://dbpedia.org/sparql',\n",
       "  1,\n",
       "  28],\n",
       " ['http://dbpedia.org/resource/Donny_Harrel',\n",
       "  'http://dbpedia.org/ontology/birthDate',\n",
       "  '1969-12-17',\n",
       "  'https://dbpedia.org/sparql',\n",
       "  1,\n",
       "  28],\n",
       " ['http://dbpedia.org/resource/Donny_Hathaway',\n",
       "  'http://dbpedia.org/ontology/birthDate',\n",
       "  '1945-10-01',\n",
       "  'https://dbpedia.org/sparql',\n",
       "  1,\n",
       "  28]]"
      ]
     },
     "execution_count": 65,
     "metadata": {},
     "output_type": "execute_result"
    }
   ],
   "source": [
    "print(len(rl))\n",
    "rl[:3]"
   ]
  },
  {
   "cell_type": "code",
   "execution_count": 66,
   "id": "funny-gasoline",
   "metadata": {},
   "outputs": [],
   "source": [
    "#STOCKAGE\n",
    "db = 'data/intellectuels.db'\n",
    "cn = sql.connect(db)\n",
    "c = cn.cursor()\n",
    "\n",
    "# Insérer les données\n",
    "c.executemany(\"INSERT OR IGNORE INTO property (uri_entity, property, value, source, quality, fk_query_as_source) VALUES (?,?,?,?,?,?)\", rl)\n",
    "\n",
    "# valider l'insertion et fermer la base de données\n",
    "## DESACTIVÉ !!! cn.commit()\n",
    "\n",
    "cn.close()"
   ]
  },
  {
   "cell_type": "markdown",
   "id": "typical-karen",
   "metadata": {},
   "source": [
    "#### 40000"
   ]
  },
  {
   "cell_type": "code",
   "execution_count": null,
   "id": "tropical-glass",
   "metadata": {},
   "outputs": [],
   "source": []
  },
  {
   "cell_type": "code",
   "execution_count": 67,
   "id": "quick-genre",
   "metadata": {},
   "outputs": [
    {
     "data": {
      "text/plain": [
       "(29,\n",
       " 'Cherche les dates de naissances (dbo)',\n",
       " 'Cherche les dates de naissances (dbo)\\r\\n40000',\n",
       " None,\n",
       " 'https://dbpedia.org/sparql',\n",
       " 'PREFIX  dbo:  <http://dbpedia.org/ontology/>\\r\\nPREFIX  dbp:  <http://dbpedia.org/property/>\\r\\nPREFIX  dbr:  <http://dbpedia.org/resource/>\\r\\nPREFIX  yago: <http://dbpedia.org/class/yago/>\\r\\n\\r\\nSELECT DISTINCT ?person ?birthDate\\r\\nWHERE\\r\\n  { ?person  dbo:birthDate  ?birthDate\\r\\n      { ?person  a                     yago:Intellectual109621545}\\r\\n  }\\r\\nORDER BY ?person\\r\\nOFFSET 30000 LIMIT 10000\\r\\n',\n",
       " None,\n",
       " '2021-06-17 13:52:39')"
      ]
     },
     "execution_count": 67,
     "metadata": {},
     "output_type": "execute_result"
    }
   ],
   "source": [
    "### Définir la ligne de la base de données à utiliser (inspécter préalablement la base de données)\n",
    "pk_query = 29\n",
    "\n",
    "# connnexion à la base de données\n",
    "original_db = 'data/intellectuels.db'\n",
    "conn = sql.connect(original_db)\n",
    "\n",
    "### exécuter la requëte sur la base de donées SQLite pour récupérer les valeurs que contient la ligne\n",
    "c = conn.cursor()\n",
    "c.execute('SELECT * FROM query WHERE pk_query = ?', [pk_query]) ### a list around argument is needed for a string longer then one\n",
    "#c.execute('SELECT * FROM query WHERE pk_query = 10')\n",
    "\n",
    "rc = c.fetchone()\n",
    "\n",
    "# fermer la connexion\n",
    "conn.close()\n",
    "\n",
    "# imprimer et inspecter le résultat\n",
    "rc"
   ]
  },
  {
   "cell_type": "code",
   "execution_count": 68,
   "id": "grave-oasis",
   "metadata": {},
   "outputs": [
    {
     "name": "stdout",
     "output_type": "stream",
     "text": [
      "<class 'dict'>\n"
     ]
    }
   ],
   "source": [
    "qr = spqf.get_json_sparql_result(rc[4],rc[5])"
   ]
  },
  {
   "cell_type": "code",
   "execution_count": 69,
   "id": "owned-disease",
   "metadata": {},
   "outputs": [
    {
     "data": {
      "text/plain": [
       "10000"
      ]
     },
     "execution_count": 69,
     "metadata": {},
     "output_type": "execute_result"
    }
   ],
   "source": [
    "len(qr['results']['bindings'])"
   ]
  },
  {
   "cell_type": "code",
   "execution_count": 70,
   "id": "dedicated-spyware",
   "metadata": {},
   "outputs": [],
   "source": [
    "# Transformer le résultat en liste en utilisant une autre fonction de la bibliothèque utilisateur\n",
    "r = [l for l in spqf.sparql_result_to_list(qr)]\n",
    "# r"
   ]
  },
  {
   "cell_type": "code",
   "execution_count": 71,
   "id": "utility-accessory",
   "metadata": {},
   "outputs": [
    {
     "name": "stdout",
     "output_type": "stream",
     "text": [
      "10000\n"
     ]
    },
    {
     "data": {
      "text/plain": [
       "[['http://dbpedia.org/resource/Gretchen_Albrecht', '1943-05-07'],\n",
       " ['http://dbpedia.org/resource/Gretchen_Barretto', '1970-03-06'],\n",
       " ['http://dbpedia.org/resource/Gretchen_Corbett', '1947-08-13'],\n",
       " ['http://dbpedia.org/resource/Gretchen_Cryer', '1935-10-17'],\n",
       " ['http://dbpedia.org/resource/Gretchen_Morgenson', '1956-01-02']]"
      ]
     },
     "execution_count": 71,
     "metadata": {},
     "output_type": "execute_result"
    }
   ],
   "source": [
    "# inspecter une seule ligne de la liste (de listes)\n",
    "print(len(r))\n",
    "r[:5]"
   ]
  },
  {
   "cell_type": "code",
   "execution_count": 72,
   "id": "seven-ordering",
   "metadata": {},
   "outputs": [],
   "source": [
    "rl = [[l[0], 'http://dbpedia.org/ontology/birthDate', l[1], 'https://dbpedia.org/sparql', 1, 29 ] for l in r]"
   ]
  },
  {
   "cell_type": "code",
   "execution_count": 73,
   "id": "detailed-board",
   "metadata": {},
   "outputs": [
    {
     "name": "stdout",
     "output_type": "stream",
     "text": [
      "10000\n"
     ]
    },
    {
     "data": {
      "text/plain": [
       "[['http://dbpedia.org/resource/Gretchen_Albrecht',\n",
       "  'http://dbpedia.org/ontology/birthDate',\n",
       "  '1943-05-07',\n",
       "  'https://dbpedia.org/sparql',\n",
       "  1,\n",
       "  29],\n",
       " ['http://dbpedia.org/resource/Gretchen_Barretto',\n",
       "  'http://dbpedia.org/ontology/birthDate',\n",
       "  '1970-03-06',\n",
       "  'https://dbpedia.org/sparql',\n",
       "  1,\n",
       "  29],\n",
       " ['http://dbpedia.org/resource/Gretchen_Corbett',\n",
       "  'http://dbpedia.org/ontology/birthDate',\n",
       "  '1947-08-13',\n",
       "  'https://dbpedia.org/sparql',\n",
       "  1,\n",
       "  29]]"
      ]
     },
     "execution_count": 73,
     "metadata": {},
     "output_type": "execute_result"
    }
   ],
   "source": [
    "print(len(rl))\n",
    "rl[:3]"
   ]
  },
  {
   "cell_type": "code",
   "execution_count": 74,
   "id": "informational-pound",
   "metadata": {},
   "outputs": [],
   "source": [
    "#STOCKAGE\n",
    "db = 'data/intellectuels.db'\n",
    "cn = sql.connect(db)\n",
    "c = cn.cursor()\n",
    "\n",
    "# Insérer les données\n",
    "c.executemany(\"INSERT OR IGNORE INTO property (uri_entity, property, value, source, quality, fk_query_as_source) VALUES (?,?,?,?,?,?)\", rl)\n",
    "\n",
    "# valider l'insertion et fermer la base de données\n",
    "## DESACTIVÉ !!! cn.commit()\n",
    "\n",
    "cn.close()"
   ]
  },
  {
   "cell_type": "markdown",
   "id": "compatible-colony",
   "metadata": {},
   "source": [
    "#### 50000"
   ]
  },
  {
   "cell_type": "code",
   "execution_count": null,
   "id": "turned-girlfriend",
   "metadata": {},
   "outputs": [],
   "source": []
  },
  {
   "cell_type": "code",
   "execution_count": 75,
   "id": "needed-affect",
   "metadata": {},
   "outputs": [
    {
     "data": {
      "text/plain": [
       "(30,\n",
       " 'Cherche les dates de naissances (dbo)',\n",
       " 'Cherche les dates de naissances (dbo)\\r\\n50000',\n",
       " None,\n",
       " 'https://dbpedia.org/sparql',\n",
       " 'PREFIX  dbo:  <http://dbpedia.org/ontology/>\\r\\nPREFIX  dbp:  <http://dbpedia.org/property/>\\r\\nPREFIX  dbr:  <http://dbpedia.org/resource/>\\r\\nPREFIX  yago: <http://dbpedia.org/class/yago/>\\r\\n\\r\\nSELECT DISTINCT  ?person ?birthDate \\r\\n WHERE \\r\\n   {\\r\\n     {\\r\\n       SELECT DISTINCT ?person ?birthDate \\r\\nWHERE \\r\\n             { ?person  dbo:birthDate ?birthDate\\r\\n                {?person  a                     yago:Intellectual109621545}\\r\\n             } \\r\\n       ORDER BY ?person \\r\\n     }\\r\\n   } \\r\\nOFFSET 40000 LIMIT 10000',\n",
       " None,\n",
       " '2021-06-17 13:56:57')"
      ]
     },
     "execution_count": 75,
     "metadata": {},
     "output_type": "execute_result"
    }
   ],
   "source": [
    "### Définir la ligne de la base de données à utiliser (inspécter préalablement la base de données)\n",
    "pk_query = 30\n",
    "\n",
    "# connnexion à la base de données\n",
    "original_db = 'data/intellectuels.db'\n",
    "conn = sql.connect(original_db)\n",
    "\n",
    "### exécuter la requëte sur la base de donées SQLite pour récupérer les valeurs que contient la ligne\n",
    "c = conn.cursor()\n",
    "c.execute('SELECT * FROM query WHERE pk_query = ?', [pk_query]) ### a list around argument is needed for a string longer then one\n",
    "#c.execute('SELECT * FROM query WHERE pk_query = 10')\n",
    "\n",
    "rc = c.fetchone()\n",
    "\n",
    "# fermer la connexion\n",
    "conn.close()\n",
    "\n",
    "# imprimer et inspecter le résultat\n",
    "rc"
   ]
  },
  {
   "cell_type": "code",
   "execution_count": 76,
   "id": "upper-merchant",
   "metadata": {},
   "outputs": [
    {
     "name": "stdout",
     "output_type": "stream",
     "text": [
      "<class 'dict'>\n"
     ]
    }
   ],
   "source": [
    "qr = spqf.get_json_sparql_result(rc[4],rc[5])"
   ]
  },
  {
   "cell_type": "code",
   "execution_count": 77,
   "id": "informed-providence",
   "metadata": {},
   "outputs": [
    {
     "data": {
      "text/plain": [
       "10000"
      ]
     },
     "execution_count": 77,
     "metadata": {},
     "output_type": "execute_result"
    }
   ],
   "source": [
    "len(qr['results']['bindings'])"
   ]
  },
  {
   "cell_type": "code",
   "execution_count": 78,
   "id": "white-bacteria",
   "metadata": {},
   "outputs": [],
   "source": [
    "# Transformer le résultat en liste en utilisant une autre fonction de la bibliothèque utilisateur\n",
    "r = [l for l in spqf.sparql_result_to_list(qr)]\n",
    "# r"
   ]
  },
  {
   "cell_type": "code",
   "execution_count": 79,
   "id": "grand-teens",
   "metadata": {},
   "outputs": [
    {
     "name": "stdout",
     "output_type": "stream",
     "text": [
      "10000\n"
     ]
    },
    {
     "data": {
      "text/plain": [
       "[['http://dbpedia.org/resource/Jiří_Bělohlávek', '1946-02-24'],\n",
       " ['http://dbpedia.org/resource/Jiří_Holík', '1944-07-09'],\n",
       " ['http://dbpedia.org/resource/Jiří_Stivín', '1942-11-23'],\n",
       " ['http://dbpedia.org/resource/Jiří_Traxler', '1912-03-12'],\n",
       " ['http://dbpedia.org/resource/Jiří_Šedivý', '1963-08-20']]"
      ]
     },
     "execution_count": 79,
     "metadata": {},
     "output_type": "execute_result"
    }
   ],
   "source": [
    "# inspecter une seule ligne de la liste (de listes)\n",
    "print(len(r))\n",
    "r[:5]"
   ]
  },
  {
   "cell_type": "code",
   "execution_count": 80,
   "id": "covered-compensation",
   "metadata": {},
   "outputs": [],
   "source": [
    "rl = [[l[0], 'http://dbpedia.org/ontology/birthDate', l[1], 'https://dbpedia.org/sparql', 1, 30 ] for l in r]"
   ]
  },
  {
   "cell_type": "code",
   "execution_count": 81,
   "id": "leading-union",
   "metadata": {},
   "outputs": [
    {
     "name": "stdout",
     "output_type": "stream",
     "text": [
      "10000\n"
     ]
    },
    {
     "data": {
      "text/plain": [
       "[['http://dbpedia.org/resource/Jiří_Bělohlávek',\n",
       "  'http://dbpedia.org/ontology/birthDate',\n",
       "  '1946-02-24',\n",
       "  'https://dbpedia.org/sparql',\n",
       "  1,\n",
       "  30],\n",
       " ['http://dbpedia.org/resource/Jiří_Holík',\n",
       "  'http://dbpedia.org/ontology/birthDate',\n",
       "  '1944-07-09',\n",
       "  'https://dbpedia.org/sparql',\n",
       "  1,\n",
       "  30],\n",
       " ['http://dbpedia.org/resource/Jiří_Stivín',\n",
       "  'http://dbpedia.org/ontology/birthDate',\n",
       "  '1942-11-23',\n",
       "  'https://dbpedia.org/sparql',\n",
       "  1,\n",
       "  30]]"
      ]
     },
     "execution_count": 81,
     "metadata": {},
     "output_type": "execute_result"
    }
   ],
   "source": [
    "print(len(rl))\n",
    "rl[:3]"
   ]
  },
  {
   "cell_type": "code",
   "execution_count": 82,
   "id": "optical-cricket",
   "metadata": {},
   "outputs": [],
   "source": [
    "#STOCKAGE\n",
    "db = 'data/intellectuels.db'\n",
    "cn = sql.connect(db)\n",
    "c = cn.cursor()\n",
    "\n",
    "# Insérer les données\n",
    "c.executemany(\"INSERT OR IGNORE INTO property (uri_entity, property, value, source, quality, fk_query_as_source) VALUES (?,?,?,?,?,?)\", rl)\n",
    "\n",
    "# valider l'insertion et fermer la base de données\n",
    "## DESACTIVÉ !!! cn.commit()\n",
    "\n",
    "cn.close()"
   ]
  },
  {
   "cell_type": "markdown",
   "id": "advance-release",
   "metadata": {},
   "source": [
    "#### 60000"
   ]
  },
  {
   "cell_type": "code",
   "execution_count": null,
   "id": "social-range",
   "metadata": {},
   "outputs": [],
   "source": []
  },
  {
   "cell_type": "code",
   "execution_count": 83,
   "id": "straight-revision",
   "metadata": {},
   "outputs": [
    {
     "data": {
      "text/plain": [
       "(31,\n",
       " 'Cherche les dates de naissances (dbo)',\n",
       " 'Cherche les dates de naissances (dbo)\\r\\n60000',\n",
       " None,\n",
       " 'https://dbpedia.org/sparql',\n",
       " 'PREFIX  dbo:  <http://dbpedia.org/ontology/>\\r\\nPREFIX  dbp:  <http://dbpedia.org/property/>\\r\\nPREFIX  dbr:  <http://dbpedia.org/resource/>\\r\\nPREFIX  yago: <http://dbpedia.org/class/yago/>\\r\\n\\r\\nSELECT DISTINCT  ?person ?birthDate \\r\\n WHERE \\r\\n   {\\r\\n     {\\r\\n       SELECT DISTINCT ?person ?birthDate \\r\\nWHERE \\r\\n             { ?person  dbo:birthDate ?birthDate\\r\\n                {?person  a                     yago:Intellectual109621545}\\r\\n             } \\r\\n       ORDER BY ?person \\r\\n     }\\r\\n   } \\r\\nOFFSET 50000 LIMIT 10000',\n",
       " None,\n",
       " '2021-06-17 13:57:04')"
      ]
     },
     "execution_count": 83,
     "metadata": {},
     "output_type": "execute_result"
    }
   ],
   "source": [
    "### Définir la ligne de la base de données à utiliser (inspécter préalablement la base de données)\n",
    "pk_query = 31\n",
    "\n",
    "# connnexion à la base de données\n",
    "original_db = 'data/intellectuels.db'\n",
    "conn = sql.connect(original_db)\n",
    "\n",
    "### exécuter la requëte sur la base de donées SQLite pour récupérer les valeurs que contient la ligne\n",
    "c = conn.cursor()\n",
    "c.execute('SELECT * FROM query WHERE pk_query = ?', [pk_query]) ### a list around argument is needed for a string longer then one\n",
    "#c.execute('SELECT * FROM query WHERE pk_query = 10')\n",
    "\n",
    "rc = c.fetchone()\n",
    "\n",
    "# fermer la connexion\n",
    "conn.close()\n",
    "\n",
    "# imprimer et inspecter le résultat\n",
    "rc"
   ]
  },
  {
   "cell_type": "code",
   "execution_count": 84,
   "id": "separated-charm",
   "metadata": {},
   "outputs": [
    {
     "name": "stdout",
     "output_type": "stream",
     "text": [
      "<class 'dict'>\n"
     ]
    }
   ],
   "source": [
    "qr = spqf.get_json_sparql_result(rc[4],rc[5])"
   ]
  },
  {
   "cell_type": "code",
   "execution_count": 85,
   "id": "focused-lexington",
   "metadata": {},
   "outputs": [
    {
     "data": {
      "text/plain": [
       "10000"
      ]
     },
     "execution_count": 85,
     "metadata": {},
     "output_type": "execute_result"
    }
   ],
   "source": [
    "len(qr['results']['bindings'])"
   ]
  },
  {
   "cell_type": "code",
   "execution_count": 86,
   "id": "tribal-omaha",
   "metadata": {},
   "outputs": [],
   "source": [
    "# Transformer le résultat en liste en utilisant une autre fonction de la bibliothèque utilisateur\n",
    "r = [l for l in spqf.sparql_result_to_list(qr)]\n",
    "# r"
   ]
  },
  {
   "cell_type": "code",
   "execution_count": 87,
   "id": "adverse-bonus",
   "metadata": {},
   "outputs": [
    {
     "name": "stdout",
     "output_type": "stream",
     "text": [
      "10000\n"
     ]
    },
    {
     "data": {
      "text/plain": [
       "[['http://dbpedia.org/resource/Lemuel_Williams', '1747-06-18'],\n",
       " ['http://dbpedia.org/resource/Len_Andrews', '1888-12-09'],\n",
       " ['http://dbpedia.org/resource/Len_Barnum', '1912-09-18'],\n",
       " ['http://dbpedia.org/resource/Len_Berman', '1947-06-14'],\n",
       " ['http://dbpedia.org/resource/Len_Deighton', '1929-02-18']]"
      ]
     },
     "execution_count": 87,
     "metadata": {},
     "output_type": "execute_result"
    }
   ],
   "source": [
    "# inspecter une seule ligne de la liste (de listes)\n",
    "print(len(r))\n",
    "r[:5]"
   ]
  },
  {
   "cell_type": "code",
   "execution_count": 88,
   "id": "domestic-division",
   "metadata": {},
   "outputs": [],
   "source": [
    "rl = [[l[0], 'http://dbpedia.org/ontology/birthDate', l[1], 'https://dbpedia.org/sparql', 1, 31 ] for l in r]"
   ]
  },
  {
   "cell_type": "code",
   "execution_count": 89,
   "id": "functional-billy",
   "metadata": {},
   "outputs": [
    {
     "name": "stdout",
     "output_type": "stream",
     "text": [
      "10000\n"
     ]
    },
    {
     "data": {
      "text/plain": [
       "[['http://dbpedia.org/resource/Lemuel_Williams',\n",
       "  'http://dbpedia.org/ontology/birthDate',\n",
       "  '1747-06-18',\n",
       "  'https://dbpedia.org/sparql',\n",
       "  1,\n",
       "  31],\n",
       " ['http://dbpedia.org/resource/Len_Andrews',\n",
       "  'http://dbpedia.org/ontology/birthDate',\n",
       "  '1888-12-09',\n",
       "  'https://dbpedia.org/sparql',\n",
       "  1,\n",
       "  31],\n",
       " ['http://dbpedia.org/resource/Len_Barnum',\n",
       "  'http://dbpedia.org/ontology/birthDate',\n",
       "  '1912-09-18',\n",
       "  'https://dbpedia.org/sparql',\n",
       "  1,\n",
       "  31]]"
      ]
     },
     "execution_count": 89,
     "metadata": {},
     "output_type": "execute_result"
    }
   ],
   "source": [
    "print(len(rl))\n",
    "rl[:3]"
   ]
  },
  {
   "cell_type": "code",
   "execution_count": 90,
   "id": "closing-bones",
   "metadata": {},
   "outputs": [],
   "source": [
    "#STOCKAGE\n",
    "db = 'data/intellectuels.db'\n",
    "cn = sql.connect(db)\n",
    "c = cn.cursor()\n",
    "\n",
    "# Insérer les données\n",
    "c.executemany(\"INSERT OR IGNORE INTO property (uri_entity, property, value, source, quality, fk_query_as_source) VALUES (?,?,?,?,?,?)\", rl)\n",
    "\n",
    "# valider l'insertion et fermer la base de données\n",
    "## DESACTIVÉ !!! cn.commit()\n",
    "\n",
    "cn.close()"
   ]
  },
  {
   "cell_type": "markdown",
   "id": "chinese-covering",
   "metadata": {},
   "source": [
    "#### 70000"
   ]
  },
  {
   "cell_type": "code",
   "execution_count": null,
   "id": "negative-championship",
   "metadata": {},
   "outputs": [],
   "source": []
  },
  {
   "cell_type": "code",
   "execution_count": 91,
   "id": "polished-tamil",
   "metadata": {},
   "outputs": [
    {
     "data": {
      "text/plain": [
       "(32,\n",
       " 'Cherche les dates de naissances (dbo)',\n",
       " 'Cherche les dates de naissances (dbo)\\r\\n70000',\n",
       " None,\n",
       " 'https://dbpedia.org/sparql',\n",
       " 'PREFIX  dbo:  <http://dbpedia.org/ontology/>\\r\\nPREFIX  dbp:  <http://dbpedia.org/property/>\\r\\nPREFIX  dbr:  <http://dbpedia.org/resource/>\\r\\nPREFIX  yago: <http://dbpedia.org/class/yago/>\\r\\n\\r\\nSELECT DISTINCT  ?person ?birthDate \\r\\n WHERE \\r\\n   {\\r\\n     {\\r\\n       SELECT DISTINCT ?person ?birthDate \\r\\nWHERE \\r\\n             { ?person  dbo:birthDate ?birthDate\\r\\n                {?person  a                     yago:Intellectual109621545}\\r\\n             } \\r\\n       ORDER BY ?person \\r\\n     }\\r\\n   } \\r\\nOFFSET 60000 LIMIT 10000',\n",
       " None,\n",
       " '2021-06-17 13:57:26')"
      ]
     },
     "execution_count": 91,
     "metadata": {},
     "output_type": "execute_result"
    }
   ],
   "source": [
    "### Définir la ligne de la base de données à utiliser (inspécter préalablement la base de données)\n",
    "pk_query = 32\n",
    "\n",
    "# connnexion à la base de données\n",
    "original_db = 'data/intellectuels.db'\n",
    "conn = sql.connect(original_db)\n",
    "\n",
    "### exécuter la requëte sur la base de donées SQLite pour récupérer les valeurs que contient la ligne\n",
    "c = conn.cursor()\n",
    "c.execute('SELECT * FROM query WHERE pk_query = ?', [pk_query]) ### a list around argument is needed for a string longer then one\n",
    "#c.execute('SELECT * FROM query WHERE pk_query = 10')\n",
    "\n",
    "rc = c.fetchone()\n",
    "\n",
    "# fermer la connexion\n",
    "conn.close()\n",
    "\n",
    "# imprimer et inspecter le résultat\n",
    "rc"
   ]
  },
  {
   "cell_type": "code",
   "execution_count": 92,
   "id": "gentle-director",
   "metadata": {},
   "outputs": [
    {
     "name": "stdout",
     "output_type": "stream",
     "text": [
      "<class 'dict'>\n"
     ]
    }
   ],
   "source": [
    "qr = spqf.get_json_sparql_result(rc[4],rc[5])"
   ]
  },
  {
   "cell_type": "code",
   "execution_count": 93,
   "id": "postal-smooth",
   "metadata": {},
   "outputs": [
    {
     "data": {
      "text/plain": [
       "10000"
      ]
     },
     "execution_count": 93,
     "metadata": {},
     "output_type": "execute_result"
    }
   ],
   "source": [
    "len(qr['results']['bindings'])"
   ]
  },
  {
   "cell_type": "code",
   "execution_count": 94,
   "id": "mysterious-outreach",
   "metadata": {},
   "outputs": [],
   "source": [
    "# Transformer le résultat en liste en utilisant une autre fonction de la bibliothèque utilisateur\n",
    "r = [l for l in spqf.sparql_result_to_list(qr)]\n",
    "# r"
   ]
  },
  {
   "cell_type": "code",
   "execution_count": 95,
   "id": "sixth-jimmy",
   "metadata": {},
   "outputs": [
    {
     "name": "stdout",
     "output_type": "stream",
     "text": [
      "10000\n"
     ]
    },
    {
     "data": {
      "text/plain": [
       "[['http://dbpedia.org/resource/Neil_McPherson_(artistic_director)',\n",
       "  '1969-10-07'],\n",
       " ['http://dbpedia.org/resource/Neil_Megson_(soccer)', '1962-07-27'],\n",
       " ['http://dbpedia.org/resource/Neil_Morrissey', '1962-07-04'],\n",
       " [\"http://dbpedia.org/resource/Neil_O'Brien\", '1978-11-06'],\n",
       " [\"http://dbpedia.org/resource/Neil_O'Leary\", '1958-10-10']]"
      ]
     },
     "execution_count": 95,
     "metadata": {},
     "output_type": "execute_result"
    }
   ],
   "source": [
    "# inspecter une seule ligne de la liste (de listes)\n",
    "print(len(r))\n",
    "r[:5]"
   ]
  },
  {
   "cell_type": "code",
   "execution_count": 96,
   "id": "motivated-charlotte",
   "metadata": {},
   "outputs": [],
   "source": [
    "rl = [[l[0], 'http://dbpedia.org/ontology/birthDate', l[1], 'https://dbpedia.org/sparql', 1, 32 ] for l in r]"
   ]
  },
  {
   "cell_type": "code",
   "execution_count": 97,
   "id": "naked-skating",
   "metadata": {},
   "outputs": [
    {
     "name": "stdout",
     "output_type": "stream",
     "text": [
      "10000\n"
     ]
    },
    {
     "data": {
      "text/plain": [
       "[['http://dbpedia.org/resource/Neil_McPherson_(artistic_director)',\n",
       "  'http://dbpedia.org/ontology/birthDate',\n",
       "  '1969-10-07',\n",
       "  'https://dbpedia.org/sparql',\n",
       "  1,\n",
       "  32],\n",
       " ['http://dbpedia.org/resource/Neil_Megson_(soccer)',\n",
       "  'http://dbpedia.org/ontology/birthDate',\n",
       "  '1962-07-27',\n",
       "  'https://dbpedia.org/sparql',\n",
       "  1,\n",
       "  32],\n",
       " ['http://dbpedia.org/resource/Neil_Morrissey',\n",
       "  'http://dbpedia.org/ontology/birthDate',\n",
       "  '1962-07-04',\n",
       "  'https://dbpedia.org/sparql',\n",
       "  1,\n",
       "  32]]"
      ]
     },
     "execution_count": 97,
     "metadata": {},
     "output_type": "execute_result"
    }
   ],
   "source": [
    "print(len(rl))\n",
    "rl[:3]"
   ]
  },
  {
   "cell_type": "code",
   "execution_count": 98,
   "id": "weekly-triumph",
   "metadata": {},
   "outputs": [],
   "source": [
    "#STOCKAGE\n",
    "db = 'data/intellectuels.db'\n",
    "cn = sql.connect(db)\n",
    "c = cn.cursor()\n",
    "\n",
    "# Insérer les données\n",
    "c.executemany(\"INSERT OR IGNORE INTO property (uri_entity, property, value, source, quality, fk_query_as_source) VALUES (?,?,?,?,?,?)\", rl)\n",
    "\n",
    "# valider l'insertion et fermer la base de données\n",
    "## DESACTIVÉ !!! cn.commit()\n",
    "\n",
    "cn.close()"
   ]
  },
  {
   "cell_type": "markdown",
   "id": "alert-notebook",
   "metadata": {},
   "source": [
    "#### 80000"
   ]
  },
  {
   "cell_type": "code",
   "execution_count": 99,
   "id": "adjusted-islam",
   "metadata": {},
   "outputs": [
    {
     "data": {
      "text/plain": [
       "(33,\n",
       " 'Cherche les dates de naissances (dbo)',\n",
       " 'Cherche les dates de naissances (dbo)\\r\\n80000',\n",
       " None,\n",
       " 'https://dbpedia.org/sparql',\n",
       " 'PREFIX  dbo:  <http://dbpedia.org/ontology/>\\r\\nPREFIX  dbp:  <http://dbpedia.org/property/>\\r\\nPREFIX  dbr:  <http://dbpedia.org/resource/>\\r\\nPREFIX  yago: <http://dbpedia.org/class/yago/>\\r\\n\\r\\nSELECT DISTINCT  ?person ?birthDate \\r\\n WHERE \\r\\n   {\\r\\n     {\\r\\n       SELECT DISTINCT ?person ?birthDate \\r\\nWHERE \\r\\n             { ?person  dbo:birthDate ?birthDate\\r\\n                {?person  a                     yago:Intellectual109621545}\\r\\n             } \\r\\n       ORDER BY ?person \\r\\n     }\\r\\n   } \\r\\nOFFSET 70000 LIMIT 10000',\n",
       " None,\n",
       " '2021-06-17 13:57:42')"
      ]
     },
     "execution_count": 99,
     "metadata": {},
     "output_type": "execute_result"
    }
   ],
   "source": [
    "### Définir la ligne de la base de données à utiliser (inspécter préalablement la base de données)\n",
    "pk_query = 33\n",
    "\n",
    "# connnexion à la base de données\n",
    "original_db = 'data/intellectuels.db'\n",
    "conn = sql.connect(original_db)\n",
    "\n",
    "### exécuter la requëte sur la base de donées SQLite pour récupérer les valeurs que contient la ligne\n",
    "c = conn.cursor()\n",
    "c.execute('SELECT * FROM query WHERE pk_query = ?', [pk_query]) ### a list around argument is needed for a string longer then one\n",
    "#c.execute('SELECT * FROM query WHERE pk_query = 10')\n",
    "\n",
    "rc = c.fetchone()\n",
    "\n",
    "# fermer la connexion\n",
    "conn.close()\n",
    "\n",
    "# imprimer et inspecter le résultat\n",
    "rc"
   ]
  },
  {
   "cell_type": "code",
   "execution_count": 100,
   "id": "stuck-messenger",
   "metadata": {},
   "outputs": [
    {
     "name": "stdout",
     "output_type": "stream",
     "text": [
      "<class 'dict'>\n"
     ]
    }
   ],
   "source": [
    "qr = spqf.get_json_sparql_result(rc[4],rc[5])"
   ]
  },
  {
   "cell_type": "code",
   "execution_count": 101,
   "id": "functional-flower",
   "metadata": {},
   "outputs": [
    {
     "data": {
      "text/plain": [
       "10000"
      ]
     },
     "execution_count": 101,
     "metadata": {},
     "output_type": "execute_result"
    }
   ],
   "source": [
    "len(qr['results']['bindings'])"
   ]
  },
  {
   "cell_type": "code",
   "execution_count": 102,
   "id": "portuguese-longitude",
   "metadata": {},
   "outputs": [],
   "source": [
    "# Transformer le résultat en liste en utilisant une autre fonction de la bibliothèque utilisateur\n",
    "r = [l for l in spqf.sparql_result_to_list(qr)]\n",
    "# r"
   ]
  },
  {
   "cell_type": "code",
   "execution_count": 103,
   "id": "immune-burning",
   "metadata": {},
   "outputs": [
    {
     "name": "stdout",
     "output_type": "stream",
     "text": [
      "10000\n"
     ]
    },
    {
     "data": {
      "text/plain": [
       "[['http://dbpedia.org/resource/Roberto_Bisacco', '1938-03-01'],\n",
       " ['http://dbpedia.org/resource/Roberto_Bruce', '1979-07-30'],\n",
       " ['http://dbpedia.org/resource/Roberto_Calasso', '1941-05-30'],\n",
       " ['http://dbpedia.org/resource/Roberto_Cassá', '1948-09-12'],\n",
       " ['http://dbpedia.org/resource/Roberto_Castelli', '1946-07-12']]"
      ]
     },
     "execution_count": 103,
     "metadata": {},
     "output_type": "execute_result"
    }
   ],
   "source": [
    "# inspecter une seule ligne de la liste (de listes)\n",
    "print(len(r))\n",
    "r[:5]"
   ]
  },
  {
   "cell_type": "code",
   "execution_count": 104,
   "id": "interesting-mason",
   "metadata": {},
   "outputs": [],
   "source": [
    "rl = [[l[0], 'http://dbpedia.org/ontology/birthDate', l[1], 'https://dbpedia.org/sparql', 1, 33 ] for l in r]"
   ]
  },
  {
   "cell_type": "code",
   "execution_count": 105,
   "id": "animal-liberia",
   "metadata": {},
   "outputs": [
    {
     "name": "stdout",
     "output_type": "stream",
     "text": [
      "10000\n"
     ]
    },
    {
     "data": {
      "text/plain": [
       "[['http://dbpedia.org/resource/Roberto_Bisacco',\n",
       "  'http://dbpedia.org/ontology/birthDate',\n",
       "  '1938-03-01',\n",
       "  'https://dbpedia.org/sparql',\n",
       "  1,\n",
       "  33],\n",
       " ['http://dbpedia.org/resource/Roberto_Bruce',\n",
       "  'http://dbpedia.org/ontology/birthDate',\n",
       "  '1979-07-30',\n",
       "  'https://dbpedia.org/sparql',\n",
       "  1,\n",
       "  33],\n",
       " ['http://dbpedia.org/resource/Roberto_Calasso',\n",
       "  'http://dbpedia.org/ontology/birthDate',\n",
       "  '1941-05-30',\n",
       "  'https://dbpedia.org/sparql',\n",
       "  1,\n",
       "  33]]"
      ]
     },
     "execution_count": 105,
     "metadata": {},
     "output_type": "execute_result"
    }
   ],
   "source": [
    "print(len(rl))\n",
    "rl[:3]"
   ]
  },
  {
   "cell_type": "code",
   "execution_count": 106,
   "id": "rubber-portal",
   "metadata": {},
   "outputs": [],
   "source": [
    "#STOCKAGE\n",
    "db = 'data/intellectuels.db'\n",
    "cn = sql.connect(db)\n",
    "c = cn.cursor()\n",
    "\n",
    "# Insérer les données\n",
    "c.executemany(\"INSERT OR IGNORE INTO property (uri_entity, property, value, source, quality, fk_query_as_source) VALUES (?,?,?,?,?,?)\", rl)\n",
    "\n",
    "# valider l'insertion et fermer la base de données\n",
    "## DESACTIVÉ !!! cn.commit()\n",
    "\n",
    "cn.close()"
   ]
  },
  {
   "cell_type": "markdown",
   "id": "growing-requirement",
   "metadata": {},
   "source": [
    "#### 90000"
   ]
  },
  {
   "cell_type": "code",
   "execution_count": 107,
   "id": "terminal-lexington",
   "metadata": {},
   "outputs": [
    {
     "data": {
      "text/plain": [
       "(34,\n",
       " 'Cherche les dates de naissances (dbo)',\n",
       " 'Cherche les dates de naissances (dbo)\\r\\n90000 (max)',\n",
       " None,\n",
       " 'https://dbpedia.org/sparql',\n",
       " 'PREFIX  dbo:  <http://dbpedia.org/ontology/>\\r\\nPREFIX  dbp:  <http://dbpedia.org/property/>\\r\\nPREFIX  dbr:  <http://dbpedia.org/resource/>\\r\\nPREFIX  yago: <http://dbpedia.org/class/yago/>\\r\\n\\r\\nSELECT DISTINCT  ?person ?birthDate\\r\\n WHERE \\r\\n   {\\r\\n     {\\r\\n       SELECT DISTINCT ?person ?birthDate \\r\\nWHERE \\r\\n             { ?person  dbo:birthDate ?birthDate\\r\\n                {?person  a                     yago:Intellectual109621545}\\r\\n             } \\r\\n       ORDER BY ?person \\r\\n     }\\r\\n   } \\r\\nOFFSET 80000 LIMIT 10000',\n",
       " None,\n",
       " '2021-06-17 13:57:49')"
      ]
     },
     "execution_count": 107,
     "metadata": {},
     "output_type": "execute_result"
    }
   ],
   "source": [
    "### Définir la ligne de la base de données à utiliser (inspécter préalablement la base de données)\n",
    "pk_query = 34\n",
    "\n",
    "# connnexion à la base de données\n",
    "original_db = 'data/intellectuels.db'\n",
    "conn = sql.connect(original_db)\n",
    "\n",
    "### exécuter la requëte sur la base de donées SQLite pour récupérer les valeurs que contient la ligne\n",
    "c = conn.cursor()\n",
    "c.execute('SELECT * FROM query WHERE pk_query = ?', [pk_query]) ### a list around argument is needed for a string longer then one\n",
    "#c.execute('SELECT * FROM query WHERE pk_query = 10')\n",
    "\n",
    "rc = c.fetchone()\n",
    "\n",
    "# fermer la connexion\n",
    "conn.close()\n",
    "\n",
    "# imprimer et inspecter le résultat\n",
    "rc"
   ]
  },
  {
   "cell_type": "code",
   "execution_count": 108,
   "id": "described-venture",
   "metadata": {},
   "outputs": [
    {
     "name": "stdout",
     "output_type": "stream",
     "text": [
      "<class 'dict'>\n"
     ]
    }
   ],
   "source": [
    "qr = spqf.get_json_sparql_result(rc[4],rc[5])"
   ]
  },
  {
   "cell_type": "code",
   "execution_count": 109,
   "id": "essential-hours",
   "metadata": {},
   "outputs": [
    {
     "data": {
      "text/plain": [
       "6270"
      ]
     },
     "execution_count": 109,
     "metadata": {},
     "output_type": "execute_result"
    }
   ],
   "source": [
    "len(qr['results']['bindings'])"
   ]
  },
  {
   "cell_type": "code",
   "execution_count": 110,
   "id": "republican-personal",
   "metadata": {},
   "outputs": [],
   "source": [
    "# Transformer le résultat en liste en utilisant une autre fonction de la bibliothèque utilisateur\n",
    "r = [l for l in spqf.sparql_result_to_list(qr)]\n",
    "# r"
   ]
  },
  {
   "cell_type": "code",
   "execution_count": 111,
   "id": "corrected-return",
   "metadata": {},
   "outputs": [
    {
     "name": "stdout",
     "output_type": "stream",
     "text": [
      "6270\n"
     ]
    },
    {
     "data": {
      "text/plain": [
       "[['http://dbpedia.org/resource/Tomoyasu_Ando', '1974-05-23'],\n",
       " ['http://dbpedia.org/resource/Tomoyoshi_Ikeya', '1962-06-17'],\n",
       " ['http://dbpedia.org/resource/Tomoyuki_Arata', '1985-10-03'],\n",
       " ['http://dbpedia.org/resource/Tomoyuki_Furumaya', '1968-11-14'],\n",
       " ['http://dbpedia.org/resource/Tomás_Balduino', '1922-12-31']]"
      ]
     },
     "execution_count": 111,
     "metadata": {},
     "output_type": "execute_result"
    }
   ],
   "source": [
    "# inspecter une seule ligne de la liste (de listes)\n",
    "print(len(r))\n",
    "r[:5]"
   ]
  },
  {
   "cell_type": "code",
   "execution_count": 112,
   "id": "christian-career",
   "metadata": {},
   "outputs": [],
   "source": [
    "rl = [[l[0], 'http://dbpedia.org/ontology/birthDate', l[1], 'https://dbpedia.org/sparql', 1, 34 ] for l in r]"
   ]
  },
  {
   "cell_type": "code",
   "execution_count": 113,
   "id": "original-artwork",
   "metadata": {},
   "outputs": [
    {
     "name": "stdout",
     "output_type": "stream",
     "text": [
      "6270\n"
     ]
    },
    {
     "data": {
      "text/plain": [
       "[['http://dbpedia.org/resource/Tomoyasu_Ando',\n",
       "  'http://dbpedia.org/ontology/birthDate',\n",
       "  '1974-05-23',\n",
       "  'https://dbpedia.org/sparql',\n",
       "  1,\n",
       "  34],\n",
       " ['http://dbpedia.org/resource/Tomoyoshi_Ikeya',\n",
       "  'http://dbpedia.org/ontology/birthDate',\n",
       "  '1962-06-17',\n",
       "  'https://dbpedia.org/sparql',\n",
       "  1,\n",
       "  34],\n",
       " ['http://dbpedia.org/resource/Tomoyuki_Arata',\n",
       "  'http://dbpedia.org/ontology/birthDate',\n",
       "  '1985-10-03',\n",
       "  'https://dbpedia.org/sparql',\n",
       "  1,\n",
       "  34]]"
      ]
     },
     "execution_count": 113,
     "metadata": {},
     "output_type": "execute_result"
    }
   ],
   "source": [
    "print(len(rl))\n",
    "rl[:3]"
   ]
  },
  {
   "cell_type": "code",
   "execution_count": 114,
   "id": "agricultural-texas",
   "metadata": {},
   "outputs": [],
   "source": [
    "#STOCKAGE\n",
    "db = 'data/intellectuels.db'\n",
    "cn = sql.connect(db)\n",
    "c = cn.cursor()\n",
    "\n",
    "# Insérer les données\n",
    "c.executemany(\"INSERT OR IGNORE INTO property (uri_entity, property, value, source, quality, fk_query_as_source) VALUES (?,?,?,?,?,?)\", rl)\n",
    "\n",
    "# valider l'insertion et fermer la base de données\n",
    "## DESACTIVÉ !!! cn.commit()\n",
    "\n",
    "cn.close()"
   ]
  },
  {
   "cell_type": "markdown",
   "id": "empirical-injection",
   "metadata": {},
   "source": [
    "### birthdate (dbp)"
   ]
  },
  {
   "cell_type": "markdown",
   "id": "considerable-induction",
   "metadata": {},
   "source": [
    "#### 10000"
   ]
  },
  {
   "cell_type": "code",
   "execution_count": 116,
   "id": "applied-confusion",
   "metadata": {},
   "outputs": [
    {
     "data": {
      "text/plain": [
       "(35,\n",
       " 'Cherche les dates de naissances (dbp)',\n",
       " 'Cherche les dates de naissances (dbp)\\r\\n10000',\n",
       " None,\n",
       " 'https://dbpedia.org/sparql',\n",
       " 'PREFIX  dbo:  <http://dbpedia.org/ontology/>\\r\\nPREFIX  dbp:  <http://dbpedia.org/property/>\\r\\nPREFIX  dbr:  <http://dbpedia.org/resource/>\\r\\nPREFIX  yago: <http://dbpedia.org/class/yago/>\\r\\n\\r\\nSELECT DISTINCT ?person ?birthDate\\r\\nWHERE\\r\\n  { ?person  dbp:birthDate  ?birthDate\\r\\n      { ?person  a                     yago:Intellectual109621545}\\r\\n  }\\r\\n ORDER BY ?person',\n",
       " None,\n",
       " '2021-07-04 17:13:42')"
      ]
     },
     "execution_count": 116,
     "metadata": {},
     "output_type": "execute_result"
    }
   ],
   "source": [
    "### Définir la ligne de la base de données à utiliser (inspécter préalablement la base de données)\n",
    "pk_query = 35\n",
    "\n",
    "# connnexion à la base de données\n",
    "original_db = 'data/intellectuels.db'\n",
    "conn = sql.connect(original_db)\n",
    "\n",
    "### exécuter la requëte sur la base de donées SQLite pour récupérer les valeurs que contient la ligne\n",
    "c = conn.cursor()\n",
    "c.execute('SELECT * FROM query WHERE pk_query = ?', [pk_query]) ### a list around argument is needed for a string longer then one\n",
    "#c.execute('SELECT * FROM query WHERE pk_query = 10')\n",
    "\n",
    "rc = c.fetchone()\n",
    "\n",
    "# fermer la connexion\n",
    "conn.close()\n",
    "\n",
    "# imprimer et inspecter le résultat\n",
    "rc"
   ]
  },
  {
   "cell_type": "code",
   "execution_count": 117,
   "id": "disciplinary-collect",
   "metadata": {},
   "outputs": [
    {
     "name": "stdout",
     "output_type": "stream",
     "text": [
      "<class 'dict'>\n"
     ]
    }
   ],
   "source": [
    "qr = spqf.get_json_sparql_result(rc[4],rc[5])"
   ]
  },
  {
   "cell_type": "code",
   "execution_count": 118,
   "id": "white-bosnia",
   "metadata": {},
   "outputs": [
    {
     "data": {
      "text/plain": [
       "10000"
      ]
     },
     "execution_count": 118,
     "metadata": {},
     "output_type": "execute_result"
    }
   ],
   "source": [
    "len(qr['results']['bindings'])"
   ]
  },
  {
   "cell_type": "code",
   "execution_count": 119,
   "id": "white-boards",
   "metadata": {},
   "outputs": [],
   "source": [
    "# Transformer le résultat en liste en utilisant une autre fonction de la bibliothèque utilisateur\n",
    "r = [l for l in spqf.sparql_result_to_list(qr)]\n",
    "# r"
   ]
  },
  {
   "cell_type": "code",
   "execution_count": 120,
   "id": "entire-shooting",
   "metadata": {},
   "outputs": [
    {
     "name": "stdout",
     "output_type": "stream",
     "text": [
      "10000\n"
     ]
    },
    {
     "data": {
      "text/plain": [
       "[[\"http://dbpedia.org/resource/'Abd_al-'Aziz_al-Wafa'i\", '811'],\n",
       " ['http://dbpedia.org/resource/14th_Dalai_Lama', '1935-07-06'],\n",
       " ['http://dbpedia.org/resource/5th_Dalai_Lama', '1617'],\n",
       " ['http://dbpedia.org/resource/9th_Wonder', '1975-01-15'],\n",
       " [\"http://dbpedia.org/resource/A'Lelia_Bundles\", '1952-06-07']]"
      ]
     },
     "execution_count": 120,
     "metadata": {},
     "output_type": "execute_result"
    }
   ],
   "source": [
    "# inspecter une seule ligne de la liste (de listes)\n",
    "print(len(r))\n",
    "r[:5]"
   ]
  },
  {
   "cell_type": "code",
   "execution_count": 121,
   "id": "dental-preservation",
   "metadata": {},
   "outputs": [],
   "source": [
    "rl = [[l[0], 'http://dbpedia.org/property/birthDate', l[1], 'https://dbpedia.org/sparql', 1, 35 ] for l in r]"
   ]
  },
  {
   "cell_type": "markdown",
   "id": "assisted-harrison",
   "metadata": {},
   "source": [
    "print(len(rl))\n",
    "rl[:3]"
   ]
  },
  {
   "cell_type": "code",
   "execution_count": 123,
   "id": "empirical-grass",
   "metadata": {},
   "outputs": [],
   "source": [
    "#STOCKAGE\n",
    "db = 'data/intellectuels.db'\n",
    "cn = sql.connect(db)\n",
    "c = cn.cursor()\n",
    "\n",
    "# Insérer les données\n",
    "c.executemany(\"INSERT OR IGNORE INTO property (uri_entity, property, value, source, quality, fk_query_as_source) VALUES (?,?,?,?,?,?)\", rl)\n",
    "\n",
    "# valider l'insertion et fermer la base de données\n",
    "## DESACTIVÉ !!! cn.commit()\n",
    "\n",
    "cn.close()"
   ]
  },
  {
   "cell_type": "markdown",
   "id": "owned-companion",
   "metadata": {},
   "source": [
    "#### 20000"
   ]
  },
  {
   "cell_type": "code",
   "execution_count": 124,
   "id": "weighted-endorsement",
   "metadata": {},
   "outputs": [
    {
     "data": {
      "text/plain": [
       "(36,\n",
       " 'Cherche les dates de naissances (dbp)',\n",
       " 'Cherche les dates de naissances (dbp)\\r\\n20000',\n",
       " None,\n",
       " 'https://dbpedia.org/sparql',\n",
       " 'PREFIX  dbo:  <http://dbpedia.org/ontology/>\\r\\nPREFIX  dbp:  <http://dbpedia.org/property/>\\r\\nPREFIX  dbr:  <http://dbpedia.org/resource/>\\r\\nPREFIX  yago: <http://dbpedia.org/class/yago/>\\r\\n\\r\\nSELECT DISTINCT ?person ?birthDate\\r\\nWHERE\\r\\n  { ?person  dbp:birthDate  ?birthDate\\r\\n      { ?person  a                     yago:Intellectual109621545}\\r\\n  }\\r\\n ORDER BY ?person\\r\\n OFFSET 10000 LIMIT 10000\\r\\n ',\n",
       " None,\n",
       " '2021-07-04 19:19:54')"
      ]
     },
     "execution_count": 124,
     "metadata": {},
     "output_type": "execute_result"
    }
   ],
   "source": [
    "### Définir la ligne de la base de données à utiliser (inspécter préalablement la base de données)\n",
    "pk_query = 36\n",
    "\n",
    "# connnexion à la base de données\n",
    "original_db = 'data/intellectuels.db'\n",
    "conn = sql.connect(original_db)\n",
    "\n",
    "### exécuter la requëte sur la base de donées SQLite pour récupérer les valeurs que contient la ligne\n",
    "c = conn.cursor()\n",
    "c.execute('SELECT * FROM query WHERE pk_query = ?', [pk_query]) ### a list around argument is needed for a string longer then one\n",
    "#c.execute('SELECT * FROM query WHERE pk_query = 10')\n",
    "\n",
    "rc = c.fetchone()\n",
    "\n",
    "# fermer la connexion\n",
    "conn.close()\n",
    "\n",
    "# imprimer et inspecter le résultat\n",
    "rc"
   ]
  },
  {
   "cell_type": "code",
   "execution_count": 125,
   "id": "miniature-bryan",
   "metadata": {},
   "outputs": [
    {
     "name": "stdout",
     "output_type": "stream",
     "text": [
      "<class 'dict'>\n"
     ]
    }
   ],
   "source": [
    "qr = spqf.get_json_sparql_result(rc[4],rc[5])"
   ]
  },
  {
   "cell_type": "code",
   "execution_count": 126,
   "id": "identified-basics",
   "metadata": {},
   "outputs": [
    {
     "data": {
      "text/plain": [
       "10000"
      ]
     },
     "execution_count": 126,
     "metadata": {},
     "output_type": "execute_result"
    }
   ],
   "source": [
    "len(qr['results']['bindings'])"
   ]
  },
  {
   "cell_type": "code",
   "execution_count": 127,
   "id": "settled-soldier",
   "metadata": {},
   "outputs": [],
   "source": [
    "# Transformer le résultat en liste en utilisant une autre fonction de la bibliothèque utilisateur\n",
    "r = [l for l in spqf.sparql_result_to_list(qr)]\n",
    "# r"
   ]
  },
  {
   "cell_type": "code",
   "execution_count": 128,
   "id": "close-array",
   "metadata": {},
   "outputs": [
    {
     "name": "stdout",
     "output_type": "stream",
     "text": [
      "10000\n"
     ]
    },
    {
     "data": {
      "text/plain": [
       "[['http://dbpedia.org/resource/Bertram_Heyn', '1912-10-01'],\n",
       " ['http://dbpedia.org/resource/Bertram_J._Rodgers', '1894-03-18'],\n",
       " ['http://dbpedia.org/resource/Bertram_Kostant', '1928-05-24'],\n",
       " ['http://dbpedia.org/resource/Bertram_L._Podell', '1925-12-27'],\n",
       " ['http://dbpedia.org/resource/Bertram_Raphael', '1936-11-16']]"
      ]
     },
     "execution_count": 128,
     "metadata": {},
     "output_type": "execute_result"
    }
   ],
   "source": [
    "# inspecter une seule ligne de la liste (de listes)\n",
    "print(len(r))\n",
    "r[:5]"
   ]
  },
  {
   "cell_type": "code",
   "execution_count": 129,
   "id": "complimentary-crest",
   "metadata": {},
   "outputs": [],
   "source": [
    "rl = [[l[0], 'http://dbpedia.org/property/birthDate', l[1], 'https://dbpedia.org/sparql', 1, 36 ] for l in r]"
   ]
  },
  {
   "cell_type": "code",
   "execution_count": 130,
   "id": "empty-express",
   "metadata": {},
   "outputs": [
    {
     "name": "stdout",
     "output_type": "stream",
     "text": [
      "10000\n"
     ]
    },
    {
     "data": {
      "text/plain": [
       "[['http://dbpedia.org/resource/Bertram_Heyn',\n",
       "  'http://dbpedia.org/property/birthDate',\n",
       "  '1912-10-01',\n",
       "  'https://dbpedia.org/sparql',\n",
       "  1,\n",
       "  36],\n",
       " ['http://dbpedia.org/resource/Bertram_J._Rodgers',\n",
       "  'http://dbpedia.org/property/birthDate',\n",
       "  '1894-03-18',\n",
       "  'https://dbpedia.org/sparql',\n",
       "  1,\n",
       "  36],\n",
       " ['http://dbpedia.org/resource/Bertram_Kostant',\n",
       "  'http://dbpedia.org/property/birthDate',\n",
       "  '1928-05-24',\n",
       "  'https://dbpedia.org/sparql',\n",
       "  1,\n",
       "  36]]"
      ]
     },
     "execution_count": 130,
     "metadata": {},
     "output_type": "execute_result"
    }
   ],
   "source": [
    "print(len(rl))\n",
    "rl[:3]"
   ]
  },
  {
   "cell_type": "code",
   "execution_count": 131,
   "id": "particular-adobe",
   "metadata": {},
   "outputs": [],
   "source": [
    "#STOCKAGE\n",
    "db = 'data/intellectuels.db'\n",
    "cn = sql.connect(db)\n",
    "c = cn.cursor()\n",
    "\n",
    "# Insérer les données\n",
    "c.executemany(\"INSERT OR IGNORE INTO property (uri_entity, property, value, source, quality, fk_query_as_source) VALUES (?,?,?,?,?,?)\", rl)\n",
    "\n",
    "# valider l'insertion et fermer la base de données\n",
    "## DESACTIVÉ !!! cn.commit()\n",
    "\n",
    "cn.close()"
   ]
  },
  {
   "cell_type": "markdown",
   "id": "cellular-vermont",
   "metadata": {},
   "source": [
    "#### 30000"
   ]
  },
  {
   "cell_type": "code",
   "execution_count": 132,
   "id": "graphic-printer",
   "metadata": {},
   "outputs": [
    {
     "data": {
      "text/plain": [
       "(37,\n",
       " 'Cherche les dates de naissances (dbp)',\n",
       " 'Cherche les dates de naissances (dbp)\\r\\n30000',\n",
       " None,\n",
       " 'https://dbpedia.org/sparql',\n",
       " 'PREFIX  dbo:  <http://dbpedia.org/ontology/>\\r\\nPREFIX  dbp:  <http://dbpedia.org/property/>\\r\\nPREFIX  dbr:  <http://dbpedia.org/resource/>\\r\\nPREFIX  yago: <http://dbpedia.org/class/yago/>\\r\\n\\r\\nSELECT DISTINCT ?person ?birthDate\\r\\nWHERE\\r\\n  { ?person  dbp:birthDate  ?birthDate\\r\\n      { ?person  a                     yago:Intellectual109621545}\\r\\n  }\\r\\n ORDER BY ?person\\r\\n OFFSET 20000 LIMIT 10000\\r\\n ',\n",
       " None,\n",
       " '2021-07-04 19:19:54')"
      ]
     },
     "execution_count": 132,
     "metadata": {},
     "output_type": "execute_result"
    }
   ],
   "source": [
    "### Définir la ligne de la base de données à utiliser (inspécter préalablement la base de données)\n",
    "pk_query = 37\n",
    "\n",
    "# connnexion à la base de données\n",
    "original_db = 'data/intellectuels.db'\n",
    "conn = sql.connect(original_db)\n",
    "\n",
    "### exécuter la requëte sur la base de donées SQLite pour récupérer les valeurs que contient la ligne\n",
    "c = conn.cursor()\n",
    "c.execute('SELECT * FROM query WHERE pk_query = ?', [pk_query]) ### a list around argument is needed for a string longer then one\n",
    "#c.execute('SELECT * FROM query WHERE pk_query = 10')\n",
    "\n",
    "rc = c.fetchone()\n",
    "\n",
    "# fermer la connexion\n",
    "conn.close()\n",
    "\n",
    "# imprimer et inspecter le résultat\n",
    "rc"
   ]
  },
  {
   "cell_type": "code",
   "execution_count": 133,
   "id": "driving-maine",
   "metadata": {},
   "outputs": [
    {
     "name": "stdout",
     "output_type": "stream",
     "text": [
      "<class 'dict'>\n"
     ]
    }
   ],
   "source": [
    "qr = spqf.get_json_sparql_result(rc[4],rc[5])"
   ]
  },
  {
   "cell_type": "code",
   "execution_count": 134,
   "id": "quiet-economy",
   "metadata": {},
   "outputs": [
    {
     "data": {
      "text/plain": [
       "10000"
      ]
     },
     "execution_count": 134,
     "metadata": {},
     "output_type": "execute_result"
    }
   ],
   "source": [
    "len(qr['results']['bindings'])"
   ]
  },
  {
   "cell_type": "code",
   "execution_count": 135,
   "id": "parliamentary-kernel",
   "metadata": {},
   "outputs": [],
   "source": [
    "# Transformer le résultat en liste en utilisant une autre fonction de la bibliothèque utilisateur\n",
    "r = [l for l in spqf.sparql_result_to_list(qr)]\n",
    "# r"
   ]
  },
  {
   "cell_type": "code",
   "execution_count": 136,
   "id": "italic-executive",
   "metadata": {},
   "outputs": [
    {
     "name": "stdout",
     "output_type": "stream",
     "text": [
      "10000\n"
     ]
    },
    {
     "data": {
      "text/plain": [
       "[['http://dbpedia.org/resource/Dave_Price', '1966-10-18'],\n",
       " ['http://dbpedia.org/resource/Dave_Pureifory', '1949-07-12'],\n",
       " ['http://dbpedia.org/resource/Dave_Racaniello', '1978-06-03'],\n",
       " ['http://dbpedia.org/resource/Dave_Raggett', '1955-06-08'],\n",
       " ['http://dbpedia.org/resource/Dave_Ragone', '1979-10-03']]"
      ]
     },
     "execution_count": 136,
     "metadata": {},
     "output_type": "execute_result"
    }
   ],
   "source": [
    "# inspecter une seule ligne de la liste (de listes)\n",
    "print(len(r))\n",
    "r[:5]"
   ]
  },
  {
   "cell_type": "code",
   "execution_count": 137,
   "id": "olive-dialogue",
   "metadata": {},
   "outputs": [],
   "source": [
    "rl = [[l[0], 'http://dbpedia.org/property/birthDate', l[1], 'https://dbpedia.org/sparql', 1, 37 ] for l in r]"
   ]
  },
  {
   "cell_type": "code",
   "execution_count": 138,
   "id": "cardiac-failing",
   "metadata": {},
   "outputs": [
    {
     "name": "stdout",
     "output_type": "stream",
     "text": [
      "10000\n"
     ]
    },
    {
     "data": {
      "text/plain": [
       "[['http://dbpedia.org/resource/Dave_Price',\n",
       "  'http://dbpedia.org/property/birthDate',\n",
       "  '1966-10-18',\n",
       "  'https://dbpedia.org/sparql',\n",
       "  1,\n",
       "  37],\n",
       " ['http://dbpedia.org/resource/Dave_Pureifory',\n",
       "  'http://dbpedia.org/property/birthDate',\n",
       "  '1949-07-12',\n",
       "  'https://dbpedia.org/sparql',\n",
       "  1,\n",
       "  37],\n",
       " ['http://dbpedia.org/resource/Dave_Racaniello',\n",
       "  'http://dbpedia.org/property/birthDate',\n",
       "  '1978-06-03',\n",
       "  'https://dbpedia.org/sparql',\n",
       "  1,\n",
       "  37]]"
      ]
     },
     "execution_count": 138,
     "metadata": {},
     "output_type": "execute_result"
    }
   ],
   "source": [
    "print(len(rl))\n",
    "rl[:3]"
   ]
  },
  {
   "cell_type": "code",
   "execution_count": 139,
   "id": "altered-chinese",
   "metadata": {},
   "outputs": [],
   "source": [
    "#STOCKAGE\n",
    "db = 'data/intellectuels.db'\n",
    "cn = sql.connect(db)\n",
    "c = cn.cursor()\n",
    "\n",
    "# Insérer les données\n",
    "c.executemany(\"INSERT OR IGNORE INTO property (uri_entity, property, value, source, quality, fk_query_as_source) VALUES (?,?,?,?,?,?)\", rl)\n",
    "\n",
    "# valider l'insertion et fermer la base de données\n",
    "## DESACTIVÉ !!! cn.commit()\n",
    "\n",
    "cn.close()"
   ]
  },
  {
   "cell_type": "markdown",
   "id": "altered-agenda",
   "metadata": {},
   "source": [
    "#### 40000"
   ]
  },
  {
   "cell_type": "code",
   "execution_count": 140,
   "id": "virgin-arlington",
   "metadata": {},
   "outputs": [
    {
     "data": {
      "text/plain": [
       "(38,\n",
       " 'Cherche les dates de naissances (dbp)',\n",
       " 'Cherche les dates de naissances (dbp)\\r\\n40000',\n",
       " None,\n",
       " 'https://dbpedia.org/sparql',\n",
       " 'PREFIX  dbo:  <http://dbpedia.org/ontology/>\\r\\nPREFIX  dbp:  <http://dbpedia.org/property/>\\r\\nPREFIX  dbr:  <http://dbpedia.org/resource/>\\r\\nPREFIX  yago: <http://dbpedia.org/class/yago/>\\r\\n\\r\\nSELECT DISTINCT ?person ?birthDate\\r\\nWHERE\\r\\n  { ?person  dbp:birthDate  ?birthDate\\r\\n      { ?person  a                     yago:Intellectual109621545}\\r\\n  }\\r\\n ORDER BY ?person\\r\\n OFFSET 30000 LIMIT 10000\\r\\n ',\n",
       " None,\n",
       " '2021-07-04 19:19:55')"
      ]
     },
     "execution_count": 140,
     "metadata": {},
     "output_type": "execute_result"
    }
   ],
   "source": [
    "### Définir la ligne de la base de données à utiliser (inspécter préalablement la base de données)\n",
    "pk_query = 38\n",
    "\n",
    "# connnexion à la base de données\n",
    "original_db = 'data/intellectuels.db'\n",
    "conn = sql.connect(original_db)\n",
    "\n",
    "### exécuter la requëte sur la base de donées SQLite pour récupérer les valeurs que contient la ligne\n",
    "c = conn.cursor()\n",
    "c.execute('SELECT * FROM query WHERE pk_query = ?', [pk_query]) ### a list around argument is needed for a string longer then one\n",
    "#c.execute('SELECT * FROM query WHERE pk_query = 10')\n",
    "\n",
    "rc = c.fetchone()\n",
    "\n",
    "# fermer la connexion\n",
    "conn.close()\n",
    "\n",
    "# imprimer et inspecter le résultat\n",
    "rc"
   ]
  },
  {
   "cell_type": "code",
   "execution_count": 141,
   "id": "rational-craps",
   "metadata": {},
   "outputs": [
    {
     "name": "stdout",
     "output_type": "stream",
     "text": [
      "<class 'dict'>\n"
     ]
    }
   ],
   "source": [
    "qr = spqf.get_json_sparql_result(rc[4],rc[5])"
   ]
  },
  {
   "cell_type": "code",
   "execution_count": 142,
   "id": "every-shoot",
   "metadata": {},
   "outputs": [
    {
     "data": {
      "text/plain": [
       "10000"
      ]
     },
     "execution_count": 142,
     "metadata": {},
     "output_type": "execute_result"
    }
   ],
   "source": [
    "len(qr['results']['bindings'])"
   ]
  },
  {
   "cell_type": "code",
   "execution_count": 143,
   "id": "structured-modeling",
   "metadata": {},
   "outputs": [],
   "source": [
    "# Transformer le résultat en liste en utilisant une autre fonction de la bibliothèque utilisateur\n",
    "r = [l for l in spqf.sparql_result_to_list(qr)]\n",
    "# r"
   ]
  },
  {
   "cell_type": "code",
   "execution_count": 144,
   "id": "cognitive-mercy",
   "metadata": {},
   "outputs": [
    {
     "name": "stdout",
     "output_type": "stream",
     "text": [
      "10000\n"
     ]
    },
    {
     "data": {
      "text/plain": [
       "[['http://dbpedia.org/resource/Frank_Drew', '1930-10-10'],\n",
       " ['http://dbpedia.org/resource/Frank_Driggs', '1930-01-29'],\n",
       " ['http://dbpedia.org/resource/Frank_DuMond', '1865-08-20'],\n",
       " ['http://dbpedia.org/resource/Frank_Duckworth', '1939-12-26'],\n",
       " ['http://dbpedia.org/resource/Frank_Dunlop_(director)', '1927-02-15']]"
      ]
     },
     "execution_count": 144,
     "metadata": {},
     "output_type": "execute_result"
    }
   ],
   "source": [
    "# inspecter une seule ligne de la liste (de listes)\n",
    "print(len(r))\n",
    "r[:5]"
   ]
  },
  {
   "cell_type": "code",
   "execution_count": 145,
   "id": "identified-poker",
   "metadata": {},
   "outputs": [],
   "source": [
    "rl = [[l[0], 'http://dbpedia.org/property/birthDate', l[1], 'https://dbpedia.org/sparql', 1, 38 ] for l in r]"
   ]
  },
  {
   "cell_type": "code",
   "execution_count": 146,
   "id": "superb-footage",
   "metadata": {},
   "outputs": [
    {
     "name": "stdout",
     "output_type": "stream",
     "text": [
      "10000\n"
     ]
    },
    {
     "data": {
      "text/plain": [
       "[['http://dbpedia.org/resource/Frank_Drew',\n",
       "  'http://dbpedia.org/property/birthDate',\n",
       "  '1930-10-10',\n",
       "  'https://dbpedia.org/sparql',\n",
       "  1,\n",
       "  38],\n",
       " ['http://dbpedia.org/resource/Frank_Driggs',\n",
       "  'http://dbpedia.org/property/birthDate',\n",
       "  '1930-01-29',\n",
       "  'https://dbpedia.org/sparql',\n",
       "  1,\n",
       "  38],\n",
       " ['http://dbpedia.org/resource/Frank_DuMond',\n",
       "  'http://dbpedia.org/property/birthDate',\n",
       "  '1865-08-20',\n",
       "  'https://dbpedia.org/sparql',\n",
       "  1,\n",
       "  38]]"
      ]
     },
     "execution_count": 146,
     "metadata": {},
     "output_type": "execute_result"
    }
   ],
   "source": [
    "print(len(rl))\n",
    "rl[:3]"
   ]
  },
  {
   "cell_type": "code",
   "execution_count": 147,
   "id": "illegal-zambia",
   "metadata": {},
   "outputs": [],
   "source": [
    "#STOCKAGE\n",
    "db = 'data/intellectuels.db'\n",
    "cn = sql.connect(db)\n",
    "c = cn.cursor()\n",
    "\n",
    "# Insérer les données\n",
    "c.executemany(\"INSERT OR IGNORE INTO property (uri_entity, property, value, source, quality, fk_query_as_source) VALUES (?,?,?,?,?,?)\", rl)\n",
    "\n",
    "# valider l'insertion et fermer la base de données\n",
    "## DESACTIVÉ !!! cn.commit()\n",
    "\n",
    "cn.close()"
   ]
  },
  {
   "cell_type": "markdown",
   "id": "latest-image",
   "metadata": {},
   "source": [
    "#### 50000"
   ]
  },
  {
   "cell_type": "code",
   "execution_count": null,
   "id": "published-freeze",
   "metadata": {},
   "outputs": [],
   "source": []
  },
  {
   "cell_type": "code",
   "execution_count": 148,
   "id": "advisory-month",
   "metadata": {},
   "outputs": [
    {
     "data": {
      "text/plain": [
       "(39,\n",
       " 'Cherche les dates de naissances (dbp)',\n",
       " 'Cherche les dates de naissances (dbp)\\r\\n50000',\n",
       " None,\n",
       " 'https://dbpedia.org/sparql',\n",
       " 'PREFIX  dbo:  <http://dbpedia.org/ontology/>\\r\\nPREFIX  dbp:  <http://dbpedia.org/property/>\\r\\nPREFIX  dbr:  <http://dbpedia.org/resource/>\\r\\nPREFIX  yago: <http://dbpedia.org/class/yago/>\\r\\n\\r\\nSELECT DISTINCT  ?person ?birthDate \\r\\n WHERE \\r\\n   {\\r\\n     {\\r\\n       SELECT DISTINCT ?person ?birthDate \\r\\nWHERE \\r\\n             { ?person  dbp:birthDate ?birthDate\\r\\n                {?person  a                     yago:Intellectual109621545}\\r\\n             } \\r\\n       ORDER BY ?person \\r\\n     }\\r\\n   } \\r\\nOFFSET 40000 LIMIT 10000',\n",
       " None,\n",
       " '2021-07-04 19:27:39')"
      ]
     },
     "execution_count": 148,
     "metadata": {},
     "output_type": "execute_result"
    }
   ],
   "source": [
    "### Définir la ligne de la base de données à utiliser (inspécter préalablement la base de données)\n",
    "pk_query = 39\n",
    "\n",
    "# connnexion à la base de données\n",
    "original_db = 'data/intellectuels.db'\n",
    "conn = sql.connect(original_db)\n",
    "\n",
    "### exécuter la requëte sur la base de donées SQLite pour récupérer les valeurs que contient la ligne\n",
    "c = conn.cursor()\n",
    "c.execute('SELECT * FROM query WHERE pk_query = ?', [pk_query]) ### a list around argument is needed for a string longer then one\n",
    "#c.execute('SELECT * FROM query WHERE pk_query = 10')\n",
    "\n",
    "rc = c.fetchone()\n",
    "\n",
    "# fermer la connexion\n",
    "conn.close()\n",
    "\n",
    "# imprimer et inspecter le résultat\n",
    "rc"
   ]
  },
  {
   "cell_type": "code",
   "execution_count": 149,
   "id": "classical-throw",
   "metadata": {},
   "outputs": [
    {
     "name": "stdout",
     "output_type": "stream",
     "text": [
      "<class 'dict'>\n"
     ]
    }
   ],
   "source": [
    "qr = spqf.get_json_sparql_result(rc[4],rc[5])"
   ]
  },
  {
   "cell_type": "code",
   "execution_count": 150,
   "id": "intended-panel",
   "metadata": {},
   "outputs": [
    {
     "data": {
      "text/plain": [
       "10000"
      ]
     },
     "execution_count": 150,
     "metadata": {},
     "output_type": "execute_result"
    }
   ],
   "source": [
    "len(qr['results']['bindings'])"
   ]
  },
  {
   "cell_type": "code",
   "execution_count": 151,
   "id": "skilled-habitat",
   "metadata": {},
   "outputs": [],
   "source": [
    "# Transformer le résultat en liste en utilisant une autre fonction de la bibliothèque utilisateur\n",
    "r = [l for l in spqf.sparql_result_to_list(qr)]\n",
    "# r"
   ]
  },
  {
   "cell_type": "code",
   "execution_count": 152,
   "id": "chronic-advance",
   "metadata": {},
   "outputs": [
    {
     "name": "stdout",
     "output_type": "stream",
     "text": [
      "10000\n"
     ]
    },
    {
     "data": {
      "text/plain": [
       "[['http://dbpedia.org/resource/Huang_Xiaoming', '1977-11-13'],\n",
       " ['http://dbpedia.org/resource/Huang_Zongxi', '1610-09-24'],\n",
       " ['http://dbpedia.org/resource/Huang_Zunxian', '1848-05-29'],\n",
       " ['http://dbpedia.org/resource/Huang_Zuolin', '1906-10-24'],\n",
       " ['http://dbpedia.org/resource/Hub_Arkush', '1953-02-14']]"
      ]
     },
     "execution_count": 152,
     "metadata": {},
     "output_type": "execute_result"
    }
   ],
   "source": [
    "# inspecter une seule ligne de la liste (de listes)\n",
    "print(len(r))\n",
    "r[:5]"
   ]
  },
  {
   "cell_type": "code",
   "execution_count": 153,
   "id": "behind-certification",
   "metadata": {},
   "outputs": [],
   "source": [
    "rl = [[l[0], 'http://dbpedia.org/property/birthDate', l[1], 'https://dbpedia.org/sparql', 1, 39 ] for l in r]"
   ]
  },
  {
   "cell_type": "code",
   "execution_count": 154,
   "id": "unnecessary-panama",
   "metadata": {},
   "outputs": [
    {
     "name": "stdout",
     "output_type": "stream",
     "text": [
      "10000\n"
     ]
    },
    {
     "data": {
      "text/plain": [
       "[['http://dbpedia.org/resource/Huang_Xiaoming',\n",
       "  'http://dbpedia.org/property/birthDate',\n",
       "  '1977-11-13',\n",
       "  'https://dbpedia.org/sparql',\n",
       "  1,\n",
       "  39],\n",
       " ['http://dbpedia.org/resource/Huang_Zongxi',\n",
       "  'http://dbpedia.org/property/birthDate',\n",
       "  '1610-09-24',\n",
       "  'https://dbpedia.org/sparql',\n",
       "  1,\n",
       "  39],\n",
       " ['http://dbpedia.org/resource/Huang_Zunxian',\n",
       "  'http://dbpedia.org/property/birthDate',\n",
       "  '1848-05-29',\n",
       "  'https://dbpedia.org/sparql',\n",
       "  1,\n",
       "  39]]"
      ]
     },
     "execution_count": 154,
     "metadata": {},
     "output_type": "execute_result"
    }
   ],
   "source": [
    "print(len(rl))\n",
    "rl[:3]"
   ]
  },
  {
   "cell_type": "code",
   "execution_count": 155,
   "id": "thermal-somewhere",
   "metadata": {},
   "outputs": [],
   "source": [
    "#STOCKAGE\n",
    "db = 'data/intellectuels.db'\n",
    "cn = sql.connect(db)\n",
    "c = cn.cursor()\n",
    "\n",
    "# Insérer les données\n",
    "c.executemany(\"INSERT OR IGNORE INTO property (uri_entity, property, value, source, quality, fk_query_as_source) VALUES (?,?,?,?,?,?)\", rl)\n",
    "\n",
    "# valider l'insertion et fermer la base de données\n",
    "## DESACTIVÉ !!! cn.commit()\n",
    "\n",
    "cn.close()"
   ]
  },
  {
   "cell_type": "markdown",
   "id": "tired-sitting",
   "metadata": {},
   "source": [
    "#### 60000"
   ]
  },
  {
   "cell_type": "code",
   "execution_count": null,
   "id": "practical-accreditation",
   "metadata": {},
   "outputs": [],
   "source": []
  },
  {
   "cell_type": "code",
   "execution_count": 156,
   "id": "rural-toilet",
   "metadata": {},
   "outputs": [
    {
     "data": {
      "text/plain": [
       "(40,\n",
       " 'Cherche les dates de naissances (dbp)',\n",
       " 'Cherche les dates de naissances (dbp)\\r\\n60000',\n",
       " None,\n",
       " 'https://dbpedia.org/sparql',\n",
       " 'PREFIX  dbo:  <http://dbpedia.org/ontology/>\\r\\nPREFIX  dbp:  <http://dbpedia.org/property/>\\r\\nPREFIX  dbr:  <http://dbpedia.org/resource/>\\r\\nPREFIX  yago: <http://dbpedia.org/class/yago/>\\r\\n\\r\\nSELECT DISTINCT  ?person ?birthDate \\r\\n WHERE \\r\\n   {\\r\\n     {\\r\\n       SELECT DISTINCT ?person ?birthDate \\r\\nWHERE \\r\\n             { ?person  dbp:birthDate ?birthDate\\r\\n                {?person  a                     yago:Intellectual109621545}\\r\\n             } \\r\\n       ORDER BY ?person \\r\\n     }\\r\\n   } \\r\\nOFFSET 50000 LIMIT 10000',\n",
       " None,\n",
       " '2021-07-04 19:29:29')"
      ]
     },
     "execution_count": 156,
     "metadata": {},
     "output_type": "execute_result"
    }
   ],
   "source": [
    "### Définir la ligne de la base de données à utiliser (inspécter préalablement la base de données)\n",
    "pk_query = 40\n",
    "\n",
    "# connnexion à la base de données\n",
    "original_db = 'data/intellectuels.db'\n",
    "conn = sql.connect(original_db)\n",
    "\n",
    "### exécuter la requëte sur la base de donées SQLite pour récupérer les valeurs que contient la ligne\n",
    "c = conn.cursor()\n",
    "c.execute('SELECT * FROM query WHERE pk_query = ?', [pk_query]) ### a list around argument is needed for a string longer then one\n",
    "#c.execute('SELECT * FROM query WHERE pk_query = 10')\n",
    "\n",
    "rc = c.fetchone()\n",
    "\n",
    "# fermer la connexion\n",
    "conn.close()\n",
    "\n",
    "# imprimer et inspecter le résultat\n",
    "rc"
   ]
  },
  {
   "cell_type": "code",
   "execution_count": 157,
   "id": "speaking-printing",
   "metadata": {},
   "outputs": [
    {
     "name": "stdout",
     "output_type": "stream",
     "text": [
      "<class 'dict'>\n"
     ]
    }
   ],
   "source": [
    "qr = spqf.get_json_sparql_result(rc[4],rc[5])"
   ]
  },
  {
   "cell_type": "code",
   "execution_count": 158,
   "id": "processed-purchase",
   "metadata": {},
   "outputs": [
    {
     "data": {
      "text/plain": [
       "10000"
      ]
     },
     "execution_count": 158,
     "metadata": {},
     "output_type": "execute_result"
    }
   ],
   "source": [
    "len(qr['results']['bindings'])"
   ]
  },
  {
   "cell_type": "code",
   "execution_count": 159,
   "id": "radio-surprise",
   "metadata": {},
   "outputs": [],
   "source": [
    "# Transformer le résultat en liste en utilisant une autre fonction de la bibliothèque utilisateur\n",
    "r = [l for l in spqf.sparql_result_to_list(qr)]\n",
    "# r"
   ]
  },
  {
   "cell_type": "code",
   "execution_count": 160,
   "id": "ranking-scottish",
   "metadata": {},
   "outputs": [
    {
     "name": "stdout",
     "output_type": "stream",
     "text": [
      "10000\n"
     ]
    },
    {
     "data": {
      "text/plain": [
       "[['http://dbpedia.org/resource/John_Harold_Owen_Wilsey', '1904'],\n",
       " ['http://dbpedia.org/resource/John_Harper_(politician)', '1930-05-03'],\n",
       " ['http://dbpedia.org/resource/John_Harris_(bioethicist)', '1945-08-21'],\n",
       " ['http://dbpedia.org/resource/John_Harris_(curator)', '1931'],\n",
       " ['http://dbpedia.org/resource/John_Harris_Baker', '1832-02-28']]"
      ]
     },
     "execution_count": 160,
     "metadata": {},
     "output_type": "execute_result"
    }
   ],
   "source": [
    "# inspecter une seule ligne de la liste (de listes)\n",
    "print(len(r))\n",
    "r[:5]"
   ]
  },
  {
   "cell_type": "code",
   "execution_count": 161,
   "id": "minor-capitol",
   "metadata": {},
   "outputs": [],
   "source": [
    "rl = [[l[0], 'http://dbpedia.org/property/birthDate', l[1], 'https://dbpedia.org/sparql', 1, 40 ] for l in r]"
   ]
  },
  {
   "cell_type": "code",
   "execution_count": 162,
   "id": "changed-reason",
   "metadata": {},
   "outputs": [
    {
     "name": "stdout",
     "output_type": "stream",
     "text": [
      "10000\n"
     ]
    },
    {
     "data": {
      "text/plain": [
       "[['http://dbpedia.org/resource/John_Harold_Owen_Wilsey',\n",
       "  'http://dbpedia.org/property/birthDate',\n",
       "  '1904',\n",
       "  'https://dbpedia.org/sparql',\n",
       "  1,\n",
       "  40],\n",
       " ['http://dbpedia.org/resource/John_Harper_(politician)',\n",
       "  'http://dbpedia.org/property/birthDate',\n",
       "  '1930-05-03',\n",
       "  'https://dbpedia.org/sparql',\n",
       "  1,\n",
       "  40],\n",
       " ['http://dbpedia.org/resource/John_Harris_(bioethicist)',\n",
       "  'http://dbpedia.org/property/birthDate',\n",
       "  '1945-08-21',\n",
       "  'https://dbpedia.org/sparql',\n",
       "  1,\n",
       "  40]]"
      ]
     },
     "execution_count": 162,
     "metadata": {},
     "output_type": "execute_result"
    }
   ],
   "source": [
    "print(len(rl))\n",
    "rl[:3]"
   ]
  },
  {
   "cell_type": "code",
   "execution_count": 163,
   "id": "sustained-grill",
   "metadata": {},
   "outputs": [],
   "source": [
    "#STOCKAGE\n",
    "db = 'data/intellectuels.db'\n",
    "cn = sql.connect(db)\n",
    "c = cn.cursor()\n",
    "\n",
    "# Insérer les données\n",
    "c.executemany(\"INSERT OR IGNORE INTO property (uri_entity, property, value, source, quality, fk_query_as_source) VALUES (?,?,?,?,?,?)\", rl)\n",
    "\n",
    "# valider l'insertion et fermer la base de données\n",
    "## DESACTIVÉ !!! cn.commit()\n",
    "\n",
    "cn.close()"
   ]
  },
  {
   "cell_type": "markdown",
   "id": "imported-level",
   "metadata": {},
   "source": [
    "#### 70000"
   ]
  },
  {
   "cell_type": "code",
   "execution_count": null,
   "id": "finished-stereo",
   "metadata": {},
   "outputs": [],
   "source": []
  },
  {
   "cell_type": "code",
   "execution_count": 164,
   "id": "thrown-favor",
   "metadata": {},
   "outputs": [
    {
     "data": {
      "text/plain": [
       "(41,\n",
       " 'Cherche les dates de naissances (dbp)',\n",
       " 'Cherche les dates de naissances (dbp)\\r\\n70000',\n",
       " None,\n",
       " 'https://dbpedia.org/sparql',\n",
       " 'PREFIX  dbo:  <http://dbpedia.org/ontology/>\\r\\nPREFIX  dbp:  <http://dbpedia.org/property/>\\r\\nPREFIX  dbr:  <http://dbpedia.org/resource/>\\r\\nPREFIX  yago: <http://dbpedia.org/class/yago/>\\r\\n\\r\\nSELECT DISTINCT  ?person ?birthDate \\r\\n WHERE \\r\\n   {\\r\\n     {\\r\\n       SELECT DISTINCT ?person ?birthDate \\r\\nWHERE \\r\\n             { ?person  dbp:birthDate ?birthDate\\r\\n                {?person  a                     yago:Intellectual109621545}\\r\\n             } \\r\\n       ORDER BY ?person \\r\\n     }\\r\\n   } \\r\\nOFFSET 60000 LIMIT 10000',\n",
       " None,\n",
       " '2021-07-04 19:29:29')"
      ]
     },
     "execution_count": 164,
     "metadata": {},
     "output_type": "execute_result"
    }
   ],
   "source": [
    "### Définir la ligne de la base de données à utiliser (inspécter préalablement la base de données)\n",
    "pk_query = 41\n",
    "\n",
    "# connnexion à la base de données\n",
    "original_db = 'data/intellectuels.db'\n",
    "conn = sql.connect(original_db)\n",
    "\n",
    "### exécuter la requëte sur la base de donées SQLite pour récupérer les valeurs que contient la ligne\n",
    "c = conn.cursor()\n",
    "c.execute('SELECT * FROM query WHERE pk_query = ?', [pk_query]) ### a list around argument is needed for a string longer then one\n",
    "#c.execute('SELECT * FROM query WHERE pk_query = 10')\n",
    "\n",
    "rc = c.fetchone()\n",
    "\n",
    "# fermer la connexion\n",
    "conn.close()\n",
    "\n",
    "# imprimer et inspecter le résultat\n",
    "rc"
   ]
  },
  {
   "cell_type": "code",
   "execution_count": 165,
   "id": "classical-narrow",
   "metadata": {},
   "outputs": [
    {
     "name": "stdout",
     "output_type": "stream",
     "text": [
      "<class 'dict'>\n"
     ]
    }
   ],
   "source": [
    "qr = spqf.get_json_sparql_result(rc[4],rc[5])"
   ]
  },
  {
   "cell_type": "code",
   "execution_count": 166,
   "id": "competitive-sandwich",
   "metadata": {},
   "outputs": [
    {
     "data": {
      "text/plain": [
       "10000"
      ]
     },
     "execution_count": 166,
     "metadata": {},
     "output_type": "execute_result"
    }
   ],
   "source": [
    "len(qr['results']['bindings'])"
   ]
  },
  {
   "cell_type": "code",
   "execution_count": 167,
   "id": "indie-phoenix",
   "metadata": {},
   "outputs": [],
   "source": [
    "# Transformer le résultat en liste en utilisant une autre fonction de la bibliothèque utilisateur\n",
    "r = [l for l in spqf.sparql_result_to_list(qr)]\n",
    "# r"
   ]
  },
  {
   "cell_type": "code",
   "execution_count": 168,
   "id": "altered-source",
   "metadata": {},
   "outputs": [
    {
     "name": "stdout",
     "output_type": "stream",
     "text": [
      "10000\n"
     ]
    },
    {
     "data": {
      "text/plain": [
       "[['http://dbpedia.org/resource/Lewis_Linn_McArthur', '1843-03-18'],\n",
       " ['http://dbpedia.org/resource/Lewis_M._Branscomb', '1926-08-17'],\n",
       " ['http://dbpedia.org/resource/Lewis_M._Haupt', '1844-03-21'],\n",
       " ['http://dbpedia.org/resource/Lewis_M._Long', '1883-06-22'],\n",
       " ['http://dbpedia.org/resource/Lewis_MacAdams', '1944-10-12']]"
      ]
     },
     "execution_count": 168,
     "metadata": {},
     "output_type": "execute_result"
    }
   ],
   "source": [
    "# inspecter une seule ligne de la liste (de listes)\n",
    "print(len(r))\n",
    "r[:5]"
   ]
  },
  {
   "cell_type": "code",
   "execution_count": 169,
   "id": "great-ready",
   "metadata": {},
   "outputs": [],
   "source": [
    "rl = [[l[0], 'http://dbpedia.org/property/birthDate', l[1], 'https://dbpedia.org/sparql', 1, 41 ] for l in r]"
   ]
  },
  {
   "cell_type": "code",
   "execution_count": 170,
   "id": "found-depth",
   "metadata": {},
   "outputs": [
    {
     "name": "stdout",
     "output_type": "stream",
     "text": [
      "10000\n"
     ]
    },
    {
     "data": {
      "text/plain": [
       "[['http://dbpedia.org/resource/Lewis_Linn_McArthur',\n",
       "  'http://dbpedia.org/property/birthDate',\n",
       "  '1843-03-18',\n",
       "  'https://dbpedia.org/sparql',\n",
       "  1,\n",
       "  41],\n",
       " ['http://dbpedia.org/resource/Lewis_M._Branscomb',\n",
       "  'http://dbpedia.org/property/birthDate',\n",
       "  '1926-08-17',\n",
       "  'https://dbpedia.org/sparql',\n",
       "  1,\n",
       "  41],\n",
       " ['http://dbpedia.org/resource/Lewis_M._Haupt',\n",
       "  'http://dbpedia.org/property/birthDate',\n",
       "  '1844-03-21',\n",
       "  'https://dbpedia.org/sparql',\n",
       "  1,\n",
       "  41]]"
      ]
     },
     "execution_count": 170,
     "metadata": {},
     "output_type": "execute_result"
    }
   ],
   "source": [
    "print(len(rl))\n",
    "rl[:3]"
   ]
  },
  {
   "cell_type": "code",
   "execution_count": 171,
   "id": "double-ready",
   "metadata": {},
   "outputs": [],
   "source": [
    "#STOCKAGE\n",
    "db = 'data/intellectuels.db'\n",
    "cn = sql.connect(db)\n",
    "c = cn.cursor()\n",
    "\n",
    "# Insérer les données\n",
    "c.executemany(\"INSERT OR IGNORE INTO property (uri_entity, property, value, source, quality, fk_query_as_source) VALUES (?,?,?,?,?,?)\", rl)\n",
    "\n",
    "# valider l'insertion et fermer la base de données\n",
    "## DESACTIVÉ !!! cn.commit()\n",
    "\n",
    "cn.close()"
   ]
  },
  {
   "cell_type": "markdown",
   "id": "hawaiian-scenario",
   "metadata": {},
   "source": [
    "#### 80000"
   ]
  },
  {
   "cell_type": "code",
   "execution_count": null,
   "id": "opponent-taiwan",
   "metadata": {},
   "outputs": [],
   "source": []
  },
  {
   "cell_type": "code",
   "execution_count": 172,
   "id": "difficult-blade",
   "metadata": {},
   "outputs": [
    {
     "data": {
      "text/plain": [
       "(42,\n",
       " 'Cherche les dates de naissances (dbp)',\n",
       " 'Cherche les dates de naissances (dbp)\\r\\n80000',\n",
       " None,\n",
       " 'https://dbpedia.org/sparql',\n",
       " 'PREFIX  dbo:  <http://dbpedia.org/ontology/>\\r\\nPREFIX  dbp:  <http://dbpedia.org/property/>\\r\\nPREFIX  dbr:  <http://dbpedia.org/resource/>\\r\\nPREFIX  yago: <http://dbpedia.org/class/yago/>\\r\\n\\r\\nSELECT DISTINCT  ?person ?birthDate \\r\\n WHERE \\r\\n   {\\r\\n     {\\r\\n       SELECT DISTINCT ?person ?birthDate \\r\\nWHERE \\r\\n             { ?person  dbp:birthDate ?birthDate\\r\\n                {?person  a                     yago:Intellectual109621545}\\r\\n             } \\r\\n       ORDER BY ?person \\r\\n     }\\r\\n   } \\r\\nOFFSET 70000 LIMIT 10000',\n",
       " None,\n",
       " '2021-07-04 19:29:29')"
      ]
     },
     "execution_count": 172,
     "metadata": {},
     "output_type": "execute_result"
    }
   ],
   "source": [
    "### Définir la ligne de la base de données à utiliser (inspécter préalablement la base de données)\n",
    "pk_query = 42\n",
    "\n",
    "# connnexion à la base de données\n",
    "original_db = 'data/intellectuels.db'\n",
    "conn = sql.connect(original_db)\n",
    "\n",
    "### exécuter la requëte sur la base de donées SQLite pour récupérer les valeurs que contient la ligne\n",
    "c = conn.cursor()\n",
    "c.execute('SELECT * FROM query WHERE pk_query = ?', [pk_query]) ### a list around argument is needed for a string longer then one\n",
    "#c.execute('SELECT * FROM query WHERE pk_query = 10')\n",
    "\n",
    "rc = c.fetchone()\n",
    "\n",
    "# fermer la connexion\n",
    "conn.close()\n",
    "\n",
    "# imprimer et inspecter le résultat\n",
    "rc"
   ]
  },
  {
   "cell_type": "code",
   "execution_count": 173,
   "id": "encouraging-machinery",
   "metadata": {},
   "outputs": [
    {
     "name": "stdout",
     "output_type": "stream",
     "text": [
      "<class 'dict'>\n"
     ]
    }
   ],
   "source": [
    "qr = spqf.get_json_sparql_result(rc[4],rc[5])"
   ]
  },
  {
   "cell_type": "code",
   "execution_count": 174,
   "id": "leading-accordance",
   "metadata": {},
   "outputs": [
    {
     "data": {
      "text/plain": [
       "10000"
      ]
     },
     "execution_count": 174,
     "metadata": {},
     "output_type": "execute_result"
    }
   ],
   "source": [
    "len(qr['results']['bindings'])"
   ]
  },
  {
   "cell_type": "code",
   "execution_count": 175,
   "id": "jewish-hardware",
   "metadata": {},
   "outputs": [],
   "source": [
    "# Transformer le résultat en liste en utilisant une autre fonction de la bibliothèque utilisateur\n",
    "r = [l for l in spqf.sparql_result_to_list(qr)]\n",
    "# r"
   ]
  },
  {
   "cell_type": "code",
   "execution_count": 176,
   "id": "organizational-broadway",
   "metadata": {},
   "outputs": [
    {
     "name": "stdout",
     "output_type": "stream",
     "text": [
      "10000\n"
     ]
    },
    {
     "data": {
      "text/plain": [
       "[['http://dbpedia.org/resource/Myles_Coverdale', 'c. 1488'],\n",
       " ['http://dbpedia.org/resource/Myles_Jackson', '1964-11-25'],\n",
       " ['http://dbpedia.org/resource/Myles_Lane', '1903-10-02'],\n",
       " ['http://dbpedia.org/resource/Myles_Lee', '1953'],\n",
       " ['http://dbpedia.org/resource/Myles_Munroe', '1954-04-20']]"
      ]
     },
     "execution_count": 176,
     "metadata": {},
     "output_type": "execute_result"
    }
   ],
   "source": [
    "# inspecter une seule ligne de la liste (de listes)\n",
    "print(len(r))\n",
    "r[:5]"
   ]
  },
  {
   "cell_type": "code",
   "execution_count": 177,
   "id": "opened-framework",
   "metadata": {},
   "outputs": [],
   "source": [
    "rl = [[l[0], 'http://dbpedia.org/property/birthDate', l[1], 'https://dbpedia.org/sparql', 1, 42 ] for l in r]"
   ]
  },
  {
   "cell_type": "code",
   "execution_count": 178,
   "id": "complimentary-insertion",
   "metadata": {},
   "outputs": [
    {
     "name": "stdout",
     "output_type": "stream",
     "text": [
      "10000\n"
     ]
    },
    {
     "data": {
      "text/plain": [
       "[['http://dbpedia.org/resource/Myles_Coverdale',\n",
       "  'http://dbpedia.org/property/birthDate',\n",
       "  'c. 1488',\n",
       "  'https://dbpedia.org/sparql',\n",
       "  1,\n",
       "  42],\n",
       " ['http://dbpedia.org/resource/Myles_Jackson',\n",
       "  'http://dbpedia.org/property/birthDate',\n",
       "  '1964-11-25',\n",
       "  'https://dbpedia.org/sparql',\n",
       "  1,\n",
       "  42],\n",
       " ['http://dbpedia.org/resource/Myles_Lane',\n",
       "  'http://dbpedia.org/property/birthDate',\n",
       "  '1903-10-02',\n",
       "  'https://dbpedia.org/sparql',\n",
       "  1,\n",
       "  42]]"
      ]
     },
     "execution_count": 178,
     "metadata": {},
     "output_type": "execute_result"
    }
   ],
   "source": [
    "print(len(rl))\n",
    "rl[:3]"
   ]
  },
  {
   "cell_type": "code",
   "execution_count": 179,
   "id": "tutorial-recorder",
   "metadata": {},
   "outputs": [],
   "source": [
    "#STOCKAGE\n",
    "db = 'data/intellectuels.db'\n",
    "cn = sql.connect(db)\n",
    "c = cn.cursor()\n",
    "\n",
    "# Insérer les données\n",
    "c.executemany(\"INSERT OR IGNORE INTO property (uri_entity, property, value, source, quality, fk_query_as_source) VALUES (?,?,?,?,?,?)\", rl)\n",
    "\n",
    "# valider l'insertion et fermer la base de données\n",
    "## DESACTIVÉ !!! cn.commit()\n",
    "\n",
    "cn.close()"
   ]
  },
  {
   "cell_type": "markdown",
   "id": "violent-currency",
   "metadata": {},
   "source": [
    "#### 90000"
   ]
  },
  {
   "cell_type": "code",
   "execution_count": null,
   "id": "grateful-discretion",
   "metadata": {},
   "outputs": [],
   "source": []
  },
  {
   "cell_type": "code",
   "execution_count": 180,
   "id": "capable-personality",
   "metadata": {},
   "outputs": [
    {
     "data": {
      "text/plain": [
       "(43,\n",
       " 'Cherche les dates de naissances (dbp)',\n",
       " 'Cherche les dates de naissances (dbp)\\r\\n90000',\n",
       " None,\n",
       " 'https://dbpedia.org/sparql',\n",
       " 'PREFIX  dbo:  <http://dbpedia.org/ontology/>\\r\\nPREFIX  dbp:  <http://dbpedia.org/property/>\\r\\nPREFIX  dbr:  <http://dbpedia.org/resource/>\\r\\nPREFIX  yago: <http://dbpedia.org/class/yago/>\\r\\n\\r\\nSELECT DISTINCT  ?person ?birthDate \\r\\n WHERE \\r\\n   {\\r\\n     {\\r\\n       SELECT DISTINCT ?person ?birthDate \\r\\nWHERE \\r\\n             { ?person  dbp:birthDate ?birthDate\\r\\n                {?person  a                     yago:Intellectual109621545}\\r\\n             } \\r\\n       ORDER BY ?person \\r\\n     }\\r\\n   } \\r\\nOFFSET 80000 LIMIT 10000',\n",
       " None,\n",
       " '2021-07-04 19:29:29')"
      ]
     },
     "execution_count": 180,
     "metadata": {},
     "output_type": "execute_result"
    }
   ],
   "source": [
    "### Définir la ligne de la base de données à utiliser (inspécter préalablement la base de données)\n",
    "pk_query = 43\n",
    "\n",
    "# connnexion à la base de données\n",
    "original_db = 'data/intellectuels.db'\n",
    "conn = sql.connect(original_db)\n",
    "\n",
    "### exécuter la requëte sur la base de donées SQLite pour récupérer les valeurs que contient la ligne\n",
    "c = conn.cursor()\n",
    "c.execute('SELECT * FROM query WHERE pk_query = ?', [pk_query]) ### a list around argument is needed for a string longer then one\n",
    "#c.execute('SELECT * FROM query WHERE pk_query = 10')\n",
    "\n",
    "rc = c.fetchone()\n",
    "\n",
    "# fermer la connexion\n",
    "conn.close()\n",
    "\n",
    "# imprimer et inspecter le résultat\n",
    "rc"
   ]
  },
  {
   "cell_type": "code",
   "execution_count": 181,
   "id": "fatty-collector",
   "metadata": {},
   "outputs": [
    {
     "name": "stdout",
     "output_type": "stream",
     "text": [
      "<class 'dict'>\n"
     ]
    }
   ],
   "source": [
    "qr = spqf.get_json_sparql_result(rc[4],rc[5])"
   ]
  },
  {
   "cell_type": "code",
   "execution_count": 182,
   "id": "desirable-nursery",
   "metadata": {},
   "outputs": [
    {
     "data": {
      "text/plain": [
       "10000"
      ]
     },
     "execution_count": 182,
     "metadata": {},
     "output_type": "execute_result"
    }
   ],
   "source": [
    "len(qr['results']['bindings'])"
   ]
  },
  {
   "cell_type": "code",
   "execution_count": 183,
   "id": "arbitrary-gather",
   "metadata": {},
   "outputs": [],
   "source": [
    "# Transformer le résultat en liste en utilisant une autre fonction de la bibliothèque utilisateur\n",
    "r = [l for l in spqf.sparql_result_to_list(qr)]\n",
    "# r"
   ]
  },
  {
   "cell_type": "code",
   "execution_count": 184,
   "id": "advised-crazy",
   "metadata": {},
   "outputs": [
    {
     "name": "stdout",
     "output_type": "stream",
     "text": [
      "10000\n"
     ]
    },
    {
     "data": {
      "text/plain": [
       "[['http://dbpedia.org/resource/Richard_Doyle_(actor)', '1945-04-26'],\n",
       " ['http://dbpedia.org/resource/Richard_Doyle_(author)', '1948-01-10'],\n",
       " ['http://dbpedia.org/resource/Richard_Drayton', '1964'],\n",
       " ['http://dbpedia.org/resource/Richard_Drouin', '1932-04-08'],\n",
       " ['http://dbpedia.org/resource/Richard_Duncan_(athlete)', '1973-12-25']]"
      ]
     },
     "execution_count": 184,
     "metadata": {},
     "output_type": "execute_result"
    }
   ],
   "source": [
    "# inspecter une seule ligne de la liste (de listes)\n",
    "print(len(r))\n",
    "r[:5]"
   ]
  },
  {
   "cell_type": "code",
   "execution_count": 185,
   "id": "bearing-lunch",
   "metadata": {},
   "outputs": [],
   "source": [
    "rl = [[l[0], 'http://dbpedia.org/property/birthDate', l[1], 'https://dbpedia.org/sparql', 1, 43 ] for l in r]"
   ]
  },
  {
   "cell_type": "code",
   "execution_count": 186,
   "id": "compound-proxy",
   "metadata": {},
   "outputs": [
    {
     "name": "stdout",
     "output_type": "stream",
     "text": [
      "10000\n"
     ]
    },
    {
     "data": {
      "text/plain": [
       "[['http://dbpedia.org/resource/Richard_Doyle_(actor)',\n",
       "  'http://dbpedia.org/property/birthDate',\n",
       "  '1945-04-26',\n",
       "  'https://dbpedia.org/sparql',\n",
       "  1,\n",
       "  43],\n",
       " ['http://dbpedia.org/resource/Richard_Doyle_(author)',\n",
       "  'http://dbpedia.org/property/birthDate',\n",
       "  '1948-01-10',\n",
       "  'https://dbpedia.org/sparql',\n",
       "  1,\n",
       "  43],\n",
       " ['http://dbpedia.org/resource/Richard_Drayton',\n",
       "  'http://dbpedia.org/property/birthDate',\n",
       "  '1964',\n",
       "  'https://dbpedia.org/sparql',\n",
       "  1,\n",
       "  43]]"
      ]
     },
     "execution_count": 186,
     "metadata": {},
     "output_type": "execute_result"
    }
   ],
   "source": [
    "print(len(rl))\n",
    "rl[:3]"
   ]
  },
  {
   "cell_type": "code",
   "execution_count": 187,
   "id": "outstanding-uncle",
   "metadata": {},
   "outputs": [],
   "source": [
    "#STOCKAGE\n",
    "db = 'data/intellectuels.db'\n",
    "cn = sql.connect(db)\n",
    "c = cn.cursor()\n",
    "\n",
    "# Insérer les données\n",
    "c.executemany(\"INSERT OR IGNORE INTO property (uri_entity, property, value, source, quality, fk_query_as_source) VALUES (?,?,?,?,?,?)\", rl)\n",
    "\n",
    "# valider l'insertion et fermer la base de données\n",
    "## DESACTIVÉ !!! cn.commit()\n",
    "\n",
    "cn.close()"
   ]
  },
  {
   "cell_type": "markdown",
   "id": "noble-niger",
   "metadata": {},
   "source": [
    "#### 100000"
   ]
  },
  {
   "cell_type": "code",
   "execution_count": null,
   "id": "gorgeous-plaza",
   "metadata": {},
   "outputs": [],
   "source": []
  },
  {
   "cell_type": "code",
   "execution_count": 188,
   "id": "considerable-emergency",
   "metadata": {},
   "outputs": [
    {
     "data": {
      "text/plain": [
       "(44,\n",
       " 'Cherche les dates de naissances (dbp)',\n",
       " 'Cherche les dates de naissances (dbp)\\r\\n100000',\n",
       " None,\n",
       " 'https://dbpedia.org/sparql',\n",
       " 'PREFIX  dbo:  <http://dbpedia.org/ontology/>\\r\\nPREFIX  dbp:  <http://dbpedia.org/property/>\\r\\nPREFIX  dbr:  <http://dbpedia.org/resource/>\\r\\nPREFIX  yago: <http://dbpedia.org/class/yago/>\\r\\n\\r\\nSELECT DISTINCT  ?person ?birthDate \\r\\n WHERE \\r\\n   {\\r\\n     {\\r\\n       SELECT DISTINCT ?person ?birthDate \\r\\nWHERE \\r\\n             { ?person  dbp:birthDate ?birthDate\\r\\n                {?person  a                     yago:Intellectual109621545}\\r\\n             } \\r\\n       ORDER BY ?person \\r\\n     }\\r\\n   } \\r\\nOFFSET 90000 LIMIT 10000',\n",
       " None,\n",
       " None)"
      ]
     },
     "execution_count": 188,
     "metadata": {},
     "output_type": "execute_result"
    }
   ],
   "source": [
    "### Définir la ligne de la base de données à utiliser (inspécter préalablement la base de données)\n",
    "pk_query = 44\n",
    "\n",
    "# connnexion à la base de données\n",
    "original_db = 'data/intellectuels.db'\n",
    "conn = sql.connect(original_db)\n",
    "\n",
    "### exécuter la requëte sur la base de donées SQLite pour récupérer les valeurs que contient la ligne\n",
    "c = conn.cursor()\n",
    "c.execute('SELECT * FROM query WHERE pk_query = ?', [pk_query]) ### a list around argument is needed for a string longer then one\n",
    "#c.execute('SELECT * FROM query WHERE pk_query = 10')\n",
    "\n",
    "rc = c.fetchone()\n",
    "\n",
    "# fermer la connexion\n",
    "conn.close()\n",
    "\n",
    "# imprimer et inspecter le résultat\n",
    "rc"
   ]
  },
  {
   "cell_type": "code",
   "execution_count": 189,
   "id": "transsexual-shoot",
   "metadata": {},
   "outputs": [
    {
     "name": "stdout",
     "output_type": "stream",
     "text": [
      "<class 'dict'>\n"
     ]
    }
   ],
   "source": [
    "qr = spqf.get_json_sparql_result(rc[4],rc[5])"
   ]
  },
  {
   "cell_type": "code",
   "execution_count": 190,
   "id": "fewer-demand",
   "metadata": {},
   "outputs": [
    {
     "data": {
      "text/plain": [
       "10000"
      ]
     },
     "execution_count": 190,
     "metadata": {},
     "output_type": "execute_result"
    }
   ],
   "source": [
    "len(qr['results']['bindings'])"
   ]
  },
  {
   "cell_type": "code",
   "execution_count": 191,
   "id": "southeast-birmingham",
   "metadata": {},
   "outputs": [],
   "source": [
    "# Transformer le résultat en liste en utilisant une autre fonction de la bibliothèque utilisateur\n",
    "r = [l for l in spqf.sparql_result_to_list(qr)]\n",
    "# r"
   ]
  },
  {
   "cell_type": "code",
   "execution_count": 192,
   "id": "expired-finger",
   "metadata": {},
   "outputs": [
    {
     "name": "stdout",
     "output_type": "stream",
     "text": [
      "10000\n"
     ]
    },
    {
     "data": {
      "text/plain": [
       "[['http://dbpedia.org/resource/Steve_Paikin', '1960-06-09'],\n",
       " ['http://dbpedia.org/resource/Steve_Pajcic', '1946-08-04'],\n",
       " ['http://dbpedia.org/resource/Steve_Parry_(musician)', '1958'],\n",
       " ['http://dbpedia.org/resource/Steve_Pearce_(baseball)', '1983-04-13'],\n",
       " ['http://dbpedia.org/resource/Steve_Pemberton', '1967-09-01']]"
      ]
     },
     "execution_count": 192,
     "metadata": {},
     "output_type": "execute_result"
    }
   ],
   "source": [
    "# inspecter une seule ligne de la liste (de listes)\n",
    "print(len(r))\n",
    "r[:5]"
   ]
  },
  {
   "cell_type": "code",
   "execution_count": 193,
   "id": "supreme-measure",
   "metadata": {},
   "outputs": [],
   "source": [
    "rl = [[l[0], 'http://dbpedia.org/property/birthDate', l[1], 'https://dbpedia.org/sparql', 1, 44 ] for l in r]"
   ]
  },
  {
   "cell_type": "code",
   "execution_count": 194,
   "id": "nuclear-intention",
   "metadata": {},
   "outputs": [
    {
     "name": "stdout",
     "output_type": "stream",
     "text": [
      "10000\n"
     ]
    },
    {
     "data": {
      "text/plain": [
       "[['http://dbpedia.org/resource/Steve_Paikin',\n",
       "  'http://dbpedia.org/property/birthDate',\n",
       "  '1960-06-09',\n",
       "  'https://dbpedia.org/sparql',\n",
       "  1,\n",
       "  44],\n",
       " ['http://dbpedia.org/resource/Steve_Pajcic',\n",
       "  'http://dbpedia.org/property/birthDate',\n",
       "  '1946-08-04',\n",
       "  'https://dbpedia.org/sparql',\n",
       "  1,\n",
       "  44],\n",
       " ['http://dbpedia.org/resource/Steve_Parry_(musician)',\n",
       "  'http://dbpedia.org/property/birthDate',\n",
       "  '1958',\n",
       "  'https://dbpedia.org/sparql',\n",
       "  1,\n",
       "  44]]"
      ]
     },
     "execution_count": 194,
     "metadata": {},
     "output_type": "execute_result"
    }
   ],
   "source": [
    "print(len(rl))\n",
    "rl[:3]"
   ]
  },
  {
   "cell_type": "code",
   "execution_count": 195,
   "id": "minor-bread",
   "metadata": {},
   "outputs": [],
   "source": [
    "#STOCKAGE\n",
    "db = 'data/intellectuels.db'\n",
    "cn = sql.connect(db)\n",
    "c = cn.cursor()\n",
    "\n",
    "# Insérer les données\n",
    "c.executemany(\"INSERT OR IGNORE INTO property (uri_entity, property, value, source, quality, fk_query_as_source) VALUES (?,?,?,?,?,?)\", rl)\n",
    "\n",
    "# valider l'insertion et fermer la base de données\n",
    "## DESACTIVÉ !!! cn.commit()\n",
    "\n",
    "cn.close()"
   ]
  },
  {
   "cell_type": "markdown",
   "id": "charged-shelter",
   "metadata": {},
   "source": [
    "#### 110000"
   ]
  },
  {
   "cell_type": "code",
   "execution_count": null,
   "id": "informative-respondent",
   "metadata": {},
   "outputs": [],
   "source": []
  },
  {
   "cell_type": "code",
   "execution_count": 196,
   "id": "qualified-fifty",
   "metadata": {},
   "outputs": [
    {
     "data": {
      "text/plain": [
       "(45,\n",
       " 'Cherche les dates de naissances (dbp)',\n",
       " 'Cherche les dates de naissances (dbp)\\r\\n110000',\n",
       " None,\n",
       " 'https://dbpedia.org/sparql',\n",
       " 'PREFIX  dbo:  <http://dbpedia.org/ontology/>\\r\\nPREFIX  dbp:  <http://dbpedia.org/property/>\\r\\nPREFIX  dbr:  <http://dbpedia.org/resource/>\\r\\nPREFIX  yago: <http://dbpedia.org/class/yago/>\\r\\n\\r\\nSELECT DISTINCT  ?person ?birthDate \\r\\n WHERE \\r\\n   {\\r\\n     {\\r\\n       SELECT DISTINCT ?person ?birthDate \\r\\nWHERE \\r\\n             { ?person  dbp:birthDate ?birthDate\\r\\n                {?person  a                     yago:Intellectual109621545}\\r\\n             } \\r\\n       ORDER BY ?person \\r\\n     }\\r\\n   } \\r\\nOFFSET 100000 LIMIT 10000',\n",
       " None,\n",
       " '2021-07-04 19:30:13')"
      ]
     },
     "execution_count": 196,
     "metadata": {},
     "output_type": "execute_result"
    }
   ],
   "source": [
    "### Définir la ligne de la base de données à utiliser (inspécter préalablement la base de données)\n",
    "pk_query = 45\n",
    "\n",
    "# connnexion à la base de données\n",
    "original_db = 'data/intellectuels.db'\n",
    "conn = sql.connect(original_db)\n",
    "\n",
    "### exécuter la requëte sur la base de donées SQLite pour récupérer les valeurs que contient la ligne\n",
    "c = conn.cursor()\n",
    "c.execute('SELECT * FROM query WHERE pk_query = ?', [pk_query]) ### a list around argument is needed for a string longer then one\n",
    "#c.execute('SELECT * FROM query WHERE pk_query = 10')\n",
    "\n",
    "rc = c.fetchone()\n",
    "\n",
    "# fermer la connexion\n",
    "conn.close()\n",
    "\n",
    "# imprimer et inspecter le résultat\n",
    "rc"
   ]
  },
  {
   "cell_type": "code",
   "execution_count": 197,
   "id": "greek-falls",
   "metadata": {},
   "outputs": [
    {
     "name": "stdout",
     "output_type": "stream",
     "text": [
      "<class 'dict'>\n"
     ]
    }
   ],
   "source": [
    "qr = spqf.get_json_sparql_result(rc[4],rc[5])"
   ]
  },
  {
   "cell_type": "code",
   "execution_count": 198,
   "id": "original-hughes",
   "metadata": {},
   "outputs": [
    {
     "data": {
      "text/plain": [
       "2170"
      ]
     },
     "execution_count": 198,
     "metadata": {},
     "output_type": "execute_result"
    }
   ],
   "source": [
    "len(qr['results']['bindings'])"
   ]
  },
  {
   "cell_type": "code",
   "execution_count": 199,
   "id": "retained-aging",
   "metadata": {},
   "outputs": [],
   "source": [
    "# Transformer le résultat en liste en utilisant une autre fonction de la bibliothèque utilisateur\n",
    "r = [l for l in spqf.sparql_result_to_list(qr)]\n",
    "# r"
   ]
  },
  {
   "cell_type": "code",
   "execution_count": 200,
   "id": "christian-humanity",
   "metadata": {},
   "outputs": [
    {
     "name": "stdout",
     "output_type": "stream",
     "text": [
      "2170\n"
     ]
    },
    {
     "data": {
      "text/plain": [
       "[['http://dbpedia.org/resource/William_Scully_(bishop)', '1894-08-06'],\n",
       " ['http://dbpedia.org/resource/William_Seager_(philosopher)', '1952-04-11'],\n",
       " ['http://dbpedia.org/resource/William_Seale', '1939'],\n",
       " ['http://dbpedia.org/resource/William_Sealy_Gosset', '1876-06-13'],\n",
       " ['http://dbpedia.org/resource/William_Seaman_Bainbridge', '1870-02-17']]"
      ]
     },
     "execution_count": 200,
     "metadata": {},
     "output_type": "execute_result"
    }
   ],
   "source": [
    "# inspecter une seule ligne de la liste (de listes)\n",
    "print(len(r))\n",
    "r[:5]"
   ]
  },
  {
   "cell_type": "code",
   "execution_count": 201,
   "id": "federal-ending",
   "metadata": {},
   "outputs": [],
   "source": [
    "rl = [[l[0], 'http://dbpedia.org/property/birthDate', l[1], 'https://dbpedia.org/sparql', 1, 45 ] for l in r]"
   ]
  },
  {
   "cell_type": "code",
   "execution_count": 202,
   "id": "oriented-mustang",
   "metadata": {},
   "outputs": [
    {
     "name": "stdout",
     "output_type": "stream",
     "text": [
      "2170\n"
     ]
    },
    {
     "data": {
      "text/plain": [
       "[['http://dbpedia.org/resource/William_Scully_(bishop)',\n",
       "  'http://dbpedia.org/property/birthDate',\n",
       "  '1894-08-06',\n",
       "  'https://dbpedia.org/sparql',\n",
       "  1,\n",
       "  45],\n",
       " ['http://dbpedia.org/resource/William_Seager_(philosopher)',\n",
       "  'http://dbpedia.org/property/birthDate',\n",
       "  '1952-04-11',\n",
       "  'https://dbpedia.org/sparql',\n",
       "  1,\n",
       "  45],\n",
       " ['http://dbpedia.org/resource/William_Seale',\n",
       "  'http://dbpedia.org/property/birthDate',\n",
       "  '1939',\n",
       "  'https://dbpedia.org/sparql',\n",
       "  1,\n",
       "  45]]"
      ]
     },
     "execution_count": 202,
     "metadata": {},
     "output_type": "execute_result"
    }
   ],
   "source": [
    "print(len(rl))\n",
    "rl[:3]"
   ]
  },
  {
   "cell_type": "code",
   "execution_count": 203,
   "id": "described-steps",
   "metadata": {},
   "outputs": [],
   "source": [
    "#STOCKAGE\n",
    "db = 'data/intellectuels.db'\n",
    "cn = sql.connect(db)\n",
    "c = cn.cursor()\n",
    "\n",
    "# Insérer les données\n",
    "c.executemany(\"INSERT OR IGNORE INTO property (uri_entity, property, value, source, quality, fk_query_as_source) VALUES (?,?,?,?,?,?)\", rl)\n",
    "\n",
    "# valider l'insertion et fermer la base de données\n",
    "## DESACTIVÉ !!! cn.commit()\n",
    "\n",
    "cn.close()"
   ]
  },
  {
   "cell_type": "markdown",
   "id": "close-profession",
   "metadata": {},
   "source": [
    "#### inspection"
   ]
  },
  {
   "cell_type": "code",
   "execution_count": 204,
   "id": "civic-violence",
   "metadata": {},
   "outputs": [
    {
     "data": {
      "text/plain": [
       "[(86270, 'http://dbpedia.org/ontology/birthDate'),\n",
       " (33445, 'http://dbpedia.org/ontology/birthYear'),\n",
       " (102170, 'http://dbpedia.org/property/birthDate')]"
      ]
     },
     "execution_count": 204,
     "metadata": {},
     "output_type": "execute_result"
    }
   ],
   "source": [
    "# connnexion à la base de données\n",
    "cn = sql.connect(db)\n",
    "c = cn.cursor()\n",
    "\n",
    "### exécuter la requëte sur la base de donées SQLite pour récupérer les valeurs que contient la ligne\n",
    "c.execute('SELECT count(*) AS eff, property FROM property GROUP BY property')\n",
    "result_q = c.fetchall()\n",
    "\n",
    "# fermer la connexion\n",
    "cn.close()\n",
    "result_q[:30]"
   ]
  },
  {
   "cell_type": "markdown",
   "id": "portuguese-indie",
   "metadata": {},
   "source": [
    "### Sauvegarde DB\n",
    "\n",
    "Copie3 = entités person enregistrées / requêtes birthyear, birthdate ajoutées / propriétés birthyear (dbo) birthdate (dbo) et birthdate (dbp) ajoutées"
   ]
  },
  {
   "cell_type": "code",
   "execution_count": 205,
   "id": "horizontal-claim",
   "metadata": {},
   "outputs": [
    {
     "data": {
      "text/plain": [
       "'20210704_230734'"
      ]
     },
     "execution_count": 205,
     "metadata": {},
     "output_type": "execute_result"
    }
   ],
   "source": [
    "### Fonction qui récupère et met en forme le temps au moment de l'exécution\n",
    "\n",
    "# définition\n",
    "def timestamp_formatted_for_file_name():\n",
    "    is_now = time.strftime('%Y%m%d_%H%M%S')\n",
    "    return is_now\n",
    "\n",
    "# exécution\n",
    "timestamp_formatted_for_file_name()"
   ]
  },
  {
   "cell_type": "code",
   "execution_count": 206,
   "id": "relevant-radical",
   "metadata": {},
   "outputs": [],
   "source": [
    "### Définir les adresses des fichiers, l'existant et celui à créer\n",
    "original_db = 'data/intellectuels.db'\n",
    "\n",
    "##  Noter que la différence de suffixe, en soi totalement arbitraire, \n",
    "#  dépend du fait que dans la configuration de .gitignore, .sqlite est exclu du verisonnement GIT\n",
    "#  contrairement à .db qui est versionné\n",
    "timestamped_db_copy = 'data/intellectuels_copie3_' + timestamp_formatted_for_file_name() + '.sqlite'"
   ]
  },
  {
   "cell_type": "code",
   "execution_count": 207,
   "id": "uniform-alcohol",
   "metadata": {},
   "outputs": [
    {
     "data": {
      "text/plain": [
       "'data/intellectuels_copie3_20210704_230745.sqlite'"
      ]
     },
     "execution_count": 207,
     "metadata": {},
     "output_type": "execute_result"
    }
   ],
   "source": [
    "### Créer une copie de sauvegarde avec timestamp du fichier (versionnement manuel)\n",
    "# ATTENTION : la base de données doit exister à l'endroit indiqué !\n",
    "## Cette requête n'est utile que si des modifications en écriture vont être apportées à la base de données,\n",
    "# afin de préserver le dernier état avant modification\n",
    "\n",
    "## Documentation:\n",
    "# https://docs.python.org/3/library/shutil.htmlcopied_db = copyfile(original_db, timestamped_db_copy)\n",
    "\n",
    "copied_db = copyfile(original_db, timestamped_db_copy)\n",
    "copied_db"
   ]
  },
  {
   "cell_type": "markdown",
   "id": "developing-athens",
   "metadata": {},
   "source": [
    "### occupation (dbo)"
   ]
  },
  {
   "cell_type": "markdown",
   "id": "interracial-contamination",
   "metadata": {},
   "source": [
    "#### 10000"
   ]
  },
  {
   "cell_type": "code",
   "execution_count": 208,
   "id": "laden-complex",
   "metadata": {},
   "outputs": [
    {
     "data": {
      "text/plain": [
       "(49,\n",
       " 'Cherche les occupation (dbo)',\n",
       " 'Cherche les occupation (dbo)\\r\\n10000',\n",
       " None,\n",
       " 'https://dbpedia.org/sparql',\n",
       " 'PREFIX  dbo:  <http://dbpedia.org/ontology/>\\r\\nPREFIX  dbp:  <http://dbpedia.org/property/>\\r\\nPREFIX  dbr:  <http://dbpedia.org/resource/>\\r\\nPREFIX  yago: <http://dbpedia.org/class/yago/>\\r\\n\\r\\nSELECT DISTINCT ?person ?occupation\\r\\nWHERE\\r\\n  { ?person  dbo:occupation  ?occupation\\r\\n      { ?person  a                     yago:Intellectual109621545}\\r\\n  }\\r\\n ORDER BY ?person',\n",
       " None,\n",
       " '2021-07-04 23:53:41')"
      ]
     },
     "execution_count": 208,
     "metadata": {},
     "output_type": "execute_result"
    }
   ],
   "source": [
    "### Définir la ligne de la base de données à utiliser (inspécter préalablement la base de données)\n",
    "pk_query = 49\n",
    "\n",
    "# connnexion à la base de données\n",
    "original_db = 'data/intellectuels.db'\n",
    "conn = sql.connect(original_db)\n",
    "\n",
    "### exécuter la requëte sur la base de donées SQLite pour récupérer les valeurs que contient la ligne\n",
    "c = conn.cursor()\n",
    "c.execute('SELECT * FROM query WHERE pk_query = ?', [pk_query]) ### a list around argument is needed for a string longer then one\n",
    "#c.execute('SELECT * FROM query WHERE pk_query = 10')\n",
    "\n",
    "rc = c.fetchone()\n",
    "\n",
    "# fermer la connexion\n",
    "conn.close()\n",
    "\n",
    "# imprimer et inspecter le résultat\n",
    "rc"
   ]
  },
  {
   "cell_type": "code",
   "execution_count": 209,
   "id": "interim-pontiac",
   "metadata": {},
   "outputs": [
    {
     "name": "stdout",
     "output_type": "stream",
     "text": [
      "<class 'dict'>\n"
     ]
    }
   ],
   "source": [
    "qr = spqf.get_json_sparql_result(rc[4],rc[5])"
   ]
  },
  {
   "cell_type": "code",
   "execution_count": 210,
   "id": "roman-chosen",
   "metadata": {},
   "outputs": [
    {
     "data": {
      "text/plain": [
       "10000"
      ]
     },
     "execution_count": 210,
     "metadata": {},
     "output_type": "execute_result"
    }
   ],
   "source": [
    "len(qr['results']['bindings'])"
   ]
  },
  {
   "cell_type": "code",
   "execution_count": 211,
   "id": "blessed-paper",
   "metadata": {},
   "outputs": [],
   "source": [
    "# Transformer le résultat en liste en utilisant une autre fonction de la bibliothèque utilisateur\n",
    "r = [l for l in spqf.sparql_result_to_list(qr)]\n",
    "# r"
   ]
  },
  {
   "cell_type": "code",
   "execution_count": 212,
   "id": "about-provincial",
   "metadata": {},
   "outputs": [
    {
     "name": "stdout",
     "output_type": "stream",
     "text": [
      "10000\n"
     ]
    },
    {
     "data": {
      "text/plain": [
       "[['http://dbpedia.org/resource/9th_Wonder',\n",
       "  'http://dbpedia.org/resource/9th_Wonder_production_discography'],\n",
       " ['http://dbpedia.org/resource/9th_Wonder',\n",
       "  'http://dbpedia.org/resource/Rapping'],\n",
       " ['http://dbpedia.org/resource/9th_Wonder',\n",
       "  'http://dbpedia.org/resource/Record_executive'],\n",
       " [\"http://dbpedia.org/resource/A'Lelia_Bundles\",\n",
       "  \"http://dbpedia.org/resource/A'Lelia_Bundles__PersonFunction__1\"],\n",
       " ['http://dbpedia.org/resource/A.B.C._Whipple',\n",
       "  'http://dbpedia.org/resource/Historian']]"
      ]
     },
     "execution_count": 212,
     "metadata": {},
     "output_type": "execute_result"
    }
   ],
   "source": [
    "# inspecter une seule ligne de la liste (de listes)\n",
    "print(len(r))\n",
    "r[:5]"
   ]
  },
  {
   "cell_type": "code",
   "execution_count": 213,
   "id": "square-atlas",
   "metadata": {},
   "outputs": [],
   "source": [
    "rl = [[l[0], 'http://dbpedia.org/ontology/occupation', l[1], 'https://dbpedia.org/sparql', 1, 49 ] for l in r]"
   ]
  },
  {
   "cell_type": "code",
   "execution_count": 214,
   "id": "tutorial-circus",
   "metadata": {},
   "outputs": [
    {
     "name": "stdout",
     "output_type": "stream",
     "text": [
      "10000\n"
     ]
    },
    {
     "data": {
      "text/plain": [
       "[['http://dbpedia.org/resource/9th_Wonder',\n",
       "  'http://dbpedia.org/ontology/occupation',\n",
       "  'http://dbpedia.org/resource/9th_Wonder_production_discography',\n",
       "  'https://dbpedia.org/sparql',\n",
       "  1,\n",
       "  49],\n",
       " ['http://dbpedia.org/resource/9th_Wonder',\n",
       "  'http://dbpedia.org/ontology/occupation',\n",
       "  'http://dbpedia.org/resource/Rapping',\n",
       "  'https://dbpedia.org/sparql',\n",
       "  1,\n",
       "  49],\n",
       " ['http://dbpedia.org/resource/9th_Wonder',\n",
       "  'http://dbpedia.org/ontology/occupation',\n",
       "  'http://dbpedia.org/resource/Record_executive',\n",
       "  'https://dbpedia.org/sparql',\n",
       "  1,\n",
       "  49]]"
      ]
     },
     "execution_count": 214,
     "metadata": {},
     "output_type": "execute_result"
    }
   ],
   "source": [
    "print(len(rl))\n",
    "rl[:3]"
   ]
  },
  {
   "cell_type": "code",
   "execution_count": 215,
   "id": "military-detective",
   "metadata": {},
   "outputs": [],
   "source": [
    "#STOCKAGE\n",
    "db = 'data/intellectuels.db'\n",
    "cn = sql.connect(db)\n",
    "c = cn.cursor()\n",
    "\n",
    "# Insérer les données\n",
    "c.executemany(\"INSERT OR IGNORE INTO property (uri_entity, property, value, source, quality, fk_query_as_source) VALUES (?,?,?,?,?,?)\", rl)\n",
    "\n",
    "# valider l'insertion et fermer la base de données\n",
    "## DESACTIVÉ !!! cn.commit()\n",
    "\n",
    "cn.close()"
   ]
  },
  {
   "cell_type": "markdown",
   "id": "alleged-affiliate",
   "metadata": {},
   "source": [
    "#### 20000"
   ]
  },
  {
   "cell_type": "code",
   "execution_count": 216,
   "id": "under-tutorial",
   "metadata": {},
   "outputs": [
    {
     "data": {
      "text/plain": [
       "(50,\n",
       " 'Cherche les occupation (dbo)',\n",
       " 'Cherche les occupation (dbo)\\r\\n20000',\n",
       " None,\n",
       " 'https://dbpedia.org/sparql',\n",
       " 'PREFIX  dbo:  <http://dbpedia.org/ontology/>\\r\\nPREFIX  dbp:  <http://dbpedia.org/property/>\\r\\nPREFIX  dbr:  <http://dbpedia.org/resource/>\\r\\nPREFIX  yago: <http://dbpedia.org/class/yago/>\\r\\n\\r\\nSELECT DISTINCT ?person ?occupation\\r\\nWHERE\\r\\n  { ?person  dbo:occupation  ?occupation\\r\\n      { ?person  a                     yago:Intellectual109621545}\\r\\n  }\\r\\n ORDER BY ?person\\r\\n OFFSET 10000 LIMIT 10000',\n",
       " None,\n",
       " '2021-07-05 00:11:16')"
      ]
     },
     "execution_count": 216,
     "metadata": {},
     "output_type": "execute_result"
    }
   ],
   "source": [
    "### Définir la ligne de la base de données à utiliser (inspécter préalablement la base de données)\n",
    "pk_query = 50\n",
    "\n",
    "# connnexion à la base de données\n",
    "original_db = 'data/intellectuels.db'\n",
    "conn = sql.connect(original_db)\n",
    "\n",
    "### exécuter la requëte sur la base de donées SQLite pour récupérer les valeurs que contient la ligne\n",
    "c = conn.cursor()\n",
    "c.execute('SELECT * FROM query WHERE pk_query = ?', [pk_query]) ### a list around argument is needed for a string longer then one\n",
    "#c.execute('SELECT * FROM query WHERE pk_query = 10')\n",
    "\n",
    "rc = c.fetchone()\n",
    "\n",
    "# fermer la connexion\n",
    "conn.close()\n",
    "\n",
    "# imprimer et inspecter le résultat\n",
    "rc"
   ]
  },
  {
   "cell_type": "code",
   "execution_count": 217,
   "id": "medieval-bulletin",
   "metadata": {},
   "outputs": [
    {
     "name": "stdout",
     "output_type": "stream",
     "text": [
      "<class 'dict'>\n"
     ]
    }
   ],
   "source": [
    "qr = spqf.get_json_sparql_result(rc[4],rc[5])"
   ]
  },
  {
   "cell_type": "code",
   "execution_count": 218,
   "id": "still-queen",
   "metadata": {},
   "outputs": [
    {
     "data": {
      "text/plain": [
       "10000"
      ]
     },
     "execution_count": 218,
     "metadata": {},
     "output_type": "execute_result"
    }
   ],
   "source": [
    "len(qr['results']['bindings'])"
   ]
  },
  {
   "cell_type": "code",
   "execution_count": 219,
   "id": "known-triple",
   "metadata": {},
   "outputs": [],
   "source": [
    "# Transformer le résultat en liste en utilisant une autre fonction de la bibliothèque utilisateur\n",
    "r = [l for l in spqf.sparql_result_to_list(qr)]\n",
    "# r"
   ]
  },
  {
   "cell_type": "code",
   "execution_count": 220,
   "id": "southern-darkness",
   "metadata": {},
   "outputs": [
    {
     "name": "stdout",
     "output_type": "stream",
     "text": [
      "10000\n"
     ]
    },
    {
     "data": {
      "text/plain": [
       "[['http://dbpedia.org/resource/Christopher_Mellon',\n",
       "  'http://dbpedia.org/resource/Deputy_Assistant_Secretary_of_Defense'],\n",
       " ['http://dbpedia.org/resource/Christopher_Mellon',\n",
       "  'http://dbpedia.org/resource/Christopher_Mellon__PersonFunction__1'],\n",
       " ['http://dbpedia.org/resource/Christopher_Merrill',\n",
       "  'http://dbpedia.org/resource/University_of_Iowa'],\n",
       " ['http://dbpedia.org/resource/Christopher_Merrill',\n",
       "  'http://dbpedia.org/resource/International_Writing_Program'],\n",
       " ['http://dbpedia.org/resource/Christopher_Moore_(author)',\n",
       "  'http://dbpedia.org/resource/Novelist']]"
      ]
     },
     "execution_count": 220,
     "metadata": {},
     "output_type": "execute_result"
    }
   ],
   "source": [
    "# inspecter une seule ligne de la liste (de listes)\n",
    "print(len(r))\n",
    "r[:5]"
   ]
  },
  {
   "cell_type": "code",
   "execution_count": 221,
   "id": "official-uzbekistan",
   "metadata": {},
   "outputs": [],
   "source": [
    "rl = [[l[0], 'http://dbpedia.org/ontology/occupation', l[1], 'https://dbpedia.org/sparql', 1, 50 ] for l in r]"
   ]
  },
  {
   "cell_type": "code",
   "execution_count": 222,
   "id": "human-catalyst",
   "metadata": {},
   "outputs": [
    {
     "name": "stdout",
     "output_type": "stream",
     "text": [
      "10000\n"
     ]
    },
    {
     "data": {
      "text/plain": [
       "[['http://dbpedia.org/resource/Christopher_Mellon',\n",
       "  'http://dbpedia.org/ontology/occupation',\n",
       "  'http://dbpedia.org/resource/Deputy_Assistant_Secretary_of_Defense',\n",
       "  'https://dbpedia.org/sparql',\n",
       "  1,\n",
       "  50],\n",
       " ['http://dbpedia.org/resource/Christopher_Mellon',\n",
       "  'http://dbpedia.org/ontology/occupation',\n",
       "  'http://dbpedia.org/resource/Christopher_Mellon__PersonFunction__1',\n",
       "  'https://dbpedia.org/sparql',\n",
       "  1,\n",
       "  50],\n",
       " ['http://dbpedia.org/resource/Christopher_Merrill',\n",
       "  'http://dbpedia.org/ontology/occupation',\n",
       "  'http://dbpedia.org/resource/University_of_Iowa',\n",
       "  'https://dbpedia.org/sparql',\n",
       "  1,\n",
       "  50]]"
      ]
     },
     "execution_count": 222,
     "metadata": {},
     "output_type": "execute_result"
    }
   ],
   "source": [
    "print(len(rl))\n",
    "rl[:3]"
   ]
  },
  {
   "cell_type": "code",
   "execution_count": 223,
   "id": "multiple-chorus",
   "metadata": {},
   "outputs": [],
   "source": [
    "#STOCKAGE\n",
    "db = 'data/intellectuels.db'\n",
    "cn = sql.connect(db)\n",
    "c = cn.cursor()\n",
    "\n",
    "# Insérer les données\n",
    "c.executemany(\"INSERT OR IGNORE INTO property (uri_entity, property, value, source, quality, fk_query_as_source) VALUES (?,?,?,?,?,?)\", rl)\n",
    "\n",
    "# valider l'insertion et fermer la base de données\n",
    "## DESACTIVÉ !!! cn.commit()\n",
    "\n",
    "cn.close()"
   ]
  },
  {
   "cell_type": "markdown",
   "id": "hundred-polish",
   "metadata": {},
   "source": [
    "#### 30000"
   ]
  },
  {
   "cell_type": "code",
   "execution_count": 224,
   "id": "earlier-second",
   "metadata": {},
   "outputs": [
    {
     "data": {
      "text/plain": [
       "(51,\n",
       " 'Cherche les occupation (dbo)',\n",
       " 'Cherche les occupation (dbo)\\r\\n30000',\n",
       " None,\n",
       " 'https://dbpedia.org/sparql',\n",
       " 'PREFIX  dbo:  <http://dbpedia.org/ontology/>\\r\\nPREFIX  dbp:  <http://dbpedia.org/property/>\\r\\nPREFIX  dbr:  <http://dbpedia.org/resource/>\\r\\nPREFIX  yago: <http://dbpedia.org/class/yago/>\\r\\n\\r\\nSELECT DISTINCT ?person ?occupation\\r\\nWHERE\\r\\n  { ?person  dbo:occupation  ?occupation\\r\\n      { ?person  a                     yago:Intellectual109621545}\\r\\n  }\\r\\n ORDER BY ?person\\r\\n OFFSET 20000 LIMIT 10000',\n",
       " None,\n",
       " '2021-07-05 00:11:16')"
      ]
     },
     "execution_count": 224,
     "metadata": {},
     "output_type": "execute_result"
    }
   ],
   "source": [
    "### Définir la ligne de la base de données à utiliser (inspécter préalablement la base de données)\n",
    "pk_query = 51\n",
    "\n",
    "# connnexion à la base de données\n",
    "original_db = 'data/intellectuels.db'\n",
    "conn = sql.connect(original_db)\n",
    "\n",
    "### exécuter la requëte sur la base de donées SQLite pour récupérer les valeurs que contient la ligne\n",
    "c = conn.cursor()\n",
    "c.execute('SELECT * FROM query WHERE pk_query = ?', [pk_query]) ### a list around argument is needed for a string longer then one\n",
    "#c.execute('SELECT * FROM query WHERE pk_query = 10')\n",
    "\n",
    "rc = c.fetchone()\n",
    "\n",
    "# fermer la connexion\n",
    "conn.close()\n",
    "\n",
    "# imprimer et inspecter le résultat\n",
    "rc"
   ]
  },
  {
   "cell_type": "code",
   "execution_count": 225,
   "id": "appreciated-republican",
   "metadata": {},
   "outputs": [
    {
     "name": "stdout",
     "output_type": "stream",
     "text": [
      "<class 'dict'>\n"
     ]
    }
   ],
   "source": [
    "qr = spqf.get_json_sparql_result(rc[4],rc[5])"
   ]
  },
  {
   "cell_type": "code",
   "execution_count": 226,
   "id": "worth-stations",
   "metadata": {},
   "outputs": [
    {
     "data": {
      "text/plain": [
       "10000"
      ]
     },
     "execution_count": 226,
     "metadata": {},
     "output_type": "execute_result"
    }
   ],
   "source": [
    "len(qr['results']['bindings'])"
   ]
  },
  {
   "cell_type": "code",
   "execution_count": 227,
   "id": "precise-stuff",
   "metadata": {},
   "outputs": [],
   "source": [
    "# Transformer le résultat en liste en utilisant une autre fonction de la bibliothèque utilisateur\n",
    "r = [l for l in spqf.sparql_result_to_list(qr)]\n",
    "# r"
   ]
  },
  {
   "cell_type": "code",
   "execution_count": 228,
   "id": "elementary-graphic",
   "metadata": {},
   "outputs": [
    {
     "name": "stdout",
     "output_type": "stream",
     "text": [
      "10000\n"
     ]
    },
    {
     "data": {
      "text/plain": [
       "[['http://dbpedia.org/resource/Gerry_Campbell',\n",
       "  'http://dbpedia.org/resource/Executive_officer'],\n",
       " ['http://dbpedia.org/resource/Gerry_Campbell',\n",
       "  'http://dbpedia.org/resource/Entrepreneur'],\n",
       " ['http://dbpedia.org/resource/Gerry_Campbell',\n",
       "  'http://dbpedia.org/resource/Gerry_Campbell__PersonFunction__1'],\n",
       " ['http://dbpedia.org/resource/Gerry_Connolly_(comedian)',\n",
       "  'http://dbpedia.org/resource/Actor'],\n",
       " ['http://dbpedia.org/resource/Gerry_Connolly_(comedian)',\n",
       "  'http://dbpedia.org/resource/Gerry_Connolly_(comedian)__PersonFunction__1']]"
      ]
     },
     "execution_count": 228,
     "metadata": {},
     "output_type": "execute_result"
    }
   ],
   "source": [
    "# inspecter une seule ligne de la liste (de listes)\n",
    "print(len(r))\n",
    "r[:5]"
   ]
  },
  {
   "cell_type": "code",
   "execution_count": 229,
   "id": "hollow-russell",
   "metadata": {},
   "outputs": [],
   "source": [
    "rl = [[l[0], 'http://dbpedia.org/ontology/occupation', l[1], 'https://dbpedia.org/sparql', 1, 51 ] for l in r]"
   ]
  },
  {
   "cell_type": "code",
   "execution_count": 230,
   "id": "dried-flood",
   "metadata": {},
   "outputs": [
    {
     "name": "stdout",
     "output_type": "stream",
     "text": [
      "10000\n"
     ]
    },
    {
     "data": {
      "text/plain": [
       "[['http://dbpedia.org/resource/Gerry_Campbell',\n",
       "  'http://dbpedia.org/ontology/occupation',\n",
       "  'http://dbpedia.org/resource/Executive_officer',\n",
       "  'https://dbpedia.org/sparql',\n",
       "  1,\n",
       "  51],\n",
       " ['http://dbpedia.org/resource/Gerry_Campbell',\n",
       "  'http://dbpedia.org/ontology/occupation',\n",
       "  'http://dbpedia.org/resource/Entrepreneur',\n",
       "  'https://dbpedia.org/sparql',\n",
       "  1,\n",
       "  51],\n",
       " ['http://dbpedia.org/resource/Gerry_Campbell',\n",
       "  'http://dbpedia.org/ontology/occupation',\n",
       "  'http://dbpedia.org/resource/Gerry_Campbell__PersonFunction__1',\n",
       "  'https://dbpedia.org/sparql',\n",
       "  1,\n",
       "  51]]"
      ]
     },
     "execution_count": 230,
     "metadata": {},
     "output_type": "execute_result"
    }
   ],
   "source": [
    "print(len(rl))\n",
    "rl[:3]"
   ]
  },
  {
   "cell_type": "code",
   "execution_count": 231,
   "id": "compact-creativity",
   "metadata": {},
   "outputs": [],
   "source": [
    "#STOCKAGE\n",
    "db = 'data/intellectuels.db'\n",
    "cn = sql.connect(db)\n",
    "c = cn.cursor()\n",
    "\n",
    "# Insérer les données\n",
    "c.executemany(\"INSERT OR IGNORE INTO property (uri_entity, property, value, source, quality, fk_query_as_source) VALUES (?,?,?,?,?,?)\", rl)\n",
    "\n",
    "# valider l'insertion et fermer la base de données\n",
    "## DESACTIVÉ !!! cn.commit()\n",
    "\n",
    "cn.close()"
   ]
  },
  {
   "cell_type": "markdown",
   "id": "irish-application",
   "metadata": {},
   "source": [
    "#### 40000"
   ]
  },
  {
   "cell_type": "code",
   "execution_count": null,
   "id": "express-variety",
   "metadata": {},
   "outputs": [],
   "source": []
  },
  {
   "cell_type": "code",
   "execution_count": 232,
   "id": "limiting-affiliate",
   "metadata": {},
   "outputs": [
    {
     "data": {
      "text/plain": [
       "(52,\n",
       " 'Cherche les occupation (dbo)',\n",
       " 'Cherche les occupation (dbo)\\r\\n40000',\n",
       " None,\n",
       " 'https://dbpedia.org/sparql',\n",
       " 'PREFIX  dbo:  <http://dbpedia.org/ontology/>\\r\\nPREFIX  dbp:  <http://dbpedia.org/property/>\\r\\nPREFIX  dbr:  <http://dbpedia.org/resource/>\\r\\nPREFIX  yago: <http://dbpedia.org/class/yago/>\\r\\n\\r\\nSELECT DISTINCT ?person ?occupation\\r\\nWHERE\\r\\n  { ?person  dbo:occupation  ?occupation\\r\\n      { ?person  a                     yago:Intellectual109621545}\\r\\n  }\\r\\n ORDER BY ?person\\r\\n OFFSET 30000 LIMIT 10000',\n",
       " None,\n",
       " '2021-07-05 00:11:16')"
      ]
     },
     "execution_count": 232,
     "metadata": {},
     "output_type": "execute_result"
    }
   ],
   "source": [
    "### Définir la ligne de la base de données à utiliser (inspécter préalablement la base de données)\n",
    "pk_query = 52\n",
    "\n",
    "# connnexion à la base de données\n",
    "original_db = 'data/intellectuels.db'\n",
    "conn = sql.connect(original_db)\n",
    "\n",
    "### exécuter la requëte sur la base de donées SQLite pour récupérer les valeurs que contient la ligne\n",
    "c = conn.cursor()\n",
    "c.execute('SELECT * FROM query WHERE pk_query = ?', [pk_query]) ### a list around argument is needed for a string longer then one\n",
    "#c.execute('SELECT * FROM query WHERE pk_query = 10')\n",
    "\n",
    "rc = c.fetchone()\n",
    "\n",
    "# fermer la connexion\n",
    "conn.close()\n",
    "\n",
    "# imprimer et inspecter le résultat\n",
    "rc"
   ]
  },
  {
   "cell_type": "code",
   "execution_count": 233,
   "id": "pressing-chase",
   "metadata": {},
   "outputs": [
    {
     "name": "stdout",
     "output_type": "stream",
     "text": [
      "<class 'dict'>\n"
     ]
    }
   ],
   "source": [
    "qr = spqf.get_json_sparql_result(rc[4],rc[5])"
   ]
  },
  {
   "cell_type": "code",
   "execution_count": 234,
   "id": "adult-voice",
   "metadata": {},
   "outputs": [
    {
     "data": {
      "text/plain": [
       "10000"
      ]
     },
     "execution_count": 234,
     "metadata": {},
     "output_type": "execute_result"
    }
   ],
   "source": [
    "len(qr['results']['bindings'])"
   ]
  },
  {
   "cell_type": "code",
   "execution_count": 235,
   "id": "manual-legend",
   "metadata": {},
   "outputs": [],
   "source": [
    "# Transformer le résultat en liste en utilisant une autre fonction de la bibliothèque utilisateur\n",
    "r = [l for l in spqf.sparql_result_to_list(qr)]\n",
    "# r"
   ]
  },
  {
   "cell_type": "code",
   "execution_count": 236,
   "id": "rotary-twins",
   "metadata": {},
   "outputs": [
    {
     "name": "stdout",
     "output_type": "stream",
     "text": [
      "10000\n"
     ]
    },
    {
     "data": {
      "text/plain": [
       "[['http://dbpedia.org/resource/John_Wheelwright',\n",
       "  'http://dbpedia.org/resource/John_Wheelwright__PersonFunction__1'],\n",
       " ['http://dbpedia.org/resource/John_Whelan_Sterling',\n",
       "  'http://dbpedia.org/resource/John_Whelan_Sterling__PersonFunction__1'],\n",
       " ['http://dbpedia.org/resource/John_White,_1st_Baron_Overtoun',\n",
       "  'http://dbpedia.org/resource/John_White,_1st_Baron_Overtoun__PersonFunction__1'],\n",
       " ['http://dbpedia.org/resource/John_White_(composer)',\n",
       "  'http://dbpedia.org/resource/Composer'],\n",
       " ['http://dbpedia.org/resource/John_Whitelaw_(general,_born_1894)',\n",
       "  'http://dbpedia.org/resource/Royal_Regiment_of_Australian_Artillery']]"
      ]
     },
     "execution_count": 236,
     "metadata": {},
     "output_type": "execute_result"
    }
   ],
   "source": [
    "# inspecter une seule ligne de la liste (de listes)\n",
    "print(len(r))\n",
    "r[:5]"
   ]
  },
  {
   "cell_type": "code",
   "execution_count": 237,
   "id": "differential-variance",
   "metadata": {},
   "outputs": [],
   "source": [
    "rl = [[l[0], 'http://dbpedia.org/ontology/occupation', l[1], 'https://dbpedia.org/sparql', 1, 52 ] for l in r]"
   ]
  },
  {
   "cell_type": "code",
   "execution_count": 238,
   "id": "mobile-speaking",
   "metadata": {},
   "outputs": [
    {
     "name": "stdout",
     "output_type": "stream",
     "text": [
      "10000\n"
     ]
    },
    {
     "data": {
      "text/plain": [
       "[['http://dbpedia.org/resource/John_Wheelwright',\n",
       "  'http://dbpedia.org/ontology/occupation',\n",
       "  'http://dbpedia.org/resource/John_Wheelwright__PersonFunction__1',\n",
       "  'https://dbpedia.org/sparql',\n",
       "  1,\n",
       "  52],\n",
       " ['http://dbpedia.org/resource/John_Whelan_Sterling',\n",
       "  'http://dbpedia.org/ontology/occupation',\n",
       "  'http://dbpedia.org/resource/John_Whelan_Sterling__PersonFunction__1',\n",
       "  'https://dbpedia.org/sparql',\n",
       "  1,\n",
       "  52],\n",
       " ['http://dbpedia.org/resource/John_White,_1st_Baron_Overtoun',\n",
       "  'http://dbpedia.org/ontology/occupation',\n",
       "  'http://dbpedia.org/resource/John_White,_1st_Baron_Overtoun__PersonFunction__1',\n",
       "  'https://dbpedia.org/sparql',\n",
       "  1,\n",
       "  52]]"
      ]
     },
     "execution_count": 238,
     "metadata": {},
     "output_type": "execute_result"
    }
   ],
   "source": [
    "print(len(rl))\n",
    "rl[:3]"
   ]
  },
  {
   "cell_type": "code",
   "execution_count": 239,
   "id": "finished-satin",
   "metadata": {},
   "outputs": [],
   "source": [
    "#STOCKAGE\n",
    "db = 'data/intellectuels.db'\n",
    "cn = sql.connect(db)\n",
    "c = cn.cursor()\n",
    "\n",
    "# Insérer les données\n",
    "c.executemany(\"INSERT OR IGNORE INTO property (uri_entity, property, value, source, quality, fk_query_as_source) VALUES (?,?,?,?,?,?)\", rl)\n",
    "\n",
    "# valider l'insertion et fermer la base de données\n",
    "## DESACTIVÉ !!! cn.commit()\n",
    "\n",
    "cn.close()"
   ]
  },
  {
   "cell_type": "markdown",
   "id": "optimum-staff",
   "metadata": {},
   "source": [
    "#### 50000"
   ]
  },
  {
   "cell_type": "code",
   "execution_count": 240,
   "id": "common-blair",
   "metadata": {},
   "outputs": [
    {
     "data": {
      "text/plain": [
       "(53,\n",
       " 'Cherche les occupation (dbo)',\n",
       " 'Cherche les occupation (dbo)\\r\\n50000',\n",
       " None,\n",
       " 'https://dbpedia.org/sparql',\n",
       " 'PREFIX  dbo:  <http://dbpedia.org/ontology/>\\r\\nPREFIX  dbp:  <http://dbpedia.org/property/>\\r\\nPREFIX  dbr:  <http://dbpedia.org/resource/>\\r\\nPREFIX  yago: <http://dbpedia.org/class/yago/>\\r\\n\\r\\nSELECT DISTINCT  ?person ?occupation \\r\\n WHERE \\r\\n   {\\r\\n     {\\r\\n       SELECT DISTINCT ?person ?occupation \\r\\nWHERE \\r\\n             { ?person  dbo:occupation ?occupation\\r\\n                {?person  a                     yago:Intellectual109621545}\\r\\n             } \\r\\n       ORDER BY ?person \\r\\n     }\\r\\n   } \\r\\nOFFSET 40000 LIMIT 10000',\n",
       " None,\n",
       " '2021-07-05 00:11:16')"
      ]
     },
     "execution_count": 240,
     "metadata": {},
     "output_type": "execute_result"
    }
   ],
   "source": [
    "### Définir la ligne de la base de données à utiliser (inspécter préalablement la base de données)\n",
    "pk_query = 53\n",
    "\n",
    "# connnexion à la base de données\n",
    "original_db = 'data/intellectuels.db'\n",
    "conn = sql.connect(original_db)\n",
    "\n",
    "### exécuter la requëte sur la base de donées SQLite pour récupérer les valeurs que contient la ligne\n",
    "c = conn.cursor()\n",
    "c.execute('SELECT * FROM query WHERE pk_query = ?', [pk_query]) ### a list around argument is needed for a string longer then one\n",
    "#c.execute('SELECT * FROM query WHERE pk_query = 10')\n",
    "\n",
    "rc = c.fetchone()\n",
    "\n",
    "# fermer la connexion\n",
    "conn.close()\n",
    "\n",
    "# imprimer et inspecter le résultat\n",
    "rc"
   ]
  },
  {
   "cell_type": "code",
   "execution_count": 241,
   "id": "matched-dealer",
   "metadata": {},
   "outputs": [
    {
     "name": "stdout",
     "output_type": "stream",
     "text": [
      "<class 'dict'>\n"
     ]
    }
   ],
   "source": [
    "qr = spqf.get_json_sparql_result(rc[4],rc[5])"
   ]
  },
  {
   "cell_type": "code",
   "execution_count": 242,
   "id": "conscious-monitoring",
   "metadata": {},
   "outputs": [
    {
     "data": {
      "text/plain": [
       "10000"
      ]
     },
     "execution_count": 242,
     "metadata": {},
     "output_type": "execute_result"
    }
   ],
   "source": [
    "len(qr['results']['bindings'])"
   ]
  },
  {
   "cell_type": "code",
   "execution_count": 243,
   "id": "chicken-northeast",
   "metadata": {},
   "outputs": [],
   "source": [
    "# Transformer le résultat en liste en utilisant une autre fonction de la bibliothèque utilisateur\n",
    "r = [l for l in spqf.sparql_result_to_list(qr)]\n",
    "# r"
   ]
  },
  {
   "cell_type": "code",
   "execution_count": 244,
   "id": "rising-protection",
   "metadata": {},
   "outputs": [
    {
     "name": "stdout",
     "output_type": "stream",
     "text": [
      "10000\n"
     ]
    },
    {
     "data": {
      "text/plain": [
       "[['http://dbpedia.org/resource/Michael_Lulume_Bayigga',\n",
       "  'http://dbpedia.org/resource/Physician'],\n",
       " ['http://dbpedia.org/resource/Michael_Luo',\n",
       "  'http://dbpedia.org/resource/Journalist'],\n",
       " ['http://dbpedia.org/resource/Michael_Luo',\n",
       "  'http://dbpedia.org/resource/Michael_Luo__PersonFunction__1'],\n",
       " ['http://dbpedia.org/resource/Michael_Lynne',\n",
       "  'http://dbpedia.org/resource/Michael_Lynne__PersonFunction__1'],\n",
       " ['http://dbpedia.org/resource/Michael_Lynton',\n",
       "  'http://dbpedia.org/resource/Snap_Inc.']]"
      ]
     },
     "execution_count": 244,
     "metadata": {},
     "output_type": "execute_result"
    }
   ],
   "source": [
    "# inspecter une seule ligne de la liste (de listes)\n",
    "print(len(r))\n",
    "r[:5]"
   ]
  },
  {
   "cell_type": "code",
   "execution_count": 245,
   "id": "fossil-acceptance",
   "metadata": {},
   "outputs": [],
   "source": [
    "rl = [[l[0], 'http://dbpedia.org/ontology/occupation', l[1], 'https://dbpedia.org/sparql', 1, 53 ] for l in r]"
   ]
  },
  {
   "cell_type": "code",
   "execution_count": 246,
   "id": "wireless-lottery",
   "metadata": {},
   "outputs": [
    {
     "name": "stdout",
     "output_type": "stream",
     "text": [
      "10000\n"
     ]
    },
    {
     "data": {
      "text/plain": [
       "[['http://dbpedia.org/resource/Michael_Lulume_Bayigga',\n",
       "  'http://dbpedia.org/ontology/occupation',\n",
       "  'http://dbpedia.org/resource/Physician',\n",
       "  'https://dbpedia.org/sparql',\n",
       "  1,\n",
       "  53],\n",
       " ['http://dbpedia.org/resource/Michael_Luo',\n",
       "  'http://dbpedia.org/ontology/occupation',\n",
       "  'http://dbpedia.org/resource/Journalist',\n",
       "  'https://dbpedia.org/sparql',\n",
       "  1,\n",
       "  53],\n",
       " ['http://dbpedia.org/resource/Michael_Luo',\n",
       "  'http://dbpedia.org/ontology/occupation',\n",
       "  'http://dbpedia.org/resource/Michael_Luo__PersonFunction__1',\n",
       "  'https://dbpedia.org/sparql',\n",
       "  1,\n",
       "  53]]"
      ]
     },
     "execution_count": 246,
     "metadata": {},
     "output_type": "execute_result"
    }
   ],
   "source": [
    "print(len(rl))\n",
    "rl[:3]"
   ]
  },
  {
   "cell_type": "code",
   "execution_count": 247,
   "id": "liked-sapphire",
   "metadata": {},
   "outputs": [],
   "source": [
    "#STOCKAGE\n",
    "db = 'data/intellectuels.db'\n",
    "cn = sql.connect(db)\n",
    "c = cn.cursor()\n",
    "\n",
    "# Insérer les données\n",
    "c.executemany(\"INSERT OR IGNORE INTO property (uri_entity, property, value, source, quality, fk_query_as_source) VALUES (?,?,?,?,?,?)\", rl)\n",
    "\n",
    "# valider l'insertion et fermer la base de données\n",
    "## DESACTIVÉ !!! cn.commit()\n",
    "\n",
    "cn.close()"
   ]
  },
  {
   "cell_type": "markdown",
   "id": "higher-screen",
   "metadata": {},
   "source": [
    "#### 60000"
   ]
  },
  {
   "cell_type": "code",
   "execution_count": null,
   "id": "charged-yield",
   "metadata": {},
   "outputs": [],
   "source": []
  },
  {
   "cell_type": "code",
   "execution_count": 248,
   "id": "temporal-final",
   "metadata": {},
   "outputs": [
    {
     "data": {
      "text/plain": [
       "(54,\n",
       " 'Cherche les occupation (dbo)',\n",
       " 'Cherche les occupation (dbo)\\r\\n60000',\n",
       " None,\n",
       " 'https://dbpedia.org/sparql',\n",
       " 'PREFIX  dbo:  <http://dbpedia.org/ontology/>\\r\\nPREFIX  dbp:  <http://dbpedia.org/property/>\\r\\nPREFIX  dbr:  <http://dbpedia.org/resource/>\\r\\nPREFIX  yago: <http://dbpedia.org/class/yago/>\\r\\n\\r\\nSELECT DISTINCT  ?person ?occupation \\r\\n WHERE \\r\\n   {\\r\\n     {\\r\\n       SELECT DISTINCT ?person ?occupation \\r\\nWHERE \\r\\n             { ?person  dbo:occupation ?occupation\\r\\n                {?person  a                     yago:Intellectual109621545}\\r\\n             } \\r\\n       ORDER BY ?person \\r\\n     }\\r\\n   } \\r\\nOFFSET 50000 LIMIT 10000',\n",
       " None,\n",
       " '2021-07-05 00:11:16')"
      ]
     },
     "execution_count": 248,
     "metadata": {},
     "output_type": "execute_result"
    }
   ],
   "source": [
    "### Définir la ligne de la base de données à utiliser (inspécter préalablement la base de données)\n",
    "pk_query = 54\n",
    "\n",
    "# connnexion à la base de données\n",
    "original_db = 'data/intellectuels.db'\n",
    "conn = sql.connect(original_db)\n",
    "\n",
    "### exécuter la requëte sur la base de donées SQLite pour récupérer les valeurs que contient la ligne\n",
    "c = conn.cursor()\n",
    "c.execute('SELECT * FROM query WHERE pk_query = ?', [pk_query]) ### a list around argument is needed for a string longer then one\n",
    "#c.execute('SELECT * FROM query WHERE pk_query = 10')\n",
    "\n",
    "rc = c.fetchone()\n",
    "\n",
    "# fermer la connexion\n",
    "conn.close()\n",
    "\n",
    "# imprimer et inspecter le résultat\n",
    "rc"
   ]
  },
  {
   "cell_type": "code",
   "execution_count": 249,
   "id": "sophisticated-sellers",
   "metadata": {},
   "outputs": [
    {
     "name": "stdout",
     "output_type": "stream",
     "text": [
      "<class 'dict'>\n"
     ]
    }
   ],
   "source": [
    "qr = spqf.get_json_sparql_result(rc[4],rc[5])"
   ]
  },
  {
   "cell_type": "code",
   "execution_count": 250,
   "id": "thermal-station",
   "metadata": {},
   "outputs": [
    {
     "data": {
      "text/plain": [
       "10000"
      ]
     },
     "execution_count": 250,
     "metadata": {},
     "output_type": "execute_result"
    }
   ],
   "source": [
    "len(qr['results']['bindings'])"
   ]
  },
  {
   "cell_type": "code",
   "execution_count": 251,
   "id": "regular-vacuum",
   "metadata": {},
   "outputs": [],
   "source": [
    "# Transformer le résultat en liste en utilisant une autre fonction de la bibliothèque utilisateur\n",
    "r = [l for l in spqf.sparql_result_to_list(qr)]\n",
    "# r"
   ]
  },
  {
   "cell_type": "code",
   "execution_count": 252,
   "id": "offensive-utility",
   "metadata": {},
   "outputs": [
    {
     "name": "stdout",
     "output_type": "stream",
     "text": [
      "10000\n"
     ]
    },
    {
     "data": {
      "text/plain": [
       "[['http://dbpedia.org/resource/Rosemary_Rogers',\n",
       "  'http://dbpedia.org/resource/Novelist'],\n",
       " ['http://dbpedia.org/resource/Rosemary_Sexton',\n",
       "  'http://dbpedia.org/resource/Author'],\n",
       " ['http://dbpedia.org/resource/Rosemary_Sexton',\n",
       "  'http://dbpedia.org/resource/Columnist'],\n",
       " ['http://dbpedia.org/resource/Rosemary_Sexton',\n",
       "  'http://dbpedia.org/resource/Rosemary_Sexton__PersonFunction__1'],\n",
       " ['http://dbpedia.org/resource/Rosemary_Woolf',\n",
       "  'http://dbpedia.org/resource/Scholar']]"
      ]
     },
     "execution_count": 252,
     "metadata": {},
     "output_type": "execute_result"
    }
   ],
   "source": [
    "# inspecter une seule ligne de la liste (de listes)\n",
    "print(len(r))\n",
    "r[:5]"
   ]
  },
  {
   "cell_type": "code",
   "execution_count": 253,
   "id": "threatened-amount",
   "metadata": {},
   "outputs": [],
   "source": [
    "rl = [[l[0], 'http://dbpedia.org/ontology/occupation', l[1], 'https://dbpedia.org/sparql', 1, 54 ] for l in r]"
   ]
  },
  {
   "cell_type": "code",
   "execution_count": 254,
   "id": "exotic-plasma",
   "metadata": {},
   "outputs": [
    {
     "name": "stdout",
     "output_type": "stream",
     "text": [
      "10000\n"
     ]
    },
    {
     "data": {
      "text/plain": [
       "[['http://dbpedia.org/resource/Rosemary_Rogers',\n",
       "  'http://dbpedia.org/ontology/occupation',\n",
       "  'http://dbpedia.org/resource/Novelist',\n",
       "  'https://dbpedia.org/sparql',\n",
       "  1,\n",
       "  54],\n",
       " ['http://dbpedia.org/resource/Rosemary_Sexton',\n",
       "  'http://dbpedia.org/ontology/occupation',\n",
       "  'http://dbpedia.org/resource/Author',\n",
       "  'https://dbpedia.org/sparql',\n",
       "  1,\n",
       "  54],\n",
       " ['http://dbpedia.org/resource/Rosemary_Sexton',\n",
       "  'http://dbpedia.org/ontology/occupation',\n",
       "  'http://dbpedia.org/resource/Columnist',\n",
       "  'https://dbpedia.org/sparql',\n",
       "  1,\n",
       "  54]]"
      ]
     },
     "execution_count": 254,
     "metadata": {},
     "output_type": "execute_result"
    }
   ],
   "source": [
    "print(len(rl))\n",
    "rl[:3]"
   ]
  },
  {
   "cell_type": "code",
   "execution_count": 255,
   "id": "perfect-estimate",
   "metadata": {},
   "outputs": [],
   "source": [
    "#STOCKAGE\n",
    "db = 'data/intellectuels.db'\n",
    "cn = sql.connect(db)\n",
    "c = cn.cursor()\n",
    "\n",
    "# Insérer les données\n",
    "c.executemany(\"INSERT OR IGNORE INTO property (uri_entity, property, value, source, quality, fk_query_as_source) VALUES (?,?,?,?,?,?)\", rl)\n",
    "\n",
    "# valider l'insertion et fermer la base de données\n",
    "## DESACTIVÉ !!! cn.commit()\n",
    "\n",
    "cn.close()"
   ]
  },
  {
   "cell_type": "code",
   "execution_count": null,
   "id": "rising-procedure",
   "metadata": {},
   "outputs": [],
   "source": []
  },
  {
   "cell_type": "markdown",
   "id": "perfect-isolation",
   "metadata": {},
   "source": [
    "#### 70000"
   ]
  },
  {
   "cell_type": "code",
   "execution_count": null,
   "id": "israeli-airplane",
   "metadata": {},
   "outputs": [],
   "source": []
  },
  {
   "cell_type": "code",
   "execution_count": 256,
   "id": "precious-authorization",
   "metadata": {},
   "outputs": [
    {
     "data": {
      "text/plain": [
       "(55,\n",
       " 'Cherche les occupation (dbo)',\n",
       " 'Cherche les occupation (dbo)\\r\\n70000 max',\n",
       " None,\n",
       " 'https://dbpedia.org/sparql',\n",
       " 'PREFIX  dbo:  <http://dbpedia.org/ontology/>\\r\\nPREFIX  dbp:  <http://dbpedia.org/property/>\\r\\nPREFIX  dbr:  <http://dbpedia.org/resource/>\\r\\nPREFIX  yago: <http://dbpedia.org/class/yago/>\\r\\n\\r\\nSELECT DISTINCT  ?person ?occupation \\r\\n WHERE \\r\\n   {\\r\\n     {\\r\\n       SELECT DISTINCT ?person ?occupation \\r\\nWHERE \\r\\n             { ?person  dbo:occupation ?occupation\\r\\n                {?person  a                     yago:Intellectual109621545}\\r\\n             } \\r\\n       ORDER BY ?person \\r\\n     }\\r\\n   } \\r\\nOFFSET 60000 LIMIT 10000',\n",
       " None,\n",
       " '2021-07-05 00:11:16')"
      ]
     },
     "execution_count": 256,
     "metadata": {},
     "output_type": "execute_result"
    }
   ],
   "source": [
    "### Définir la ligne de la base de données à utiliser (inspécter préalablement la base de données)\n",
    "pk_query = 55\n",
    "\n",
    "# connnexion à la base de données\n",
    "original_db = 'data/intellectuels.db'\n",
    "conn = sql.connect(original_db)\n",
    "\n",
    "### exécuter la requëte sur la base de donées SQLite pour récupérer les valeurs que contient la ligne\n",
    "c = conn.cursor()\n",
    "c.execute('SELECT * FROM query WHERE pk_query = ?', [pk_query]) ### a list around argument is needed for a string longer then one\n",
    "#c.execute('SELECT * FROM query WHERE pk_query = 10')\n",
    "\n",
    "rc = c.fetchone()\n",
    "\n",
    "# fermer la connexion\n",
    "conn.close()\n",
    "\n",
    "# imprimer et inspecter le résultat\n",
    "rc"
   ]
  },
  {
   "cell_type": "code",
   "execution_count": 257,
   "id": "minor-baltimore",
   "metadata": {},
   "outputs": [
    {
     "name": "stdout",
     "output_type": "stream",
     "text": [
      "<class 'dict'>\n"
     ]
    }
   ],
   "source": [
    "qr = spqf.get_json_sparql_result(rc[4],rc[5])"
   ]
  },
  {
   "cell_type": "code",
   "execution_count": 258,
   "id": "photographic-silicon",
   "metadata": {},
   "outputs": [
    {
     "data": {
      "text/plain": [
       "1051"
      ]
     },
     "execution_count": 258,
     "metadata": {},
     "output_type": "execute_result"
    }
   ],
   "source": [
    "len(qr['results']['bindings'])"
   ]
  },
  {
   "cell_type": "code",
   "execution_count": 259,
   "id": "silent-swing",
   "metadata": {},
   "outputs": [],
   "source": [
    "# Transformer le résultat en liste en utilisant une autre fonction de la bibliothèque utilisateur\n",
    "r = [l for l in spqf.sparql_result_to_list(qr)]\n",
    "# r"
   ]
  },
  {
   "cell_type": "code",
   "execution_count": 260,
   "id": "insured-fossil",
   "metadata": {},
   "outputs": [
    {
     "name": "stdout",
     "output_type": "stream",
     "text": [
      "1051\n"
     ]
    },
    {
     "data": {
      "text/plain": [
       "[['http://dbpedia.org/resource/Willis_Adcock',\n",
       "  'http://dbpedia.org/resource/Willis_Adcock__PersonFunction__1'],\n",
       " ['http://dbpedia.org/resource/Willis_Adcock',\n",
       "  'http://dbpedia.org/resource/Electrical_engineering'],\n",
       " ['http://dbpedia.org/resource/Willis_Barnstone',\n",
       "  'http://dbpedia.org/resource/Bible'],\n",
       " ['http://dbpedia.org/resource/Willis_Barnstone',\n",
       "  'http://dbpedia.org/resource/Willis_Barnstone__PersonFunction__1'],\n",
       " ['http://dbpedia.org/resource/Willis_Barnstone',\n",
       "  'http://dbpedia.org/resource/Professor']]"
      ]
     },
     "execution_count": 260,
     "metadata": {},
     "output_type": "execute_result"
    }
   ],
   "source": [
    "# inspecter une seule ligne de la liste (de listes)\n",
    "print(len(r))\n",
    "r[:5]"
   ]
  },
  {
   "cell_type": "code",
   "execution_count": 261,
   "id": "focal-retrieval",
   "metadata": {},
   "outputs": [],
   "source": [
    "rl = [[l[0], 'http://dbpedia.org/ontology/occupation', l[1], 'https://dbpedia.org/sparql', 1, 55 ] for l in r]"
   ]
  },
  {
   "cell_type": "code",
   "execution_count": 262,
   "id": "blessed-horror",
   "metadata": {},
   "outputs": [
    {
     "name": "stdout",
     "output_type": "stream",
     "text": [
      "1051\n"
     ]
    },
    {
     "data": {
      "text/plain": [
       "[['http://dbpedia.org/resource/Willis_Adcock',\n",
       "  'http://dbpedia.org/ontology/occupation',\n",
       "  'http://dbpedia.org/resource/Willis_Adcock__PersonFunction__1',\n",
       "  'https://dbpedia.org/sparql',\n",
       "  1,\n",
       "  55],\n",
       " ['http://dbpedia.org/resource/Willis_Adcock',\n",
       "  'http://dbpedia.org/ontology/occupation',\n",
       "  'http://dbpedia.org/resource/Electrical_engineering',\n",
       "  'https://dbpedia.org/sparql',\n",
       "  1,\n",
       "  55],\n",
       " ['http://dbpedia.org/resource/Willis_Barnstone',\n",
       "  'http://dbpedia.org/ontology/occupation',\n",
       "  'http://dbpedia.org/resource/Bible',\n",
       "  'https://dbpedia.org/sparql',\n",
       "  1,\n",
       "  55]]"
      ]
     },
     "execution_count": 262,
     "metadata": {},
     "output_type": "execute_result"
    }
   ],
   "source": [
    "print(len(rl))\n",
    "rl[:3]"
   ]
  },
  {
   "cell_type": "code",
   "execution_count": 263,
   "id": "enabling-rotation",
   "metadata": {},
   "outputs": [],
   "source": [
    "#STOCKAGE\n",
    "db = 'data/intellectuels.db'\n",
    "cn = sql.connect(db)\n",
    "c = cn.cursor()\n",
    "\n",
    "# Insérer les données\n",
    "c.executemany(\"INSERT OR IGNORE INTO property (uri_entity, property, value, source, quality, fk_query_as_source) VALUES (?,?,?,?,?,?)\", rl)\n",
    "\n",
    "# valider l'insertion et fermer la base de données\n",
    "## DESACTIVÉ !!! cn.commit()\n",
    "\n",
    "cn.close()"
   ]
  },
  {
   "cell_type": "markdown",
   "id": "electronic-phone",
   "metadata": {},
   "source": [
    "### Sauvegarde DB\n",
    "\n",
    "Copie4 = entités person enregistrées / requêtes birthyear, birthdate ajoutées / propriétés birthyear (dbo) birthdate (dbo) et birthdate (dbp) ajoutées / occupation (dbo) ajoutée"
   ]
  },
  {
   "cell_type": "code",
   "execution_count": 7,
   "id": "sufficient-thinking",
   "metadata": {},
   "outputs": [
    {
     "data": {
      "text/plain": [
       "'20210705_123324'"
      ]
     },
     "execution_count": 7,
     "metadata": {},
     "output_type": "execute_result"
    }
   ],
   "source": [
    "### Fonction qui récupère et met en forme le temps au moment de l'exécution\n",
    "\n",
    "# définition\n",
    "def timestamp_formatted_for_file_name():\n",
    "    is_now = time.strftime('%Y%m%d_%H%M%S')\n",
    "    return is_now\n",
    "\n",
    "# exécution\n",
    "timestamp_formatted_for_file_name()"
   ]
  },
  {
   "cell_type": "code",
   "execution_count": 8,
   "id": "spatial-invitation",
   "metadata": {},
   "outputs": [],
   "source": [
    "### Définir les adresses des fichiers, l'existant et celui à créer\n",
    "original_db = 'data/intellectuels.db'\n",
    "\n",
    "##  Noter que la différence de suffixe, en soi totalement arbitraire, \n",
    "#  dépend du fait que dans la configuration de .gitignore, .sqlite est exclu du verisonnement GIT\n",
    "#  contrairement à .db qui est versionné\n",
    "timestamped_db_copy = 'data/intellectuels_copie4_' + timestamp_formatted_for_file_name() + '.sqlite'"
   ]
  },
  {
   "cell_type": "code",
   "execution_count": 9,
   "id": "controlling-conservation",
   "metadata": {},
   "outputs": [
    {
     "data": {
      "text/plain": [
       "'data/intellectuels_copie4_20210705_123337.sqlite'"
      ]
     },
     "execution_count": 9,
     "metadata": {},
     "output_type": "execute_result"
    }
   ],
   "source": [
    "### Créer une copie de sauvegarde avec timestamp du fichier (versionnement manuel)\n",
    "# ATTENTION : la base de données doit exister à l'endroit indiqué !\n",
    "## Cette requête n'est utile que si des modifications en écriture vont être apportées à la base de données,\n",
    "# afin de préserver le dernier état avant modification\n",
    "\n",
    "## Documentation:\n",
    "# https://docs.python.org/3/library/shutil.htmlcopied_db = copyfile(original_db, timestamped_db_copy)\n",
    "\n",
    "copied_db = copyfile(original_db, timestamped_db_copy)\n",
    "copied_db"
   ]
  },
  {
   "cell_type": "markdown",
   "id": "italic-disabled",
   "metadata": {},
   "source": [
    "### birthplace (dbo)"
   ]
  },
  {
   "cell_type": "markdown",
   "id": "beginning-conservation",
   "metadata": {},
   "source": [
    "#### 10000"
   ]
  },
  {
   "cell_type": "code",
   "execution_count": 10,
   "id": "opposite-extent",
   "metadata": {},
   "outputs": [
    {
     "data": {
      "text/plain": [
       "(57,\n",
       " 'Lieux de naissance (dbo)',\n",
       " '10000',\n",
       " None,\n",
       " 'https://dbpedia.org/sparql',\n",
       " 'PREFIX  dbo:  <http://dbpedia.org/ontology/>\\r\\nPREFIX  dbp:  <http://dbpedia.org/property/>\\r\\nPREFIX  dbr:  <http://dbpedia.org/resource/>\\r\\nPREFIX  yago: <http://dbpedia.org/class/yago/>\\r\\n\\r\\nSELECT DISTINCT ?person ?birthPlace\\r\\nWHERE\\r\\n  { ?person  dbo:birthPlace  ?birthPlace\\r\\n      { ?person  a                     yago:Intellectual109621545}\\r\\n  }\\r\\nORDER BY ?person\\r\\n',\n",
       " None,\n",
       " '2021-07-05 12:34:26')"
      ]
     },
     "execution_count": 10,
     "metadata": {},
     "output_type": "execute_result"
    }
   ],
   "source": [
    "### Définir la ligne de la base de données à utiliser (inspécter préalablement la base de données)\n",
    "pk_query = 57\n",
    "\n",
    "# connnexion à la base de données\n",
    "original_db = 'data/intellectuels.db'\n",
    "conn = sql.connect(original_db)\n",
    "\n",
    "### exécuter la requëte sur la base de donées SQLite pour récupérer les valeurs que contient la ligne\n",
    "c = conn.cursor()\n",
    "c.execute('SELECT * FROM query WHERE pk_query = ?', [pk_query]) ### a list around argument is needed for a string longer then one\n",
    "#c.execute('SELECT * FROM query WHERE pk_query = 10')\n",
    "\n",
    "rc = c.fetchone()\n",
    "\n",
    "# fermer la connexion\n",
    "conn.close()\n",
    "\n",
    "# imprimer et inspecter le résultat\n",
    "rc"
   ]
  },
  {
   "cell_type": "code",
   "execution_count": 11,
   "id": "measured-colors",
   "metadata": {},
   "outputs": [
    {
     "name": "stdout",
     "output_type": "stream",
     "text": [
      "<class 'dict'>\n"
     ]
    }
   ],
   "source": [
    "qr = spqf.get_json_sparql_result(rc[4],rc[5])"
   ]
  },
  {
   "cell_type": "code",
   "execution_count": 12,
   "id": "hybrid-sword",
   "metadata": {},
   "outputs": [
    {
     "data": {
      "text/plain": [
       "10000"
      ]
     },
     "execution_count": 12,
     "metadata": {},
     "output_type": "execute_result"
    }
   ],
   "source": [
    "len(qr['results']['bindings'])"
   ]
  },
  {
   "cell_type": "code",
   "execution_count": 13,
   "id": "forced-fitness",
   "metadata": {},
   "outputs": [],
   "source": [
    "# Transformer le résultat en liste en utilisant une autre fonction de la bibliothèque utilisateur\n",
    "r = [l for l in spqf.sparql_result_to_list(qr)]\n",
    "# r"
   ]
  },
  {
   "cell_type": "code",
   "execution_count": 14,
   "id": "numerous-optics",
   "metadata": {},
   "outputs": [
    {
     "name": "stdout",
     "output_type": "stream",
     "text": [
      "10000\n"
     ]
    },
    {
     "data": {
      "text/plain": [
       "[['http://dbpedia.org/resource/5th_Dalai_Lama',\n",
       "  'http://dbpedia.org/resource/Ü-Tsang'],\n",
       " ['http://dbpedia.org/resource/5th_Dalai_Lama',\n",
       "  'http://dbpedia.org/resource/Tibet'],\n",
       " ['http://dbpedia.org/resource/5th_Dalai_Lama',\n",
       "  'http://dbpedia.org/resource/Taktsé_Castle'],\n",
       " ['http://dbpedia.org/resource/9th_Wonder',\n",
       "  'http://dbpedia.org/resource/Winston-Salem,_North_Carolina'],\n",
       " [\"http://dbpedia.org/resource/A'Lelia_Bundles\",\n",
       "  'http://dbpedia.org/resource/Chicago,_Illinois']]"
      ]
     },
     "execution_count": 14,
     "metadata": {},
     "output_type": "execute_result"
    }
   ],
   "source": [
    "# inspecter une seule ligne de la liste (de listes)\n",
    "print(len(r))\n",
    "r[:5]"
   ]
  },
  {
   "cell_type": "code",
   "execution_count": 15,
   "id": "homeless-reliance",
   "metadata": {},
   "outputs": [],
   "source": [
    "rl = [[l[0], 'http://dbpedia.org/ontology/birthPlace', l[1], 'https://dbpedia.org/sparql', 1, 57 ] for l in r]"
   ]
  },
  {
   "cell_type": "code",
   "execution_count": 16,
   "id": "specific-cornwall",
   "metadata": {},
   "outputs": [
    {
     "name": "stdout",
     "output_type": "stream",
     "text": [
      "10000\n"
     ]
    },
    {
     "data": {
      "text/plain": [
       "[['http://dbpedia.org/resource/5th_Dalai_Lama',\n",
       "  'http://dbpedia.org/ontology/birthPlace',\n",
       "  'http://dbpedia.org/resource/Ü-Tsang',\n",
       "  'https://dbpedia.org/sparql',\n",
       "  1,\n",
       "  57],\n",
       " ['http://dbpedia.org/resource/5th_Dalai_Lama',\n",
       "  'http://dbpedia.org/ontology/birthPlace',\n",
       "  'http://dbpedia.org/resource/Tibet',\n",
       "  'https://dbpedia.org/sparql',\n",
       "  1,\n",
       "  57],\n",
       " ['http://dbpedia.org/resource/5th_Dalai_Lama',\n",
       "  'http://dbpedia.org/ontology/birthPlace',\n",
       "  'http://dbpedia.org/resource/Taktsé_Castle',\n",
       "  'https://dbpedia.org/sparql',\n",
       "  1,\n",
       "  57]]"
      ]
     },
     "execution_count": 16,
     "metadata": {},
     "output_type": "execute_result"
    }
   ],
   "source": [
    "print(len(rl))\n",
    "rl[:3]"
   ]
  },
  {
   "cell_type": "code",
   "execution_count": 17,
   "id": "anticipated-intersection",
   "metadata": {},
   "outputs": [],
   "source": [
    "#STOCKAGE\n",
    "db = 'data/intellectuels.db'\n",
    "cn = sql.connect(db)\n",
    "c = cn.cursor()\n",
    "\n",
    "# Insérer les données\n",
    "c.executemany(\"INSERT OR IGNORE INTO property (uri_entity, property, value, source, quality, fk_query_as_source) VALUES (?,?,?,?,?,?)\", rl)\n",
    "\n",
    "# valider l'insertion et fermer la base de données\n",
    "## DESACTIVÉ !!! cn.commit()\n",
    "\n",
    "cn.close()"
   ]
  },
  {
   "cell_type": "markdown",
   "id": "inclusive-effectiveness",
   "metadata": {},
   "source": [
    "#### 20000"
   ]
  },
  {
   "cell_type": "code",
   "execution_count": 18,
   "id": "bronze-gross",
   "metadata": {},
   "outputs": [
    {
     "data": {
      "text/plain": [
       "(58,\n",
       " 'Lieux de naissance (dbo)',\n",
       " '20000',\n",
       " None,\n",
       " 'https://dbpedia.org/sparql',\n",
       " 'PREFIX  dbo:  <http://dbpedia.org/ontology/>\\r\\nPREFIX  dbp:  <http://dbpedia.org/property/>\\r\\nPREFIX  dbr:  <http://dbpedia.org/resource/>\\r\\nPREFIX  yago: <http://dbpedia.org/class/yago/>\\r\\n\\r\\nSELECT DISTINCT ?person ?birthPlace\\r\\nWHERE\\r\\n  { ?person  dbo:birthPlace  ?birthPlace\\r\\n      { ?person  a                     yago:Intellectual109621545}\\r\\n  }\\r\\nORDER BY ?person\\r\\nOFFSET 10000 LIMIT 10000',\n",
       " None,\n",
       " '2021-07-05 12:35:38')"
      ]
     },
     "execution_count": 18,
     "metadata": {},
     "output_type": "execute_result"
    }
   ],
   "source": [
    "### Définir la ligne de la base de données à utiliser (inspécter préalablement la base de données)\n",
    "pk_query = 58\n",
    "\n",
    "# connnexion à la base de données\n",
    "original_db = 'data/intellectuels.db'\n",
    "conn = sql.connect(original_db)\n",
    "\n",
    "### exécuter la requëte sur la base de donées SQLite pour récupérer les valeurs que contient la ligne\n",
    "c = conn.cursor()\n",
    "c.execute('SELECT * FROM query WHERE pk_query = ?', [pk_query]) ### a list around argument is needed for a string longer then one\n",
    "#c.execute('SELECT * FROM query WHERE pk_query = 10')\n",
    "\n",
    "rc = c.fetchone()\n",
    "\n",
    "# fermer la connexion\n",
    "conn.close()\n",
    "\n",
    "# imprimer et inspecter le résultat\n",
    "rc"
   ]
  },
  {
   "cell_type": "code",
   "execution_count": 19,
   "id": "heard-wright",
   "metadata": {},
   "outputs": [
    {
     "name": "stdout",
     "output_type": "stream",
     "text": [
      "<class 'dict'>\n"
     ]
    }
   ],
   "source": [
    "qr = spqf.get_json_sparql_result(rc[4],rc[5])"
   ]
  },
  {
   "cell_type": "code",
   "execution_count": 20,
   "id": "democratic-mixer",
   "metadata": {},
   "outputs": [
    {
     "data": {
      "text/plain": [
       "10000"
      ]
     },
     "execution_count": 20,
     "metadata": {},
     "output_type": "execute_result"
    }
   ],
   "source": [
    "len(qr['results']['bindings'])"
   ]
  },
  {
   "cell_type": "code",
   "execution_count": 21,
   "id": "color-stadium",
   "metadata": {},
   "outputs": [],
   "source": [
    "# Transformer le résultat en liste en utilisant une autre fonction de la bibliothèque utilisateur\n",
    "r = [l for l in spqf.sparql_result_to_list(qr)]\n",
    "# r"
   ]
  },
  {
   "cell_type": "code",
   "execution_count": 22,
   "id": "overhead-mistress",
   "metadata": {},
   "outputs": [
    {
     "name": "stdout",
     "output_type": "stream",
     "text": [
      "10000\n"
     ]
    },
    {
     "data": {
      "text/plain": [
       "[['http://dbpedia.org/resource/Archie_Roy',\n",
       "  'http://dbpedia.org/resource/Glasgow'],\n",
       " ['http://dbpedia.org/resource/Archie_Scott_Gobber',\n",
       "  'http://dbpedia.org/resource/Warrensburg,_Missouri'],\n",
       " ['http://dbpedia.org/resource/Archie_Shepp',\n",
       "  'http://dbpedia.org/resource/Fort_Lauderdale'],\n",
       " ['http://dbpedia.org/resource/Archimedes',\n",
       "  'http://dbpedia.org/resource/Magna_Graecia'],\n",
       " ['http://dbpedia.org/resource/Archimedes',\n",
       "  'http://dbpedia.org/resource/Syracuse,_Sicily']]"
      ]
     },
     "execution_count": 22,
     "metadata": {},
     "output_type": "execute_result"
    }
   ],
   "source": [
    "# inspecter une seule ligne de la liste (de listes)\n",
    "print(len(r))\n",
    "r[:5]"
   ]
  },
  {
   "cell_type": "code",
   "execution_count": 23,
   "id": "consecutive-homework",
   "metadata": {},
   "outputs": [],
   "source": [
    "rl = [[l[0], 'http://dbpedia.org/ontology/birthPlace', l[1], 'https://dbpedia.org/sparql', 1, 58 ] for l in r]"
   ]
  },
  {
   "cell_type": "code",
   "execution_count": 24,
   "id": "effective-chemistry",
   "metadata": {},
   "outputs": [
    {
     "name": "stdout",
     "output_type": "stream",
     "text": [
      "10000\n"
     ]
    },
    {
     "data": {
      "text/plain": [
       "[['http://dbpedia.org/resource/Archie_Roy',\n",
       "  'http://dbpedia.org/ontology/birthPlace',\n",
       "  'http://dbpedia.org/resource/Glasgow',\n",
       "  'https://dbpedia.org/sparql',\n",
       "  1,\n",
       "  58],\n",
       " ['http://dbpedia.org/resource/Archie_Scott_Gobber',\n",
       "  'http://dbpedia.org/ontology/birthPlace',\n",
       "  'http://dbpedia.org/resource/Warrensburg,_Missouri',\n",
       "  'https://dbpedia.org/sparql',\n",
       "  1,\n",
       "  58],\n",
       " ['http://dbpedia.org/resource/Archie_Shepp',\n",
       "  'http://dbpedia.org/ontology/birthPlace',\n",
       "  'http://dbpedia.org/resource/Fort_Lauderdale',\n",
       "  'https://dbpedia.org/sparql',\n",
       "  1,\n",
       "  58]]"
      ]
     },
     "execution_count": 24,
     "metadata": {},
     "output_type": "execute_result"
    }
   ],
   "source": [
    "print(len(rl))\n",
    "rl[:3]"
   ]
  },
  {
   "cell_type": "code",
   "execution_count": 25,
   "id": "adapted-defense",
   "metadata": {},
   "outputs": [],
   "source": [
    "#STOCKAGE\n",
    "db = 'data/intellectuels.db'\n",
    "cn = sql.connect(db)\n",
    "c = cn.cursor()\n",
    "\n",
    "# Insérer les données\n",
    "c.executemany(\"INSERT OR IGNORE INTO property (uri_entity, property, value, source, quality, fk_query_as_source) VALUES (?,?,?,?,?,?)\", rl)\n",
    "\n",
    "# valider l'insertion et fermer la base de données\n",
    "## DESACTIVÉ !!! cn.commit()\n",
    "\n",
    "cn.close()"
   ]
  },
  {
   "cell_type": "markdown",
   "id": "processed-aggregate",
   "metadata": {},
   "source": [
    "#### 30000"
   ]
  },
  {
   "cell_type": "code",
   "execution_count": 26,
   "id": "protected-dubai",
   "metadata": {},
   "outputs": [
    {
     "data": {
      "text/plain": [
       "(59,\n",
       " 'Lieux de naissance (dbo)',\n",
       " '30000',\n",
       " None,\n",
       " 'https://dbpedia.org/sparql',\n",
       " 'PREFIX  dbo:  <http://dbpedia.org/ontology/>\\r\\nPREFIX  dbp:  <http://dbpedia.org/property/>\\r\\nPREFIX  dbr:  <http://dbpedia.org/resource/>\\r\\nPREFIX  yago: <http://dbpedia.org/class/yago/>\\r\\n\\r\\nSELECT DISTINCT ?person ?birthPlace\\r\\nWHERE\\r\\n  { ?person  dbo:birthPlace  ?birthPlace\\r\\n      { ?person  a                     yago:Intellectual109621545}\\r\\n  }\\r\\nORDER BY ?person\\r\\nOFFSET 20000 LIMIT 10000',\n",
       " None,\n",
       " '2021-07-05 12:35:38')"
      ]
     },
     "execution_count": 26,
     "metadata": {},
     "output_type": "execute_result"
    }
   ],
   "source": [
    "### Définir la ligne de la base de données à utiliser (inspécter préalablement la base de données)\n",
    "pk_query = 59\n",
    "\n",
    "# connnexion à la base de données\n",
    "original_db = 'data/intellectuels.db'\n",
    "conn = sql.connect(original_db)\n",
    "\n",
    "### exécuter la requëte sur la base de donées SQLite pour récupérer les valeurs que contient la ligne\n",
    "c = conn.cursor()\n",
    "c.execute('SELECT * FROM query WHERE pk_query = ?', [pk_query]) ### a list around argument is needed for a string longer then one\n",
    "#c.execute('SELECT * FROM query WHERE pk_query = 10')\n",
    "\n",
    "rc = c.fetchone()\n",
    "\n",
    "# fermer la connexion\n",
    "conn.close()\n",
    "\n",
    "# imprimer et inspecter le résultat\n",
    "rc"
   ]
  },
  {
   "cell_type": "code",
   "execution_count": 27,
   "id": "inner-capture",
   "metadata": {},
   "outputs": [
    {
     "name": "stdout",
     "output_type": "stream",
     "text": [
      "<class 'dict'>\n"
     ]
    }
   ],
   "source": [
    "qr = spqf.get_json_sparql_result(rc[4],rc[5])"
   ]
  },
  {
   "cell_type": "code",
   "execution_count": 28,
   "id": "artistic-prime",
   "metadata": {},
   "outputs": [
    {
     "data": {
      "text/plain": [
       "10000"
      ]
     },
     "execution_count": 28,
     "metadata": {},
     "output_type": "execute_result"
    }
   ],
   "source": [
    "len(qr['results']['bindings'])"
   ]
  },
  {
   "cell_type": "code",
   "execution_count": 29,
   "id": "instrumental-guarantee",
   "metadata": {},
   "outputs": [],
   "source": [
    "# Transformer le résultat en liste en utilisant une autre fonction de la bibliothèque utilisateur\n",
    "r = [l for l in spqf.sparql_result_to_list(qr)]\n",
    "# r"
   ]
  },
  {
   "cell_type": "code",
   "execution_count": 30,
   "id": "committed-mauritius",
   "metadata": {},
   "outputs": [
    {
     "name": "stdout",
     "output_type": "stream",
     "text": [
      "10000\n"
     ]
    },
    {
     "data": {
      "text/plain": [
       "[['http://dbpedia.org/resource/Charles-Eugène_Delaunay',\n",
       "  'http://dbpedia.org/resource/France'],\n",
       " ['http://dbpedia.org/resource/Charles-Eusèbe_Dionne',\n",
       "  'http://dbpedia.org/resource/Quebec'],\n",
       " ['http://dbpedia.org/resource/Charles-Eusèbe_Dionne',\n",
       "  'http://dbpedia.org/resource/Saint-Denis-de-la-Bouteillerie,_Quebec'],\n",
       " ['http://dbpedia.org/resource/Charles-François_Dupuis',\n",
       "  'http://dbpedia.org/resource/Trie-Château'],\n",
       " ['http://dbpedia.org/resource/Charles-Honoré_Laverdière',\n",
       "  'http://dbpedia.org/resource/Lower_Canada']]"
      ]
     },
     "execution_count": 30,
     "metadata": {},
     "output_type": "execute_result"
    }
   ],
   "source": [
    "# inspecter une seule ligne de la liste (de listes)\n",
    "print(len(r))\n",
    "r[:5]"
   ]
  },
  {
   "cell_type": "code",
   "execution_count": 31,
   "id": "binding-insider",
   "metadata": {},
   "outputs": [],
   "source": [
    "rl = [[l[0], 'http://dbpedia.org/ontology/birthPlace', l[1], 'https://dbpedia.org/sparql', 1, 59 ] for l in r]"
   ]
  },
  {
   "cell_type": "code",
   "execution_count": 32,
   "id": "thirty-steel",
   "metadata": {},
   "outputs": [
    {
     "name": "stdout",
     "output_type": "stream",
     "text": [
      "10000\n"
     ]
    },
    {
     "data": {
      "text/plain": [
       "[['http://dbpedia.org/resource/Charles-Eugène_Delaunay',\n",
       "  'http://dbpedia.org/ontology/birthPlace',\n",
       "  'http://dbpedia.org/resource/France',\n",
       "  'https://dbpedia.org/sparql',\n",
       "  1,\n",
       "  59],\n",
       " ['http://dbpedia.org/resource/Charles-Eusèbe_Dionne',\n",
       "  'http://dbpedia.org/ontology/birthPlace',\n",
       "  'http://dbpedia.org/resource/Quebec',\n",
       "  'https://dbpedia.org/sparql',\n",
       "  1,\n",
       "  59],\n",
       " ['http://dbpedia.org/resource/Charles-Eusèbe_Dionne',\n",
       "  'http://dbpedia.org/ontology/birthPlace',\n",
       "  'http://dbpedia.org/resource/Saint-Denis-de-la-Bouteillerie,_Quebec',\n",
       "  'https://dbpedia.org/sparql',\n",
       "  1,\n",
       "  59]]"
      ]
     },
     "execution_count": 32,
     "metadata": {},
     "output_type": "execute_result"
    }
   ],
   "source": [
    "print(len(rl))\n",
    "rl[:3]"
   ]
  },
  {
   "cell_type": "code",
   "execution_count": 33,
   "id": "combined-fitting",
   "metadata": {},
   "outputs": [],
   "source": [
    "#STOCKAGE\n",
    "db = 'data/intellectuels.db'\n",
    "cn = sql.connect(db)\n",
    "c = cn.cursor()\n",
    "\n",
    "# Insérer les données\n",
    "c.executemany(\"INSERT OR IGNORE INTO property (uri_entity, property, value, source, quality, fk_query_as_source) VALUES (?,?,?,?,?,?)\", rl)\n",
    "\n",
    "# valider l'insertion et fermer la base de données\n",
    "## DESACTIVÉ !!! cn.commit()\n",
    "\n",
    "cn.close()"
   ]
  },
  {
   "cell_type": "markdown",
   "id": "polished-commerce",
   "metadata": {},
   "source": [
    "#### 40000"
   ]
  },
  {
   "cell_type": "code",
   "execution_count": 34,
   "id": "civil-marshall",
   "metadata": {},
   "outputs": [
    {
     "data": {
      "text/plain": [
       "(60,\n",
       " 'Lieux de naissance (dbo)',\n",
       " '40000',\n",
       " None,\n",
       " 'https://dbpedia.org/sparql',\n",
       " 'PREFIX  dbo:  <http://dbpedia.org/ontology/>\\r\\nPREFIX  dbp:  <http://dbpedia.org/property/>\\r\\nPREFIX  dbr:  <http://dbpedia.org/resource/>\\r\\nPREFIX  yago: <http://dbpedia.org/class/yago/>\\r\\n\\r\\nSELECT DISTINCT ?person ?birthPlace\\r\\nWHERE\\r\\n  { ?person  dbo:birthPlace  ?birthPlace\\r\\n      { ?person  a                     yago:Intellectual109621545}\\r\\n  }\\r\\nORDER BY ?person\\r\\nOFFSET 30000 LIMIT 10000',\n",
       " None,\n",
       " '2021-07-05 12:35:38')"
      ]
     },
     "execution_count": 34,
     "metadata": {},
     "output_type": "execute_result"
    }
   ],
   "source": [
    "### Définir la ligne de la base de données à utiliser (inspécter préalablement la base de données)\n",
    "pk_query = 60\n",
    "\n",
    "# connnexion à la base de données\n",
    "original_db = 'data/intellectuels.db'\n",
    "conn = sql.connect(original_db)\n",
    "\n",
    "### exécuter la requëte sur la base de donées SQLite pour récupérer les valeurs que contient la ligne\n",
    "c = conn.cursor()\n",
    "c.execute('SELECT * FROM query WHERE pk_query = ?', [pk_query]) ### a list around argument is needed for a string longer then one\n",
    "#c.execute('SELECT * FROM query WHERE pk_query = 10')\n",
    "\n",
    "rc = c.fetchone()\n",
    "\n",
    "# fermer la connexion\n",
    "conn.close()\n",
    "\n",
    "# imprimer et inspecter le résultat\n",
    "rc"
   ]
  },
  {
   "cell_type": "code",
   "execution_count": 35,
   "id": "informational-librarian",
   "metadata": {},
   "outputs": [
    {
     "name": "stdout",
     "output_type": "stream",
     "text": [
      "<class 'dict'>\n"
     ]
    }
   ],
   "source": [
    "qr = spqf.get_json_sparql_result(rc[4],rc[5])"
   ]
  },
  {
   "cell_type": "code",
   "execution_count": 36,
   "id": "suffering-belize",
   "metadata": {},
   "outputs": [
    {
     "data": {
      "text/plain": [
       "10000"
      ]
     },
     "execution_count": 36,
     "metadata": {},
     "output_type": "execute_result"
    }
   ],
   "source": [
    "len(qr['results']['bindings'])"
   ]
  },
  {
   "cell_type": "code",
   "execution_count": 37,
   "id": "enabling-change",
   "metadata": {},
   "outputs": [],
   "source": [
    "# Transformer le résultat en liste en utilisant une autre fonction de la bibliothèque utilisateur\n",
    "r = [l for l in spqf.sparql_result_to_list(qr)]\n",
    "# r"
   ]
  },
  {
   "cell_type": "code",
   "execution_count": 38,
   "id": "junior-struggle",
   "metadata": {},
   "outputs": [
    {
     "name": "stdout",
     "output_type": "stream",
     "text": [
      "10000\n"
     ]
    },
    {
     "data": {
      "text/plain": [
       "[['http://dbpedia.org/resource/Denis_Blundell',\n",
       "  'http://dbpedia.org/resource/New_Zealand_cricket_team'],\n",
       " ['http://dbpedia.org/resource/Denis_Bowen',\n",
       "  'http://dbpedia.org/resource/Kimberley,_Northern_Cape'],\n",
       " ['http://dbpedia.org/resource/Denis_Bowen',\n",
       "  'http://dbpedia.org/resource/South_Africa'],\n",
       " ['http://dbpedia.org/resource/Denis_Chang',\n",
       "  'http://dbpedia.org/resource/Malaysia'],\n",
       " ['http://dbpedia.org/resource/Denis_Chang',\n",
       "  'http://dbpedia.org/resource/Sabah']]"
      ]
     },
     "execution_count": 38,
     "metadata": {},
     "output_type": "execute_result"
    }
   ],
   "source": [
    "# inspecter une seule ligne de la liste (de listes)\n",
    "print(len(r))\n",
    "r[:5]"
   ]
  },
  {
   "cell_type": "code",
   "execution_count": 39,
   "id": "contained-supply",
   "metadata": {},
   "outputs": [],
   "source": [
    "rl = [[l[0], 'http://dbpedia.org/ontology/birthPlace', l[1], 'https://dbpedia.org/sparql', 1, 60 ] for l in r]"
   ]
  },
  {
   "cell_type": "code",
   "execution_count": 40,
   "id": "racial-diagnosis",
   "metadata": {},
   "outputs": [
    {
     "name": "stdout",
     "output_type": "stream",
     "text": [
      "10000\n"
     ]
    },
    {
     "data": {
      "text/plain": [
       "[['http://dbpedia.org/resource/Denis_Blundell',\n",
       "  'http://dbpedia.org/ontology/birthPlace',\n",
       "  'http://dbpedia.org/resource/New_Zealand_cricket_team',\n",
       "  'https://dbpedia.org/sparql',\n",
       "  1,\n",
       "  60],\n",
       " ['http://dbpedia.org/resource/Denis_Bowen',\n",
       "  'http://dbpedia.org/ontology/birthPlace',\n",
       "  'http://dbpedia.org/resource/Kimberley,_Northern_Cape',\n",
       "  'https://dbpedia.org/sparql',\n",
       "  1,\n",
       "  60],\n",
       " ['http://dbpedia.org/resource/Denis_Bowen',\n",
       "  'http://dbpedia.org/ontology/birthPlace',\n",
       "  'http://dbpedia.org/resource/South_Africa',\n",
       "  'https://dbpedia.org/sparql',\n",
       "  1,\n",
       "  60]]"
      ]
     },
     "execution_count": 40,
     "metadata": {},
     "output_type": "execute_result"
    }
   ],
   "source": [
    "print(len(rl))\n",
    "rl[:3]"
   ]
  },
  {
   "cell_type": "code",
   "execution_count": 41,
   "id": "narrative-integer",
   "metadata": {},
   "outputs": [],
   "source": [
    "#STOCKAGE\n",
    "db = 'data/intellectuels.db'\n",
    "cn = sql.connect(db)\n",
    "c = cn.cursor()\n",
    "\n",
    "# Insérer les données\n",
    "c.executemany(\"INSERT OR IGNORE INTO property (uri_entity, property, value, source, quality, fk_query_as_source) VALUES (?,?,?,?,?,?)\", rl)\n",
    "\n",
    "# valider l'insertion et fermer la base de données\n",
    "## DESACTIVÉ !!! cn.commit()\n",
    "\n",
    "cn.close()"
   ]
  },
  {
   "cell_type": "markdown",
   "id": "minimal-cinema",
   "metadata": {},
   "source": [
    "#### 50000"
   ]
  },
  {
   "cell_type": "code",
   "execution_count": null,
   "id": "marked-strap",
   "metadata": {},
   "outputs": [],
   "source": []
  },
  {
   "cell_type": "code",
   "execution_count": 42,
   "id": "direct-morgan",
   "metadata": {},
   "outputs": [
    {
     "data": {
      "text/plain": [
       "(61,\n",
       " 'Lieux de naissance (dbo)',\n",
       " '50000',\n",
       " None,\n",
       " 'https://dbpedia.org/sparql',\n",
       " 'PREFIX  dbo:  <http://dbpedia.org/ontology/>\\r\\nPREFIX  dbp:  <http://dbpedia.org/property/>\\r\\nPREFIX  dbr:  <http://dbpedia.org/resource/>\\r\\nPREFIX  yago: <http://dbpedia.org/class/yago/>\\r\\n\\r\\nSELECT DISTINCT  ?person ?birthPlace\\r\\n WHERE \\r\\n   {\\r\\n     {\\r\\n       SELECT DISTINCT ?person ?birthPlace\\r\\nWHERE \\r\\n             { ?person  dbo:birthPlace ?birthPlace\\r\\n                {?person  a                     yago:Intellectual109621545}\\r\\n             } \\r\\n       ORDER BY ?person \\r\\n     }\\r\\n   } \\r\\nOFFSET 40000 LIMIT 10000',\n",
       " None,\n",
       " '2021-07-05 12:35:38')"
      ]
     },
     "execution_count": 42,
     "metadata": {},
     "output_type": "execute_result"
    }
   ],
   "source": [
    "### Définir la ligne de la base de données à utiliser (inspécter préalablement la base de données)\n",
    "pk_query = 61\n",
    "\n",
    "# connnexion à la base de données\n",
    "original_db = 'data/intellectuels.db'\n",
    "conn = sql.connect(original_db)\n",
    "\n",
    "### exécuter la requëte sur la base de donées SQLite pour récupérer les valeurs que contient la ligne\n",
    "c = conn.cursor()\n",
    "c.execute('SELECT * FROM query WHERE pk_query = ?', [pk_query]) ### a list around argument is needed for a string longer then one\n",
    "#c.execute('SELECT * FROM query WHERE pk_query = 10')\n",
    "\n",
    "rc = c.fetchone()\n",
    "\n",
    "# fermer la connexion\n",
    "conn.close()\n",
    "\n",
    "# imprimer et inspecter le résultat\n",
    "rc"
   ]
  },
  {
   "cell_type": "code",
   "execution_count": 43,
   "id": "nuclear-chapter",
   "metadata": {},
   "outputs": [
    {
     "name": "stdout",
     "output_type": "stream",
     "text": [
      "<class 'dict'>\n"
     ]
    }
   ],
   "source": [
    "qr = spqf.get_json_sparql_result(rc[4],rc[5])"
   ]
  },
  {
   "cell_type": "code",
   "execution_count": 44,
   "id": "married-milan",
   "metadata": {},
   "outputs": [
    {
     "data": {
      "text/plain": [
       "10000"
      ]
     },
     "execution_count": 44,
     "metadata": {},
     "output_type": "execute_result"
    }
   ],
   "source": [
    "len(qr['results']['bindings'])"
   ]
  },
  {
   "cell_type": "code",
   "execution_count": 45,
   "id": "olive-going",
   "metadata": {},
   "outputs": [],
   "source": [
    "# Transformer le résultat en liste en utilisant une autre fonction de la bibliothèque utilisateur\n",
    "r = [l for l in spqf.sparql_result_to_list(qr)]\n",
    "# r"
   ]
  },
  {
   "cell_type": "code",
   "execution_count": 46,
   "id": "protected-curtis",
   "metadata": {},
   "outputs": [
    {
     "name": "stdout",
     "output_type": "stream",
     "text": [
      "10000\n"
     ]
    },
    {
     "data": {
      "text/plain": [
       "[['http://dbpedia.org/resource/Francis_E._Walter',\n",
       "  'http://dbpedia.org/resource/Easton,_Pennsylvania'],\n",
       " ['http://dbpedia.org/resource/Francis_Edward_Gilman',\n",
       "  'http://dbpedia.org/resource/Canada_East'],\n",
       " ['http://dbpedia.org/resource/Francis_Edward_Gilman',\n",
       "  'http://dbpedia.org/resource/Danville,_Quebec'],\n",
       " ['http://dbpedia.org/resource/Francis_Edward_Hyland',\n",
       "  'http://dbpedia.org/resource/Pennsylvania'],\n",
       " ['http://dbpedia.org/resource/Francis_Edward_Hyland',\n",
       "  'http://dbpedia.org/resource/Philadelphia,_Pennsylvania']]"
      ]
     },
     "execution_count": 46,
     "metadata": {},
     "output_type": "execute_result"
    }
   ],
   "source": [
    "# inspecter une seule ligne de la liste (de listes)\n",
    "print(len(r))\n",
    "r[:5]"
   ]
  },
  {
   "cell_type": "code",
   "execution_count": 47,
   "id": "marine-police",
   "metadata": {},
   "outputs": [],
   "source": [
    "rl = [[l[0], 'http://dbpedia.org/ontology/birthPlace', l[1], 'https://dbpedia.org/sparql', 1, 61 ] for l in r]"
   ]
  },
  {
   "cell_type": "code",
   "execution_count": 48,
   "id": "affiliated-groove",
   "metadata": {},
   "outputs": [
    {
     "name": "stdout",
     "output_type": "stream",
     "text": [
      "10000\n"
     ]
    },
    {
     "data": {
      "text/plain": [
       "[['http://dbpedia.org/resource/Francis_E._Walter',\n",
       "  'http://dbpedia.org/ontology/birthPlace',\n",
       "  'http://dbpedia.org/resource/Easton,_Pennsylvania',\n",
       "  'https://dbpedia.org/sparql',\n",
       "  1,\n",
       "  61],\n",
       " ['http://dbpedia.org/resource/Francis_Edward_Gilman',\n",
       "  'http://dbpedia.org/ontology/birthPlace',\n",
       "  'http://dbpedia.org/resource/Canada_East',\n",
       "  'https://dbpedia.org/sparql',\n",
       "  1,\n",
       "  61],\n",
       " ['http://dbpedia.org/resource/Francis_Edward_Gilman',\n",
       "  'http://dbpedia.org/ontology/birthPlace',\n",
       "  'http://dbpedia.org/resource/Danville,_Quebec',\n",
       "  'https://dbpedia.org/sparql',\n",
       "  1,\n",
       "  61]]"
      ]
     },
     "execution_count": 48,
     "metadata": {},
     "output_type": "execute_result"
    }
   ],
   "source": [
    "print(len(rl))\n",
    "rl[:3]"
   ]
  },
  {
   "cell_type": "code",
   "execution_count": 49,
   "id": "norwegian-robert",
   "metadata": {},
   "outputs": [],
   "source": [
    "#STOCKAGE\n",
    "db = 'data/intellectuels.db'\n",
    "cn = sql.connect(db)\n",
    "c = cn.cursor()\n",
    "\n",
    "# Insérer les données\n",
    "c.executemany(\"INSERT OR IGNORE INTO property (uri_entity, property, value, source, quality, fk_query_as_source) VALUES (?,?,?,?,?,?)\", rl)\n",
    "\n",
    "# valider l'insertion et fermer la base de données\n",
    "## DESACTIVÉ !!! cn.commit()\n",
    "\n",
    "cn.close()"
   ]
  },
  {
   "cell_type": "markdown",
   "id": "overhead-support",
   "metadata": {},
   "source": [
    "#### 60000"
   ]
  },
  {
   "cell_type": "code",
   "execution_count": null,
   "id": "actual-mouth",
   "metadata": {},
   "outputs": [],
   "source": []
  },
  {
   "cell_type": "code",
   "execution_count": 50,
   "id": "smooth-collectible",
   "metadata": {},
   "outputs": [
    {
     "data": {
      "text/plain": [
       "(62,\n",
       " 'Lieux de naissance (dbo)',\n",
       " '60000',\n",
       " None,\n",
       " 'https://dbpedia.org/sparql',\n",
       " 'PREFIX  dbo:  <http://dbpedia.org/ontology/>\\r\\nPREFIX  dbp:  <http://dbpedia.org/property/>\\r\\nPREFIX  dbr:  <http://dbpedia.org/resource/>\\r\\nPREFIX  yago: <http://dbpedia.org/class/yago/>\\r\\n\\r\\nSELECT DISTINCT  ?person ?birthPlace\\r\\n WHERE \\r\\n   {\\r\\n     {\\r\\n       SELECT DISTINCT ?person ?birthPlace\\r\\nWHERE \\r\\n             { ?person  dbo:birthPlace ?birthPlace\\r\\n                {?person  a                     yago:Intellectual109621545}\\r\\n             } \\r\\n       ORDER BY ?person \\r\\n     }\\r\\n   } \\r\\nOFFSET 50000 LIMIT 10000',\n",
       " None,\n",
       " '2021-07-05 12:35:38')"
      ]
     },
     "execution_count": 50,
     "metadata": {},
     "output_type": "execute_result"
    }
   ],
   "source": [
    "### Définir la ligne de la base de données à utiliser (inspécter préalablement la base de données)\n",
    "pk_query = 62\n",
    "\n",
    "# connnexion à la base de données\n",
    "original_db = 'data/intellectuels.db'\n",
    "conn = sql.connect(original_db)\n",
    "\n",
    "### exécuter la requëte sur la base de donées SQLite pour récupérer les valeurs que contient la ligne\n",
    "c = conn.cursor()\n",
    "c.execute('SELECT * FROM query WHERE pk_query = ?', [pk_query]) ### a list around argument is needed for a string longer then one\n",
    "#c.execute('SELECT * FROM query WHERE pk_query = 10')\n",
    "\n",
    "rc = c.fetchone()\n",
    "\n",
    "# fermer la connexion\n",
    "conn.close()\n",
    "\n",
    "# imprimer et inspecter le résultat\n",
    "rc"
   ]
  },
  {
   "cell_type": "code",
   "execution_count": 51,
   "id": "general-shanghai",
   "metadata": {},
   "outputs": [
    {
     "name": "stdout",
     "output_type": "stream",
     "text": [
      "<class 'dict'>\n"
     ]
    }
   ],
   "source": [
    "qr = spqf.get_json_sparql_result(rc[4],rc[5])"
   ]
  },
  {
   "cell_type": "code",
   "execution_count": 52,
   "id": "center-slovenia",
   "metadata": {},
   "outputs": [
    {
     "data": {
      "text/plain": [
       "10000"
      ]
     },
     "execution_count": 52,
     "metadata": {},
     "output_type": "execute_result"
    }
   ],
   "source": [
    "len(qr['results']['bindings'])"
   ]
  },
  {
   "cell_type": "code",
   "execution_count": 53,
   "id": "catholic-fence",
   "metadata": {},
   "outputs": [],
   "source": [
    "# Transformer le résultat en liste en utilisant une autre fonction de la bibliothèque utilisateur\n",
    "r = [l for l in spqf.sparql_result_to_list(qr)]\n",
    "# r"
   ]
  },
  {
   "cell_type": "code",
   "execution_count": 54,
   "id": "biblical-traffic",
   "metadata": {},
   "outputs": [
    {
     "name": "stdout",
     "output_type": "stream",
     "text": [
      "10000\n"
     ]
    },
    {
     "data": {
      "text/plain": [
       "[['http://dbpedia.org/resource/Harriet_Cohen',\n",
       "  'http://dbpedia.org/resource/London'],\n",
       " ['http://dbpedia.org/resource/Harriet_Doerr',\n",
       "  'http://dbpedia.org/resource/Pasadena,_California'],\n",
       " ['http://dbpedia.org/resource/Harriet_Elizabeth_Byrd',\n",
       "  'http://dbpedia.org/resource/Cheyenne,_Wyoming'],\n",
       " ['http://dbpedia.org/resource/Harriet_G._Walker',\n",
       "  'http://dbpedia.org/resource/United_States'],\n",
       " ['http://dbpedia.org/resource/Harriet_G._Walker',\n",
       "  'http://dbpedia.org/resource/Ohio']]"
      ]
     },
     "execution_count": 54,
     "metadata": {},
     "output_type": "execute_result"
    }
   ],
   "source": [
    "# inspecter une seule ligne de la liste (de listes)\n",
    "print(len(r))\n",
    "r[:5]"
   ]
  },
  {
   "cell_type": "code",
   "execution_count": 55,
   "id": "lightweight-chest",
   "metadata": {},
   "outputs": [],
   "source": [
    "rl = [[l[0], 'http://dbpedia.org/ontology/birthPlace', l[1], 'https://dbpedia.org/sparql', 1, 62 ] for l in r]"
   ]
  },
  {
   "cell_type": "code",
   "execution_count": 56,
   "id": "executive-intranet",
   "metadata": {},
   "outputs": [
    {
     "name": "stdout",
     "output_type": "stream",
     "text": [
      "10000\n"
     ]
    },
    {
     "data": {
      "text/plain": [
       "[['http://dbpedia.org/resource/Harriet_Cohen',\n",
       "  'http://dbpedia.org/ontology/birthPlace',\n",
       "  'http://dbpedia.org/resource/London',\n",
       "  'https://dbpedia.org/sparql',\n",
       "  1,\n",
       "  62],\n",
       " ['http://dbpedia.org/resource/Harriet_Doerr',\n",
       "  'http://dbpedia.org/ontology/birthPlace',\n",
       "  'http://dbpedia.org/resource/Pasadena,_California',\n",
       "  'https://dbpedia.org/sparql',\n",
       "  1,\n",
       "  62],\n",
       " ['http://dbpedia.org/resource/Harriet_Elizabeth_Byrd',\n",
       "  'http://dbpedia.org/ontology/birthPlace',\n",
       "  'http://dbpedia.org/resource/Cheyenne,_Wyoming',\n",
       "  'https://dbpedia.org/sparql',\n",
       "  1,\n",
       "  62]]"
      ]
     },
     "execution_count": 56,
     "metadata": {},
     "output_type": "execute_result"
    }
   ],
   "source": [
    "print(len(rl))\n",
    "rl[:3]"
   ]
  },
  {
   "cell_type": "code",
   "execution_count": 57,
   "id": "artificial-horse",
   "metadata": {},
   "outputs": [],
   "source": [
    "#STOCKAGE\n",
    "db = 'data/intellectuels.db'\n",
    "cn = sql.connect(db)\n",
    "c = cn.cursor()\n",
    "\n",
    "# Insérer les données\n",
    "c.executemany(\"INSERT OR IGNORE INTO property (uri_entity, property, value, source, quality, fk_query_as_source) VALUES (?,?,?,?,?,?)\", rl)\n",
    "\n",
    "# valider l'insertion et fermer la base de données\n",
    "## DESACTIVÉ !!! cn.commit()\n",
    "\n",
    "cn.close()"
   ]
  },
  {
   "cell_type": "markdown",
   "id": "charitable-drink",
   "metadata": {},
   "source": [
    "#### 70000"
   ]
  },
  {
   "cell_type": "code",
   "execution_count": null,
   "id": "flush-oliver",
   "metadata": {},
   "outputs": [],
   "source": []
  },
  {
   "cell_type": "code",
   "execution_count": 58,
   "id": "grateful-kinase",
   "metadata": {},
   "outputs": [
    {
     "data": {
      "text/plain": [
       "(63,\n",
       " 'Lieux de naissance (dbo)',\n",
       " '70000',\n",
       " None,\n",
       " 'https://dbpedia.org/sparql',\n",
       " 'PREFIX  dbo:  <http://dbpedia.org/ontology/>\\r\\nPREFIX  dbp:  <http://dbpedia.org/property/>\\r\\nPREFIX  dbr:  <http://dbpedia.org/resource/>\\r\\nPREFIX  yago: <http://dbpedia.org/class/yago/>\\r\\n\\r\\nSELECT DISTINCT  ?person ?birthPlace\\r\\n WHERE \\r\\n   {\\r\\n     {\\r\\n       SELECT DISTINCT ?person ?birthPlace\\r\\nWHERE \\r\\n             { ?person  dbo:birthPlace ?birthPlace\\r\\n                {?person  a                     yago:Intellectual109621545}\\r\\n             } \\r\\n       ORDER BY ?person \\r\\n     }\\r\\n   } \\r\\nOFFSET 60000 LIMIT 10000',\n",
       " None,\n",
       " '2021-07-05 12:35:38')"
      ]
     },
     "execution_count": 58,
     "metadata": {},
     "output_type": "execute_result"
    }
   ],
   "source": [
    "### Définir la ligne de la base de données à utiliser (inspécter préalablement la base de données)\n",
    "pk_query = 63\n",
    "\n",
    "# connnexion à la base de données\n",
    "original_db = 'data/intellectuels.db'\n",
    "conn = sql.connect(original_db)\n",
    "\n",
    "### exécuter la requëte sur la base de donées SQLite pour récupérer les valeurs que contient la ligne\n",
    "c = conn.cursor()\n",
    "c.execute('SELECT * FROM query WHERE pk_query = ?', [pk_query]) ### a list around argument is needed for a string longer then one\n",
    "#c.execute('SELECT * FROM query WHERE pk_query = 10')\n",
    "\n",
    "rc = c.fetchone()\n",
    "\n",
    "# fermer la connexion\n",
    "conn.close()\n",
    "\n",
    "# imprimer et inspecter le résultat\n",
    "rc"
   ]
  },
  {
   "cell_type": "code",
   "execution_count": 59,
   "id": "guilty-moses",
   "metadata": {},
   "outputs": [
    {
     "name": "stdout",
     "output_type": "stream",
     "text": [
      "<class 'dict'>\n"
     ]
    }
   ],
   "source": [
    "qr = spqf.get_json_sparql_result(rc[4],rc[5])"
   ]
  },
  {
   "cell_type": "code",
   "execution_count": 60,
   "id": "accredited-wyoming",
   "metadata": {},
   "outputs": [
    {
     "data": {
      "text/plain": [
       "10000"
      ]
     },
     "execution_count": 60,
     "metadata": {},
     "output_type": "execute_result"
    }
   ],
   "source": [
    "len(qr['results']['bindings'])"
   ]
  },
  {
   "cell_type": "code",
   "execution_count": 61,
   "id": "solved-confidentiality",
   "metadata": {},
   "outputs": [],
   "source": [
    "# Transformer le résultat en liste en utilisant une autre fonction de la bibliothèque utilisateur\n",
    "r = [l for l in spqf.sparql_result_to_list(qr)]\n",
    "# r"
   ]
  },
  {
   "cell_type": "code",
   "execution_count": 62,
   "id": "overall-entertainment",
   "metadata": {},
   "outputs": [
    {
     "name": "stdout",
     "output_type": "stream",
     "text": [
      "10000\n"
     ]
    },
    {
     "data": {
      "text/plain": [
       "[['http://dbpedia.org/resource/James_Williams_(cricketer)',\n",
       "  'http://dbpedia.org/resource/Neath'],\n",
       " ['http://dbpedia.org/resource/James_Wilson_(Colorado_politician)',\n",
       "  'http://dbpedia.org/resource/Kiowa,_Kansas'],\n",
       " ['http://dbpedia.org/resource/James_Wilson_(Secretary_of_Agriculture)',\n",
       "  'http://dbpedia.org/resource/United_Kingdom_of_Great_Britain_and_Ireland'],\n",
       " ['http://dbpedia.org/resource/James_Wilson_(Secretary_of_Agriculture)',\n",
       "  'http://dbpedia.org/resource/Scotland'],\n",
       " ['http://dbpedia.org/resource/James_Wilson_(Secretary_of_Agriculture)',\n",
       "  'http://dbpedia.org/resource/Ayrshire']]"
      ]
     },
     "execution_count": 62,
     "metadata": {},
     "output_type": "execute_result"
    }
   ],
   "source": [
    "# inspecter une seule ligne de la liste (de listes)\n",
    "print(len(r))\n",
    "r[:5]"
   ]
  },
  {
   "cell_type": "code",
   "execution_count": 63,
   "id": "prime-scoop",
   "metadata": {},
   "outputs": [],
   "source": [
    "rl = [[l[0], 'http://dbpedia.org/ontology/birthPlace', l[1], 'https://dbpedia.org/sparql', 1, 63 ] for l in r]"
   ]
  },
  {
   "cell_type": "code",
   "execution_count": 64,
   "id": "muslim-scratch",
   "metadata": {},
   "outputs": [
    {
     "name": "stdout",
     "output_type": "stream",
     "text": [
      "10000\n"
     ]
    },
    {
     "data": {
      "text/plain": [
       "[['http://dbpedia.org/resource/James_Williams_(cricketer)',\n",
       "  'http://dbpedia.org/ontology/birthPlace',\n",
       "  'http://dbpedia.org/resource/Neath',\n",
       "  'https://dbpedia.org/sparql',\n",
       "  1,\n",
       "  63],\n",
       " ['http://dbpedia.org/resource/James_Wilson_(Colorado_politician)',\n",
       "  'http://dbpedia.org/ontology/birthPlace',\n",
       "  'http://dbpedia.org/resource/Kiowa,_Kansas',\n",
       "  'https://dbpedia.org/sparql',\n",
       "  1,\n",
       "  63],\n",
       " ['http://dbpedia.org/resource/James_Wilson_(Secretary_of_Agriculture)',\n",
       "  'http://dbpedia.org/ontology/birthPlace',\n",
       "  'http://dbpedia.org/resource/United_Kingdom_of_Great_Britain_and_Ireland',\n",
       "  'https://dbpedia.org/sparql',\n",
       "  1,\n",
       "  63]]"
      ]
     },
     "execution_count": 64,
     "metadata": {},
     "output_type": "execute_result"
    }
   ],
   "source": [
    "print(len(rl))\n",
    "rl[:3]"
   ]
  },
  {
   "cell_type": "code",
   "execution_count": 65,
   "id": "numeric-impossible",
   "metadata": {},
   "outputs": [],
   "source": [
    "#STOCKAGE\n",
    "db = 'data/intellectuels.db'\n",
    "cn = sql.connect(db)\n",
    "c = cn.cursor()\n",
    "\n",
    "# Insérer les données\n",
    "c.executemany(\"INSERT OR IGNORE INTO property (uri_entity, property, value, source, quality, fk_query_as_source) VALUES (?,?,?,?,?,?)\", rl)\n",
    "\n",
    "# valider l'insertion et fermer la base de données\n",
    "## DESACTIVÉ !!! cn.commit()\n",
    "\n",
    "cn.close()"
   ]
  },
  {
   "cell_type": "markdown",
   "id": "amateur-standard",
   "metadata": {},
   "source": [
    "#### 80000"
   ]
  },
  {
   "cell_type": "code",
   "execution_count": null,
   "id": "coordinated-badge",
   "metadata": {},
   "outputs": [],
   "source": []
  },
  {
   "cell_type": "code",
   "execution_count": 66,
   "id": "danish-reverse",
   "metadata": {},
   "outputs": [
    {
     "data": {
      "text/plain": [
       "(64,\n",
       " 'Lieux de naissance (dbo)',\n",
       " '80000',\n",
       " None,\n",
       " 'https://dbpedia.org/sparql',\n",
       " 'PREFIX  dbo:  <http://dbpedia.org/ontology/>\\r\\nPREFIX  dbp:  <http://dbpedia.org/property/>\\r\\nPREFIX  dbr:  <http://dbpedia.org/resource/>\\r\\nPREFIX  yago: <http://dbpedia.org/class/yago/>\\r\\n\\r\\nSELECT DISTINCT  ?person ?birthPlace\\r\\n WHERE \\r\\n   {\\r\\n     {\\r\\n       SELECT DISTINCT ?person ?birthPlace\\r\\nWHERE \\r\\n             { ?person  dbo:birthPlace ?birthPlace\\r\\n                {?person  a                     yago:Intellectual109621545}\\r\\n             } \\r\\n       ORDER BY ?person \\r\\n     }\\r\\n   } \\r\\nOFFSET 70000 LIMIT 10000',\n",
       " None,\n",
       " '2021-07-05 12:35:38')"
      ]
     },
     "execution_count": 66,
     "metadata": {},
     "output_type": "execute_result"
    }
   ],
   "source": [
    "### Définir la ligne de la base de données à utiliser (inspécter préalablement la base de données)\n",
    "pk_query = 64\n",
    "\n",
    "# connnexion à la base de données\n",
    "original_db = 'data/intellectuels.db'\n",
    "conn = sql.connect(original_db)\n",
    "\n",
    "### exécuter la requëte sur la base de donées SQLite pour récupérer les valeurs que contient la ligne\n",
    "c = conn.cursor()\n",
    "c.execute('SELECT * FROM query WHERE pk_query = ?', [pk_query]) ### a list around argument is needed for a string longer then one\n",
    "#c.execute('SELECT * FROM query WHERE pk_query = 10')\n",
    "\n",
    "rc = c.fetchone()\n",
    "\n",
    "# fermer la connexion\n",
    "conn.close()\n",
    "\n",
    "# imprimer et inspecter le résultat\n",
    "rc"
   ]
  },
  {
   "cell_type": "code",
   "execution_count": 67,
   "id": "dated-librarian",
   "metadata": {},
   "outputs": [
    {
     "name": "stdout",
     "output_type": "stream",
     "text": [
      "<class 'dict'>\n"
     ]
    }
   ],
   "source": [
    "qr = spqf.get_json_sparql_result(rc[4],rc[5])"
   ]
  },
  {
   "cell_type": "code",
   "execution_count": 68,
   "id": "overall-gossip",
   "metadata": {},
   "outputs": [
    {
     "data": {
      "text/plain": [
       "10000"
      ]
     },
     "execution_count": 68,
     "metadata": {},
     "output_type": "execute_result"
    }
   ],
   "source": [
    "len(qr['results']['bindings'])"
   ]
  },
  {
   "cell_type": "code",
   "execution_count": 69,
   "id": "valuable-video",
   "metadata": {},
   "outputs": [],
   "source": [
    "# Transformer le résultat en liste en utilisant une autre fonction de la bibliothèque utilisateur\n",
    "r = [l for l in spqf.sparql_result_to_list(qr)]\n",
    "# r"
   ]
  },
  {
   "cell_type": "code",
   "execution_count": 70,
   "id": "native-clothing",
   "metadata": {},
   "outputs": [
    {
     "name": "stdout",
     "output_type": "stream",
     "text": [
      "10000\n"
     ]
    },
    {
     "data": {
      "text/plain": [
       "[['http://dbpedia.org/resource/John_Yen',\n",
       "  'http://dbpedia.org/resource/Hsinchu'],\n",
       " ['http://dbpedia.org/resource/John_Yen',\n",
       "  'http://dbpedia.org/resource/Taiwan'],\n",
       " ['http://dbpedia.org/resource/John_Yoo',\n",
       "  'http://dbpedia.org/resource/South_Korea'],\n",
       " ['http://dbpedia.org/resource/John_Yoo', 'http://dbpedia.org/resource/Seoul'],\n",
       " ['http://dbpedia.org/resource/John_Yorke_(producer)',\n",
       "  'http://dbpedia.org/resource/London']]"
      ]
     },
     "execution_count": 70,
     "metadata": {},
     "output_type": "execute_result"
    }
   ],
   "source": [
    "# inspecter une seule ligne de la liste (de listes)\n",
    "print(len(r))\n",
    "r[:5]"
   ]
  },
  {
   "cell_type": "code",
   "execution_count": 71,
   "id": "freelance-amendment",
   "metadata": {},
   "outputs": [],
   "source": [
    "rl = [[l[0], 'http://dbpedia.org/ontology/birthPlace', l[1], 'https://dbpedia.org/sparql', 1, 64 ] for l in r]"
   ]
  },
  {
   "cell_type": "code",
   "execution_count": 72,
   "id": "yellow-field",
   "metadata": {},
   "outputs": [
    {
     "name": "stdout",
     "output_type": "stream",
     "text": [
      "10000\n"
     ]
    },
    {
     "data": {
      "text/plain": [
       "[['http://dbpedia.org/resource/John_Yen',\n",
       "  'http://dbpedia.org/ontology/birthPlace',\n",
       "  'http://dbpedia.org/resource/Hsinchu',\n",
       "  'https://dbpedia.org/sparql',\n",
       "  1,\n",
       "  64],\n",
       " ['http://dbpedia.org/resource/John_Yen',\n",
       "  'http://dbpedia.org/ontology/birthPlace',\n",
       "  'http://dbpedia.org/resource/Taiwan',\n",
       "  'https://dbpedia.org/sparql',\n",
       "  1,\n",
       "  64],\n",
       " ['http://dbpedia.org/resource/John_Yoo',\n",
       "  'http://dbpedia.org/ontology/birthPlace',\n",
       "  'http://dbpedia.org/resource/South_Korea',\n",
       "  'https://dbpedia.org/sparql',\n",
       "  1,\n",
       "  64]]"
      ]
     },
     "execution_count": 72,
     "metadata": {},
     "output_type": "execute_result"
    }
   ],
   "source": [
    "print(len(rl))\n",
    "rl[:3]"
   ]
  },
  {
   "cell_type": "code",
   "execution_count": 73,
   "id": "apart-battery",
   "metadata": {},
   "outputs": [],
   "source": [
    "#STOCKAGE\n",
    "db = 'data/intellectuels.db'\n",
    "cn = sql.connect(db)\n",
    "c = cn.cursor()\n",
    "\n",
    "# Insérer les données\n",
    "c.executemany(\"INSERT OR IGNORE INTO property (uri_entity, property, value, source, quality, fk_query_as_source) VALUES (?,?,?,?,?,?)\", rl)\n",
    "\n",
    "# valider l'insertion et fermer la base de données\n",
    "## DESACTIVÉ !!! cn.commit()\n",
    "\n",
    "cn.close()"
   ]
  },
  {
   "cell_type": "markdown",
   "id": "demonstrated-conditioning",
   "metadata": {},
   "source": [
    "#### 90000"
   ]
  },
  {
   "cell_type": "code",
   "execution_count": null,
   "id": "eastern-andorra",
   "metadata": {},
   "outputs": [],
   "source": []
  },
  {
   "cell_type": "code",
   "execution_count": 74,
   "id": "settled-heritage",
   "metadata": {},
   "outputs": [
    {
     "data": {
      "text/plain": [
       "(65,\n",
       " 'Lieux de naissance (dbo)',\n",
       " '90000',\n",
       " None,\n",
       " 'https://dbpedia.org/sparql',\n",
       " 'PREFIX  dbo:  <http://dbpedia.org/ontology/>\\r\\nPREFIX  dbp:  <http://dbpedia.org/property/>\\r\\nPREFIX  dbr:  <http://dbpedia.org/resource/>\\r\\nPREFIX  yago: <http://dbpedia.org/class/yago/>\\r\\n\\r\\nSELECT DISTINCT  ?person ?birthPlace\\r\\n WHERE \\r\\n   {\\r\\n     {\\r\\n       SELECT DISTINCT ?person ?birthPlace\\r\\nWHERE \\r\\n             { ?person  dbo:birthPlace ?birthPlace\\r\\n                {?person  a                     yago:Intellectual109621545}\\r\\n             } \\r\\n       ORDER BY ?person \\r\\n     }\\r\\n   } \\r\\nOFFSET 80000 LIMIT 10000',\n",
       " None,\n",
       " '2021-07-05 12:35:38')"
      ]
     },
     "execution_count": 74,
     "metadata": {},
     "output_type": "execute_result"
    }
   ],
   "source": [
    "### Définir la ligne de la base de données à utiliser (inspécter préalablement la base de données)\n",
    "pk_query = 65\n",
    "\n",
    "# connnexion à la base de données\n",
    "original_db = 'data/intellectuels.db'\n",
    "conn = sql.connect(original_db)\n",
    "\n",
    "### exécuter la requëte sur la base de donées SQLite pour récupérer les valeurs que contient la ligne\n",
    "c = conn.cursor()\n",
    "c.execute('SELECT * FROM query WHERE pk_query = ?', [pk_query]) ### a list around argument is needed for a string longer then one\n",
    "#c.execute('SELECT * FROM query WHERE pk_query = 10')\n",
    "\n",
    "rc = c.fetchone()\n",
    "\n",
    "# fermer la connexion\n",
    "conn.close()\n",
    "\n",
    "# imprimer et inspecter le résultat\n",
    "rc"
   ]
  },
  {
   "cell_type": "code",
   "execution_count": 75,
   "id": "legendary-brooks",
   "metadata": {},
   "outputs": [
    {
     "name": "stdout",
     "output_type": "stream",
     "text": [
      "<class 'dict'>\n"
     ]
    }
   ],
   "source": [
    "qr = spqf.get_json_sparql_result(rc[4],rc[5])"
   ]
  },
  {
   "cell_type": "code",
   "execution_count": 76,
   "id": "knowing-dispatch",
   "metadata": {},
   "outputs": [
    {
     "data": {
      "text/plain": [
       "10000"
      ]
     },
     "execution_count": 76,
     "metadata": {},
     "output_type": "execute_result"
    }
   ],
   "source": [
    "len(qr['results']['bindings'])"
   ]
  },
  {
   "cell_type": "code",
   "execution_count": 77,
   "id": "equal-training",
   "metadata": {},
   "outputs": [],
   "source": [
    "# Transformer le résultat en liste en utilisant une autre fonction de la bibliothèque utilisateur\n",
    "r = [l for l in spqf.sparql_result_to_list(qr)]\n",
    "# r"
   ]
  },
  {
   "cell_type": "code",
   "execution_count": 78,
   "id": "communist-handling",
   "metadata": {},
   "outputs": [
    {
     "name": "stdout",
     "output_type": "stream",
     "text": [
      "10000\n"
     ]
    },
    {
     "data": {
      "text/plain": [
       "[['http://dbpedia.org/resource/Lemanu_Peleti_Mauga',\n",
       "  \"http://dbpedia.org/resource/Nu'uuli,_American_Samoa\"],\n",
       " ['http://dbpedia.org/resource/Lemanu_Peleti_Mauga',\n",
       "  'http://dbpedia.org/resource/American_Samoa'],\n",
       " ['http://dbpedia.org/resource/Lemar_Marshall',\n",
       "  'http://dbpedia.org/resource/Cincinnati,_Ohio'],\n",
       " ['http://dbpedia.org/resource/Lembit_Öpik',\n",
       "  'http://dbpedia.org/resource/Northern_Ireland'],\n",
       " ['http://dbpedia.org/resource/Lembit_Öpik',\n",
       "  'http://dbpedia.org/resource/Bangor,_County_Down']]"
      ]
     },
     "execution_count": 78,
     "metadata": {},
     "output_type": "execute_result"
    }
   ],
   "source": [
    "# inspecter une seule ligne de la liste (de listes)\n",
    "print(len(r))\n",
    "r[:5]"
   ]
  },
  {
   "cell_type": "code",
   "execution_count": 79,
   "id": "gorgeous-siemens",
   "metadata": {},
   "outputs": [],
   "source": [
    "rl = [[l[0], 'http://dbpedia.org/ontology/birthPlace', l[1], 'https://dbpedia.org/sparql', 1, 65 ] for l in r]"
   ]
  },
  {
   "cell_type": "code",
   "execution_count": 80,
   "id": "religious-study",
   "metadata": {},
   "outputs": [
    {
     "name": "stdout",
     "output_type": "stream",
     "text": [
      "10000\n"
     ]
    },
    {
     "data": {
      "text/plain": [
       "[['http://dbpedia.org/resource/Lemanu_Peleti_Mauga',\n",
       "  'http://dbpedia.org/ontology/birthPlace',\n",
       "  \"http://dbpedia.org/resource/Nu'uuli,_American_Samoa\",\n",
       "  'https://dbpedia.org/sparql',\n",
       "  1,\n",
       "  65],\n",
       " ['http://dbpedia.org/resource/Lemanu_Peleti_Mauga',\n",
       "  'http://dbpedia.org/ontology/birthPlace',\n",
       "  'http://dbpedia.org/resource/American_Samoa',\n",
       "  'https://dbpedia.org/sparql',\n",
       "  1,\n",
       "  65],\n",
       " ['http://dbpedia.org/resource/Lemar_Marshall',\n",
       "  'http://dbpedia.org/ontology/birthPlace',\n",
       "  'http://dbpedia.org/resource/Cincinnati,_Ohio',\n",
       "  'https://dbpedia.org/sparql',\n",
       "  1,\n",
       "  65]]"
      ]
     },
     "execution_count": 80,
     "metadata": {},
     "output_type": "execute_result"
    }
   ],
   "source": [
    "print(len(rl))\n",
    "rl[:3]"
   ]
  },
  {
   "cell_type": "code",
   "execution_count": 81,
   "id": "isolated-gallery",
   "metadata": {},
   "outputs": [],
   "source": [
    "#STOCKAGE\n",
    "db = 'data/intellectuels.db'\n",
    "cn = sql.connect(db)\n",
    "c = cn.cursor()\n",
    "\n",
    "# Insérer les données\n",
    "c.executemany(\"INSERT OR IGNORE INTO property (uri_entity, property, value, source, quality, fk_query_as_source) VALUES (?,?,?,?,?,?)\", rl)\n",
    "\n",
    "# valider l'insertion et fermer la base de données\n",
    "## DESACTIVÉ !!! cn.commit()\n",
    "\n",
    "cn.close()"
   ]
  },
  {
   "cell_type": "markdown",
   "id": "willing-complaint",
   "metadata": {},
   "source": [
    "#### 100000"
   ]
  },
  {
   "cell_type": "code",
   "execution_count": null,
   "id": "bibliographic-engineer",
   "metadata": {},
   "outputs": [],
   "source": []
  },
  {
   "cell_type": "code",
   "execution_count": 82,
   "id": "personal-differential",
   "metadata": {},
   "outputs": [
    {
     "data": {
      "text/plain": [
       "(66,\n",
       " 'Lieux de naissance (dbo)',\n",
       " '100000',\n",
       " None,\n",
       " 'https://dbpedia.org/sparql',\n",
       " 'PREFIX  dbo:  <http://dbpedia.org/ontology/>\\r\\nPREFIX  dbp:  <http://dbpedia.org/property/>\\r\\nPREFIX  dbr:  <http://dbpedia.org/resource/>\\r\\nPREFIX  yago: <http://dbpedia.org/class/yago/>\\r\\n\\r\\nSELECT DISTINCT  ?person ?birthPlace\\r\\n WHERE \\r\\n   {\\r\\n     {\\r\\n       SELECT DISTINCT ?person ?birthPlace\\r\\nWHERE \\r\\n             { ?person  dbo:birthPlace ?birthPlace\\r\\n                {?person  a                     yago:Intellectual109621545}\\r\\n             } \\r\\n       ORDER BY ?person \\r\\n     }\\r\\n   } \\r\\nOFFSET 90000 LIMIT 10000',\n",
       " None,\n",
       " '2021-07-05 12:35:38')"
      ]
     },
     "execution_count": 82,
     "metadata": {},
     "output_type": "execute_result"
    }
   ],
   "source": [
    "### Définir la ligne de la base de données à utiliser (inspécter préalablement la base de données)\n",
    "pk_query = 66\n",
    "\n",
    "# connnexion à la base de données\n",
    "original_db = 'data/intellectuels.db'\n",
    "conn = sql.connect(original_db)\n",
    "\n",
    "### exécuter la requëte sur la base de donées SQLite pour récupérer les valeurs que contient la ligne\n",
    "c = conn.cursor()\n",
    "c.execute('SELECT * FROM query WHERE pk_query = ?', [pk_query]) ### a list around argument is needed for a string longer then one\n",
    "#c.execute('SELECT * FROM query WHERE pk_query = 10')\n",
    "\n",
    "rc = c.fetchone()\n",
    "\n",
    "# fermer la connexion\n",
    "conn.close()\n",
    "\n",
    "# imprimer et inspecter le résultat\n",
    "rc"
   ]
  },
  {
   "cell_type": "code",
   "execution_count": 83,
   "id": "optimum-challenge",
   "metadata": {},
   "outputs": [
    {
     "name": "stdout",
     "output_type": "stream",
     "text": [
      "<class 'dict'>\n"
     ]
    }
   ],
   "source": [
    "qr = spqf.get_json_sparql_result(rc[4],rc[5])"
   ]
  },
  {
   "cell_type": "code",
   "execution_count": 84,
   "id": "destroyed-youth",
   "metadata": {},
   "outputs": [
    {
     "data": {
      "text/plain": [
       "10000"
      ]
     },
     "execution_count": 84,
     "metadata": {},
     "output_type": "execute_result"
    }
   ],
   "source": [
    "len(qr['results']['bindings'])"
   ]
  },
  {
   "cell_type": "code",
   "execution_count": 85,
   "id": "funky-cheat",
   "metadata": {},
   "outputs": [],
   "source": [
    "# Transformer le résultat en liste en utilisant une autre fonction de la bibliothèque utilisateur\n",
    "r = [l for l in spqf.sparql_result_to_list(qr)]\n",
    "# r"
   ]
  },
  {
   "cell_type": "code",
   "execution_count": 86,
   "id": "registered-channel",
   "metadata": {},
   "outputs": [
    {
     "name": "stdout",
     "output_type": "stream",
     "text": [
      "10000\n"
     ]
    },
    {
     "data": {
      "text/plain": [
       "[['http://dbpedia.org/resource/Mei_Ju-ao',\n",
       "  'http://dbpedia.org/resource/Jiangxi'],\n",
       " ['http://dbpedia.org/resource/Mei_Ju-ao',\n",
       "  'http://dbpedia.org/resource/Nanchang'],\n",
       " ['http://dbpedia.org/resource/Mei_Shaowu',\n",
       "  'http://dbpedia.org/resource/Beijing'],\n",
       " ['http://dbpedia.org/resource/Meic_Stephens',\n",
       "  'http://dbpedia.org/resource/Glamorgan'],\n",
       " ['http://dbpedia.org/resource/Meic_Stephens',\n",
       "  'http://dbpedia.org/resource/Treforest']]"
      ]
     },
     "execution_count": 86,
     "metadata": {},
     "output_type": "execute_result"
    }
   ],
   "source": [
    "# inspecter une seule ligne de la liste (de listes)\n",
    "print(len(r))\n",
    "r[:5]"
   ]
  },
  {
   "cell_type": "code",
   "execution_count": 87,
   "id": "african-artist",
   "metadata": {},
   "outputs": [],
   "source": [
    "rl = [[l[0], 'http://dbpedia.org/ontology/birthPlace', l[1], 'https://dbpedia.org/sparql', 1, 66 ] for l in r]"
   ]
  },
  {
   "cell_type": "code",
   "execution_count": 88,
   "id": "significant-voltage",
   "metadata": {},
   "outputs": [
    {
     "name": "stdout",
     "output_type": "stream",
     "text": [
      "10000\n"
     ]
    },
    {
     "data": {
      "text/plain": [
       "[['http://dbpedia.org/resource/Mei_Ju-ao',\n",
       "  'http://dbpedia.org/ontology/birthPlace',\n",
       "  'http://dbpedia.org/resource/Jiangxi',\n",
       "  'https://dbpedia.org/sparql',\n",
       "  1,\n",
       "  66],\n",
       " ['http://dbpedia.org/resource/Mei_Ju-ao',\n",
       "  'http://dbpedia.org/ontology/birthPlace',\n",
       "  'http://dbpedia.org/resource/Nanchang',\n",
       "  'https://dbpedia.org/sparql',\n",
       "  1,\n",
       "  66],\n",
       " ['http://dbpedia.org/resource/Mei_Shaowu',\n",
       "  'http://dbpedia.org/ontology/birthPlace',\n",
       "  'http://dbpedia.org/resource/Beijing',\n",
       "  'https://dbpedia.org/sparql',\n",
       "  1,\n",
       "  66]]"
      ]
     },
     "execution_count": 88,
     "metadata": {},
     "output_type": "execute_result"
    }
   ],
   "source": [
    "print(len(rl))\n",
    "rl[:3]"
   ]
  },
  {
   "cell_type": "code",
   "execution_count": 89,
   "id": "sudden-respondent",
   "metadata": {},
   "outputs": [],
   "source": [
    "#STOCKAGE\n",
    "db = 'data/intellectuels.db'\n",
    "cn = sql.connect(db)\n",
    "c = cn.cursor()\n",
    "\n",
    "# Insérer les données\n",
    "c.executemany(\"INSERT OR IGNORE INTO property (uri_entity, property, value, source, quality, fk_query_as_source) VALUES (?,?,?,?,?,?)\", rl)\n",
    "\n",
    "# valider l'insertion et fermer la base de données\n",
    "## DESACTIVÉ !!! cn.commit()\n",
    "\n",
    "cn.close()"
   ]
  },
  {
   "cell_type": "markdown",
   "id": "controversial-split",
   "metadata": {},
   "source": [
    "#### 110000"
   ]
  },
  {
   "cell_type": "code",
   "execution_count": null,
   "id": "suited-connectivity",
   "metadata": {},
   "outputs": [],
   "source": []
  },
  {
   "cell_type": "code",
   "execution_count": 90,
   "id": "anticipated-anime",
   "metadata": {},
   "outputs": [
    {
     "data": {
      "text/plain": [
       "(67,\n",
       " 'Lieux de naissance (dbo)',\n",
       " '110000',\n",
       " None,\n",
       " 'https://dbpedia.org/sparql',\n",
       " 'PREFIX  dbo:  <http://dbpedia.org/ontology/>\\r\\nPREFIX  dbp:  <http://dbpedia.org/property/>\\r\\nPREFIX  dbr:  <http://dbpedia.org/resource/>\\r\\nPREFIX  yago: <http://dbpedia.org/class/yago/>\\r\\n\\r\\nSELECT DISTINCT  ?person ?birthPlace\\r\\n WHERE \\r\\n   {\\r\\n     {\\r\\n       SELECT DISTINCT ?person ?birthPlace\\r\\nWHERE \\r\\n             { ?person  dbo:birthPlace ?birthPlace\\r\\n                {?person  a                     yago:Intellectual109621545}\\r\\n             } \\r\\n       ORDER BY ?person \\r\\n     }\\r\\n   } \\r\\nOFFSET 100000 LIMIT 10000',\n",
       " None,\n",
       " '2021-07-05 12:35:38')"
      ]
     },
     "execution_count": 90,
     "metadata": {},
     "output_type": "execute_result"
    }
   ],
   "source": [
    "### Définir la ligne de la base de données à utiliser (inspécter préalablement la base de données)\n",
    "pk_query = 67\n",
    "\n",
    "# connnexion à la base de données\n",
    "original_db = 'data/intellectuels.db'\n",
    "conn = sql.connect(original_db)\n",
    "\n",
    "### exécuter la requëte sur la base de donées SQLite pour récupérer les valeurs que contient la ligne\n",
    "c = conn.cursor()\n",
    "c.execute('SELECT * FROM query WHERE pk_query = ?', [pk_query]) ### a list around argument is needed for a string longer then one\n",
    "#c.execute('SELECT * FROM query WHERE pk_query = 10')\n",
    "\n",
    "rc = c.fetchone()\n",
    "\n",
    "# fermer la connexion\n",
    "conn.close()\n",
    "\n",
    "# imprimer et inspecter le résultat\n",
    "rc"
   ]
  },
  {
   "cell_type": "code",
   "execution_count": 91,
   "id": "clinical-danish",
   "metadata": {},
   "outputs": [
    {
     "name": "stdout",
     "output_type": "stream",
     "text": [
      "<class 'dict'>\n"
     ]
    }
   ],
   "source": [
    "qr = spqf.get_json_sparql_result(rc[4],rc[5])"
   ]
  },
  {
   "cell_type": "code",
   "execution_count": 92,
   "id": "sorted-worthy",
   "metadata": {},
   "outputs": [
    {
     "data": {
      "text/plain": [
       "10000"
      ]
     },
     "execution_count": 92,
     "metadata": {},
     "output_type": "execute_result"
    }
   ],
   "source": [
    "len(qr['results']['bindings'])"
   ]
  },
  {
   "cell_type": "code",
   "execution_count": 93,
   "id": "lightweight-concrete",
   "metadata": {},
   "outputs": [],
   "source": [
    "# Transformer le résultat en liste en utilisant une autre fonction de la bibliothèque utilisateur\n",
    "r = [l for l in spqf.sparql_result_to_list(qr)]\n",
    "# r"
   ]
  },
  {
   "cell_type": "code",
   "execution_count": 94,
   "id": "stone-health",
   "metadata": {},
   "outputs": [
    {
     "name": "stdout",
     "output_type": "stream",
     "text": [
      "10000\n"
     ]
    },
    {
     "data": {
      "text/plain": [
       "[['http://dbpedia.org/resource/Otto_Neurath',\n",
       "  'http://dbpedia.org/resource/Austria'],\n",
       " ['http://dbpedia.org/resource/Otto_Neurath',\n",
       "  'http://dbpedia.org/resource/Austro-Hungarian_Empire'],\n",
       " ['http://dbpedia.org/resource/Otto_Neurath',\n",
       "  'http://dbpedia.org/resource/Vienna'],\n",
       " ['http://dbpedia.org/resource/Otto_Newman',\n",
       "  'http://dbpedia.org/resource/Vienna'],\n",
       " ['http://dbpedia.org/resource/Otto_Piene',\n",
       "  'http://dbpedia.org/resource/Province_of_Westphalia']]"
      ]
     },
     "execution_count": 94,
     "metadata": {},
     "output_type": "execute_result"
    }
   ],
   "source": [
    "# inspecter une seule ligne de la liste (de listes)\n",
    "print(len(r))\n",
    "r[:5]"
   ]
  },
  {
   "cell_type": "code",
   "execution_count": 95,
   "id": "alpine-satisfaction",
   "metadata": {},
   "outputs": [],
   "source": [
    "rl = [[l[0], 'http://dbpedia.org/ontology/birthPlace', l[1], 'https://dbpedia.org/sparql', 1, 67 ] for l in r]"
   ]
  },
  {
   "cell_type": "code",
   "execution_count": 96,
   "id": "color-louisiana",
   "metadata": {},
   "outputs": [
    {
     "name": "stdout",
     "output_type": "stream",
     "text": [
      "10000\n"
     ]
    },
    {
     "data": {
      "text/plain": [
       "[['http://dbpedia.org/resource/Otto_Neurath',\n",
       "  'http://dbpedia.org/ontology/birthPlace',\n",
       "  'http://dbpedia.org/resource/Austria',\n",
       "  'https://dbpedia.org/sparql',\n",
       "  1,\n",
       "  67],\n",
       " ['http://dbpedia.org/resource/Otto_Neurath',\n",
       "  'http://dbpedia.org/ontology/birthPlace',\n",
       "  'http://dbpedia.org/resource/Austro-Hungarian_Empire',\n",
       "  'https://dbpedia.org/sparql',\n",
       "  1,\n",
       "  67],\n",
       " ['http://dbpedia.org/resource/Otto_Neurath',\n",
       "  'http://dbpedia.org/ontology/birthPlace',\n",
       "  'http://dbpedia.org/resource/Vienna',\n",
       "  'https://dbpedia.org/sparql',\n",
       "  1,\n",
       "  67]]"
      ]
     },
     "execution_count": 96,
     "metadata": {},
     "output_type": "execute_result"
    }
   ],
   "source": [
    "print(len(rl))\n",
    "rl[:3]"
   ]
  },
  {
   "cell_type": "code",
   "execution_count": 97,
   "id": "religious-proof",
   "metadata": {},
   "outputs": [],
   "source": [
    "#STOCKAGE\n",
    "db = 'data/intellectuels.db'\n",
    "cn = sql.connect(db)\n",
    "c = cn.cursor()\n",
    "\n",
    "# Insérer les données\n",
    "c.executemany(\"INSERT OR IGNORE INTO property (uri_entity, property, value, source, quality, fk_query_as_source) VALUES (?,?,?,?,?,?)\", rl)\n",
    "\n",
    "# valider l'insertion et fermer la base de données\n",
    "## DESACTIVÉ !!! cn.commit()\n",
    "\n",
    "cn.close()"
   ]
  },
  {
   "cell_type": "markdown",
   "id": "controversial-nurse",
   "metadata": {},
   "source": [
    "#### 120000"
   ]
  },
  {
   "cell_type": "code",
   "execution_count": null,
   "id": "wound-arctic",
   "metadata": {},
   "outputs": [],
   "source": []
  },
  {
   "cell_type": "code",
   "execution_count": 98,
   "id": "chicken-perth",
   "metadata": {},
   "outputs": [
    {
     "data": {
      "text/plain": [
       "(68,\n",
       " 'Lieux de naissance (dbo)',\n",
       " '120000',\n",
       " None,\n",
       " 'https://dbpedia.org/sparql',\n",
       " 'PREFIX  dbo:  <http://dbpedia.org/ontology/>\\r\\nPREFIX  dbp:  <http://dbpedia.org/property/>\\r\\nPREFIX  dbr:  <http://dbpedia.org/resource/>\\r\\nPREFIX  yago: <http://dbpedia.org/class/yago/>\\r\\n\\r\\nSELECT DISTINCT  ?person ?birthPlace\\r\\n WHERE \\r\\n   {\\r\\n     {\\r\\n       SELECT DISTINCT ?person ?birthPlace\\r\\nWHERE \\r\\n             { ?person  dbo:birthPlace ?birthPlace\\r\\n                {?person  a                     yago:Intellectual109621545}\\r\\n             } \\r\\n       ORDER BY ?person \\r\\n     }\\r\\n   } \\r\\nOFFSET 110000 LIMIT 10000',\n",
       " None,\n",
       " '2021-07-05 12:35:38')"
      ]
     },
     "execution_count": 98,
     "metadata": {},
     "output_type": "execute_result"
    }
   ],
   "source": [
    "### Définir la ligne de la base de données à utiliser (inspécter préalablement la base de données)\n",
    "pk_query = 68\n",
    "\n",
    "# connnexion à la base de données\n",
    "original_db = 'data/intellectuels.db'\n",
    "conn = sql.connect(original_db)\n",
    "\n",
    "### exécuter la requëte sur la base de donées SQLite pour récupérer les valeurs que contient la ligne\n",
    "c = conn.cursor()\n",
    "c.execute('SELECT * FROM query WHERE pk_query = ?', [pk_query]) ### a list around argument is needed for a string longer then one\n",
    "#c.execute('SELECT * FROM query WHERE pk_query = 10')\n",
    "\n",
    "rc = c.fetchone()\n",
    "\n",
    "# fermer la connexion\n",
    "conn.close()\n",
    "\n",
    "# imprimer et inspecter le résultat\n",
    "rc"
   ]
  },
  {
   "cell_type": "code",
   "execution_count": 99,
   "id": "stopped-vegetation",
   "metadata": {},
   "outputs": [
    {
     "name": "stdout",
     "output_type": "stream",
     "text": [
      "<class 'dict'>\n"
     ]
    }
   ],
   "source": [
    "qr = spqf.get_json_sparql_result(rc[4],rc[5])"
   ]
  },
  {
   "cell_type": "code",
   "execution_count": 100,
   "id": "radical-delight",
   "metadata": {},
   "outputs": [
    {
     "data": {
      "text/plain": [
       "10000"
      ]
     },
     "execution_count": 100,
     "metadata": {},
     "output_type": "execute_result"
    }
   ],
   "source": [
    "len(qr['results']['bindings'])"
   ]
  },
  {
   "cell_type": "code",
   "execution_count": 101,
   "id": "unavailable-understanding",
   "metadata": {},
   "outputs": [],
   "source": [
    "# Transformer le résultat en liste en utilisant une autre fonction de la bibliothèque utilisateur\n",
    "r = [l for l in spqf.sparql_result_to_list(qr)]\n",
    "# r"
   ]
  },
  {
   "cell_type": "code",
   "execution_count": 102,
   "id": "phantom-value",
   "metadata": {},
   "outputs": [
    {
     "name": "stdout",
     "output_type": "stream",
     "text": [
      "10000\n"
     ]
    },
    {
     "data": {
      "text/plain": [
       "[['http://dbpedia.org/resource/Richard_P._Gabriel',\n",
       "  'http://dbpedia.org/resource/Merrimac,_Massachusetts'],\n",
       " ['http://dbpedia.org/resource/Richard_P._McCormick',\n",
       "  'http://dbpedia.org/resource/Ridgewood,_Queens'],\n",
       " ['http://dbpedia.org/resource/Richard_P._Mills',\n",
       "  'http://dbpedia.org/resource/Paris,_Illinois'],\n",
       " ['http://dbpedia.org/resource/Richard_P._Rubinstein',\n",
       "  'http://dbpedia.org/resource/Brooklyn'],\n",
       " ['http://dbpedia.org/resource/Richard_P._Stanley',\n",
       "  'http://dbpedia.org/resource/New_York_City']]"
      ]
     },
     "execution_count": 102,
     "metadata": {},
     "output_type": "execute_result"
    }
   ],
   "source": [
    "# inspecter une seule ligne de la liste (de listes)\n",
    "print(len(r))\n",
    "r[:5]"
   ]
  },
  {
   "cell_type": "code",
   "execution_count": 103,
   "id": "right-finnish",
   "metadata": {},
   "outputs": [],
   "source": [
    "rl = [[l[0], 'http://dbpedia.org/ontology/birthPlace', l[1], 'https://dbpedia.org/sparql', 1, 68 ] for l in r]"
   ]
  },
  {
   "cell_type": "code",
   "execution_count": 104,
   "id": "welcome-viewer",
   "metadata": {},
   "outputs": [
    {
     "name": "stdout",
     "output_type": "stream",
     "text": [
      "10000\n"
     ]
    },
    {
     "data": {
      "text/plain": [
       "[['http://dbpedia.org/resource/Richard_P._Gabriel',\n",
       "  'http://dbpedia.org/ontology/birthPlace',\n",
       "  'http://dbpedia.org/resource/Merrimac,_Massachusetts',\n",
       "  'https://dbpedia.org/sparql',\n",
       "  1,\n",
       "  68],\n",
       " ['http://dbpedia.org/resource/Richard_P._McCormick',\n",
       "  'http://dbpedia.org/ontology/birthPlace',\n",
       "  'http://dbpedia.org/resource/Ridgewood,_Queens',\n",
       "  'https://dbpedia.org/sparql',\n",
       "  1,\n",
       "  68],\n",
       " ['http://dbpedia.org/resource/Richard_P._Mills',\n",
       "  'http://dbpedia.org/ontology/birthPlace',\n",
       "  'http://dbpedia.org/resource/Paris,_Illinois',\n",
       "  'https://dbpedia.org/sparql',\n",
       "  1,\n",
       "  68]]"
      ]
     },
     "execution_count": 104,
     "metadata": {},
     "output_type": "execute_result"
    }
   ],
   "source": [
    "print(len(rl))\n",
    "rl[:3]"
   ]
  },
  {
   "cell_type": "code",
   "execution_count": 105,
   "id": "interested-password",
   "metadata": {},
   "outputs": [],
   "source": [
    "#STOCKAGE\n",
    "db = 'data/intellectuels.db'\n",
    "cn = sql.connect(db)\n",
    "c = cn.cursor()\n",
    "\n",
    "# Insérer les données\n",
    "c.executemany(\"INSERT OR IGNORE INTO property (uri_entity, property, value, source, quality, fk_query_as_source) VALUES (?,?,?,?,?,?)\", rl)\n",
    "\n",
    "# valider l'insertion et fermer la base de données\n",
    "## DESACTIVÉ !!! cn.commit()\n",
    "\n",
    "cn.close()"
   ]
  },
  {
   "cell_type": "markdown",
   "id": "returning-pricing",
   "metadata": {},
   "source": [
    "#### 130000"
   ]
  },
  {
   "cell_type": "code",
   "execution_count": null,
   "id": "accompanied-mitchell",
   "metadata": {},
   "outputs": [],
   "source": []
  },
  {
   "cell_type": "code",
   "execution_count": 106,
   "id": "advance-victim",
   "metadata": {},
   "outputs": [
    {
     "data": {
      "text/plain": [
       "(69,\n",
       " 'Lieux de naissance (dbo)',\n",
       " '130000',\n",
       " None,\n",
       " 'https://dbpedia.org/sparql',\n",
       " 'PREFIX  dbo:  <http://dbpedia.org/ontology/>\\r\\nPREFIX  dbp:  <http://dbpedia.org/property/>\\r\\nPREFIX  dbr:  <http://dbpedia.org/resource/>\\r\\nPREFIX  yago: <http://dbpedia.org/class/yago/>\\r\\n\\r\\nSELECT DISTINCT  ?person ?birthPlace\\r\\n WHERE \\r\\n   {\\r\\n     {\\r\\n       SELECT DISTINCT ?person ?birthPlace\\r\\nWHERE \\r\\n             { ?person  dbo:birthPlace ?birthPlace\\r\\n                {?person  a                     yago:Intellectual109621545}\\r\\n             } \\r\\n       ORDER BY ?person \\r\\n     }\\r\\n   } \\r\\nOFFSET 120000 LIMIT 10000',\n",
       " None,\n",
       " '2021-07-05 12:35:38')"
      ]
     },
     "execution_count": 106,
     "metadata": {},
     "output_type": "execute_result"
    }
   ],
   "source": [
    "### Définir la ligne de la base de données à utiliser (inspécter préalablement la base de données)\n",
    "pk_query = 69\n",
    "\n",
    "# connnexion à la base de données\n",
    "original_db = 'data/intellectuels.db'\n",
    "conn = sql.connect(original_db)\n",
    "\n",
    "### exécuter la requëte sur la base de donées SQLite pour récupérer les valeurs que contient la ligne\n",
    "c = conn.cursor()\n",
    "c.execute('SELECT * FROM query WHERE pk_query = ?', [pk_query]) ### a list around argument is needed for a string longer then one\n",
    "#c.execute('SELECT * FROM query WHERE pk_query = 10')\n",
    "\n",
    "rc = c.fetchone()\n",
    "\n",
    "# fermer la connexion\n",
    "conn.close()\n",
    "\n",
    "# imprimer et inspecter le résultat\n",
    "rc"
   ]
  },
  {
   "cell_type": "code",
   "execution_count": 107,
   "id": "primary-equity",
   "metadata": {},
   "outputs": [
    {
     "name": "stdout",
     "output_type": "stream",
     "text": [
      "<class 'dict'>\n"
     ]
    }
   ],
   "source": [
    "qr = spqf.get_json_sparql_result(rc[4],rc[5])"
   ]
  },
  {
   "cell_type": "code",
   "execution_count": 108,
   "id": "civil-package",
   "metadata": {},
   "outputs": [
    {
     "data": {
      "text/plain": [
       "10000"
      ]
     },
     "execution_count": 108,
     "metadata": {},
     "output_type": "execute_result"
    }
   ],
   "source": [
    "len(qr['results']['bindings'])"
   ]
  },
  {
   "cell_type": "code",
   "execution_count": 109,
   "id": "basic-mailman",
   "metadata": {},
   "outputs": [],
   "source": [
    "# Transformer le résultat en liste en utilisant une autre fonction de la bibliothèque utilisateur\n",
    "r = [l for l in spqf.sparql_result_to_list(qr)]\n",
    "# r"
   ]
  },
  {
   "cell_type": "code",
   "execution_count": 110,
   "id": "strong-omaha",
   "metadata": {},
   "outputs": [
    {
     "name": "stdout",
     "output_type": "stream",
     "text": [
      "10000\n"
     ]
    },
    {
     "data": {
      "text/plain": [
       "[['http://dbpedia.org/resource/Shoshana_Kamin',\n",
       "  'http://dbpedia.org/resource/Moscow'],\n",
       " ['http://dbpedia.org/resource/Shoshanna_Lonstein_Gruss',\n",
       "  'http://dbpedia.org/resource/United_States'],\n",
       " ['http://dbpedia.org/resource/Shoshanna_Lonstein_Gruss',\n",
       "  'http://dbpedia.org/resource/New_York_(state)'],\n",
       " ['http://dbpedia.org/resource/Shoshanna_Lonstein_Gruss',\n",
       "  'http://dbpedia.org/resource/Manhattan'],\n",
       " ['http://dbpedia.org/resource/Shota_Ishimine',\n",
       "  'http://dbpedia.org/resource/Okinawa_Prefecture']]"
      ]
     },
     "execution_count": 110,
     "metadata": {},
     "output_type": "execute_result"
    }
   ],
   "source": [
    "# inspecter une seule ligne de la liste (de listes)\n",
    "print(len(r))\n",
    "r[:5]"
   ]
  },
  {
   "cell_type": "code",
   "execution_count": 111,
   "id": "mexican-venue",
   "metadata": {},
   "outputs": [],
   "source": [
    "rl = [[l[0], 'http://dbpedia.org/ontology/birthPlace', l[1], 'https://dbpedia.org/sparql', 1, 69 ] for l in r]"
   ]
  },
  {
   "cell_type": "code",
   "execution_count": 112,
   "id": "tropical-motor",
   "metadata": {},
   "outputs": [
    {
     "name": "stdout",
     "output_type": "stream",
     "text": [
      "10000\n"
     ]
    },
    {
     "data": {
      "text/plain": [
       "[['http://dbpedia.org/resource/Shoshana_Kamin',\n",
       "  'http://dbpedia.org/ontology/birthPlace',\n",
       "  'http://dbpedia.org/resource/Moscow',\n",
       "  'https://dbpedia.org/sparql',\n",
       "  1,\n",
       "  69],\n",
       " ['http://dbpedia.org/resource/Shoshanna_Lonstein_Gruss',\n",
       "  'http://dbpedia.org/ontology/birthPlace',\n",
       "  'http://dbpedia.org/resource/United_States',\n",
       "  'https://dbpedia.org/sparql',\n",
       "  1,\n",
       "  69],\n",
       " ['http://dbpedia.org/resource/Shoshanna_Lonstein_Gruss',\n",
       "  'http://dbpedia.org/ontology/birthPlace',\n",
       "  'http://dbpedia.org/resource/New_York_(state)',\n",
       "  'https://dbpedia.org/sparql',\n",
       "  1,\n",
       "  69]]"
      ]
     },
     "execution_count": 112,
     "metadata": {},
     "output_type": "execute_result"
    }
   ],
   "source": [
    "print(len(rl))\n",
    "rl[:3]"
   ]
  },
  {
   "cell_type": "code",
   "execution_count": 113,
   "id": "attempted-fetish",
   "metadata": {},
   "outputs": [],
   "source": [
    "#STOCKAGE\n",
    "db = 'data/intellectuels.db'\n",
    "cn = sql.connect(db)\n",
    "c = cn.cursor()\n",
    "\n",
    "# Insérer les données\n",
    "c.executemany(\"INSERT OR IGNORE INTO property (uri_entity, property, value, source, quality, fk_query_as_source) VALUES (?,?,?,?,?,?)\", rl)\n",
    "\n",
    "# valider l'insertion et fermer la base de données\n",
    "## DESACTIVÉ !!! cn.commit()\n",
    "\n",
    "cn.close()"
   ]
  },
  {
   "cell_type": "markdown",
   "id": "artistic-conservation",
   "metadata": {},
   "source": [
    "#### 140000"
   ]
  },
  {
   "cell_type": "code",
   "execution_count": null,
   "id": "daily-sleeve",
   "metadata": {},
   "outputs": [],
   "source": []
  },
  {
   "cell_type": "code",
   "execution_count": 114,
   "id": "beginning-appreciation",
   "metadata": {},
   "outputs": [
    {
     "data": {
      "text/plain": [
       "(70,\n",
       " 'Lieux de naissance (dbo)',\n",
       " '140000',\n",
       " None,\n",
       " 'https://dbpedia.org/sparql',\n",
       " 'PREFIX  dbo:  <http://dbpedia.org/ontology/>\\r\\nPREFIX  dbp:  <http://dbpedia.org/property/>\\r\\nPREFIX  dbr:  <http://dbpedia.org/resource/>\\r\\nPREFIX  yago: <http://dbpedia.org/class/yago/>\\r\\n\\r\\nSELECT DISTINCT  ?person ?birthPlace\\r\\n WHERE \\r\\n   {\\r\\n     {\\r\\n       SELECT DISTINCT ?person ?birthPlace\\r\\nWHERE \\r\\n             { ?person  dbo:birthPlace ?birthPlace\\r\\n                {?person  a                     yago:Intellectual109621545}\\r\\n             } \\r\\n       ORDER BY ?person \\r\\n     }\\r\\n   } \\r\\nOFFSET 130000 LIMIT 10000',\n",
       " None,\n",
       " '2021-07-05 12:35:38')"
      ]
     },
     "execution_count": 114,
     "metadata": {},
     "output_type": "execute_result"
    }
   ],
   "source": [
    "### Définir la ligne de la base de données à utiliser (inspécter préalablement la base de données)\n",
    "pk_query = 70\n",
    "\n",
    "# connnexion à la base de données\n",
    "original_db = 'data/intellectuels.db'\n",
    "conn = sql.connect(original_db)\n",
    "\n",
    "### exécuter la requëte sur la base de donées SQLite pour récupérer les valeurs que contient la ligne\n",
    "c = conn.cursor()\n",
    "c.execute('SELECT * FROM query WHERE pk_query = ?', [pk_query]) ### a list around argument is needed for a string longer then one\n",
    "#c.execute('SELECT * FROM query WHERE pk_query = 10')\n",
    "\n",
    "rc = c.fetchone()\n",
    "\n",
    "# fermer la connexion\n",
    "conn.close()\n",
    "\n",
    "# imprimer et inspecter le résultat\n",
    "rc"
   ]
  },
  {
   "cell_type": "code",
   "execution_count": 115,
   "id": "adaptive-bolivia",
   "metadata": {},
   "outputs": [
    {
     "name": "stdout",
     "output_type": "stream",
     "text": [
      "<class 'dict'>\n"
     ]
    }
   ],
   "source": [
    "qr = spqf.get_json_sparql_result(rc[4],rc[5])"
   ]
  },
  {
   "cell_type": "code",
   "execution_count": 116,
   "id": "listed-policy",
   "metadata": {},
   "outputs": [
    {
     "data": {
      "text/plain": [
       "10000"
      ]
     },
     "execution_count": 116,
     "metadata": {},
     "output_type": "execute_result"
    }
   ],
   "source": [
    "len(qr['results']['bindings'])"
   ]
  },
  {
   "cell_type": "code",
   "execution_count": 117,
   "id": "unlike-illustration",
   "metadata": {},
   "outputs": [],
   "source": [
    "# Transformer le résultat en liste en utilisant une autre fonction de la bibliothèque utilisateur\n",
    "r = [l for l in spqf.sparql_result_to_list(qr)]\n",
    "# r"
   ]
  },
  {
   "cell_type": "code",
   "execution_count": 118,
   "id": "liked-principal",
   "metadata": {},
   "outputs": [
    {
     "name": "stdout",
     "output_type": "stream",
     "text": [
      "10000\n"
     ]
    },
    {
     "data": {
      "text/plain": [
       "[['http://dbpedia.org/resource/Toyin_Falola',\n",
       "  'http://dbpedia.org/resource/Ibadan'],\n",
       " ['http://dbpedia.org/resource/Trace_Adkins',\n",
       "  'http://dbpedia.org/resource/Sarepta,_Louisiana'],\n",
       " ['http://dbpedia.org/resource/Tracee_Carrasco',\n",
       "  'http://dbpedia.org/resource/United_States'],\n",
       " ['http://dbpedia.org/resource/Tracee_Carrasco',\n",
       "  'http://dbpedia.org/resource/Honolulu'],\n",
       " ['http://dbpedia.org/resource/Tracee_Carrasco',\n",
       "  'http://dbpedia.org/resource/Hawaii']]"
      ]
     },
     "execution_count": 118,
     "metadata": {},
     "output_type": "execute_result"
    }
   ],
   "source": [
    "# inspecter une seule ligne de la liste (de listes)\n",
    "print(len(r))\n",
    "r[:5]"
   ]
  },
  {
   "cell_type": "code",
   "execution_count": 119,
   "id": "exotic-orientation",
   "metadata": {},
   "outputs": [],
   "source": [
    "rl = [[l[0], 'http://dbpedia.org/ontology/birthPlace', l[1], 'https://dbpedia.org/sparql', 1, 70 ] for l in r]"
   ]
  },
  {
   "cell_type": "code",
   "execution_count": 120,
   "id": "sharp-newspaper",
   "metadata": {},
   "outputs": [
    {
     "name": "stdout",
     "output_type": "stream",
     "text": [
      "10000\n"
     ]
    },
    {
     "data": {
      "text/plain": [
       "[['http://dbpedia.org/resource/Toyin_Falola',\n",
       "  'http://dbpedia.org/ontology/birthPlace',\n",
       "  'http://dbpedia.org/resource/Ibadan',\n",
       "  'https://dbpedia.org/sparql',\n",
       "  1,\n",
       "  70],\n",
       " ['http://dbpedia.org/resource/Trace_Adkins',\n",
       "  'http://dbpedia.org/ontology/birthPlace',\n",
       "  'http://dbpedia.org/resource/Sarepta,_Louisiana',\n",
       "  'https://dbpedia.org/sparql',\n",
       "  1,\n",
       "  70],\n",
       " ['http://dbpedia.org/resource/Tracee_Carrasco',\n",
       "  'http://dbpedia.org/ontology/birthPlace',\n",
       "  'http://dbpedia.org/resource/United_States',\n",
       "  'https://dbpedia.org/sparql',\n",
       "  1,\n",
       "  70]]"
      ]
     },
     "execution_count": 120,
     "metadata": {},
     "output_type": "execute_result"
    }
   ],
   "source": [
    "print(len(rl))\n",
    "rl[:3]"
   ]
  },
  {
   "cell_type": "code",
   "execution_count": 121,
   "id": "subject-cricket",
   "metadata": {},
   "outputs": [],
   "source": [
    "#STOCKAGE\n",
    "db = 'data/intellectuels.db'\n",
    "cn = sql.connect(db)\n",
    "c = cn.cursor()\n",
    "\n",
    "# Insérer les données\n",
    "c.executemany(\"INSERT OR IGNORE INTO property (uri_entity, property, value, source, quality, fk_query_as_source) VALUES (?,?,?,?,?,?)\", rl)\n",
    "\n",
    "# valider l'insertion et fermer la base de données\n",
    "## DESACTIVÉ !!! cn.commit()\n",
    "\n",
    "cn.close()"
   ]
  },
  {
   "cell_type": "markdown",
   "id": "helpful-twist",
   "metadata": {},
   "source": [
    "#### 150000"
   ]
  },
  {
   "cell_type": "code",
   "execution_count": null,
   "id": "hybrid-brother",
   "metadata": {},
   "outputs": [],
   "source": []
  },
  {
   "cell_type": "code",
   "execution_count": 122,
   "id": "muslim-findings",
   "metadata": {},
   "outputs": [
    {
     "data": {
      "text/plain": [
       "(71,\n",
       " 'Lieux de naissance (dbo)',\n",
       " '150000',\n",
       " None,\n",
       " 'https://dbpedia.org/sparql',\n",
       " 'PREFIX  dbo:  <http://dbpedia.org/ontology/>\\r\\nPREFIX  dbp:  <http://dbpedia.org/property/>\\r\\nPREFIX  dbr:  <http://dbpedia.org/resource/>\\r\\nPREFIX  yago: <http://dbpedia.org/class/yago/>\\r\\n\\r\\nSELECT DISTINCT  ?person ?birthPlace\\r\\n WHERE \\r\\n   {\\r\\n     {\\r\\n       SELECT DISTINCT ?person ?birthPlace\\r\\nWHERE \\r\\n             { ?person  dbo:birthPlace ?birthPlace\\r\\n                {?person  a                     yago:Intellectual109621545}\\r\\n             } \\r\\n       ORDER BY ?person \\r\\n     }\\r\\n   } \\r\\nOFFSET 140000 LIMIT 10000',\n",
       " None,\n",
       " '2021-07-05 12:35:38')"
      ]
     },
     "execution_count": 122,
     "metadata": {},
     "output_type": "execute_result"
    }
   ],
   "source": [
    "### Définir la ligne de la base de données à utiliser (inspécter préalablement la base de données)\n",
    "pk_query = 71\n",
    "\n",
    "# connnexion à la base de données\n",
    "original_db = 'data/intellectuels.db'\n",
    "conn = sql.connect(original_db)\n",
    "\n",
    "### exécuter la requëte sur la base de donées SQLite pour récupérer les valeurs que contient la ligne\n",
    "c = conn.cursor()\n",
    "c.execute('SELECT * FROM query WHERE pk_query = ?', [pk_query]) ### a list around argument is needed for a string longer then one\n",
    "#c.execute('SELECT * FROM query WHERE pk_query = 10')\n",
    "\n",
    "rc = c.fetchone()\n",
    "\n",
    "# fermer la connexion\n",
    "conn.close()\n",
    "\n",
    "# imprimer et inspecter le résultat\n",
    "rc"
   ]
  },
  {
   "cell_type": "code",
   "execution_count": 123,
   "id": "unauthorized-willow",
   "metadata": {},
   "outputs": [
    {
     "name": "stdout",
     "output_type": "stream",
     "text": [
      "<class 'dict'>\n"
     ]
    }
   ],
   "source": [
    "qr = spqf.get_json_sparql_result(rc[4],rc[5])"
   ]
  },
  {
   "cell_type": "code",
   "execution_count": 124,
   "id": "specific-worthy",
   "metadata": {},
   "outputs": [
    {
     "data": {
      "text/plain": [
       "128"
      ]
     },
     "execution_count": 124,
     "metadata": {},
     "output_type": "execute_result"
    }
   ],
   "source": [
    "len(qr['results']['bindings'])"
   ]
  },
  {
   "cell_type": "code",
   "execution_count": 125,
   "id": "alien-handling",
   "metadata": {},
   "outputs": [],
   "source": [
    "# Transformer le résultat en liste en utilisant une autre fonction de la bibliothèque utilisateur\n",
    "r = [l for l in spqf.sparql_result_to_list(qr)]\n",
    "# r"
   ]
  },
  {
   "cell_type": "code",
   "execution_count": 126,
   "id": "accompanied-binary",
   "metadata": {},
   "outputs": [
    {
     "name": "stdout",
     "output_type": "stream",
     "text": [
      "128\n"
     ]
    },
    {
     "data": {
      "text/plain": [
       "[['http://dbpedia.org/resource/İdris_Güllüce',\n",
       "  'http://dbpedia.org/resource/Turkey'],\n",
       " ['http://dbpedia.org/resource/İdris_Güllüce',\n",
       "  'http://dbpedia.org/resource/Pasinler,_Erzurum'],\n",
       " ['http://dbpedia.org/resource/İdris_Güllüce',\n",
       "  'http://dbpedia.org/resource/Erzurum_Province'],\n",
       " ['http://dbpedia.org/resource/İhsan_Doğramacı',\n",
       "  'http://dbpedia.org/resource/Arbil'],\n",
       " ['http://dbpedia.org/resource/İhsan_Doğramacı',\n",
       "  'http://dbpedia.org/resource/Ottoman_Empire']]"
      ]
     },
     "execution_count": 126,
     "metadata": {},
     "output_type": "execute_result"
    }
   ],
   "source": [
    "# inspecter une seule ligne de la liste (de listes)\n",
    "print(len(r))\n",
    "r[:5]"
   ]
  },
  {
   "cell_type": "code",
   "execution_count": 127,
   "id": "answering-heater",
   "metadata": {},
   "outputs": [],
   "source": [
    "rl = [[l[0], 'http://dbpedia.org/ontology/birthPlace', l[1], 'https://dbpedia.org/sparql', 1, 71 ] for l in r]"
   ]
  },
  {
   "cell_type": "code",
   "execution_count": 128,
   "id": "improved-rates",
   "metadata": {},
   "outputs": [
    {
     "name": "stdout",
     "output_type": "stream",
     "text": [
      "128\n"
     ]
    },
    {
     "data": {
      "text/plain": [
       "[['http://dbpedia.org/resource/İdris_Güllüce',\n",
       "  'http://dbpedia.org/ontology/birthPlace',\n",
       "  'http://dbpedia.org/resource/Turkey',\n",
       "  'https://dbpedia.org/sparql',\n",
       "  1,\n",
       "  71],\n",
       " ['http://dbpedia.org/resource/İdris_Güllüce',\n",
       "  'http://dbpedia.org/ontology/birthPlace',\n",
       "  'http://dbpedia.org/resource/Pasinler,_Erzurum',\n",
       "  'https://dbpedia.org/sparql',\n",
       "  1,\n",
       "  71],\n",
       " ['http://dbpedia.org/resource/İdris_Güllüce',\n",
       "  'http://dbpedia.org/ontology/birthPlace',\n",
       "  'http://dbpedia.org/resource/Erzurum_Province',\n",
       "  'https://dbpedia.org/sparql',\n",
       "  1,\n",
       "  71]]"
      ]
     },
     "execution_count": 128,
     "metadata": {},
     "output_type": "execute_result"
    }
   ],
   "source": [
    "print(len(rl))\n",
    "rl[:3]"
   ]
  },
  {
   "cell_type": "code",
   "execution_count": 129,
   "id": "varied-allen",
   "metadata": {},
   "outputs": [],
   "source": [
    "#STOCKAGE\n",
    "db = 'data/intellectuels.db'\n",
    "cn = sql.connect(db)\n",
    "c = cn.cursor()\n",
    "\n",
    "# Insérer les données\n",
    "c.executemany(\"INSERT OR IGNORE INTO property (uri_entity, property, value, source, quality, fk_query_as_source) VALUES (?,?,?,?,?,?)\", rl)\n",
    "\n",
    "# valider l'insertion et fermer la base de données\n",
    "## DESACTIVÉ !!! cn.commit()\n",
    "\n",
    "cn.close()"
   ]
  },
  {
   "cell_type": "markdown",
   "id": "complete-philadelphia",
   "metadata": {},
   "source": [
    "### Sauvegarde DB\n",
    "\n",
    "Copie5 = entités person enregistrées / requêtes birthyear, birthdate ajoutées / propriétés birthyear (dbo) birthdate (dbo) et birthdate (dbp) ajoutées / occupation (dbo) ajoutée / birthplace (dbo) ajoutée"
   ]
  },
  {
   "cell_type": "code",
   "execution_count": 130,
   "id": "romantic-carbon",
   "metadata": {},
   "outputs": [
    {
     "data": {
      "text/plain": [
       "'20210705_131025'"
      ]
     },
     "execution_count": 130,
     "metadata": {},
     "output_type": "execute_result"
    }
   ],
   "source": [
    "### Fonction qui récupère et met en forme le temps au moment de l'exécution\n",
    "\n",
    "# définition\n",
    "def timestamp_formatted_for_file_name():\n",
    "    is_now = time.strftime('%Y%m%d_%H%M%S')\n",
    "    return is_now\n",
    "\n",
    "# exécution\n",
    "timestamp_formatted_for_file_name()"
   ]
  },
  {
   "cell_type": "code",
   "execution_count": 131,
   "id": "least-kingston",
   "metadata": {},
   "outputs": [],
   "source": [
    "### Définir les adresses des fichiers, l'existant et celui à créer\n",
    "original_db = 'data/intellectuels.db'\n",
    "\n",
    "##  Noter que la différence de suffixe, en soi totalement arbitraire, \n",
    "#  dépend du fait que dans la configuration de .gitignore, .sqlite est exclu du verisonnement GIT\n",
    "#  contrairement à .db qui est versionné\n",
    "timestamped_db_copy = 'data/intellectuels_copie5_' + timestamp_formatted_for_file_name() + '.sqlite'"
   ]
  },
  {
   "cell_type": "code",
   "execution_count": 132,
   "id": "excess-freeware",
   "metadata": {},
   "outputs": [
    {
     "data": {
      "text/plain": [
       "'data/intellectuels_copie5_20210705_131031.sqlite'"
      ]
     },
     "execution_count": 132,
     "metadata": {},
     "output_type": "execute_result"
    }
   ],
   "source": [
    "### Créer une copie de sauvegarde avec timestamp du fichier (versionnement manuel)\n",
    "# ATTENTION : la base de données doit exister à l'endroit indiqué !\n",
    "## Cette requête n'est utile que si des modifications en écriture vont être apportées à la base de données,\n",
    "# afin de préserver le dernier état avant modification\n",
    "\n",
    "## Documentation:\n",
    "# https://docs.python.org/3/library/shutil.htmlcopied_db = copyfile(original_db, timestamped_db_copy)\n",
    "\n",
    "copied_db = copyfile(original_db, timestamped_db_copy)\n",
    "copied_db"
   ]
  },
  {
   "cell_type": "markdown",
   "id": "exact-departure",
   "metadata": {},
   "source": [
    "### birthplace type "
   ]
  },
  {
   "cell_type": "markdown",
   "id": "convinced-toronto",
   "metadata": {},
   "source": [
    "#### 10000"
   ]
  },
  {
   "cell_type": "code",
   "execution_count": 144,
   "id": "fossil-treatment",
   "metadata": {},
   "outputs": [
    {
     "data": {
      "text/plain": [
       "(72,\n",
       " 'type des lieux de naissance',\n",
       " '10000',\n",
       " None,\n",
       " 'https://dbpedia.org/sparql',\n",
       " 'PREFIX  dbo:  <http://dbpedia.org/ontology/>\\r\\nPREFIX  dbp:  <http://dbpedia.org/property/>\\r\\nPREFIX  dbr:  <http://dbpedia.org/resource/>\\r\\nPREFIX  yago: <http://dbpedia.org/class/yago/>\\r\\n\\r\\nSELECT DISTINCT ?birthPlace ?type\\r\\nWHERE\\r\\n  {   ?birthPlace  a  ?type\\r\\n\\r\\n    { ?person  dbo:birthPlace  ?birthPlace\\r\\n      { ?person  a                     yago:Intellectual109621545 }\\r\\n    }\\r\\nFILTER(STRSTARTS(STR(?type), \"http://dbpedia.org/onto\") AND ?type != dbo:Location \\r\\n    AND ?type != dbo:Place AND  ?type != dbo:PopulatedPlace\\r\\n    AND  ?type != dbo:Settlement\\r\\n    )\\r\\n\\r\\n# FILTER (\\'Place\\' NOT IN (STR(?type)))\\r\\n# FILTER NOT EXISTS { ?birthPlace  a  dbo:Location}\\r\\n# MINUS { ?birthPlace  a  dbo:Place}\\r\\n  }\\r\\nORDER BY ?birthPlace \\r\\n',\n",
       " None,\n",
       " '2021-07-05 13:27:38')"
      ]
     },
     "execution_count": 144,
     "metadata": {},
     "output_type": "execute_result"
    }
   ],
   "source": [
    "### Définir la ligne de la base de données à utiliser (inspécter préalablement la base de données)\n",
    "pk_query = 72\n",
    "\n",
    "# connnexion à la base de données\n",
    "original_db = 'data/intellectuels.db'\n",
    "conn = sql.connect(original_db)\n",
    "\n",
    "### exécuter la requëte sur la base de donées SQLite pour récupérer les valeurs que contient la ligne\n",
    "c = conn.cursor()\n",
    "c.execute('SELECT * FROM query WHERE pk_query = ?', [pk_query]) ### a list around argument is needed for a string longer then one\n",
    "#c.execute('SELECT * FROM query WHERE pk_query = 10')\n",
    "\n",
    "rc = c.fetchone()\n",
    "\n",
    "# fermer la connexion\n",
    "conn.close()\n",
    "\n",
    "# imprimer et inspecter le résultat\n",
    "rc"
   ]
  },
  {
   "cell_type": "code",
   "execution_count": 145,
   "id": "sudden-underground",
   "metadata": {},
   "outputs": [
    {
     "name": "stdout",
     "output_type": "stream",
     "text": [
      "<class 'dict'>\n"
     ]
    }
   ],
   "source": [
    "qr = spqf.get_json_sparql_result(rc[4],rc[5])"
   ]
  },
  {
   "cell_type": "code",
   "execution_count": 146,
   "id": "cultural-sunrise",
   "metadata": {},
   "outputs": [
    {
     "data": {
      "text/plain": [
       "10000"
      ]
     },
     "execution_count": 146,
     "metadata": {},
     "output_type": "execute_result"
    }
   ],
   "source": [
    "len(qr['results']['bindings'])"
   ]
  },
  {
   "cell_type": "code",
   "execution_count": 147,
   "id": "cardiac-finding",
   "metadata": {},
   "outputs": [],
   "source": [
    "# Transformer le résultat en liste en utilisant une autre fonction de la bibliothèque utilisateur\n",
    "r = [l for l in spqf.sparql_result_to_list(qr)]\n",
    "# r"
   ]
  },
  {
   "cell_type": "code",
   "execution_count": 148,
   "id": "integral-phrase",
   "metadata": {},
   "outputs": [
    {
     "name": "stdout",
     "output_type": "stream",
     "text": [
      "10000\n"
     ]
    },
    {
     "data": {
      "text/plain": [
       "[[\"http://dbpedia.org/resource/'Asir_Region\",\n",
       "  'http://dbpedia.org/ontology/Region'],\n",
       " [\"http://dbpedia.org/resource/'Asir_Region\",\n",
       "  'http://dbpedia.org/ontology/AdministrativeRegion'],\n",
       " [\"http://dbpedia.org/resource/'s-Graveland\",\n",
       "  'http://dbpedia.org/ontology/Village'],\n",
       " [\"http://dbpedia.org/resource/'s-Hertogenbosch\",\n",
       "  'http://dbpedia.org/ontology/City'],\n",
       " ['http://dbpedia.org/resource/16th_arrondissement_of_Paris',\n",
       "  'http://dbpedia.org/ontology/Town']]"
      ]
     },
     "execution_count": 148,
     "metadata": {},
     "output_type": "execute_result"
    }
   ],
   "source": [
    "# inspecter une seule ligne de la liste (de listes)\n",
    "print(len(r))\n",
    "r[:5]"
   ]
  },
  {
   "cell_type": "code",
   "execution_count": 149,
   "id": "charitable-cassette",
   "metadata": {},
   "outputs": [],
   "source": [
    "rl = [[l[0], 'http://www.w3.org/1999/02/22-rdf-syntax-ns#type', l[1], 'https://dbpedia.org/sparql', 1, 72 ] for l in r]"
   ]
  },
  {
   "cell_type": "code",
   "execution_count": 150,
   "id": "jewish-robinson",
   "metadata": {},
   "outputs": [
    {
     "name": "stdout",
     "output_type": "stream",
     "text": [
      "10000\n"
     ]
    },
    {
     "data": {
      "text/plain": [
       "[[\"http://dbpedia.org/resource/'Asir_Region\",\n",
       "  'http://www.w3.org/1999/02/22-rdf-syntax-ns#type',\n",
       "  'http://dbpedia.org/ontology/Region',\n",
       "  'https://dbpedia.org/sparql',\n",
       "  1,\n",
       "  72],\n",
       " [\"http://dbpedia.org/resource/'Asir_Region\",\n",
       "  'http://www.w3.org/1999/02/22-rdf-syntax-ns#type',\n",
       "  'http://dbpedia.org/ontology/AdministrativeRegion',\n",
       "  'https://dbpedia.org/sparql',\n",
       "  1,\n",
       "  72],\n",
       " [\"http://dbpedia.org/resource/'s-Graveland\",\n",
       "  'http://www.w3.org/1999/02/22-rdf-syntax-ns#type',\n",
       "  'http://dbpedia.org/ontology/Village',\n",
       "  'https://dbpedia.org/sparql',\n",
       "  1,\n",
       "  72]]"
      ]
     },
     "execution_count": 150,
     "metadata": {},
     "output_type": "execute_result"
    }
   ],
   "source": [
    "print(len(rl))\n",
    "rl[:3]"
   ]
  },
  {
   "cell_type": "code",
   "execution_count": 151,
   "id": "interstate-quantum",
   "metadata": {},
   "outputs": [],
   "source": [
    "#STOCKAGE\n",
    "db = 'data/intellectuels.db'\n",
    "cn = sql.connect(db)\n",
    "c = cn.cursor()\n",
    "\n",
    "# Insérer les données\n",
    "c.executemany(\"INSERT OR IGNORE INTO property (uri_entity, property, value, source, quality, fk_query_as_source) VALUES (?,?,?,?,?,?)\", rl)\n",
    "\n",
    "# valider l'insertion et fermer la base de données\n",
    "## DESACTIVÉ !!! cn.commit()\n",
    "\n",
    "cn.close()"
   ]
  },
  {
   "cell_type": "markdown",
   "id": "premium-nursing",
   "metadata": {},
   "source": [
    "#### 20000"
   ]
  },
  {
   "cell_type": "code",
   "execution_count": null,
   "id": "insured-password",
   "metadata": {},
   "outputs": [],
   "source": []
  },
  {
   "cell_type": "code",
   "execution_count": 17,
   "id": "governing-childhood",
   "metadata": {},
   "outputs": [
    {
     "data": {
      "text/plain": [
       "(73,\n",
       " 'type des lieux de naissance',\n",
       " '20000 ',\n",
       " None,\n",
       " 'https://dbpedia.org/sparql',\n",
       " 'PREFIX  dbo:  <http://dbpedia.org/ontology/>\\r\\nPREFIX  dbp:  <http://dbpedia.org/property/>\\r\\nPREFIX  dbr:  <http://dbpedia.org/resource/>\\r\\nPREFIX  yago: <http://dbpedia.org/class/yago/>\\r\\n\\r\\nSELECT DISTINCT ?birthPlace ?type\\r\\nWHERE\\r\\n  {   ?birthPlace  a  ?type\\r\\n\\r\\n    { ?person  dbo:birthPlace  ?birthPlace\\r\\n      { ?person  a                     yago:Intellectual109621545 }\\r\\n    }\\r\\nFILTER(STRSTARTS(STR(?type), \"http://dbpedia.org/onto\") AND ?type != dbo:Location \\r\\n    AND ?type != dbo:Place AND  ?type != dbo:PopulatedPlace\\r\\n    AND  ?type != dbo:Settlement\\r\\n    )\\r\\n\\r\\n# FILTER (\\'Place\\' NOT IN (STR(?type)))\\r\\n# FILTER NOT EXISTS { ?birthPlace  a  dbo:Location}\\r\\n# MINUS { ?birthPlace  a  dbo:Place}\\r\\n  }\\r\\nORDER BY ?birthPlace \\r\\nOFFSET 10000 LIMIT 10000',\n",
       " None,\n",
       " '2021-07-05 13:27:50')"
      ]
     },
     "execution_count": 17,
     "metadata": {},
     "output_type": "execute_result"
    }
   ],
   "source": [
    "### Définir la ligne de la base de données à utiliser (inspécter préalablement la base de données)\n",
    "pk_query = 73\n",
    "\n",
    "# connnexion à la base de données\n",
    "original_db = 'data/intellectuels.db'\n",
    "conn = sql.connect(original_db)\n",
    "\n",
    "### exécuter la requëte sur la base de donées SQLite pour récupérer les valeurs que contient la ligne\n",
    "c = conn.cursor()\n",
    "c.execute('SELECT * FROM query WHERE pk_query = ?', [pk_query]) ### a list around argument is needed for a string longer then one\n",
    "#c.execute('SELECT * FROM query WHERE pk_query = 10')\n",
    "\n",
    "rc = c.fetchone()\n",
    "\n",
    "# fermer la connexion\n",
    "conn.close()\n",
    "\n",
    "# imprimer et inspecter le résultat\n",
    "rc"
   ]
  },
  {
   "cell_type": "code",
   "execution_count": 18,
   "id": "enabling-marina",
   "metadata": {},
   "outputs": [
    {
     "name": "stdout",
     "output_type": "stream",
     "text": [
      "<class 'dict'>\n"
     ]
    }
   ],
   "source": [
    "qr = spqf.get_json_sparql_result(rc[4],rc[5])"
   ]
  },
  {
   "cell_type": "code",
   "execution_count": 19,
   "id": "antique-separate",
   "metadata": {},
   "outputs": [
    {
     "data": {
      "text/plain": [
       "10000"
      ]
     },
     "execution_count": 19,
     "metadata": {},
     "output_type": "execute_result"
    }
   ],
   "source": [
    "len(qr['results']['bindings'])"
   ]
  },
  {
   "cell_type": "code",
   "execution_count": 20,
   "id": "unlimited-niger",
   "metadata": {},
   "outputs": [],
   "source": [
    "# Transformer le résultat en liste en utilisant une autre fonction de la bibliothèque utilisateur\n",
    "r = [l for l in spqf.sparql_result_to_list(qr)]\n",
    "# r"
   ]
  },
  {
   "cell_type": "code",
   "execution_count": 21,
   "id": "fifteen-longitude",
   "metadata": {},
   "outputs": [
    {
     "name": "stdout",
     "output_type": "stream",
     "text": [
      "10000\n"
     ]
    },
    {
     "data": {
      "text/plain": [
       "[['http://dbpedia.org/resource/Ligonier,_Indiana',\n",
       "  'http://dbpedia.org/ontology/City'],\n",
       " ['http://dbpedia.org/resource/Ligonier,_Pennsylvania',\n",
       "  'http://dbpedia.org/ontology/CityDistrict'],\n",
       " ['http://dbpedia.org/resource/Liguria', 'http://dbpedia.org/ontology/Region'],\n",
       " ['http://dbpedia.org/resource/Liguria',\n",
       "  'http://dbpedia.org/ontology/AdministrativeRegion'],\n",
       " ['http://dbpedia.org/resource/Lika', 'http://dbpedia.org/ontology/Region']]"
      ]
     },
     "execution_count": 21,
     "metadata": {},
     "output_type": "execute_result"
    }
   ],
   "source": [
    "# inspecter une seule ligne de la liste (de listes)\n",
    "print(len(r))\n",
    "r[:5]"
   ]
  },
  {
   "cell_type": "code",
   "execution_count": 22,
   "id": "close-saudi",
   "metadata": {},
   "outputs": [],
   "source": [
    "rl = [[l[0], 'http://www.w3.org/1999/02/22-rdf-syntax-ns#type', l[1], 'https://dbpedia.org/sparql', 1, 73 ] for l in r]"
   ]
  },
  {
   "cell_type": "code",
   "execution_count": 23,
   "id": "preceding-object",
   "metadata": {},
   "outputs": [
    {
     "name": "stdout",
     "output_type": "stream",
     "text": [
      "10000\n"
     ]
    },
    {
     "data": {
      "text/plain": [
       "[['http://dbpedia.org/resource/Ligonier,_Indiana',\n",
       "  'http://www.w3.org/1999/02/22-rdf-syntax-ns#type',\n",
       "  'http://dbpedia.org/ontology/City',\n",
       "  'https://dbpedia.org/sparql',\n",
       "  1,\n",
       "  73],\n",
       " ['http://dbpedia.org/resource/Ligonier,_Pennsylvania',\n",
       "  'http://www.w3.org/1999/02/22-rdf-syntax-ns#type',\n",
       "  'http://dbpedia.org/ontology/CityDistrict',\n",
       "  'https://dbpedia.org/sparql',\n",
       "  1,\n",
       "  73],\n",
       " ['http://dbpedia.org/resource/Liguria',\n",
       "  'http://www.w3.org/1999/02/22-rdf-syntax-ns#type',\n",
       "  'http://dbpedia.org/ontology/Region',\n",
       "  'https://dbpedia.org/sparql',\n",
       "  1,\n",
       "  73]]"
      ]
     },
     "execution_count": 23,
     "metadata": {},
     "output_type": "execute_result"
    }
   ],
   "source": [
    "print(len(rl))\n",
    "rl[:3]"
   ]
  },
  {
   "cell_type": "code",
   "execution_count": 24,
   "id": "damaged-hartford",
   "metadata": {},
   "outputs": [],
   "source": [
    "#STOCKAGE\n",
    "db = 'data/intellectuels.db'\n",
    "cn = sql.connect(db)\n",
    "c = cn.cursor()\n",
    "\n",
    "# Insérer les données\n",
    "c.executemany(\"INSERT OR IGNORE INTO property (uri_entity, property, value, source, quality, fk_query_as_source) VALUES (?,?,?,?,?,?)\", rl)\n",
    "\n",
    "# valider l'insertion et fermer la base de données\n",
    "## DESACTIVÉ !!! cn.commit()\n",
    "\n",
    "cn.close()"
   ]
  },
  {
   "cell_type": "markdown",
   "id": "absolute-values",
   "metadata": {},
   "source": [
    "#### 30000"
   ]
  },
  {
   "cell_type": "code",
   "execution_count": null,
   "id": "instant-edwards",
   "metadata": {},
   "outputs": [],
   "source": []
  },
  {
   "cell_type": "code",
   "execution_count": 25,
   "id": "front-diary",
   "metadata": {},
   "outputs": [
    {
     "data": {
      "text/plain": [
       "(74,\n",
       " 'type des lieux de naissance',\n",
       " '30000',\n",
       " None,\n",
       " 'https://dbpedia.org/sparql',\n",
       " 'PREFIX  dbo:  <http://dbpedia.org/ontology/>\\r\\nPREFIX  dbp:  <http://dbpedia.org/property/>\\r\\nPREFIX  dbr:  <http://dbpedia.org/resource/>\\r\\nPREFIX  yago: <http://dbpedia.org/class/yago/>\\r\\n\\r\\nSELECT DISTINCT ?birthPlace ?type\\r\\nWHERE\\r\\n  {   ?birthPlace  a  ?type\\r\\n\\r\\n    { ?person  dbo:birthPlace  ?birthPlace\\r\\n      { ?person  a                     yago:Intellectual109621545 }\\r\\n    }\\r\\nFILTER(STRSTARTS(STR(?type), \"http://dbpedia.org/onto\") AND ?type != dbo:Location \\r\\n    AND ?type != dbo:Place AND  ?type != dbo:PopulatedPlace\\r\\n    AND  ?type != dbo:Settlement\\r\\n    )\\r\\n\\r\\n# FILTER (\\'Place\\' NOT IN (STR(?type)))\\r\\n# FILTER NOT EXISTS { ?birthPlace  a  dbo:Location}\\r\\n# MINUS { ?birthPlace  a  dbo:Place}\\r\\n  }\\r\\nORDER BY ?birthPlace \\r\\nOFFSET 20000 LIMIT 10000',\n",
       " None,\n",
       " '2021-07-06 11:06:38')"
      ]
     },
     "execution_count": 25,
     "metadata": {},
     "output_type": "execute_result"
    }
   ],
   "source": [
    "### Définir la ligne de la base de données à utiliser (inspécter préalablement la base de données)\n",
    "pk_query = 74\n",
    "\n",
    "# connnexion à la base de données\n",
    "original_db = 'data/intellectuels.db'\n",
    "conn = sql.connect(original_db)\n",
    "\n",
    "### exécuter la requëte sur la base de donées SQLite pour récupérer les valeurs que contient la ligne\n",
    "c = conn.cursor()\n",
    "c.execute('SELECT * FROM query WHERE pk_query = ?', [pk_query]) ### a list around argument is needed for a string longer then one\n",
    "#c.execute('SELECT * FROM query WHERE pk_query = 10')\n",
    "\n",
    "rc = c.fetchone()\n",
    "\n",
    "# fermer la connexion\n",
    "conn.close()\n",
    "\n",
    "# imprimer et inspecter le résultat\n",
    "rc"
   ]
  },
  {
   "cell_type": "code",
   "execution_count": 26,
   "id": "foreign-judgment",
   "metadata": {},
   "outputs": [
    {
     "name": "stdout",
     "output_type": "stream",
     "text": [
      "<class 'dict'>\n"
     ]
    }
   ],
   "source": [
    "qr = spqf.get_json_sparql_result(rc[4],rc[5])"
   ]
  },
  {
   "cell_type": "code",
   "execution_count": 27,
   "id": "severe-tyler",
   "metadata": {},
   "outputs": [
    {
     "data": {
      "text/plain": [
       "421"
      ]
     },
     "execution_count": 27,
     "metadata": {},
     "output_type": "execute_result"
    }
   ],
   "source": [
    "len(qr['results']['bindings'])"
   ]
  },
  {
   "cell_type": "code",
   "execution_count": 28,
   "id": "rural-relevance",
   "metadata": {},
   "outputs": [],
   "source": [
    "# Transformer le résultat en liste en utilisant une autre fonction de la bibliothèque utilisateur\n",
    "r = [l for l in spqf.sparql_result_to_list(qr)]\n",
    "# r"
   ]
  },
  {
   "cell_type": "code",
   "execution_count": 29,
   "id": "answering-christianity",
   "metadata": {},
   "outputs": [
    {
     "name": "stdout",
     "output_type": "stream",
     "text": [
      "421\n"
     ]
    },
    {
     "data": {
      "text/plain": [
       "[['http://dbpedia.org/resource/Yamaga,_Kumamoto',\n",
       "  'http://dbpedia.org/ontology/City'],\n",
       " ['http://dbpedia.org/resource/Yamaguchi_prefecture',\n",
       "  'http://dbpedia.org/ontology/AdministrativeRegion'],\n",
       " ['http://dbpedia.org/resource/Yamanashi,_Yamanashi',\n",
       "  'http://dbpedia.org/ontology/City'],\n",
       " ['http://dbpedia.org/resource/Yamato,_Kanagawa',\n",
       "  'http://dbpedia.org/ontology/City'],\n",
       " ['http://dbpedia.org/resource/Yamatokōriyama,_Nara',\n",
       "  'http://dbpedia.org/ontology/City']]"
      ]
     },
     "execution_count": 29,
     "metadata": {},
     "output_type": "execute_result"
    }
   ],
   "source": [
    "# inspecter une seule ligne de la liste (de listes)\n",
    "print(len(r))\n",
    "r[:5]"
   ]
  },
  {
   "cell_type": "code",
   "execution_count": 30,
   "id": "sufficient-example",
   "metadata": {},
   "outputs": [],
   "source": [
    "rl = [[l[0], 'http://www.w3.org/1999/02/22-rdf-syntax-ns#type', l[1], 'https://dbpedia.org/sparql', 1, 74 ] for l in r]"
   ]
  },
  {
   "cell_type": "code",
   "execution_count": 31,
   "id": "persistent-grenada",
   "metadata": {},
   "outputs": [
    {
     "name": "stdout",
     "output_type": "stream",
     "text": [
      "421\n"
     ]
    },
    {
     "data": {
      "text/plain": [
       "[['http://dbpedia.org/resource/Yamaga,_Kumamoto',\n",
       "  'http://www.w3.org/1999/02/22-rdf-syntax-ns#type',\n",
       "  'http://dbpedia.org/ontology/City',\n",
       "  'https://dbpedia.org/sparql',\n",
       "  1,\n",
       "  74],\n",
       " ['http://dbpedia.org/resource/Yamaguchi_prefecture',\n",
       "  'http://www.w3.org/1999/02/22-rdf-syntax-ns#type',\n",
       "  'http://dbpedia.org/ontology/AdministrativeRegion',\n",
       "  'https://dbpedia.org/sparql',\n",
       "  1,\n",
       "  74],\n",
       " ['http://dbpedia.org/resource/Yamanashi,_Yamanashi',\n",
       "  'http://www.w3.org/1999/02/22-rdf-syntax-ns#type',\n",
       "  'http://dbpedia.org/ontology/City',\n",
       "  'https://dbpedia.org/sparql',\n",
       "  1,\n",
       "  74]]"
      ]
     },
     "execution_count": 31,
     "metadata": {},
     "output_type": "execute_result"
    }
   ],
   "source": [
    "print(len(rl))\n",
    "rl[:3]"
   ]
  },
  {
   "cell_type": "code",
   "execution_count": 32,
   "id": "victorian-particular",
   "metadata": {},
   "outputs": [],
   "source": [
    "#STOCKAGE\n",
    "db = 'data/intellectuels.db'\n",
    "cn = sql.connect(db)\n",
    "c = cn.cursor()\n",
    "\n",
    "# Insérer les données\n",
    "c.executemany(\"INSERT OR IGNORE INTO property (uri_entity, property, value, source, quality, fk_query_as_source) VALUES (?,?,?,?,?,?)\", rl)\n",
    "\n",
    "# valider l'insertion et fermer la base de données\n",
    "## DESACTIVÉ !!! cn.commit()\n",
    "\n",
    "cn.close()"
   ]
  },
  {
   "cell_type": "markdown",
   "id": "loving-tooth",
   "metadata": {},
   "source": [
    "### birthplace long "
   ]
  },
  {
   "cell_type": "markdown",
   "id": "structured-shooting",
   "metadata": {},
   "source": [
    "#### 10000"
   ]
  },
  {
   "cell_type": "code",
   "execution_count": 33,
   "id": "southwest-referral",
   "metadata": {},
   "outputs": [
    {
     "data": {
      "text/plain": [
       "(75,\n",
       " 'Longitude',\n",
       " '10000',\n",
       " None,\n",
       " 'https://dbpedia.org/sparql',\n",
       " 'PREFIX  dbo:  <http://dbpedia.org/ontology/>\\r\\nPREFIX  dbp:  <http://dbpedia.org/property/>\\r\\nPREFIX  dbr:  <http://dbpedia.org/resource/>\\r\\nPREFIX  yago: <http://dbpedia.org/class/yago/>\\r\\nPREFIX geo: <http://www.w3.org/2003/01/geo/wgs84_pos#>\\r\\n\\r\\nSELECT  ?birthPlace MAX(?long)\\r\\n\\r\\nWHERE\\r\\n  {   ?birthPlace  geo:long ?long\\r\\n\\r\\n    { ?person  dbo:birthPlace  ?birthPlace\\r\\n         { ?person  a                      yago:Intellectual109621545}\\r\\n    }\\r\\n  }\\r\\nGROUP BY ?birthPlace\\r\\nORDER BY ?birthPlace',\n",
       " None,\n",
       " '2021-07-06 11:21:46')"
      ]
     },
     "execution_count": 33,
     "metadata": {},
     "output_type": "execute_result"
    }
   ],
   "source": [
    "### Définir la ligne de la base de données à utiliser (inspécter préalablement la base de données)\n",
    "pk_query = 75\n",
    "\n",
    "# connnexion à la base de données\n",
    "original_db = 'data/intellectuels.db'\n",
    "conn = sql.connect(original_db)\n",
    "\n",
    "### exécuter la requëte sur la base de donées SQLite pour récupérer les valeurs que contient la ligne\n",
    "c = conn.cursor()\n",
    "c.execute('SELECT * FROM query WHERE pk_query = ?', [pk_query]) ### a list around argument is needed for a string longer then one\n",
    "#c.execute('SELECT * FROM query WHERE pk_query = 10')\n",
    "\n",
    "rc = c.fetchone()\n",
    "\n",
    "# fermer la connexion\n",
    "conn.close()\n",
    "\n",
    "# imprimer et inspecter le résultat\n",
    "rc"
   ]
  },
  {
   "cell_type": "code",
   "execution_count": 34,
   "id": "previous-plaza",
   "metadata": {},
   "outputs": [
    {
     "name": "stdout",
     "output_type": "stream",
     "text": [
      "<class 'dict'>\n"
     ]
    }
   ],
   "source": [
    "qr = spqf.get_json_sparql_result(rc[4],rc[5])"
   ]
  },
  {
   "cell_type": "code",
   "execution_count": 35,
   "id": "radical-taxation",
   "metadata": {},
   "outputs": [
    {
     "data": {
      "text/plain": [
       "10000"
      ]
     },
     "execution_count": 35,
     "metadata": {},
     "output_type": "execute_result"
    }
   ],
   "source": [
    "len(qr['results']['bindings'])"
   ]
  },
  {
   "cell_type": "code",
   "execution_count": 36,
   "id": "under-breathing",
   "metadata": {},
   "outputs": [],
   "source": [
    "# Transformer le résultat en liste en utilisant une autre fonction de la bibliothèque utilisateur\n",
    "r = [l for l in spqf.sparql_result_to_list(qr)]\n",
    "# r"
   ]
  },
  {
   "cell_type": "code",
   "execution_count": 37,
   "id": "continuing-heritage",
   "metadata": {},
   "outputs": [
    {
     "name": "stdout",
     "output_type": "stream",
     "text": [
      "10000\n"
     ]
    },
    {
     "data": {
      "text/plain": [
       "[[\"http://dbpedia.org/resource/'Uyayna\", '46.3914'],\n",
       " [\"http://dbpedia.org/resource/'s-Graveland\", '5.12111'],\n",
       " [\"http://dbpedia.org/resource/'s-Hertogenbosch\", '5.3'],\n",
       " ['http://dbpedia.org/resource/16th_arrondissement_of_Paris', '2.27649'],\n",
       " ['http://dbpedia.org/resource/24_Parganas', '88.0']]"
      ]
     },
     "execution_count": 37,
     "metadata": {},
     "output_type": "execute_result"
    }
   ],
   "source": [
    "# inspecter une seule ligne de la liste (de listes)\n",
    "print(len(r))\n",
    "r[:5]"
   ]
  },
  {
   "cell_type": "code",
   "execution_count": 38,
   "id": "colored-lingerie",
   "metadata": {},
   "outputs": [],
   "source": [
    "rl = [[l[0], 'http://www.w3.org/2003/01/geo/wgs84_pos#long', l[1], 'https://dbpedia.org/sparql', 1, 75 ] for l in r]"
   ]
  },
  {
   "cell_type": "code",
   "execution_count": 39,
   "id": "wicked-evidence",
   "metadata": {},
   "outputs": [
    {
     "name": "stdout",
     "output_type": "stream",
     "text": [
      "10000\n"
     ]
    },
    {
     "data": {
      "text/plain": [
       "[[\"http://dbpedia.org/resource/'Uyayna\",\n",
       "  'http://www.w3.org/2003/01/geo/wgs84_pos#long',\n",
       "  '46.3914',\n",
       "  'https://dbpedia.org/sparql',\n",
       "  1,\n",
       "  75],\n",
       " [\"http://dbpedia.org/resource/'s-Graveland\",\n",
       "  'http://www.w3.org/2003/01/geo/wgs84_pos#long',\n",
       "  '5.12111',\n",
       "  'https://dbpedia.org/sparql',\n",
       "  1,\n",
       "  75],\n",
       " [\"http://dbpedia.org/resource/'s-Hertogenbosch\",\n",
       "  'http://www.w3.org/2003/01/geo/wgs84_pos#long',\n",
       "  '5.3',\n",
       "  'https://dbpedia.org/sparql',\n",
       "  1,\n",
       "  75]]"
      ]
     },
     "execution_count": 39,
     "metadata": {},
     "output_type": "execute_result"
    }
   ],
   "source": [
    "print(len(rl))\n",
    "rl[:3]"
   ]
  },
  {
   "cell_type": "code",
   "execution_count": 40,
   "id": "occupational-current",
   "metadata": {},
   "outputs": [],
   "source": [
    "#STOCKAGE\n",
    "db = 'data/intellectuels.db'\n",
    "cn = sql.connect(db)\n",
    "c = cn.cursor()\n",
    "\n",
    "# Insérer les données\n",
    "c.executemany(\"INSERT OR IGNORE INTO property (uri_entity, property, value, source, quality, fk_query_as_source) VALUES (?,?,?,?,?,?)\", rl)\n",
    "\n",
    "# valider l'insertion et fermer la base de données\n",
    "## DESACTIVÉ !!! cn.commit()\n",
    "\n",
    "cn.close()"
   ]
  },
  {
   "cell_type": "markdown",
   "id": "outer-monday",
   "metadata": {},
   "source": [
    "#### 20000"
   ]
  },
  {
   "cell_type": "code",
   "execution_count": null,
   "id": "breathing-dodge",
   "metadata": {},
   "outputs": [],
   "source": []
  },
  {
   "cell_type": "code",
   "execution_count": 41,
   "id": "annoying-seeking",
   "metadata": {},
   "outputs": [
    {
     "data": {
      "text/plain": [
       "(76,\n",
       " 'Longitude',\n",
       " '20000',\n",
       " None,\n",
       " 'https://dbpedia.org/sparql',\n",
       " 'PREFIX  dbo:  <http://dbpedia.org/ontology/>\\r\\nPREFIX  dbp:  <http://dbpedia.org/property/>\\r\\nPREFIX  dbr:  <http://dbpedia.org/resource/>\\r\\nPREFIX  yago: <http://dbpedia.org/class/yago/>\\r\\nPREFIX geo: <http://www.w3.org/2003/01/geo/wgs84_pos#>\\r\\n\\r\\nSELECT  ?birthPlace MAX(?long)\\r\\n\\r\\nWHERE\\r\\n  {   ?birthPlace  geo:long ?long\\r\\n\\r\\n    { ?person  dbo:birthPlace  ?birthPlace\\r\\n         { ?person  a                      yago:Intellectual109621545}\\r\\n    }\\r\\n  }\\r\\nGROUP BY ?birthPlace\\r\\nORDER BY ?birthPlace\\r\\nOFFSET 10000 LIMIT 10000',\n",
       " None,\n",
       " '2021-07-06 11:21:46')"
      ]
     },
     "execution_count": 41,
     "metadata": {},
     "output_type": "execute_result"
    }
   ],
   "source": [
    "### Définir la ligne de la base de données à utiliser (inspécter préalablement la base de données)\n",
    "pk_query = 76\n",
    "\n",
    "# connnexion à la base de données\n",
    "original_db = 'data/intellectuels.db'\n",
    "conn = sql.connect(original_db)\n",
    "\n",
    "### exécuter la requëte sur la base de donées SQLite pour récupérer les valeurs que contient la ligne\n",
    "c = conn.cursor()\n",
    "c.execute('SELECT * FROM query WHERE pk_query = ?', [pk_query]) ### a list around argument is needed for a string longer then one\n",
    "#c.execute('SELECT * FROM query WHERE pk_query = 10')\n",
    "\n",
    "rc = c.fetchone()\n",
    "\n",
    "# fermer la connexion\n",
    "conn.close()\n",
    "\n",
    "# imprimer et inspecter le résultat\n",
    "rc"
   ]
  },
  {
   "cell_type": "code",
   "execution_count": 42,
   "id": "equal-council",
   "metadata": {},
   "outputs": [
    {
     "name": "stdout",
     "output_type": "stream",
     "text": [
      "<class 'dict'>\n"
     ]
    }
   ],
   "source": [
    "qr = spqf.get_json_sparql_result(rc[4],rc[5])"
   ]
  },
  {
   "cell_type": "code",
   "execution_count": 43,
   "id": "legislative-medicaid",
   "metadata": {},
   "outputs": [
    {
     "data": {
      "text/plain": [
       "10000"
      ]
     },
     "execution_count": 43,
     "metadata": {},
     "output_type": "execute_result"
    }
   ],
   "source": [
    "len(qr['results']['bindings'])"
   ]
  },
  {
   "cell_type": "code",
   "execution_count": 44,
   "id": "fitted-optics",
   "metadata": {},
   "outputs": [],
   "source": [
    "# Transformer le résultat en liste en utilisant une autre fonction de la bibliothèque utilisateur\n",
    "r = [l for l in spqf.sparql_result_to_list(qr)]\n",
    "# r"
   ]
  },
  {
   "cell_type": "code",
   "execution_count": 45,
   "id": "sophisticated-magnet",
   "metadata": {},
   "outputs": [
    {
     "name": "stdout",
     "output_type": "stream",
     "text": [
      "10000\n"
     ]
    },
    {
     "data": {
      "text/plain": [
       "[['http://dbpedia.org/resource/Kovačica', '20.6214'],\n",
       " ['http://dbpedia.org/resource/Kovilpatti', '77.87'],\n",
       " ['http://dbpedia.org/resource/Kovno_Governorate', '23.9333'],\n",
       " ['http://dbpedia.org/resource/Kowalewko,_Kuyavian-Pomeranian_Voivodeship',\n",
       "  '17.4314'],\n",
       " ['http://dbpedia.org/resource/Kowloon', '114.183']]"
      ]
     },
     "execution_count": 45,
     "metadata": {},
     "output_type": "execute_result"
    }
   ],
   "source": [
    "# inspecter une seule ligne de la liste (de listes)\n",
    "print(len(r))\n",
    "r[:5]"
   ]
  },
  {
   "cell_type": "code",
   "execution_count": 46,
   "id": "descending-implement",
   "metadata": {},
   "outputs": [],
   "source": [
    "rl = [[l[0], 'http://www.w3.org/2003/01/geo/wgs84_pos#long', l[1], 'https://dbpedia.org/sparql', 1, 76 ] for l in r]"
   ]
  },
  {
   "cell_type": "code",
   "execution_count": 47,
   "id": "framed-toilet",
   "metadata": {},
   "outputs": [
    {
     "name": "stdout",
     "output_type": "stream",
     "text": [
      "10000\n"
     ]
    },
    {
     "data": {
      "text/plain": [
       "[['http://dbpedia.org/resource/Kovačica',\n",
       "  'http://www.w3.org/2003/01/geo/wgs84_pos#long',\n",
       "  '20.6214',\n",
       "  'https://dbpedia.org/sparql',\n",
       "  1,\n",
       "  76],\n",
       " ['http://dbpedia.org/resource/Kovilpatti',\n",
       "  'http://www.w3.org/2003/01/geo/wgs84_pos#long',\n",
       "  '77.87',\n",
       "  'https://dbpedia.org/sparql',\n",
       "  1,\n",
       "  76],\n",
       " ['http://dbpedia.org/resource/Kovno_Governorate',\n",
       "  'http://www.w3.org/2003/01/geo/wgs84_pos#long',\n",
       "  '23.9333',\n",
       "  'https://dbpedia.org/sparql',\n",
       "  1,\n",
       "  76]]"
      ]
     },
     "execution_count": 47,
     "metadata": {},
     "output_type": "execute_result"
    }
   ],
   "source": [
    "print(len(rl))\n",
    "rl[:3]"
   ]
  },
  {
   "cell_type": "code",
   "execution_count": 48,
   "id": "composite-aerospace",
   "metadata": {},
   "outputs": [],
   "source": [
    "#STOCKAGE\n",
    "db = 'data/intellectuels.db'\n",
    "cn = sql.connect(db)\n",
    "c = cn.cursor()\n",
    "\n",
    "# Insérer les données\n",
    "c.executemany(\"INSERT OR IGNORE INTO property (uri_entity, property, value, source, quality, fk_query_as_source) VALUES (?,?,?,?,?,?)\", rl)\n",
    "\n",
    "# valider l'insertion et fermer la base de données\n",
    "## DESACTIVÉ !!! cn.commit()\n",
    "\n",
    "cn.close()"
   ]
  },
  {
   "cell_type": "markdown",
   "id": "severe-stable",
   "metadata": {},
   "source": [
    "#### 30000"
   ]
  },
  {
   "cell_type": "code",
   "execution_count": null,
   "id": "little-arrow",
   "metadata": {},
   "outputs": [],
   "source": []
  },
  {
   "cell_type": "code",
   "execution_count": 49,
   "id": "visible-airline",
   "metadata": {},
   "outputs": [
    {
     "data": {
      "text/plain": [
       "(77,\n",
       " 'Longitude',\n",
       " '30000',\n",
       " None,\n",
       " 'https://dbpedia.org/sparql',\n",
       " 'PREFIX  dbo:  <http://dbpedia.org/ontology/>\\r\\nPREFIX  dbp:  <http://dbpedia.org/property/>\\r\\nPREFIX  dbr:  <http://dbpedia.org/resource/>\\r\\nPREFIX  yago: <http://dbpedia.org/class/yago/>\\r\\nPREFIX geo: <http://www.w3.org/2003/01/geo/wgs84_pos#>\\r\\n\\r\\nSELECT  ?birthPlace MAX(?long)\\r\\n\\r\\nWHERE\\r\\n  {   ?birthPlace  geo:long ?long\\r\\n\\r\\n    { ?person  dbo:birthPlace  ?birthPlace\\r\\n         { ?person  a                      yago:Intellectual109621545}\\r\\n    }\\r\\n  }\\r\\nGROUP BY ?birthPlace\\r\\nORDER BY ?birthPlace\\r\\nOFFSET 20000 LIMIT 10000',\n",
       " None,\n",
       " '2021-07-06 11:21:46')"
      ]
     },
     "execution_count": 49,
     "metadata": {},
     "output_type": "execute_result"
    }
   ],
   "source": [
    "### Définir la ligne de la base de données à utiliser (inspécter préalablement la base de données)\n",
    "pk_query = 77\n",
    "\n",
    "# connnexion à la base de données\n",
    "original_db = 'data/intellectuels.db'\n",
    "conn = sql.connect(original_db)\n",
    "\n",
    "### exécuter la requëte sur la base de donées SQLite pour récupérer les valeurs que contient la ligne\n",
    "c = conn.cursor()\n",
    "c.execute('SELECT * FROM query WHERE pk_query = ?', [pk_query]) ### a list around argument is needed for a string longer then one\n",
    "#c.execute('SELECT * FROM query WHERE pk_query = 10')\n",
    "\n",
    "rc = c.fetchone()\n",
    "\n",
    "# fermer la connexion\n",
    "conn.close()\n",
    "\n",
    "# imprimer et inspecter le résultat\n",
    "rc"
   ]
  },
  {
   "cell_type": "code",
   "execution_count": 50,
   "id": "indie-trout",
   "metadata": {},
   "outputs": [
    {
     "name": "stdout",
     "output_type": "stream",
     "text": [
      "<class 'dict'>\n"
     ]
    }
   ],
   "source": [
    "qr = spqf.get_json_sparql_result(rc[4],rc[5])"
   ]
  },
  {
   "cell_type": "code",
   "execution_count": 51,
   "id": "twelve-depth",
   "metadata": {},
   "outputs": [
    {
     "data": {
      "text/plain": [
       "1752"
      ]
     },
     "execution_count": 51,
     "metadata": {},
     "output_type": "execute_result"
    }
   ],
   "source": [
    "len(qr['results']['bindings'])"
   ]
  },
  {
   "cell_type": "code",
   "execution_count": 52,
   "id": "hidden-absence",
   "metadata": {},
   "outputs": [],
   "source": [
    "# Transformer le résultat en liste en utilisant une autre fonction de la bibliothèque utilisateur\n",
    "r = [l for l in spqf.sparql_result_to_list(qr)]\n",
    "# r"
   ]
  },
  {
   "cell_type": "code",
   "execution_count": 53,
   "id": "provincial-mauritius",
   "metadata": {},
   "outputs": [
    {
     "name": "stdout",
     "output_type": "stream",
     "text": [
      "1752\n"
     ]
    },
    {
     "data": {
      "text/plain": [
       "[['http://dbpedia.org/resource/Victorica', '-65.45'],\n",
       " ['http://dbpedia.org/resource/Victorville,_California', '-117.291'],\n",
       " ['http://dbpedia.org/resource/Vicuña,_Chile', '-70.7167'],\n",
       " ['http://dbpedia.org/resource/Vidin', '22.8667'],\n",
       " ['http://dbpedia.org/resource/Vidin_Province', '22.6833']]"
      ]
     },
     "execution_count": 53,
     "metadata": {},
     "output_type": "execute_result"
    }
   ],
   "source": [
    "# inspecter une seule ligne de la liste (de listes)\n",
    "print(len(r))\n",
    "r[:5]"
   ]
  },
  {
   "cell_type": "code",
   "execution_count": 54,
   "id": "adequate-strength",
   "metadata": {},
   "outputs": [],
   "source": [
    "rl = [[l[0], 'http://www.w3.org/2003/01/geo/wgs84_pos#long', l[1], 'https://dbpedia.org/sparql', 1, 77 ] for l in r]"
   ]
  },
  {
   "cell_type": "code",
   "execution_count": 55,
   "id": "streaming-banner",
   "metadata": {},
   "outputs": [
    {
     "name": "stdout",
     "output_type": "stream",
     "text": [
      "1752\n"
     ]
    },
    {
     "data": {
      "text/plain": [
       "[['http://dbpedia.org/resource/Victorica',\n",
       "  'http://www.w3.org/2003/01/geo/wgs84_pos#long',\n",
       "  '-65.45',\n",
       "  'https://dbpedia.org/sparql',\n",
       "  1,\n",
       "  77],\n",
       " ['http://dbpedia.org/resource/Victorville,_California',\n",
       "  'http://www.w3.org/2003/01/geo/wgs84_pos#long',\n",
       "  '-117.291',\n",
       "  'https://dbpedia.org/sparql',\n",
       "  1,\n",
       "  77],\n",
       " ['http://dbpedia.org/resource/Vicuña,_Chile',\n",
       "  'http://www.w3.org/2003/01/geo/wgs84_pos#long',\n",
       "  '-70.7167',\n",
       "  'https://dbpedia.org/sparql',\n",
       "  1,\n",
       "  77]]"
      ]
     },
     "execution_count": 55,
     "metadata": {},
     "output_type": "execute_result"
    }
   ],
   "source": [
    "print(len(rl))\n",
    "rl[:3]"
   ]
  },
  {
   "cell_type": "code",
   "execution_count": 56,
   "id": "above-america",
   "metadata": {},
   "outputs": [],
   "source": [
    "#STOCKAGE\n",
    "db = 'data/intellectuels.db'\n",
    "cn = sql.connect(db)\n",
    "c = cn.cursor()\n",
    "\n",
    "# Insérer les données\n",
    "c.executemany(\"INSERT OR IGNORE INTO property (uri_entity, property, value, source, quality, fk_query_as_source) VALUES (?,?,?,?,?,?)\", rl)\n",
    "\n",
    "# valider l'insertion et fermer la base de données\n",
    "## DESACTIVÉ !!! \n",
    "cn.commit()\n",
    "\n",
    "cn.close()"
   ]
  },
  {
   "cell_type": "code",
   "execution_count": null,
   "id": "reduced-silence",
   "metadata": {},
   "outputs": [],
   "source": []
  },
  {
   "cell_type": "markdown",
   "id": "otherwise-amazon",
   "metadata": {},
   "source": [
    "### birthplace lat "
   ]
  },
  {
   "cell_type": "markdown",
   "id": "capital-translator",
   "metadata": {},
   "source": [
    "#### 10000"
   ]
  },
  {
   "cell_type": "code",
   "execution_count": 57,
   "id": "polish-embassy",
   "metadata": {},
   "outputs": [
    {
     "data": {
      "text/plain": [
       "(78,\n",
       " 'Latitude',\n",
       " '10000',\n",
       " None,\n",
       " 'https://dbpedia.org/sparql',\n",
       " 'PREFIX  dbo:  <http://dbpedia.org/ontology/>\\r\\nPREFIX  dbp:  <http://dbpedia.org/property/>\\r\\nPREFIX  dbr:  <http://dbpedia.org/resource/>\\r\\nPREFIX  yago: <http://dbpedia.org/class/yago/>\\r\\nPREFIX geo: <http://www.w3.org/2003/01/geo/wgs84_pos#>\\r\\n\\r\\nSELECT  ?birthPlace MAX(?lat)\\r\\n\\r\\nWHERE\\r\\n  {   ?birthPlace  geo:lat ?lat\\r\\n\\r\\n    { ?person  dbo:birthPlace  ?birthPlace\\r\\n         { ?person  a                      yago:Intellectual109621545}\\r\\n    }\\r\\n  }\\r\\nGROUP BY ?birthPlace\\r\\nORDER BY ?birthPlace',\n",
       " None,\n",
       " None)"
      ]
     },
     "execution_count": 57,
     "metadata": {},
     "output_type": "execute_result"
    }
   ],
   "source": [
    "### Définir la ligne de la base de données à utiliser (inspécter préalablement la base de données)\n",
    "pk_query = 78\n",
    "\n",
    "# connnexion à la base de données\n",
    "original_db = 'data/intellectuels.db'\n",
    "conn = sql.connect(original_db)\n",
    "\n",
    "### exécuter la requëte sur la base de donées SQLite pour récupérer les valeurs que contient la ligne\n",
    "c = conn.cursor()\n",
    "c.execute('SELECT * FROM query WHERE pk_query = ?', [pk_query]) ### a list around argument is needed for a string longer then one\n",
    "#c.execute('SELECT * FROM query WHERE pk_query = 10')\n",
    "\n",
    "rc = c.fetchone()\n",
    "\n",
    "# fermer la connexion\n",
    "conn.close()\n",
    "\n",
    "# imprimer et inspecter le résultat\n",
    "rc"
   ]
  },
  {
   "cell_type": "code",
   "execution_count": 58,
   "id": "demanding-sunrise",
   "metadata": {},
   "outputs": [
    {
     "name": "stdout",
     "output_type": "stream",
     "text": [
      "<class 'dict'>\n"
     ]
    }
   ],
   "source": [
    "qr = spqf.get_json_sparql_result(rc[4],rc[5])"
   ]
  },
  {
   "cell_type": "code",
   "execution_count": 59,
   "id": "pleased-riverside",
   "metadata": {},
   "outputs": [
    {
     "data": {
      "text/plain": [
       "10000"
      ]
     },
     "execution_count": 59,
     "metadata": {},
     "output_type": "execute_result"
    }
   ],
   "source": [
    "len(qr['results']['bindings'])"
   ]
  },
  {
   "cell_type": "code",
   "execution_count": 60,
   "id": "statewide-blair",
   "metadata": {},
   "outputs": [],
   "source": [
    "# Transformer le résultat en liste en utilisant une autre fonction de la bibliothèque utilisateur\n",
    "r = [l for l in spqf.sparql_result_to_list(qr)]\n",
    "# r"
   ]
  },
  {
   "cell_type": "code",
   "execution_count": 61,
   "id": "laughing-strength",
   "metadata": {},
   "outputs": [
    {
     "name": "stdout",
     "output_type": "stream",
     "text": [
      "10000\n"
     ]
    },
    {
     "data": {
      "text/plain": [
       "[[\"http://dbpedia.org/resource/'Uyayna\", '24.9053'],\n",
       " [\"http://dbpedia.org/resource/'s-Graveland\", '52.2442'],\n",
       " [\"http://dbpedia.org/resource/'s-Hertogenbosch\", '51.6833'],\n",
       " ['http://dbpedia.org/resource/16th_arrondissement_of_Paris', '48.8636'],\n",
       " ['http://dbpedia.org/resource/24_Parganas', '22.0']]"
      ]
     },
     "execution_count": 61,
     "metadata": {},
     "output_type": "execute_result"
    }
   ],
   "source": [
    "# inspecter une seule ligne de la liste (de listes)\n",
    "print(len(r))\n",
    "r[:5]"
   ]
  },
  {
   "cell_type": "code",
   "execution_count": 62,
   "id": "junior-insight",
   "metadata": {},
   "outputs": [],
   "source": [
    "rl = [[l[0], 'http://www.w3.org/2003/01/geo/wgs84_pos#lat', l[1], 'https://dbpedia.org/sparql', 1, 78 ] for l in r]"
   ]
  },
  {
   "cell_type": "code",
   "execution_count": 63,
   "id": "controlled-sleeve",
   "metadata": {},
   "outputs": [
    {
     "name": "stdout",
     "output_type": "stream",
     "text": [
      "10000\n"
     ]
    },
    {
     "data": {
      "text/plain": [
       "[[\"http://dbpedia.org/resource/'Uyayna\",\n",
       "  'http://www.w3.org/2003/01/geo/wgs84_pos#lat',\n",
       "  '24.9053',\n",
       "  'https://dbpedia.org/sparql',\n",
       "  1,\n",
       "  78],\n",
       " [\"http://dbpedia.org/resource/'s-Graveland\",\n",
       "  'http://www.w3.org/2003/01/geo/wgs84_pos#lat',\n",
       "  '52.2442',\n",
       "  'https://dbpedia.org/sparql',\n",
       "  1,\n",
       "  78],\n",
       " [\"http://dbpedia.org/resource/'s-Hertogenbosch\",\n",
       "  'http://www.w3.org/2003/01/geo/wgs84_pos#lat',\n",
       "  '51.6833',\n",
       "  'https://dbpedia.org/sparql',\n",
       "  1,\n",
       "  78]]"
      ]
     },
     "execution_count": 63,
     "metadata": {},
     "output_type": "execute_result"
    }
   ],
   "source": [
    "print(len(rl))\n",
    "rl[:3]"
   ]
  },
  {
   "cell_type": "code",
   "execution_count": 64,
   "id": "polar-ordering",
   "metadata": {},
   "outputs": [],
   "source": [
    "#STOCKAGE\n",
    "db = 'data/intellectuels.db'\n",
    "cn = sql.connect(db)\n",
    "c = cn.cursor()\n",
    "\n",
    "# Insérer les données\n",
    "c.executemany(\"INSERT OR IGNORE INTO property (uri_entity, property, value, source, quality, fk_query_as_source) VALUES (?,?,?,?,?,?)\", rl)\n",
    "\n",
    "# valider l'insertion et fermer la base de données\n",
    "## DESACTIVÉ !!! cn.commit()\n",
    "\n",
    "cn.close()"
   ]
  },
  {
   "cell_type": "markdown",
   "id": "complicated-calvin",
   "metadata": {},
   "source": [
    "#### 20000"
   ]
  },
  {
   "cell_type": "code",
   "execution_count": null,
   "id": "alternative-glory",
   "metadata": {},
   "outputs": [],
   "source": []
  },
  {
   "cell_type": "code",
   "execution_count": 65,
   "id": "underlying-pakistan",
   "metadata": {},
   "outputs": [
    {
     "data": {
      "text/plain": [
       "(79,\n",
       " 'Latitude',\n",
       " '20000',\n",
       " None,\n",
       " 'https://dbpedia.org/sparql',\n",
       " 'PREFIX  dbo:  <http://dbpedia.org/ontology/>\\r\\nPREFIX  dbp:  <http://dbpedia.org/property/>\\r\\nPREFIX  dbr:  <http://dbpedia.org/resource/>\\r\\nPREFIX  yago: <http://dbpedia.org/class/yago/>\\r\\nPREFIX geo: <http://www.w3.org/2003/01/geo/wgs84_pos#>\\r\\n\\r\\nSELECT  ?birthPlace MAX(?lat)\\r\\n\\r\\nWHERE\\r\\n  {   ?birthPlace  geo:lat ?lat\\r\\n\\r\\n    { ?person  dbo:birthPlace  ?birthPlace\\r\\n         { ?person  a                      yago:Intellectual109621545}\\r\\n    }\\r\\n  }\\r\\nGROUP BY ?birthPlace\\r\\nORDER BY ?birthPlace\\r\\nOFFSET 10000 LIMIT 10000',\n",
       " None,\n",
       " '2021-07-06 11:31:18')"
      ]
     },
     "execution_count": 65,
     "metadata": {},
     "output_type": "execute_result"
    }
   ],
   "source": [
    "### Définir la ligne de la base de données à utiliser (inspécter préalablement la base de données)\n",
    "pk_query = 79\n",
    "\n",
    "# connnexion à la base de données\n",
    "original_db = 'data/intellectuels.db'\n",
    "conn = sql.connect(original_db)\n",
    "\n",
    "### exécuter la requëte sur la base de donées SQLite pour récupérer les valeurs que contient la ligne\n",
    "c = conn.cursor()\n",
    "c.execute('SELECT * FROM query WHERE pk_query = ?', [pk_query]) ### a list around argument is needed for a string longer then one\n",
    "#c.execute('SELECT * FROM query WHERE pk_query = 10')\n",
    "\n",
    "rc = c.fetchone()\n",
    "\n",
    "# fermer la connexion\n",
    "conn.close()\n",
    "\n",
    "# imprimer et inspecter le résultat\n",
    "rc"
   ]
  },
  {
   "cell_type": "code",
   "execution_count": 66,
   "id": "frozen-essex",
   "metadata": {},
   "outputs": [
    {
     "name": "stdout",
     "output_type": "stream",
     "text": [
      "<class 'dict'>\n"
     ]
    }
   ],
   "source": [
    "qr = spqf.get_json_sparql_result(rc[4],rc[5])"
   ]
  },
  {
   "cell_type": "code",
   "execution_count": 67,
   "id": "novel-halifax",
   "metadata": {},
   "outputs": [
    {
     "data": {
      "text/plain": [
       "10000"
      ]
     },
     "execution_count": 67,
     "metadata": {},
     "output_type": "execute_result"
    }
   ],
   "source": [
    "len(qr['results']['bindings'])"
   ]
  },
  {
   "cell_type": "code",
   "execution_count": 68,
   "id": "magnetic-syracuse",
   "metadata": {},
   "outputs": [],
   "source": [
    "# Transformer le résultat en liste en utilisant une autre fonction de la bibliothèque utilisateur\n",
    "r = [l for l in spqf.sparql_result_to_list(qr)]\n",
    "# r"
   ]
  },
  {
   "cell_type": "code",
   "execution_count": 69,
   "id": "changed-twins",
   "metadata": {},
   "outputs": [
    {
     "name": "stdout",
     "output_type": "stream",
     "text": [
      "10000\n"
     ]
    },
    {
     "data": {
      "text/plain": [
       "[['http://dbpedia.org/resource/Kovačica', '45.1117'],\n",
       " ['http://dbpedia.org/resource/Kovilpatti', '9.17'],\n",
       " ['http://dbpedia.org/resource/Kovno_Governorate', '54.9'],\n",
       " ['http://dbpedia.org/resource/Kowalewko,_Kuyavian-Pomeranian_Voivodeship',\n",
       "  '53.0719'],\n",
       " ['http://dbpedia.org/resource/Kowloon', '22.3167']]"
      ]
     },
     "execution_count": 69,
     "metadata": {},
     "output_type": "execute_result"
    }
   ],
   "source": [
    "# inspecter une seule ligne de la liste (de listes)\n",
    "print(len(r))\n",
    "r[:5]"
   ]
  },
  {
   "cell_type": "code",
   "execution_count": 70,
   "id": "cooperative-million",
   "metadata": {},
   "outputs": [],
   "source": [
    "rl = [[l[0], 'http://www.w3.org/2003/01/geo/wgs84_pos#lat', l[1], 'https://dbpedia.org/sparql', 1, 79 ] for l in r]"
   ]
  },
  {
   "cell_type": "code",
   "execution_count": 71,
   "id": "united-madrid",
   "metadata": {},
   "outputs": [
    {
     "name": "stdout",
     "output_type": "stream",
     "text": [
      "10000\n"
     ]
    },
    {
     "data": {
      "text/plain": [
       "[['http://dbpedia.org/resource/Kovačica',\n",
       "  'http://www.w3.org/2003/01/geo/wgs84_pos#lat',\n",
       "  '45.1117',\n",
       "  'https://dbpedia.org/sparql',\n",
       "  1,\n",
       "  79],\n",
       " ['http://dbpedia.org/resource/Kovilpatti',\n",
       "  'http://www.w3.org/2003/01/geo/wgs84_pos#lat',\n",
       "  '9.17',\n",
       "  'https://dbpedia.org/sparql',\n",
       "  1,\n",
       "  79],\n",
       " ['http://dbpedia.org/resource/Kovno_Governorate',\n",
       "  'http://www.w3.org/2003/01/geo/wgs84_pos#lat',\n",
       "  '54.9',\n",
       "  'https://dbpedia.org/sparql',\n",
       "  1,\n",
       "  79]]"
      ]
     },
     "execution_count": 71,
     "metadata": {},
     "output_type": "execute_result"
    }
   ],
   "source": [
    "print(len(rl))\n",
    "rl[:3]"
   ]
  },
  {
   "cell_type": "code",
   "execution_count": 72,
   "id": "economic-roots",
   "metadata": {},
   "outputs": [],
   "source": [
    "#STOCKAGE\n",
    "db = 'data/intellectuels.db'\n",
    "cn = sql.connect(db)\n",
    "c = cn.cursor()\n",
    "\n",
    "# Insérer les données\n",
    "c.executemany(\"INSERT OR IGNORE INTO property (uri_entity, property, value, source, quality, fk_query_as_source) VALUES (?,?,?,?,?,?)\", rl)\n",
    "\n",
    "# valider l'insertion et fermer la base de données\n",
    "## DESACTIVÉ !!! cn.commit()\n",
    "\n",
    "cn.close()"
   ]
  },
  {
   "cell_type": "markdown",
   "id": "negative-possible",
   "metadata": {},
   "source": [
    "#### 30000"
   ]
  },
  {
   "cell_type": "code",
   "execution_count": null,
   "id": "acoustic-profit",
   "metadata": {},
   "outputs": [],
   "source": []
  },
  {
   "cell_type": "code",
   "execution_count": 73,
   "id": "black-temperature",
   "metadata": {},
   "outputs": [
    {
     "data": {
      "text/plain": [
       "(80,\n",
       " 'Latitude',\n",
       " '30000',\n",
       " None,\n",
       " 'https://dbpedia.org/sparql',\n",
       " 'PREFIX  dbo:  <http://dbpedia.org/ontology/>\\r\\nPREFIX  dbp:  <http://dbpedia.org/property/>\\r\\nPREFIX  dbr:  <http://dbpedia.org/resource/>\\r\\nPREFIX  yago: <http://dbpedia.org/class/yago/>\\r\\nPREFIX geo: <http://www.w3.org/2003/01/geo/wgs84_pos#>\\r\\n\\r\\nSELECT  ?birthPlace MAX(?lat)\\r\\n\\r\\nWHERE\\r\\n  {   ?birthPlace  geo:lat ?lat\\r\\n\\r\\n    { ?person  dbo:birthPlace  ?birthPlace\\r\\n         { ?person  a                      yago:Intellectual109621545}\\r\\n    }\\r\\n  }\\r\\nGROUP BY ?birthPlace\\r\\nORDER BY ?birthPlace\\r\\nOFFSET 20000 LIMIT 10000',\n",
       " None,\n",
       " '2021-07-06 11:31:18')"
      ]
     },
     "execution_count": 73,
     "metadata": {},
     "output_type": "execute_result"
    }
   ],
   "source": [
    "### Définir la ligne de la base de données à utiliser (inspécter préalablement la base de données)\n",
    "pk_query = 80\n",
    "\n",
    "# connnexion à la base de données\n",
    "original_db = 'data/intellectuels.db'\n",
    "conn = sql.connect(original_db)\n",
    "\n",
    "### exécuter la requëte sur la base de donées SQLite pour récupérer les valeurs que contient la ligne\n",
    "c = conn.cursor()\n",
    "c.execute('SELECT * FROM query WHERE pk_query = ?', [pk_query]) ### a list around argument is needed for a string longer then one\n",
    "#c.execute('SELECT * FROM query WHERE pk_query = 10')\n",
    "\n",
    "rc = c.fetchone()\n",
    "\n",
    "# fermer la connexion\n",
    "conn.close()\n",
    "\n",
    "# imprimer et inspecter le résultat\n",
    "rc"
   ]
  },
  {
   "cell_type": "code",
   "execution_count": 74,
   "id": "smoking-rachel",
   "metadata": {},
   "outputs": [
    {
     "name": "stdout",
     "output_type": "stream",
     "text": [
      "<class 'dict'>\n"
     ]
    }
   ],
   "source": [
    "qr = spqf.get_json_sparql_result(rc[4],rc[5])"
   ]
  },
  {
   "cell_type": "code",
   "execution_count": 75,
   "id": "welsh-spectrum",
   "metadata": {},
   "outputs": [
    {
     "data": {
      "text/plain": [
       "1752"
      ]
     },
     "execution_count": 75,
     "metadata": {},
     "output_type": "execute_result"
    }
   ],
   "source": [
    "len(qr['results']['bindings'])"
   ]
  },
  {
   "cell_type": "code",
   "execution_count": 76,
   "id": "sharing-rhythm",
   "metadata": {},
   "outputs": [],
   "source": [
    "# Transformer le résultat en liste en utilisant une autre fonction de la bibliothèque utilisateur\n",
    "r = [l for l in spqf.sparql_result_to_list(qr)]\n",
    "# r"
   ]
  },
  {
   "cell_type": "code",
   "execution_count": 77,
   "id": "supposed-mount",
   "metadata": {},
   "outputs": [
    {
     "name": "stdout",
     "output_type": "stream",
     "text": [
      "1752\n"
     ]
    },
    {
     "data": {
      "text/plain": [
       "[['http://dbpedia.org/resource/Victorica', '-36.2167'],\n",
       " ['http://dbpedia.org/resource/Victorville,_California', '34.5361'],\n",
       " ['http://dbpedia.org/resource/Vicuña,_Chile', '-30.0333'],\n",
       " ['http://dbpedia.org/resource/Vidin', '44.0'],\n",
       " ['http://dbpedia.org/resource/Vidin_Province', '43.8']]"
      ]
     },
     "execution_count": 77,
     "metadata": {},
     "output_type": "execute_result"
    }
   ],
   "source": [
    "# inspecter une seule ligne de la liste (de listes)\n",
    "print(len(r))\n",
    "r[:5]"
   ]
  },
  {
   "cell_type": "code",
   "execution_count": 78,
   "id": "accredited-geometry",
   "metadata": {},
   "outputs": [],
   "source": [
    "rl = [[l[0], 'http://www.w3.org/2003/01/geo/wgs84_pos#lat', l[1], 'https://dbpedia.org/sparql', 1, 80 ] for l in r]"
   ]
  },
  {
   "cell_type": "code",
   "execution_count": 79,
   "id": "august-ballet",
   "metadata": {},
   "outputs": [
    {
     "name": "stdout",
     "output_type": "stream",
     "text": [
      "1752\n"
     ]
    },
    {
     "data": {
      "text/plain": [
       "[['http://dbpedia.org/resource/Victorica',\n",
       "  'http://www.w3.org/2003/01/geo/wgs84_pos#lat',\n",
       "  '-36.2167',\n",
       "  'https://dbpedia.org/sparql',\n",
       "  1,\n",
       "  80],\n",
       " ['http://dbpedia.org/resource/Victorville,_California',\n",
       "  'http://www.w3.org/2003/01/geo/wgs84_pos#lat',\n",
       "  '34.5361',\n",
       "  'https://dbpedia.org/sparql',\n",
       "  1,\n",
       "  80],\n",
       " ['http://dbpedia.org/resource/Vicuña,_Chile',\n",
       "  'http://www.w3.org/2003/01/geo/wgs84_pos#lat',\n",
       "  '-30.0333',\n",
       "  'https://dbpedia.org/sparql',\n",
       "  1,\n",
       "  80]]"
      ]
     },
     "execution_count": 79,
     "metadata": {},
     "output_type": "execute_result"
    }
   ],
   "source": [
    "print(len(rl))\n",
    "rl[:3]"
   ]
  },
  {
   "cell_type": "code",
   "execution_count": 80,
   "id": "private-lobby",
   "metadata": {},
   "outputs": [],
   "source": [
    "#STOCKAGE\n",
    "db = 'data/intellectuels.db'\n",
    "cn = sql.connect(db)\n",
    "c = cn.cursor()\n",
    "\n",
    "# Insérer les données\n",
    "c.executemany(\"INSERT OR IGNORE INTO property (uri_entity, property, value, source, quality, fk_query_as_source) VALUES (?,?,?,?,?,?)\", rl)\n",
    "\n",
    "# valider l'insertion et fermer la base de données\n",
    "## DESACTIVÉ !!! cn.commit()\n",
    "\n",
    "cn.close()"
   ]
  },
  {
   "cell_type": "markdown",
   "id": "hollow-roulette",
   "metadata": {},
   "source": [
    "### Sauvegarde DB\n",
    "\n",
    "Copie6 = entités person enregistrées / requêtes birthyear, birthdate ajoutées / propriétés birthyear (dbo) birthdate (dbo) et birthdate (dbp) ajoutées / occupation (dbo) ajoutée / birthplace (dbo) ajoutée / birthplace type, long, lat ajoutés"
   ]
  },
  {
   "cell_type": "code",
   "execution_count": 81,
   "id": "welsh-courage",
   "metadata": {},
   "outputs": [
    {
     "data": {
      "text/plain": [
       "'20210706_113933'"
      ]
     },
     "execution_count": 81,
     "metadata": {},
     "output_type": "execute_result"
    }
   ],
   "source": [
    "### Fonction qui récupère et met en forme le temps au moment de l'exécution\n",
    "\n",
    "# définition\n",
    "def timestamp_formatted_for_file_name():\n",
    "    is_now = time.strftime('%Y%m%d_%H%M%S')\n",
    "    return is_now\n",
    "\n",
    "# exécution\n",
    "timestamp_formatted_for_file_name()"
   ]
  },
  {
   "cell_type": "code",
   "execution_count": 82,
   "id": "representative-upset",
   "metadata": {},
   "outputs": [],
   "source": [
    "### Définir les adresses des fichiers, l'existant et celui à créer\n",
    "original_db = 'data/intellectuels.db'\n",
    "\n",
    "##  Noter que la différence de suffixe, en soi totalement arbitraire, \n",
    "#  dépend du fait que dans la configuration de .gitignore, .sqlite est exclu du verisonnement GIT\n",
    "#  contrairement à .db qui est versionné\n",
    "timestamped_db_copy = 'data/intellectuels_copie6_' + timestamp_formatted_for_file_name() + '.sqlite'"
   ]
  },
  {
   "cell_type": "code",
   "execution_count": 83,
   "id": "gross-performer",
   "metadata": {},
   "outputs": [
    {
     "data": {
      "text/plain": [
       "'data/intellectuels_copie6_20210706_113941.sqlite'"
      ]
     },
     "execution_count": 83,
     "metadata": {},
     "output_type": "execute_result"
    }
   ],
   "source": [
    "### Créer une copie de sauvegarde avec timestamp du fichier (versionnement manuel)\n",
    "# ATTENTION : la base de données doit exister à l'endroit indiqué !\n",
    "## Cette requête n'est utile que si des modifications en écriture vont être apportées à la base de données,\n",
    "# afin de préserver le dernier état avant modification\n",
    "\n",
    "## Documentation:\n",
    "# https://docs.python.org/3/library/shutil.htmlcopied_db = copyfile(original_db, timestamped_db_copy)\n",
    "\n",
    "copied_db = copyfile(original_db, timestamped_db_copy)\n",
    "copied_db"
   ]
  },
  {
   "cell_type": "code",
   "execution_count": null,
   "id": "ranking-greensboro",
   "metadata": {},
   "outputs": [],
   "source": []
  },
  {
   "cell_type": "markdown",
   "id": "mysterious-flavor",
   "metadata": {},
   "source": [
    "## Enregistrer les entitées 'place'"
   ]
  },
  {
   "cell_type": "code",
   "execution_count": 98,
   "id": "impossible-picture",
   "metadata": {},
   "outputs": [
    {
     "data": {
      "text/plain": [
       "(83,\n",
       " 'Liste des lieux de naissance',\n",
       " '30000',\n",
       " None,\n",
       " 'https://dbpedia.org/sparql',\n",
       " 'PREFIX  dbo:  <http://dbpedia.org/ontology/>\\r\\nPREFIX  dbp:  <http://dbpedia.org/property/>\\r\\nPREFIX  dbr:  <http://dbpedia.org/resource/>\\r\\nPREFIX  yago: <http://dbpedia.org/class/yago/>\\r\\n\\r\\nSELECT DISTINCT  ?birthPlace\\r\\nWHERE\\r\\n  { ?person  dbo:birthPlace  ?birthPlace\\r\\n      { ?person  a                     yago:Intellectual109621545 }\\r\\n  }\\r\\nORDER BY ?birthPlace\\r\\nOFFSET 20000 LIMIT 10000',\n",
       " None,\n",
       " '2021-07-06 11:52:36')"
      ]
     },
     "execution_count": 98,
     "metadata": {},
     "output_type": "execute_result"
    }
   ],
   "source": [
    "### Définir la ligne de la base de données à utiliser (inspécter préalablement la base de données)\n",
    "pk_query = 83\n",
    "\n",
    "# connnexion à la base de données\n",
    "original_db = 'data/intellectuels.db'\n",
    "conn = sql.connect(original_db)\n",
    "\n",
    "### exécuter la requëte sur la base de donées SQLite pour récupérer les valeurs que contient la ligne\n",
    "c = conn.cursor()\n",
    "c.execute('SELECT * FROM query WHERE pk_query = ?', [pk_query]) ### a list around argument is needed for a string longer then one\n",
    "#c.execute('SELECT * FROM query WHERE pk_query = 10')\n",
    "\n",
    "rc = c.fetchone()\n",
    "\n",
    "# fermer la connexion\n",
    "conn.close()\n",
    "\n",
    "# imprimer et inspecter le résultat\n",
    "rc"
   ]
  },
  {
   "cell_type": "code",
   "execution_count": 99,
   "id": "confident-robert",
   "metadata": {},
   "outputs": [
    {
     "name": "stdout",
     "output_type": "stream",
     "text": [
      "<class 'dict'>\n"
     ]
    }
   ],
   "source": [
    "qr = spqf.get_json_sparql_result(rc[4],rc[5])"
   ]
  },
  {
   "cell_type": "code",
   "execution_count": 100,
   "id": "accepting-observation",
   "metadata": {},
   "outputs": [
    {
     "data": {
      "text/plain": [
       "7730"
      ]
     },
     "execution_count": 100,
     "metadata": {},
     "output_type": "execute_result"
    }
   ],
   "source": [
    "len(qr['results']['bindings'])"
   ]
  },
  {
   "cell_type": "code",
   "execution_count": 101,
   "id": "accredited-tractor",
   "metadata": {},
   "outputs": [],
   "source": [
    "r = [l for l in spqf.sparql_result_to_list(qr) ]"
   ]
  },
  {
   "cell_type": "code",
   "execution_count": 102,
   "id": "refined-license",
   "metadata": {},
   "outputs": [],
   "source": [
    "rl = [[l[0], 'https://dbpedia.org/ontology/Place', 'https://dbpedia.org/sparql', 83 ] for l in r]"
   ]
  },
  {
   "cell_type": "code",
   "execution_count": 103,
   "id": "changing-captain",
   "metadata": {},
   "outputs": [
    {
     "data": {
      "text/plain": [
       "[['http://dbpedia.org/resource/Ramanathapuram_district',\n",
       "  'https://dbpedia.org/ontology/Place',\n",
       "  'https://dbpedia.org/sparql',\n",
       "  83],\n",
       " ['http://dbpedia.org/resource/Ramankary',\n",
       "  'https://dbpedia.org/ontology/Place',\n",
       "  'https://dbpedia.org/sparql',\n",
       "  83],\n",
       " ['http://dbpedia.org/resource/Ramapur',\n",
       "  'https://dbpedia.org/ontology/Place',\n",
       "  'https://dbpedia.org/sparql',\n",
       "  83]]"
      ]
     },
     "execution_count": 103,
     "metadata": {},
     "output_type": "execute_result"
    }
   ],
   "source": [
    "rl[:3]"
   ]
  },
  {
   "cell_type": "code",
   "execution_count": 104,
   "id": "domestic-banking",
   "metadata": {},
   "outputs": [],
   "source": [
    "### Stocker les nouvelles entités en base de données – ne pas oublier d'active le 'commit' !\n",
    "\n",
    "cn = sql.connect(db)\n",
    "c = cn.cursor()\n",
    "\n",
    "# Insérer les données\n",
    "c.executemany(\"INSERT OR IGNORE INTO entity (uri_entity, entity_class, source, fk_query_as_source) VALUES (?,?,?,?)\", rl)\n",
    "\n",
    "# valider l'insertion et fermer la base de données\n",
    "## DESACTIVÉ !!! ##  cn.commit()\n",
    "\n",
    "cn.close()"
   ]
  },
  {
   "cell_type": "markdown",
   "id": "extreme-liver",
   "metadata": {},
   "source": [
    "### Sauvegarde DB\n",
    "\n",
    "Copie7 = entités person enregistrées / requêtes birthyear, birthdate ajoutées / propriétés birthyear (dbo) birthdate (dbo) et birthdate (dbp) ajoutées / occupation (dbo) ajoutée / birthplace (dbo) ajoutée / birthplace type, long, lat ajoutés / entités place enregistrées "
   ]
  },
  {
   "cell_type": "code",
   "execution_count": 105,
   "id": "neural-composite",
   "metadata": {},
   "outputs": [
    {
     "data": {
      "text/plain": [
       "'20210706_132647'"
      ]
     },
     "execution_count": 105,
     "metadata": {},
     "output_type": "execute_result"
    }
   ],
   "source": [
    "### Fonction qui récupère et met en forme le temps au moment de l'exécution\n",
    "\n",
    "# définition\n",
    "def timestamp_formatted_for_file_name():\n",
    "    is_now = time.strftime('%Y%m%d_%H%M%S')\n",
    "    return is_now\n",
    "\n",
    "# exécution\n",
    "timestamp_formatted_for_file_name()"
   ]
  },
  {
   "cell_type": "code",
   "execution_count": 106,
   "id": "driven-pasta",
   "metadata": {},
   "outputs": [],
   "source": [
    "### Définir les adresses des fichiers, l'existant et celui à créer\n",
    "original_db = 'data/intellectuels.db'\n",
    "\n",
    "##  Noter que la différence de suffixe, en soi totalement arbitraire, \n",
    "#  dépend du fait que dans la configuration de .gitignore, .sqlite est exclu du verisonnement GIT\n",
    "#  contrairement à .db qui est versionné\n",
    "timestamped_db_copy = 'data/intellectuels_copie7_' + timestamp_formatted_for_file_name() + '.sqlite'"
   ]
  },
  {
   "cell_type": "code",
   "execution_count": 107,
   "id": "increased-asian",
   "metadata": {},
   "outputs": [
    {
     "data": {
      "text/plain": [
       "'data/intellectuels_copie7_20210706_132706.sqlite'"
      ]
     },
     "execution_count": 107,
     "metadata": {},
     "output_type": "execute_result"
    }
   ],
   "source": [
    "### Créer une copie de sauvegarde avec timestamp du fichier (versionnement manuel)\n",
    "# ATTENTION : la base de données doit exister à l'endroit indiqué !\n",
    "## Cette requête n'est utile que si des modifications en écriture vont être apportées à la base de données,\n",
    "# afin de préserver le dernier état avant modification\n",
    "\n",
    "## Documentation:\n",
    "# https://docs.python.org/3/library/shutil.htmlcopied_db = copyfile(original_db, timestamped_db_copy)\n",
    "\n",
    "copied_db = copyfile(original_db, timestamped_db_copy)\n",
    "copied_db"
   ]
  },
  {
   "cell_type": "markdown",
   "id": "blind-albania",
   "metadata": {},
   "source": [
    "### academicDiscipline"
   ]
  },
  {
   "cell_type": "code",
   "execution_count": 13,
   "id": "liable-majority",
   "metadata": {},
   "outputs": [
    {
     "data": {
      "text/plain": [
       "(87,\n",
       " 'Academic discipline ',\n",
       " '20000 max',\n",
       " None,\n",
       " 'https://dbpedia.org/sparql',\n",
       " 'PREFIX  dbo:  <http://dbpedia.org/ontology/>\\r\\nPREFIX  dbp:  <http://dbpedia.org/property/>\\r\\nPREFIX  dbr:  <http://dbpedia.org/resource/>\\r\\nPREFIX  yago: <http://dbpedia.org/class/yago/>\\r\\n\\r\\nSELECT DISTINCT ?person ?academicDiscipline\\r\\nWHERE\\r\\n  { ?person  dbo:academicDiscipline  ?academicDiscipline\\r\\n      { ?person  a                     yago:Intellectual109621545}\\r\\n  }\\r\\n ORDER BY ?person\\r\\n OFFSET 10000 LIMIT 10000',\n",
       " None,\n",
       " '2021-07-06 14:36:53')"
      ]
     },
     "execution_count": 13,
     "metadata": {},
     "output_type": "execute_result"
    }
   ],
   "source": [
    "### Définir la ligne de la base de données à utiliser (inspécter préalablement la base de données)\n",
    "pk_query = 87\n",
    "\n",
    "# connnexion à la base de données\n",
    "original_db = 'data/intellectuels.db'\n",
    "conn = sql.connect(original_db)\n",
    "\n",
    "### exécuter la requëte sur la base de donées SQLite pour récupérer les valeurs que contient la ligne\n",
    "c = conn.cursor()\n",
    "c.execute('SELECT * FROM query WHERE pk_query = ?', [pk_query]) ### a list around argument is needed for a string longer then one\n",
    "#c.execute('SELECT * FROM query WHERE pk_query = 10')\n",
    "\n",
    "rc = c.fetchone()\n",
    "\n",
    "# fermer la connexion\n",
    "conn.close()\n",
    "\n",
    "# imprimer et inspecter le résultat\n",
    "rc"
   ]
  },
  {
   "cell_type": "code",
   "execution_count": 14,
   "id": "excessive-creek",
   "metadata": {},
   "outputs": [
    {
     "name": "stdout",
     "output_type": "stream",
     "text": [
      "<class 'dict'>\n"
     ]
    }
   ],
   "source": [
    "qr = spqf.get_json_sparql_result(rc[4],rc[5])"
   ]
  },
  {
   "cell_type": "code",
   "execution_count": 15,
   "id": "molecular-valley",
   "metadata": {},
   "outputs": [
    {
     "data": {
      "text/plain": [
       "2845"
      ]
     },
     "execution_count": 15,
     "metadata": {},
     "output_type": "execute_result"
    }
   ],
   "source": [
    "len(qr['results']['bindings'])"
   ]
  },
  {
   "cell_type": "code",
   "execution_count": 16,
   "id": "pending-biodiversity",
   "metadata": {},
   "outputs": [],
   "source": [
    "# Transformer le résultat en liste en utilisant une autre fonction de la bibliothèque utilisateur\n",
    "r = [l for l in spqf.sparql_result_to_list(qr)]\n",
    "# r"
   ]
  },
  {
   "cell_type": "code",
   "execution_count": 17,
   "id": "happy-perception",
   "metadata": {},
   "outputs": [
    {
     "name": "stdout",
     "output_type": "stream",
     "text": [
      "2845\n"
     ]
    },
    {
     "data": {
      "text/plain": [
       "[['http://dbpedia.org/resource/Richard_Kayne',\n",
       "  'http://dbpedia.org/resource/Syntax'],\n",
       " ['http://dbpedia.org/resource/Richard_Kayne',\n",
       "  'http://dbpedia.org/resource/Generative_grammar'],\n",
       " ['http://dbpedia.org/resource/Richard_Keynes',\n",
       "  'http://dbpedia.org/resource/Physiology'],\n",
       " ['http://dbpedia.org/resource/Richard_L._Abrams',\n",
       "  'http://dbpedia.org/resource/Physics'],\n",
       " ['http://dbpedia.org/resource/Richard_L._Hoffman',\n",
       "  'http://dbpedia.org/resource/Millipedes']]"
      ]
     },
     "execution_count": 17,
     "metadata": {},
     "output_type": "execute_result"
    }
   ],
   "source": [
    "# inspecter une seule ligne de la liste (de listes)\n",
    "print(len(r))\n",
    "r[:5]"
   ]
  },
  {
   "cell_type": "code",
   "execution_count": 18,
   "id": "positive-criterion",
   "metadata": {},
   "outputs": [],
   "source": [
    "rl = [[l[0], 'http://dbpedia.org/ontology/academicDiscipline', l[1], 'https://dbpedia.org/sparql', 1, 87 ] for l in r]"
   ]
  },
  {
   "cell_type": "code",
   "execution_count": 19,
   "id": "neither-carolina",
   "metadata": {},
   "outputs": [
    {
     "name": "stdout",
     "output_type": "stream",
     "text": [
      "2845\n"
     ]
    },
    {
     "data": {
      "text/plain": [
       "[['http://dbpedia.org/resource/Richard_Kayne',\n",
       "  'http://dbpedia.org/ontology/academicDiscipline',\n",
       "  'http://dbpedia.org/resource/Syntax',\n",
       "  'https://dbpedia.org/sparql',\n",
       "  1,\n",
       "  87],\n",
       " ['http://dbpedia.org/resource/Richard_Kayne',\n",
       "  'http://dbpedia.org/ontology/academicDiscipline',\n",
       "  'http://dbpedia.org/resource/Generative_grammar',\n",
       "  'https://dbpedia.org/sparql',\n",
       "  1,\n",
       "  87],\n",
       " ['http://dbpedia.org/resource/Richard_Keynes',\n",
       "  'http://dbpedia.org/ontology/academicDiscipline',\n",
       "  'http://dbpedia.org/resource/Physiology',\n",
       "  'https://dbpedia.org/sparql',\n",
       "  1,\n",
       "  87]]"
      ]
     },
     "execution_count": 19,
     "metadata": {},
     "output_type": "execute_result"
    }
   ],
   "source": [
    "print(len(rl))\n",
    "rl[:3]"
   ]
  },
  {
   "cell_type": "code",
   "execution_count": 20,
   "id": "dental-petite",
   "metadata": {},
   "outputs": [],
   "source": [
    "#STOCKAGE\n",
    "db = 'data/intellectuels.db'\n",
    "cn = sql.connect(db)\n",
    "c = cn.cursor()\n",
    "\n",
    "# Insérer les données\n",
    "c.executemany(\"INSERT OR IGNORE INTO property (uri_entity, property, value, source, quality, fk_query_as_source) VALUES (?,?,?,?,?,?)\", rl)\n",
    "\n",
    "# valider l'insertion et fermer la base de données\n",
    "## DESACTIVÉ !!! cn.commit()\n",
    "\n",
    "cn.close()"
   ]
  },
  {
   "cell_type": "markdown",
   "id": "otherwise-detection",
   "metadata": {},
   "source": [
    "### abstract"
   ]
  },
  {
   "cell_type": "code",
   "execution_count": 151,
   "id": "abandoned-fossil",
   "metadata": {},
   "outputs": [
    {
     "data": {
      "text/plain": [
       "(106,\n",
       " 'Abstract (uniquement en anglais)',\n",
       " '19 max',\n",
       " None,\n",
       " 'https://dbpedia.org/sparql',\n",
       " \"PREFIX  dbo:  <http://dbpedia.org/ontology/>\\r\\nPREFIX  dbp:  <http://dbpedia.org/property/>\\r\\nPREFIX  dbr:  <http://dbpedia.org/resource/>\\r\\nPREFIX  yago: <http://dbpedia.org/class/yago/>\\r\\n\\r\\nSELECT DISTINCT  ?person ?abstract\\r\\n WHERE \\r\\n   {\\r\\n     {\\r\\n       SELECT DISTINCT ?person ?abstract\\r\\nWHERE \\r\\n             { ?person  dbo:abstract ?abstract\\r\\n                {?person  a                     yago:Intellectual109621545}\\r\\n             } \\r\\n       ORDER BY ?person \\r\\n     }\\r\\nBIND (LANG(?abstract) AS ?lang)\\r\\nFILTER (?lang IN ('en'))\\r\\n   } \\r\\n\\r\\nOFFSET 180000 LIMIT 10000\",\n",
       " None,\n",
       " '2021-07-06 19:58:23')"
      ]
     },
     "execution_count": 151,
     "metadata": {},
     "output_type": "execute_result"
    }
   ],
   "source": [
    "### Définir la ligne de la base de données à utiliser (inspécter préalablement la base de données)\n",
    "pk_query = 106\n",
    "\n",
    "# connnexion à la base de données\n",
    "original_db = 'data/intellectuels.db'\n",
    "conn = sql.connect(original_db)\n",
    "\n",
    "### exécuter la requëte sur la base de donées SQLite pour récupérer les valeurs que contient la ligne\n",
    "c = conn.cursor()\n",
    "c.execute('SELECT * FROM query WHERE pk_query = ?', [pk_query]) ### a list around argument is needed for a string longer then one\n",
    "#c.execute('SELECT * FROM query WHERE pk_query = 10')\n",
    "\n",
    "rc = c.fetchone()\n",
    "\n",
    "# fermer la connexion\n",
    "conn.close()\n",
    "\n",
    "# imprimer et inspecter le résultat\n",
    "rc"
   ]
  },
  {
   "cell_type": "code",
   "execution_count": 152,
   "id": "acceptable-click",
   "metadata": {},
   "outputs": [
    {
     "name": "stdout",
     "output_type": "stream",
     "text": [
      "<class 'dict'>\n"
     ]
    }
   ],
   "source": [
    "qr = spqf.get_json_sparql_result(rc[4],rc[5])"
   ]
  },
  {
   "cell_type": "code",
   "execution_count": 153,
   "id": "bronze-syracuse",
   "metadata": {},
   "outputs": [
    {
     "data": {
      "text/plain": [
       "5583"
      ]
     },
     "execution_count": 153,
     "metadata": {},
     "output_type": "execute_result"
    }
   ],
   "source": [
    "len(qr['results']['bindings'])"
   ]
  },
  {
   "cell_type": "code",
   "execution_count": 154,
   "id": "threaded-reception",
   "metadata": {},
   "outputs": [],
   "source": [
    "# Transformer le résultat en liste en utilisant une autre fonction de la bibliothèque utilisateur\n",
    "r = [l for l in spqf.sparql_result_to_list(qr)]\n",
    "# r"
   ]
  },
  {
   "cell_type": "code",
   "execution_count": 155,
   "id": "seventh-agriculture",
   "metadata": {},
   "outputs": [
    {
     "name": "stdout",
     "output_type": "stream",
     "text": [
      "5583\n"
     ]
    },
    {
     "data": {
      "text/plain": [
       "[['http://dbpedia.org/resource/William_H._Wilbur',\n",
       "  \"William Hale Wilbur (September 24, 1888 – December 27, 1979) was a United States Army officer and a recipient of the United States military's highest decoration—the Medal of Honor—for his actions in World War II.\"],\n",
       " ['http://dbpedia.org/resource/William_H._Wiley',\n",
       "  \"William Halsted Wiley (July 10, 1842 in New York City – May 2, 1925 in Orange, New Jersey), was an American Republican Party politician who represented New Jersey's 8th congressional district from 1903 to 1907 and from 1909 to 1911, and was also a co-founder and former president of the publishing company John Wiley & Sons.\"],\n",
       " ['http://dbpedia.org/resource/William_H._Woodin',\n",
       "  'William Hartman Woodin (May 27, 1868 – May 3, 1934) was a U.S. industrialist. He served as the Secretary of Treasury under Franklin Roosevelt in 1933.'],\n",
       " ['http://dbpedia.org/resource/William_Hacket',\n",
       "  'William Hacket, also known as Hackett (died 1591), was an English puritan and religious fanatic, who claimed to be a messiah and called for the removal of Queen Elizabeth I. He was executed in London after being found guilty of treason.'],\n",
       " ['http://dbpedia.org/resource/William_Hafey',\n",
       "  'William Joseph Hafey (March 19, 1888 – May 12, 1954) was an American prelate of the Roman Catholic Church. He served as Bishop of Raleigh (1925–1937) and Bishop of Scranton (1938–1954).']]"
      ]
     },
     "execution_count": 155,
     "metadata": {},
     "output_type": "execute_result"
    }
   ],
   "source": [
    "# inspecter une seule ligne de la liste (de listes)\n",
    "print(len(r))\n",
    "r[:5]"
   ]
  },
  {
   "cell_type": "code",
   "execution_count": 156,
   "id": "coordinated-beauty",
   "metadata": {},
   "outputs": [],
   "source": [
    "rl = [[l[0], 'http://dbpedia.org/ontology/abstract', l[1], 'https://dbpedia.org/sparql', 1, 106 ] for l in r]"
   ]
  },
  {
   "cell_type": "code",
   "execution_count": 157,
   "id": "clear-enzyme",
   "metadata": {},
   "outputs": [
    {
     "name": "stdout",
     "output_type": "stream",
     "text": [
      "5583\n"
     ]
    },
    {
     "data": {
      "text/plain": [
       "[['http://dbpedia.org/resource/William_H._Wilbur',\n",
       "  'http://dbpedia.org/ontology/abstract',\n",
       "  \"William Hale Wilbur (September 24, 1888 – December 27, 1979) was a United States Army officer and a recipient of the United States military's highest decoration—the Medal of Honor—for his actions in World War II.\",\n",
       "  'https://dbpedia.org/sparql',\n",
       "  1,\n",
       "  106],\n",
       " ['http://dbpedia.org/resource/William_H._Wiley',\n",
       "  'http://dbpedia.org/ontology/abstract',\n",
       "  \"William Halsted Wiley (July 10, 1842 in New York City – May 2, 1925 in Orange, New Jersey), was an American Republican Party politician who represented New Jersey's 8th congressional district from 1903 to 1907 and from 1909 to 1911, and was also a co-founder and former president of the publishing company John Wiley & Sons.\",\n",
       "  'https://dbpedia.org/sparql',\n",
       "  1,\n",
       "  106],\n",
       " ['http://dbpedia.org/resource/William_H._Woodin',\n",
       "  'http://dbpedia.org/ontology/abstract',\n",
       "  'William Hartman Woodin (May 27, 1868 – May 3, 1934) was a U.S. industrialist. He served as the Secretary of Treasury under Franklin Roosevelt in 1933.',\n",
       "  'https://dbpedia.org/sparql',\n",
       "  1,\n",
       "  106]]"
      ]
     },
     "execution_count": 157,
     "metadata": {},
     "output_type": "execute_result"
    }
   ],
   "source": [
    "print(len(rl))\n",
    "rl[:3]"
   ]
  },
  {
   "cell_type": "code",
   "execution_count": 158,
   "id": "oriented-siemens",
   "metadata": {},
   "outputs": [],
   "source": [
    "#STOCKAGE\n",
    "db = 'data/intellectuels.db'\n",
    "cn = sql.connect(db)\n",
    "c = cn.cursor()\n",
    "\n",
    "# Insérer les données\n",
    "c.executemany(\"INSERT OR IGNORE INTO property (uri_entity, property, value, source, quality, fk_query_as_source) VALUES (?,?,?,?,?,?)\", rl)\n",
    "\n",
    "# valider l'insertion et fermer la base de données\n",
    "## DESACTIVÉ !!! \n",
    "cn.commit()\n",
    "\n",
    "cn.close()"
   ]
  },
  {
   "cell_type": "code",
   "execution_count": null,
   "id": "annual-scanning",
   "metadata": {},
   "outputs": [],
   "source": []
  }
 ],
 "metadata": {
  "kernelspec": {
   "display_name": "hn_sparql",
   "language": "python",
   "name": "py369_hn_sparql"
  },
  "language_info": {
   "codemirror_mode": {
    "name": "ipython",
    "version": 3
   },
   "file_extension": ".py",
   "mimetype": "text/x-python",
   "name": "python",
   "nbconvert_exporter": "python",
   "pygments_lexer": "ipython3",
   "version": "3.6.9"
  }
 },
 "nbformat": 4,
 "nbformat_minor": 5
}
