{
 "cells": [
  {
   "cell_type": "markdown",
   "id": "practical-olive",
   "metadata": {},
   "source": [
    "# Analyse des années de naissance des intellectuels\n",
    "\n",
    "Question : comment les naissances des intellectuels sont-elles ditribuées dans le temps ?"
   ]
  },
  {
   "cell_type": "markdown",
   "id": "signal-fisher",
   "metadata": {},
   "source": [
    "## Importation des librairies"
   ]
  },
  {
   "cell_type": "code",
   "execution_count": 1,
   "id": "suitable-county",
   "metadata": {},
   "outputs": [],
   "source": [
    "from SPARQLWrapper import SPARQLWrapper, SPARQLWrapper2, JSON, TURTLE, XML, RDFXML\n",
    "import pandas as pd\n",
    "import matplotlib.pyplot as plt"
   ]
  },
  {
   "cell_type": "code",
   "execution_count": 2,
   "id": "running-caution",
   "metadata": {},
   "outputs": [],
   "source": [
    "import pprint\n",
    "import csv\n",
    "import ast\n",
    "import re\n",
    "\n",
    "from collections import Counter\n",
    "from operator import itemgetter\n",
    "\n",
    "import sqlite3 as sql\n",
    "import time\n",
    "\n",
    "from importlib import reload\n",
    "from shutil import copyfile"
   ]
  },
  {
   "cell_type": "code",
   "execution_count": 3,
   "id": "precious-arctic",
   "metadata": {},
   "outputs": [],
   "source": [
    "import sparql_functions as spqf"
   ]
  },
  {
   "cell_type": "code",
   "execution_count": 4,
   "id": "incident-playback",
   "metadata": {},
   "outputs": [
    {
     "data": {
      "text/plain": [
       "<module 'sparql_functions' from 'C:\\\\jupyter_notebooks\\\\JS_intellectuels\\\\sparql_functions.py'>"
      ]
     },
     "execution_count": 4,
     "metadata": {},
     "output_type": "execute_result"
    }
   ],
   "source": [
    "reload(spqf)"
   ]
  },
  {
   "cell_type": "markdown",
   "id": "higher-range",
   "metadata": {},
   "source": [
    "# Distribution dans le temps de la naissance des intellectuels de DBPedia (0-1000)"
   ]
  },
  {
   "cell_type": "code",
   "execution_count": 5,
   "id": "technical-thesaurus",
   "metadata": {},
   "outputs": [],
   "source": [
    "db = 'data/intellectuels.db'"
   ]
  },
  {
   "cell_type": "code",
   "execution_count": 6,
   "id": "parliamentary-tackle",
   "metadata": {},
   "outputs": [
    {
     "name": "stdout",
     "output_type": "stream",
     "text": [
      "103867\n"
     ]
    },
    {
     "data": {
      "text/plain": [
       "[('1960-09-19,1962-11-27,1964-05-28,1965-12-15,1966-07-25,1969-12-12,1970-02-04,1971-02-25,1972-05-21,1972-11-01,1974-01-07,1974-01-11,1960,1972,1960-09-19,1962-11-27,1964-05-28,1965-12-15,1966-07-25,1969-12-12,1970-02-04,1971-02-25,1972-05-21,1972-11-01,1974-01-07,1974-01-11',\n",
       "  'http://dbpedia.org/resource/List_of_Playboy_Playmates_of_1993',\n",
       "  26),\n",
       " ('1928,1928-10-08,1940-09-08,1940-11-06,1940-12-03,1945-01-24,1951-02-06,1951-08-09,1952-06-15,1952-11-13,1953-12-23,1955-08-06,1958-10-02',\n",
       "  'http://dbpedia.org/resource/Quorum_of_the_Twelve_Apostles_(LDS_Church)',\n",
       "  13),\n",
       " ('1941-02-16,1941,1941-02-16,1942-02-16,Camp Voroshilov, Primorsky Krai, Far Eastern Federal District, Russian SFSR, Soviet Union,http://dbpedia.org/resource/Khabarovsk_Krai,http://dbpedia.org/resource/Khabarovsky_District,http://dbpedia.org/resource/Korea_under_Japanese_rule,http://dbpedia.org/resource/Paektu_Mountain,http://dbpedia.org/resource/Russian_Soviet_Federative_Socialist_Republic,http://dbpedia.org/resource/Soviet_Union,http://dbpedia.org/resource/Vyatskoye,_Khabarovsk_Krai',\n",
       "  'http://dbpedia.org/resource/Kim_Jong-il',\n",
       "  12),\n",
       " ('1926-11-26,1926,1926,,1926-11-26,1931-01-10,Albert,David',\n",
       "  'http://dbpedia.org/resource/Albert_and_David_Maysles',\n",
       "  8),\n",
       " ('1568-03-09,1568,1568,1568-03-09,http://dbpedia.org/resource/Castiglione_delle_Stiviere,http://dbpedia.org/resource/Duchy_of_Mantua,http://dbpedia.org/resource/Holy_Roman_Empire',\n",
       "  'http://dbpedia.org/resource/Aloysius_Gonzaga',\n",
       "  7)]"
      ]
     },
     "execution_count": 6,
     "metadata": {},
     "output_type": "execute_result"
    }
   ],
   "source": [
    "### Inspecter le résultat d'une requête après insertion, une fois l'insert ci-dessus effectué\n",
    "\n",
    "query = \"\"\"\n",
    "SELECT GROUP_CONCAT(value), uri_entity, count(*) as eff\n",
    "FROM property p\n",
    "WHERE p.property LIKE '%birthD%' OR p.property LIKE '%birthY%'\n",
    "GROUP BY uri_entity\n",
    "ORDER BY eff DESC ;\n",
    "\n",
    "\"\"\"\n",
    "\n",
    "# connnexion à la base de données\n",
    "cn = sql.connect(db)\n",
    "c = cn.cursor()\n",
    "\n",
    "### exécuter la requëte sur la base de donées SQLite pour récupérer les valeurs que contient la ligne\n",
    "c.execute(query)\n",
    "result_q = []\n",
    "result_q = c.fetchall()\n",
    "\n",
    "# fermer la connexion\n",
    "cn.close()\n",
    "print(len(result_q))\n",
    "result_q[:5]"
   ]
  },
  {
   "cell_type": "code",
   "execution_count": 7,
   "id": "clinical-montreal",
   "metadata": {},
   "outputs": [
    {
     "name": "stdout",
     "output_type": "stream",
     "text": [
      "103867\n"
     ]
    },
    {
     "data": {
      "text/plain": [
       "['', '', '', '', '']"
      ]
     },
     "execution_count": 7,
     "metadata": {},
     "output_type": "execute_result"
    }
   ],
   "source": [
    "ldn = [l[0] for l in result_q]\n",
    "print(len(ldn))\n",
    "ldn.sort()\n",
    "ldn[:5]"
   ]
  },
  {
   "cell_type": "code",
   "execution_count": 8,
   "id": "annoying-search",
   "metadata": {},
   "outputs": [
    {
     "data": {
      "text/plain": [
       "103867"
      ]
     },
     "execution_count": 8,
     "metadata": {},
     "output_type": "execute_result"
    }
   ],
   "source": [
    "# Extraire les années\n",
    "listeDateNaiss = []\n",
    "annee = re.compile(r'\\d{4}')\n",
    "\n",
    "for l in result_q:\n",
    "    listeDateNaiss.append(annee.findall(l[0])) \n",
    "    \n",
    "# Vérifier que la longueur de la liste corresponde aux données de la base de données\n",
    "len(listeDateNaiss)"
   ]
  },
  {
   "cell_type": "code",
   "execution_count": 9,
   "id": "vanilla-portuguese",
   "metadata": {},
   "outputs": [
    {
     "name": "stdout",
     "output_type": "stream",
     "text": [
      "103867\n",
      "103289\n"
     ]
    },
    {
     "data": {
      "text/plain": [
       "['0001', '0001', '0001', '0001', '0001']"
      ]
     },
     "execution_count": 9,
     "metadata": {},
     "output_type": "execute_result"
    }
   ],
   "source": [
    "print(len(listeDateNaiss))\n",
    "\n",
    "# Choix de codage : retenir la date la plus basse s'il existe plusieurs dates de naissance pour un seul individu\n",
    "anneeNaiss = [min(l) for l in listeDateNaiss if l]\n",
    "print(len(anneeNaiss))\n",
    "\n",
    "#Trier les années avec la fonction .sort\n",
    "anneeNaiss.sort()\n",
    "anneeNaiss[:5]"
   ]
  },
  {
   "cell_type": "code",
   "execution_count": 16,
   "id": "formed-payday",
   "metadata": {},
   "outputs": [],
   "source": [
    "# codage: retenir seulement les dates inférieures à 1000\n",
    "listeAnnees = [int(a) for a in anneeNaiss if a > '1880']"
   ]
  },
  {
   "cell_type": "code",
   "execution_count": 17,
   "id": "becoming-timeline",
   "metadata": {},
   "outputs": [
    {
     "name": "stdout",
     "output_type": "stream",
     "text": [
      "84914\n",
      "1881 2020\n"
     ]
    },
    {
     "data": {
      "text/plain": [
       "[1881, 1881, 1881, 1881, 1881]"
      ]
     },
     "execution_count": 17,
     "metadata": {},
     "output_type": "execute_result"
    }
   ],
   "source": [
    "### liste des années issues de la table 'property'\n",
    "listeAnnees.sort()\n",
    "print(len(listeAnnees))\n",
    "print(min(listeAnnees), max(listeAnnees))\n",
    "listeAnnees[:5]"
   ]
  },
  {
   "cell_type": "markdown",
   "id": "attempted-rider",
   "metadata": {},
   "source": [
    "## Analyse des années de naissances"
   ]
  },
  {
   "cell_type": "code",
   "execution_count": 18,
   "id": "matched-aviation",
   "metadata": {},
   "outputs": [
    {
     "data": {
      "text/plain": [
       "0        1881\n",
       "1        1881\n",
       "2        1881\n",
       "3        1881\n",
       "4        1881\n",
       "         ... \n",
       "84909    2018\n",
       "84910    2018\n",
       "84911    2019\n",
       "84912    2019\n",
       "84913    2020\n",
       "Length: 84914, dtype: int64"
      ]
     },
     "execution_count": 18,
     "metadata": {},
     "output_type": "execute_result"
    }
   ],
   "source": [
    "#créer une serie avec la liste des années pour pouvoir l'analyser\n",
    "seriesAnnees = pd.Series(listeAnnees)  # listeAnnees  listeAnneesSPARQL  int_lasp\n",
    "seriesAnnees"
   ]
  },
  {
   "cell_type": "code",
   "execution_count": 19,
   "id": "imperial-rapid",
   "metadata": {},
   "outputs": [
    {
     "data": {
      "text/plain": [
       "count    84914.000000\n",
       "mean      1943.346986\n",
       "std         26.047140\n",
       "min       1881.000000\n",
       "25%       1926.000000\n",
       "50%       1947.000000\n",
       "75%       1963.000000\n",
       "max       2020.000000\n",
       "dtype: float64"
      ]
     },
     "execution_count": 19,
     "metadata": {},
     "output_type": "execute_result"
    }
   ],
   "source": [
    "### ATTENTION moyenne et écart type n'ont pas de sens dans ce contexte\n",
    "\n",
    "seriesAnnees.describe()"
   ]
  },
  {
   "cell_type": "code",
   "execution_count": 20,
   "id": "recreational-retail",
   "metadata": {},
   "outputs": [
    {
     "data": {
      "text/html": [
       "<div>\n",
       "<style scoped>\n",
       "    .dataframe tbody tr th:only-of-type {\n",
       "        vertical-align: middle;\n",
       "    }\n",
       "\n",
       "    .dataframe tbody tr th {\n",
       "        vertical-align: top;\n",
       "    }\n",
       "\n",
       "    .dataframe thead th {\n",
       "        text-align: right;\n",
       "    }\n",
       "</style>\n",
       "<table border=\"1\" class=\"dataframe\">\n",
       "  <thead>\n",
       "    <tr style=\"text-align: right;\">\n",
       "      <th></th>\n",
       "      <th>annee</th>\n",
       "    </tr>\n",
       "  </thead>\n",
       "  <tbody>\n",
       "    <tr>\n",
       "      <th>0</th>\n",
       "      <td>1881</td>\n",
       "    </tr>\n",
       "    <tr>\n",
       "      <th>1</th>\n",
       "      <td>1881</td>\n",
       "    </tr>\n",
       "    <tr>\n",
       "      <th>2</th>\n",
       "      <td>1881</td>\n",
       "    </tr>\n",
       "    <tr>\n",
       "      <th>3</th>\n",
       "      <td>1881</td>\n",
       "    </tr>\n",
       "    <tr>\n",
       "      <th>4</th>\n",
       "      <td>1881</td>\n",
       "    </tr>\n",
       "    <tr>\n",
       "      <th>...</th>\n",
       "      <td>...</td>\n",
       "    </tr>\n",
       "    <tr>\n",
       "      <th>84909</th>\n",
       "      <td>2018</td>\n",
       "    </tr>\n",
       "    <tr>\n",
       "      <th>84910</th>\n",
       "      <td>2018</td>\n",
       "    </tr>\n",
       "    <tr>\n",
       "      <th>84911</th>\n",
       "      <td>2019</td>\n",
       "    </tr>\n",
       "    <tr>\n",
       "      <th>84912</th>\n",
       "      <td>2019</td>\n",
       "    </tr>\n",
       "    <tr>\n",
       "      <th>84913</th>\n",
       "      <td>2020</td>\n",
       "    </tr>\n",
       "  </tbody>\n",
       "</table>\n",
       "<p>84914 rows × 1 columns</p>\n",
       "</div>"
      ],
      "text/plain": [
       "       annee\n",
       "0       1881\n",
       "1       1881\n",
       "2       1881\n",
       "3       1881\n",
       "4       1881\n",
       "...      ...\n",
       "84909   2018\n",
       "84910   2018\n",
       "84911   2019\n",
       "84912   2019\n",
       "84913   2020\n",
       "\n",
       "[84914 rows x 1 columns]"
      ]
     },
     "execution_count": 20,
     "metadata": {},
     "output_type": "execute_result"
    }
   ],
   "source": [
    "# Création d'un DataFrame avec les années\n",
    "df_annees = pd.DataFrame(seriesAnnees, columns = ['annee'])\n",
    "df_annees"
   ]
  },
  {
   "cell_type": "code",
   "execution_count": 21,
   "id": "labeled-boards",
   "metadata": {},
   "outputs": [
    {
     "data": {
      "image/png": "[encoded data removed]",
      "text/plain": [
       "<Figure size 1152x288 with 1 Axes>"
      ]
     },
     "metadata": {
      "needs_background": "light"
     },
     "output_type": "display_data"
    }
   ],
   "source": [
    "boxplot = df_annees.boxplot(column=['annee'], vert=False, figsize=(16,4))"
   ]
  },
  {
   "cell_type": "markdown",
   "id": "armed-mexico",
   "metadata": {},
   "source": [
    "## Distribution des naissances par année et par période de 20 ans"
   ]
  },
  {
   "cell_type": "markdown",
   "id": "technological-destiny",
   "metadata": {},
   "source": [
    "#### Regroupement des vraies valeurs par année"
   ]
  },
  {
   "cell_type": "code",
   "execution_count": 22,
   "id": "gorgeous-mozambique",
   "metadata": {},
   "outputs": [],
   "source": [
    "# Compter les naissances par année\n",
    "counterListeAnnees = Counter(listeAnnees)\n",
    "groupedListeAnnees = list(zip(counterListeAnnees.keys(), counterListeAnnees.values()))"
   ]
  },
  {
   "cell_type": "code",
   "execution_count": 23,
   "id": "enhanced-white",
   "metadata": {},
   "outputs": [
    {
     "data": {
      "text/plain": [
       "[(1956, 1359),\n",
       " (1957, 1249),\n",
       " (1958, 1264),\n",
       " (1959, 1236),\n",
       " (1960, 1255),\n",
       " (1961, 1134),\n",
       " (1962, 1123),\n",
       " (1963, 1133),\n",
       " (1964, 1161),\n",
       " (1965, 1047),\n",
       " (1966, 1005),\n",
       " (1967, 983),\n",
       " (1968, 997),\n",
       " (1969, 1046),\n",
       " (1970, 1041)]"
      ]
     },
     "execution_count": 23,
     "metadata": {},
     "output_type": "execute_result"
    }
   ],
   "source": [
    "groupedListeAnnees[75:90]"
   ]
  },
  {
   "cell_type": "code",
   "execution_count": 24,
   "id": "christian-saskatchewan",
   "metadata": {},
   "outputs": [
    {
     "data": {
      "text/plain": [
       "[<matplotlib.lines.Line2D at 0x2482898cda0>]"
      ]
     },
     "execution_count": 24,
     "metadata": {},
     "output_type": "execute_result"
    },
    {
     "data": {
      "image/png": "[encoded data removed]",
      "text/plain": [
       "<Figure size 1080x504 with 1 Axes>"
      ]
     },
     "metadata": {
      "needs_background": "light"
     },
     "output_type": "display_data"
    }
   ],
   "source": [
    "objects = [l[0] for l in groupedListeAnnees]\n",
    "eff = [l[1] for l in groupedListeAnnees]\n",
    "\n",
    "plt.figure(figsize=(15,7))\n",
    "plt.plot(objects, eff)"
   ]
  },
  {
   "cell_type": "code",
   "execution_count": 47,
   "id": "romance-touch",
   "metadata": {},
   "outputs": [
    {
     "data": {
      "image/png": "[encoded data removed]",
      "text/plain": [
       "<Figure size 1152x576 with 1 Axes>"
      ]
     },
     "metadata": {
      "needs_background": "light"
     },
     "output_type": "display_data"
    }
   ],
   "source": [
    "# Distribution par année\n",
    "\n",
    "objects = [l[0] for l in groupedListeAnnees]\n",
    "eff = [l[1] for l in groupedListeAnnees]\n",
    "\n",
    "p1 = plt.bar(objects, eff)\n",
    "\n",
    "plt.ylabel('Effectif')\n",
    "plt.title('Naissances par année des intellectuels')\n",
    "plt.gcf().set_size_inches(16, 8)\n",
    "#plt.gca().axes.get_xaxis().set_visible(False)\n",
    "# supported formats: eps, pdf, pgf, png, ps, raw, rgba, svg, svgz\n",
    "#plt.savefig('exported_pictures/effectifs_naissances_par_annee.png', dpi=100, bbox_inches = \"tight\") #pdf, svg\n",
    "plt.xticks(rotation=45)\n",
    "plt.show()"
   ]
  },
  {
   "cell_type": "markdown",
   "id": "judicial-sculpture",
   "metadata": {},
   "source": [
    "#### Regroupement des valeurs par 20 ans"
   ]
  },
  {
   "cell_type": "code",
   "execution_count": 32,
   "id": "creative-intersection",
   "metadata": {},
   "outputs": [],
   "source": [
    "# Compter les naissances par année\n",
    "counterListeAnnees = Counter(listeAnnees)\n",
    "groupedListeAnnees = list(zip(counterListeAnnees.keys(), counterListeAnnees.values()))"
   ]
  },
  {
   "cell_type": "code",
   "execution_count": 41,
   "id": "south-tokyo",
   "metadata": {},
   "outputs": [],
   "source": [
    "### Créer la liste des périodes de 20 ans depuis 1781, i.e. la liste de la première année de chaque période\n",
    "d20List = []\n",
    "period = 20\n",
    "d_start = 1880\n",
    "i = 0\n",
    "d20List.append(d_start)\n",
    "\n",
    "while i < 6:\n",
    "    d_start = d_start + period\n",
    "    d20List.append(d_start)\n",
    "    i += 1"
   ]
  },
  {
   "cell_type": "code",
   "execution_count": 42,
   "id": "ancient-impossible",
   "metadata": {},
   "outputs": [
    {
     "name": "stdout",
     "output_type": "stream",
     "text": [
      "[1880, 1900]\n"
     ]
    },
    {
     "data": {
      "text/plain": [
       "(1880, 2000)"
      ]
     },
     "execution_count": 42,
     "metadata": {},
     "output_type": "execute_result"
    }
   ],
   "source": [
    "# Première et dernière périodes de 20 ans\n",
    "print(d20List[:2])\n",
    "min(d20List), max(d20List)"
   ]
  },
  {
   "cell_type": "code",
   "execution_count": 43,
   "id": "certified-duration",
   "metadata": {},
   "outputs": [],
   "source": [
    "# Regroupement par période de 20 ans grâce à une boucle qui fait la liste des écarts de 20 ans, puis une autre boucle compte le nombre d'occurrence pour chaque écart de 20 ans.\n",
    "i20List = []\n",
    "for i in d20List:\n",
    "    i_n = 0\n",
    "    for l in groupedListeAnnees:\n",
    "        if l[0] >= i and l[0] < (i + 20):\n",
    "            i_n = i_n + l[1]\n",
    "    i20List.append([i, i_n])"
   ]
  },
  {
   "cell_type": "code",
   "execution_count": 44,
   "id": "physical-single",
   "metadata": {},
   "outputs": [
    {
     "data": {
      "text/plain": [
       "[1980, 5842]"
      ]
     },
     "execution_count": 44,
     "metadata": {},
     "output_type": "execute_result"
    }
   ],
   "source": [
    "i20List[5]"
   ]
  },
  {
   "cell_type": "code",
   "execution_count": 46,
   "id": "tribal-intro",
   "metadata": {},
   "outputs": [
    {
     "data": {
      "image/png": "[encoded data removed]",
      "text/plain": [
       "<Figure size 1152x576 with 1 Axes>"
      ]
     },
     "metadata": {
      "needs_background": "light"
     },
     "output_type": "display_data"
    },
    {
     "data": {
      "image/png": "[encoded data removed]",
      "text/plain": [
       "<Figure size 1152x288 with 1 Axes>"
      ]
     },
     "metadata": {
      "needs_background": "light"
     },
     "output_type": "display_data"
    }
   ],
   "source": [
    "# Distribution par période de 20 ans\n",
    "\n",
    "objects = [str(l[0]) for l in i20List]\n",
    "eff = [l[1] for l in i20List]\n",
    "\n",
    "p1 = plt.bar(objects, eff)\n",
    "\n",
    "plt.ylabel('Effectif')\n",
    "plt.title('Naissances par période de vingts ans des intellectuels')\n",
    "plt.gcf().set_size_inches(16, 8)\n",
    "# supported formats: eps, pdf, pgf, png, ps, raw, rgba, svg, svgz\n",
    "# plt.savefig('exported_pictures/effectifs_annees_reference_par_periode.png', dpi=100, bbox_inches = \"tight\") #pdf, svg\n",
    "plt.xticks(rotation=45)\n",
    "plt.show()\n",
    "\n",
    "pt = df_annees.boxplot(column=['annee'], vert=False, figsize=(16,4))\n",
    "### https://www.pythonprogramming.in/boxplot-adjust-bottom-and-left.html\n",
    "#ax = fig.add_subplot()\n",
    "plt.subplots_adjust(left=0.20) \n",
    "plt.show()"
   ]
  }
 ],
 "metadata": {
  "kernelspec": {
   "display_name": "hn_sparql",
   "language": "python",
   "name": "py369_hn_sparql"
  },
  "language_info": {
   "codemirror_mode": {
    "name": "ipython",
    "version": 3
   },
   "file_extension": ".py",
   "mimetype": "text/x-python",
   "name": "python",
   "nbconvert_exporter": "python",
   "pygments_lexer": "ipython3",
   "version": "3.6.9"
  }
 },
 "nbformat": 4,
 "nbformat_minor": 5
}
